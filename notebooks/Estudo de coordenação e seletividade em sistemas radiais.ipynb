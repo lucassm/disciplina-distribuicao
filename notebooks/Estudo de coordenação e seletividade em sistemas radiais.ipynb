{
 "cells": [
  {
   "cell_type": "code",
   "execution_count": 1,
   "metadata": {
    "nbpresent": {
     "id": "c07938a8-b984-4023-9367-fe7a050c042c"
    },
    "slideshow": {
     "slide_type": "skip"
    }
   },
   "outputs": [
    {
     "name": "stdout",
     "output_type": "stream",
     "text": [
      "Populating the interactive namespace from numpy and matplotlib\n"
     ]
    }
   ],
   "source": [
    "%pylab inline"
   ]
  },
  {
   "cell_type": "code",
   "execution_count": 2,
   "metadata": {
    "nbpresent": {
     "id": "f502c1e5-cc03-4c12-a8d6-ab49b75c896b"
    },
    "slideshow": {
     "slide_type": "skip"
    }
   },
   "outputs": [
    {
     "data": {
      "text/plain": [
       "u'%.4f'"
      ]
     },
     "execution_count": 2,
     "metadata": {},
     "output_type": "execute_result"
    }
   ],
   "source": [
    "%precision 4"
   ]
  },
  {
   "cell_type": "code",
   "execution_count": 3,
   "metadata": {
    "collapsed": true
   },
   "outputs": [],
   "source": [
    "pylab.rcParams['figure.figsize'] = (10.0, 8.0)"
   ]
  },
  {
   "cell_type": "code",
   "execution_count": 4,
   "metadata": {
    "collapsed": true
   },
   "outputs": [],
   "source": [
    "def calc_coord(I_pickup51, I_pickup50, Dial, t_inst, tipo_curva):\n",
    "    \"\"\"Calcula o coordenograma.\"\"\"\n",
    "\n",
    "    # calculo dos vetores temporizados\n",
    "    if I_pickup50 != None:\n",
    "        I_temp = np.arange(1.1 * I_pickup51, I_pickup50, 0.01)\n",
    "        M_temp = I_temp / I_pickup51\n",
    "    else:\n",
    "        I_temp = np.arange(1.1 * I_pickup51, 10.0 * I_pickup51, 0.01)\n",
    "        M_temp = I_temp / I_pickup51\n",
    "\n",
    "    # selecao do tipo de curva\n",
    "    if tipo_curva == 'Normalmente Inversa':\n",
    "        t_temp = Dial * 0.14 / (M_temp**0.02 - 1.0)\n",
    "    elif tipo_curva == 'Muito Inversa':\n",
    "        t_temp = Dial * 13.5 / (M_temp - 1.0)\n",
    "    elif tipo_curva == 'Extremamente Inversa':\n",
    "        t_temp = Dial * 80.0 / (M_temp**2.0 - 1.0)\n",
    "\n",
    "\n",
    "    # calculo dos vetores instantaneos\n",
    "    if I_pickup50 != None:\n",
    "\n",
    "        I_inst = np.arange(\n",
    "            I_temp[len(I_temp) - 1], I_temp[len(I_temp) - 1] + 10e3, 0.01)\n",
    "        t_inst = t_inst * np.ones(len(I_inst))\n",
    "\n",
    "        # juncao dos vetores temporizados e instantaneos\n",
    "        t_total = np.concatenate((t_temp, t_inst))\n",
    "        I_total = np.concatenate((I_temp, I_inst))\n",
    "    else:\n",
    "        t_total = t_temp\n",
    "        I_total = I_temp\n",
    "\n",
    "    return t_total, I_total"
   ]
  },
  {
   "cell_type": "markdown",
   "metadata": {
    "nbpresent": {
     "id": "09b48386-6935-4153-93b7-dbf2b7f8c1f2"
    },
    "slideshow": {
     "slide_type": "slide"
    }
   },
   "source": [
    "# Exemplo de coordenação de relés de sobrecorrente"
   ]
  },
  {
   "cell_type": "markdown",
   "metadata": {},
   "source": [
    "<img src=\"Figuras/fig_102.png\"/>"
   ]
  },
  {
   "cell_type": "markdown",
   "metadata": {
    "nbpresent": {
     "id": "753dc2a8-11c5-4a03-81dc-8e621c24f3bf"
    },
    "slideshow": {
     "slide_type": "fragment"
    }
   },
   "source": [
    "Rede exemplo com relés de sobrecorrente nas barras AQ7 e RS1 do sistema.\n",
    "\n",
    "- A corrente de carga do trecho T1 é de 23A; \n",
    "- A corrente de carga do trecho T2 é de 57A;\n",
    "- A corrente de carga do trecho T3 é de 75A;\n",
    "- A corrente de carga do trecho T4 é de 105A;\n",
    "- A tensão do sistema é de 13,8kV."
   ]
  },
  {
   "cell_type": "markdown",
   "metadata": {},
   "source": [
    "### Correntes de carga do sistema"
   ]
  },
  {
   "cell_type": "code",
   "execution_count": 5,
   "metadata": {
    "collapsed": true,
    "nbpresent": {
     "id": "9e608494-d058-473c-a4ee-db9cff5da2fb"
    },
    "slideshow": {
     "slide_type": "fragment"
    }
   },
   "outputs": [],
   "source": [
    "it1 = 23.0\n",
    "it2 = 57.0\n",
    "it3 = 75.0\n",
    "it4 = 105"
   ]
  },
  {
   "cell_type": "code",
   "execution_count": 6,
   "metadata": {
    "collapsed": true,
    "nbpresent": {
     "id": "b1df4d4e-00f1-4d89-973c-1c7ccddb9f81"
    },
    "slideshow": {
     "slide_type": "fragment"
    }
   },
   "outputs": [],
   "source": [
    "vl = 13.8e3"
   ]
  },
  {
   "cell_type": "markdown",
   "metadata": {},
   "source": [
    "### Correntes de curto circuito nas barras AQ7, RS1 e RL1"
   ]
  },
  {
   "cell_type": "code",
   "execution_count": 7,
   "metadata": {
    "collapsed": true,
    "nbpresent": {
     "id": "71f3b840-dc27-46ce-b288-4f3da99325b1"
    },
    "slideshow": {
     "slide_type": "subslide"
    }
   },
   "outputs": [],
   "source": [
    "icc3_aq7 = 9419.4\n",
    "icc2_aq7 = 8157.4\n",
    "icc1_aq7 = 1017.56"
   ]
  },
  {
   "cell_type": "code",
   "execution_count": 8,
   "metadata": {
    "collapsed": true,
    "nbpresent": {
     "id": "2557c0da-36c2-42e4-af1c-252c4dd8dda1"
    }
   },
   "outputs": [],
   "source": [
    "icc3_rs1 = 2622.2\n",
    "icc2_rs1 = 2270.9\n",
    "icc1_rs1 = 1619.8"
   ]
  },
  {
   "cell_type": "code",
   "execution_count": 9,
   "metadata": {
    "collapsed": true,
    "nbpresent": {
     "id": "0e66c3a3-363f-4663-ae25-52464211e1b1"
    }
   },
   "outputs": [],
   "source": [
    "icc3_rl1 = 2231.1\n",
    "icc2_rl1 = 1932.2\n",
    "icc1_rl1 = 1349.7"
   ]
  },
  {
   "cell_type": "markdown",
   "metadata": {
    "nbpresent": {
     "id": "1c4d718e-c342-42ca-9c54-a461674dda93"
    }
   },
   "source": [
    "## Dimensionamento de TCs"
   ]
  },
  {
   "cell_type": "markdown",
   "metadata": {},
   "source": [
    "O dimensionamento dos TCS deve atender aos seguintes critérios:"
   ]
  },
  {
   "cell_type": "markdown",
   "metadata": {
    "nbpresent": {
     "id": "79484357-5694-4824-873d-880d849a58b6"
    }
   },
   "source": [
    "Critério das correntes de carga:\n",
    "\n",
    "$$ I_{TC} \\geq I_{carga-max} $$"
   ]
  },
  {
   "cell_type": "code",
   "execution_count": 10,
   "metadata": {
    "nbpresent": {
     "id": "52d56d4e-fba9-47de-bd9a-007e34115f86"
    }
   },
   "outputs": [
    {
     "data": {
      "text/plain": [
       "338.0000"
      ]
     },
     "execution_count": 10,
     "metadata": {},
     "output_type": "execute_result"
    }
   ],
   "source": [
    "1.3 * (it1+it2+it3+it4)"
   ]
  },
  {
   "cell_type": "markdown",
   "metadata": {
    "nbpresent": {
     "id": "2dbf26be-bbb7-42cd-938e-7ae64bdb5868"
    }
   },
   "source": [
    "Critério das correntes de curto-circuito:\n",
    "\n",
    "$$ I_{cc 3\\phi} \\leq 20 \\cdot I_{TC} $$\n",
    "\n",
    "$$ I_{TC} \\geq \\frac{I_{cc 3\\phi}}{20} $$"
   ]
  },
  {
   "cell_type": "code",
   "execution_count": 11,
   "metadata": {
    "nbpresent": {
     "id": "a8ea7adb-d9e0-4429-9508-50d91699bfff"
    }
   },
   "outputs": [
    {
     "data": {
      "text/plain": [
       "470.9700"
      ]
     },
     "execution_count": 11,
     "metadata": {},
     "output_type": "execute_result"
    }
   ],
   "source": [
    "itcaq7 = icc3_aq7 / 20.0\n",
    "itcaq7"
   ]
  },
  {
   "cell_type": "code",
   "execution_count": 13,
   "metadata": {
    "nbpresent": {
     "id": "4fe31939-63f5-449d-9b88-6cb1e9af383b"
    }
   },
   "outputs": [
    {
     "data": {
      "text/plain": [
       "131.1100"
      ]
     },
     "execution_count": 13,
     "metadata": {},
     "output_type": "execute_result"
    }
   ],
   "source": [
    "itcrs1 = icc3_rs1 / 20.0\n",
    "itcrs1"
   ]
  },
  {
   "cell_type": "markdown",
   "metadata": {
    "nbpresent": {
     "id": "cbb2e64e-178d-4177-b6aa-536302ab9294"
    }
   },
   "source": [
    "Adotando a maior corrente entre os critérios de corrente de carga e de curto-circuito, e de acordo com valores comerciais disponíveis, teremos:"
   ]
  },
  {
   "cell_type": "code",
   "execution_count": 14,
   "metadata": {
    "nbpresent": {
     "id": "08e720b2-cb0d-4edb-9faa-8d500e52f94a"
    }
   },
   "outputs": [
    {
     "data": {
      "text/plain": [
       "500.0000"
      ]
     },
     "execution_count": 14,
     "metadata": {},
     "output_type": "execute_result"
    }
   ],
   "source": [
    "rtcaq7 = 500.0 / 1.0\n",
    "rtcaq7"
   ]
  },
  {
   "cell_type": "code",
   "execution_count": 15,
   "metadata": {
    "nbpresent": {
     "id": "27588ace-b082-4cba-9475-701863e1f277"
    }
   },
   "outputs": [
    {
     "data": {
      "text/plain": [
       "300.0000"
      ]
     },
     "execution_count": 15,
     "metadata": {},
     "output_type": "execute_result"
    }
   ],
   "source": [
    "rtcrs1 = 300.0 / 1.0\n",
    "rtcrs1"
   ]
  },
  {
   "cell_type": "markdown",
   "metadata": {
    "nbpresent": {
     "id": "08cd0f07-4d34-4f53-afa3-b71eed441320"
    }
   },
   "source": [
    "## Ajuste do pickup da função sobrecorrente temporizada(51) do relé RS1"
   ]
  },
  {
   "cell_type": "markdown",
   "metadata": {
    "nbpresent": {
     "id": "09771672-fafd-4259-be66-b62d9dfc5ee5"
    }
   },
   "source": [
    "Para a corrente de pickup da função de sobrecorrente temporizada adotaremos o seguinte critério:\n",
    "\n",
    "$$ 1,3 \\cdot I_{nominal} \\leq I_{pickup-51} \\leq I_{curto-circuito ~ mínimo} $$"
   ]
  },
  {
   "cell_type": "code",
   "execution_count": 16,
   "metadata": {
    "nbpresent": {
     "id": "341ce942-ded2-4945-9855-6013065ccd42"
    }
   },
   "outputs": [
    {
     "data": {
      "text/plain": [
       "308.1000"
      ]
     },
     "execution_count": 16,
     "metadata": {},
     "output_type": "execute_result"
    }
   ],
   "source": [
    "1.3 * (it2 + it3 + it4)"
   ]
  },
  {
   "cell_type": "code",
   "execution_count": 18,
   "metadata": {
    "nbpresent": {
     "id": "ebf3f078-ceed-4f8c-908c-180d3de23cb2"
    }
   },
   "outputs": [
    {
     "data": {
      "text/plain": [
       "1349.7000"
      ]
     },
     "execution_count": 18,
     "metadata": {},
     "output_type": "execute_result"
    }
   ],
   "source": [
    "icc1_rl1"
   ]
  },
  {
   "cell_type": "code",
   "execution_count": 20,
   "metadata": {
    "nbpresent": {
     "id": "2c538dfa-ac73-423a-a1c3-dc89241aef34"
    }
   },
   "outputs": [
    {
     "data": {
      "text/plain": [
       "308.1000"
      ]
     },
     "execution_count": 20,
     "metadata": {},
     "output_type": "execute_result"
    }
   ],
   "source": [
    "ipickup_51_rs1 = 1.3 * (it2 + it3 + it4)\n",
    "#ipickup_51_rs1 = 500.0\n",
    "ipickup_51_rs1"
   ]
  },
  {
   "cell_type": "markdown",
   "metadata": {
    "nbpresent": {
     "id": "d855dffd-7c1c-4244-8a4b-cbb02b4c910d"
    }
   },
   "source": [
    "## Ajuste do pickup da função de sobrecorrente temporizada(51) do relé AQ7"
   ]
  },
  {
   "cell_type": "markdown",
   "metadata": {
    "nbpresent": {
     "id": "6b661538-44c5-4928-953f-7ea03bbbf69b"
    }
   },
   "source": [
    "Seguindo o mesmo procedimento do relé RS1:"
   ]
  },
  {
   "cell_type": "code",
   "execution_count": 21,
   "metadata": {
    "nbpresent": {
     "id": "13940762-d179-4dc4-84fc-0ce3acae44a4"
    }
   },
   "outputs": [
    {
     "data": {
      "text/plain": [
       "338.0000"
      ]
     },
     "execution_count": 21,
     "metadata": {},
     "output_type": "execute_result"
    }
   ],
   "source": [
    "1.3 * (it1 + it2 + it3 + it4)"
   ]
  },
  {
   "cell_type": "code",
   "execution_count": 22,
   "metadata": {
    "nbpresent": {
     "id": "a26d996a-28da-45d2-9cb6-3672609868c4"
    }
   },
   "outputs": [
    {
     "data": {
      "text/plain": [
       "1619.8000"
      ]
     },
     "execution_count": 22,
     "metadata": {},
     "output_type": "execute_result"
    }
   ],
   "source": [
    "icc1_rs1"
   ]
  },
  {
   "cell_type": "code",
   "execution_count": 24,
   "metadata": {
    "nbpresent": {
     "id": "c06db3d6-755c-4179-b228-4d4bd32ee393"
    }
   },
   "outputs": [
    {
     "data": {
      "text/plain": [
       "338.0000"
      ]
     },
     "execution_count": 24,
     "metadata": {},
     "output_type": "execute_result"
    }
   ],
   "source": [
    "ipickup_51_aq7 = 1.3 * (it1 + it2 + it3 + it4)\n",
    "ipickup_51_aq7"
   ]
  },
  {
   "cell_type": "markdown",
   "metadata": {
    "nbpresent": {
     "id": "95deecde-be62-429b-a590-0a8375609d5a"
    }
   },
   "source": [
    "## Ajuste do pickup da função de sobrecorrente instantânea (50) do relé RS1"
   ]
  },
  {
   "cell_type": "markdown",
   "metadata": {
    "nbpresent": {
     "id": "48d5ba77-5cf8-4f21-949d-d1f539e684ae"
    }
   },
   "source": [
    "O critério de ajuste da corrente de pickup da função de sobrecorrente instatânea será:\n",
    "\n",
    "$$ I_{pickup-50} = I_{cc 3\\phi~80\\%~da~LT} $$\n",
    "\n",
    "Nesse caso utilizaremos a seguinte expressão para calcular a corrente de curto-circuito em um determinado ponto p que representa um percentual qualquer de uma linha de distribuição radial:\n",
    "\n",
    "$$ I_{cc 3\\phi~p\\%} = \\frac{I_{cc 3\\phi~A} \\cdot I_{cc 3\\phi~B}}{p \\cdot I_{cc 3\\phi~A} + (1-p) \\cdot I_{cc 3\\phi~B}}$$"
   ]
  },
  {
   "cell_type": "markdown",
   "metadata": {
    "nbpresent": {
     "id": "15aabdda-5490-4e5a-80f3-aeb4fd960b25"
    }
   },
   "source": [
    "Dessa forma, o curto-circuito trifásico em 85% da linha T2 será:"
   ]
  },
  {
   "cell_type": "code",
   "execution_count": 25,
   "metadata": {
    "nbpresent": {
     "id": "531fdcf7-30e5-4ed1-baff-860cbb0964df"
    }
   },
   "outputs": [
    {
     "data": {
      "text/plain": [
       "2299.6998"
      ]
     },
     "execution_count": 25,
     "metadata": {},
     "output_type": "execute_result"
    }
   ],
   "source": [
    "icc3_rs1_80 = (icc3_rs1 * icc3_rl1) / (0.80 * icc3_rs1 + 0.2 * icc3_rl1)\n",
    "icc3_rs1_80"
   ]
  },
  {
   "cell_type": "markdown",
   "metadata": {},
   "source": [
    "A corrente de pickup de sobrecorrente instantânea do relé RS1 será definida por esse valor:"
   ]
  },
  {
   "cell_type": "code",
   "execution_count": 26,
   "metadata": {},
   "outputs": [
    {
     "data": {
      "text/plain": [
       "2299.6998"
      ]
     },
     "execution_count": 26,
     "metadata": {},
     "output_type": "execute_result"
    }
   ],
   "source": [
    "ipickup_50_rs1 = icc3_rs1_80\n",
    "ipickup_50_rs1"
   ]
  },
  {
   "cell_type": "markdown",
   "metadata": {
    "nbpresent": {
     "id": "54e3ed26-6037-4161-81ce-5066f58d16ac"
    }
   },
   "source": [
    "## Ajuste do pickup da função de sobrecorrente instantânea (50) do relé AQ7"
   ]
  },
  {
   "cell_type": "markdown",
   "metadata": {
    "nbpresent": {
     "id": "c79f9cf1-34da-469c-8b87-408f3aa770e2"
    }
   },
   "source": [
    "Utilizando o mesmo raciocínio para o ajuste do pickup da função 50 do relé AQ7"
   ]
  },
  {
   "cell_type": "code",
   "execution_count": 27,
   "metadata": {},
   "outputs": [
    {
     "data": {
      "text/plain": [
       "3064.4756"
      ]
     },
     "execution_count": 27,
     "metadata": {},
     "output_type": "execute_result"
    }
   ],
   "source": [
    "icc3_aq7_80 = (icc3_aq7 * icc3_rs1) / (0.80 * icc3_aq7 + 0.2 * icc3_rs1)\n",
    "icc3_aq7_80"
   ]
  },
  {
   "cell_type": "code",
   "execution_count": 28,
   "metadata": {
    "nbpresent": {
     "id": "67c914d5-821b-4b1e-a4e4-74e8a9ff83b7"
    }
   },
   "outputs": [
    {
     "data": {
      "text/plain": [
       "3064.4756"
      ]
     },
     "execution_count": 28,
     "metadata": {},
     "output_type": "execute_result"
    }
   ],
   "source": [
    "ipickup_50_aq7 = icc3_aq7_80\n",
    "ipickup_50_aq7"
   ]
  },
  {
   "cell_type": "markdown",
   "metadata": {
    "nbpresent": {
     "id": "a3c2035f-52a4-4ba0-a100-1c1367d2818b"
    }
   },
   "source": [
    "## Coordenação entre os relés"
   ]
  },
  {
   "cell_type": "markdown",
   "metadata": {
    "nbpresent": {
     "id": "04d1eab7-1816-49a2-8a0e-e06bd7841d1e"
    }
   },
   "source": [
    "A regra utilizada para coordenação entre relés em um sistema radial é bem simples:\n",
    "\n",
    "$$ t_{relé~montante} - t_{relé~jusante} \\geq \\Delta t $$\n",
    "\n",
    "Em que $\\Delta t$ é a margem de coordenação entre os relés e em nosso estudo será considerada como 300ms.\n",
    "\n",
    "$$\\Delta t = 300 ~ ms$$\n",
    "\n",
    "Essa regra de coordenação deve ser respeitada e verificada em dois pontos:\n",
    "\n",
    "- no local de instalação do relé;\n",
    "- no ponto localizado a 80% da linha correspondente."
   ]
  },
  {
   "cell_type": "markdown",
   "metadata": {},
   "source": [
    "## Ajuste da coordenação no local de instalação do relé RS1"
   ]
  },
  {
   "cell_type": "markdown",
   "metadata": {},
   "source": [
    "Considerando primeiramente o local de instalação do relé deveremos proceder conforme os passos:\n",
    "\n",
    "- Calcular o múltiplo do relé AQ7 utilizando a corrente de curto-circuito na barra RS1;\n",
    "- Definir o tempo de atuação de 0,3s para um curto circuito na barra RS1;\n",
    "- Com os valores do mútiplo do relé AQ7 e seu tempo de operação para um curto trifásico em RS1 encontrar o DIAL de AQ7."
   ]
  },
  {
   "cell_type": "markdown",
   "metadata": {},
   "source": [
    "Dessa forma o primeiro passo é encontrar o múltiplo do relé AQ7 utilizando a corrente de curto-circuito na barra RS1:"
   ]
  },
  {
   "cell_type": "code",
   "execution_count": 29,
   "metadata": {},
   "outputs": [
    {
     "data": {
      "text/plain": [
       "7.7580"
      ]
     },
     "execution_count": 29,
     "metadata": {},
     "output_type": "execute_result"
    }
   ],
   "source": [
    "Maq7 = icc3_rs1 / ipickup_51_aq7\n",
    "Maq7"
   ]
  },
  {
   "cell_type": "code",
   "execution_count": 30,
   "metadata": {
    "collapsed": true
   },
   "outputs": [],
   "source": [
    "top_aq7 = 0.3"
   ]
  },
  {
   "cell_type": "markdown",
   "metadata": {},
   "source": [
    "Utilizando as equações padronizadas das curvas de tempo inverso definidas pela ANSI, é possível encontrar o DIAL da curva:\n",
    "\n",
    "$$ t_{op} = DIAL \\cdot \\frac{\\beta}{M^{\\alpha}-1,0} $$\n",
    "\n",
    "$$ DIAL = t_{op} \\cdot \\frac{M^{\\alpha}-1,0}{\\beta} $$"
   ]
  },
  {
   "cell_type": "markdown",
   "metadata": {},
   "source": [
    "A curva adotada será do tipo muito-inversa:\n",
    "\n",
    "$\\alpha = 1,0$\n",
    "\n",
    "$ \\beta = 13,5$"
   ]
  },
  {
   "cell_type": "code",
   "execution_count": 31,
   "metadata": {},
   "outputs": [
    {
     "data": {
      "text/plain": [
       "0.1502"
      ]
     },
     "execution_count": 31,
     "metadata": {},
     "output_type": "execute_result"
    }
   ],
   "source": [
    "DIAL_aq7 = top_aq7 * (Maq7**1.0 - 1.0) / 13.5\n",
    "DIAL_aq7"
   ]
  },
  {
   "cell_type": "markdown",
   "metadata": {},
   "source": [
    "## Ajuste da coordenação em 80% da linha RS1-RL1"
   ]
  },
  {
   "cell_type": "markdown",
   "metadata": {},
   "source": [
    "Agora é necessário verificar se a margem de coordenação é respeitada no outro ponto crítico do sistema:\n",
    "\n",
    "80% da linha RS1-RL1"
   ]
  },
  {
   "cell_type": "markdown",
   "metadata": {},
   "source": [
    "O primeiro passo é o cálculo do mútiplo do relé rs1 para um curto-circuito $3\\phi$ a 85% da linha RS1-RL1."
   ]
  },
  {
   "cell_type": "code",
   "execution_count": 32,
   "metadata": {},
   "outputs": [
    {
     "data": {
      "text/plain": [
       "7.4641"
      ]
     },
     "execution_count": 32,
     "metadata": {},
     "output_type": "execute_result"
    }
   ],
   "source": [
    "Mrs1 = icc3_rs1_80 / ipickup_51_rs1\n",
    "Mrs1"
   ]
  },
  {
   "cell_type": "markdown",
   "metadata": {},
   "source": [
    "Considerando a utilização de uma curva do tipo muito-inversa também para o relé RS1 vamos forçar um tempo de coordenação de 0,3s para esse relé, assim, como a regra de coordenação é de:\n",
    "\n",
    "$$ t_{relé~montante} - t_{relé~jusante} \\geq \\Delta t $$\n",
    "\n",
    "Com $\\Delta t=0,3$\n",
    "Vamos encontrar o tempo de atuação do relé montante, relé AQ7 para o curto-circuito $3\\phi$ a 85% da linha RS1 e forçar acoordenação, encontrando assim o tempo de atuação do relé jusante, RS1:"
   ]
  },
  {
   "cell_type": "code",
   "execution_count": 33,
   "metadata": {},
   "outputs": [
    {
     "data": {
      "text/plain": [
       "0.3493"
      ]
     },
     "execution_count": 33,
     "metadata": {},
     "output_type": "execute_result"
    }
   ],
   "source": [
    "top = DIAL_aq7 * 13.5 / (icc3_rs1_80 / ipickup_51_aq7 - 1.0)\n",
    "top"
   ]
  },
  {
   "cell_type": "markdown",
   "metadata": {},
   "source": [
    "Dessa forma o tempo de atuação do relé RS1 nessa situação será de:"
   ]
  },
  {
   "cell_type": "code",
   "execution_count": 34,
   "metadata": {},
   "outputs": [
    {
     "data": {
      "text/plain": [
       "0.0493"
      ]
     },
     "execution_count": 34,
     "metadata": {},
     "output_type": "execute_result"
    }
   ],
   "source": [
    "top_rs1 = top - 0.3\n",
    "top_rs1"
   ]
  },
  {
   "cell_type": "markdown",
   "metadata": {},
   "source": [
    "Nesse caso, o DIAL da curva será:"
   ]
  },
  {
   "cell_type": "code",
   "execution_count": 35,
   "metadata": {},
   "outputs": [
    {
     "data": {
      "text/plain": [
       "0.0236"
      ]
     },
     "execution_count": 35,
     "metadata": {},
     "output_type": "execute_result"
    }
   ],
   "source": [
    "DIAL_rs1 = top_rs1 * (Mrs1 - 1.0) / (13.5)\n",
    "DIAL_rs1"
   ]
  },
  {
   "cell_type": "markdown",
   "metadata": {},
   "source": [
    "Essa valor de DIAL é muito pequeno e por exemplo, se estivéssemos utilizando o relé SEL 751, o valor mínimo de ajuste do DIAL de tempo para a função de sobrecorrente temporizada é de 0,05.\n",
    "\n",
    "Dessa forma é preciso aumentar o DIAL de tempo para o mínimo valor ajustável no relé:"
   ]
  },
  {
   "cell_type": "code",
   "execution_count": 36,
   "metadata": {
    "collapsed": true
   },
   "outputs": [],
   "source": [
    "DIAL_rs1 = 0.05"
   ]
  },
  {
   "cell_type": "markdown",
   "metadata": {},
   "source": [
    "Dessa forma  o tempo de atuação do relé RS1 para um curto-circuito trifásico franco em sua barra passa a ser:"
   ]
  },
  {
   "cell_type": "code",
   "execution_count": 37,
   "metadata": {},
   "outputs": [
    {
     "data": {
      "text/plain": [
       "0.1044"
      ]
     },
     "execution_count": 37,
     "metadata": {},
     "output_type": "execute_result"
    }
   ],
   "source": [
    "top_rs1 = DIAL_rs1 * 13.5 / (icc3_rs1_80 / ipickup_51_rs1 - 1.0)\n",
    "top_rs1"
   ]
  },
  {
   "cell_type": "code",
   "execution_count": 38,
   "metadata": {},
   "outputs": [
    {
     "data": {
      "text/plain": [
       "0.2449"
      ]
     },
     "execution_count": 38,
     "metadata": {},
     "output_type": "execute_result"
    }
   ],
   "source": [
    "top - top_rs1"
   ]
  },
  {
   "cell_type": "markdown",
   "metadata": {},
   "source": [
    "O sistema está então **descoordenado** pois a margem de coordenação está menor que 0,3 segundos."
   ]
  },
  {
   "cell_type": "markdown",
   "metadata": {},
   "source": [
    "A solução aqui é aumentar o DIAL do Relé AQ7 e refizer os cálculos:"
   ]
  },
  {
   "cell_type": "code",
   "execution_count": 39,
   "metadata": {
    "collapsed": true
   },
   "outputs": [],
   "source": [
    "DIAL_aq7 = 0.3"
   ]
  },
  {
   "cell_type": "code",
   "execution_count": 40,
   "metadata": {},
   "outputs": [
    {
     "data": {
      "text/plain": [
       "0.6978"
      ]
     },
     "execution_count": 40,
     "metadata": {},
     "output_type": "execute_result"
    }
   ],
   "source": [
    "top = DIAL_aq7 * 13.5 / (icc3_rs1_80 / ipickup_51_aq7 - 1.0)\n",
    "top"
   ]
  },
  {
   "cell_type": "code",
   "execution_count": 45,
   "metadata": {},
   "outputs": [
    {
     "data": {
      "text/plain": [
       "0.2993"
      ]
     },
     "execution_count": 45,
     "metadata": {},
     "output_type": "execute_result"
    }
   ],
   "source": [
    "top_rs1 = top - 0.3\n",
    "top_rs1"
   ]
  },
  {
   "cell_type": "code",
   "execution_count": 46,
   "metadata": {},
   "outputs": [
    {
     "data": {
      "text/plain": [
       "0.1433"
      ]
     },
     "execution_count": 46,
     "metadata": {},
     "output_type": "execute_result"
    }
   ],
   "source": [
    "DIAL_rs1 = top_rs1 * (Mrs1 - 1.0) / (13.5)\n",
    "DIAL_rs1"
   ]
  },
  {
   "cell_type": "code",
   "execution_count": 48,
   "metadata": {},
   "outputs": [
    {
     "data": {
      "text/plain": [
       "0.2993"
      ]
     },
     "execution_count": 48,
     "metadata": {},
     "output_type": "execute_result"
    }
   ],
   "source": [
    "top_rs1 = DIAL_rs1 * 13.5 / (icc3_rs1_80 / ipickup_51_rs1 - 1.0)\n",
    "top_rs1"
   ]
  },
  {
   "cell_type": "markdown",
   "metadata": {},
   "source": [
    "Verificando o tempo de atuação do relé AQ7 para um curto na barra RS1: "
   ]
  },
  {
   "cell_type": "code",
   "execution_count": 49,
   "metadata": {},
   "outputs": [
    {
     "data": {
      "text/plain": [
       "0.5993"
      ]
     },
     "execution_count": 49,
     "metadata": {},
     "output_type": "execute_result"
    }
   ],
   "source": [
    "top = DIAL_aq7 * 13.5 / (icc3_rs1 / ipickup_51_aq7 - 1.0)\n",
    "top"
   ]
  },
  {
   "cell_type": "markdown",
   "metadata": {},
   "source": [
    "## Coordenação com fusível"
   ]
  },
  {
   "cell_type": "code",
   "execution_count": 50,
   "metadata": {
    "collapsed": true
   },
   "outputs": [],
   "source": [
    "import bs4\n",
    "\n",
    "f = open('curvas_fusiveis.xml')\n",
    "soup = bs4.BeautifulSoup(f, 'lxml')"
   ]
  },
  {
   "cell_type": "code",
   "execution_count": 51,
   "metadata": {},
   "outputs": [
    {
     "name": "stdout",
     "output_type": "stream",
     "text": [
      "<?xml version=\"1.0\" standalone=\"yes\"?>\n",
      "<html>\n",
      " <body>\n",
      "  <datapacket version=\"2.0\">\n",
      "   <metadata>\n",
      "    <fields>\n",
      "     <field attrname=\"Codigo\" fieldtype=\"r8\">\n",
      "     </field>\n",
      "     <field attrname=\"CodigoProtecao\" fieldtype=\"r8\">\n",
      "     </field>\n",
      "     <field attrname=\"ModeloProtecao\" fieldtype=\"string\" width=\"30\">\n",
      "     </field>\n",
      "     <field attrname=\"Curva\" fieldtype=\"string\" width=\"5\">\n",
      "     </field>\n",
      "     <field attrname=\"Corrente\" fieldtype=\"r8\">\n",
      "     </field>\n",
      "     <field attrname=\"Tempo\" fieldtype=\"r8\">\n",
      "     </field>\n",
      "    </fields>\n",
      "    <params lcid=\"1033\">\n",
      "    </params>\n",
      "   </metadata>\n",
      "   <rowdata>\n",
      "    <row codigo=\"1\" codigoprotecao=\"1001\" corrente=\"5\" curva=\"Min\" modeloprotecao=\"Hitachi-Line 1H\" tempo=\"18.5\">\n",
      "    </row>\n",
      "    <row codigo=\"2\" codigoprotecao=\"1001\" corrente=\"6\" curva=\"Min\" modeloprotecao=\"Hitachi-Line 1H\" tempo=\"13.2\">\n",
      "    </row>\n",
      "    <row codigo=\"3\" codigoprotecao=\"1001\" corrente=\"7\" curva=\"Min\" modeloprotecao=\"Hitachi-Line 1H\" tempo=\"10.3\">\n",
      "    </row>\n",
      "    <row codigo=\"4\" codigoprotecao=\"1001\" corrente=\"8\" curva=\"Min\" modeloprotecao=\"Hitachi-Line 1H\" tempo=\"8.35\">\n",
      "    </row>\n",
      "    <row codigo=\"5\" codigoprotecao=\"1001\" corrente=\"9\" curva=\"Min\" modeloprotecao=\"Hitachi-Line 1H\" tempo=\"6.4\">\n",
      "    </row>\n",
      "    <row codigo=\"6\" codigoprotecao=\"1001\" corrente=\"10\" curva=\"Min\" modeloprotecao=\"Hitachi-Line 1H\" tempo=\"4.8\">\n",
      "    </row>\n",
      "    <row codigo=\"1301\" codigoprotecao=\"1001\" corrente=\"11\" curva=\"Min\" modeloprotecao=\"Hitachi-Line 1H\" tempo=\"3.45\">\n",
      "    </row>\n",
      "    <row codigo=\"1300\" codigoprotecao=\"1001\" corrente=\"12\" curva=\"Mi n\" modeloprotecao=\"Hitachi-Line 1H\" tempo=\"2.5\">\n",
      "    </row>\n",
      "    <row codigo=\"1302\" codigoprotecao=\"1001\" corrente=\"13\" curva=\"Min\" modeloprotecao=\"Hitachi-Line 1H\" tempo=\"1.9\">\n",
      "    </row>\n",
      "    <row codigo=\"1303\" codigoprotecao=\"1001\" corrente=\"14\" curva=\"Min\" modeloprotecao=\"Hitachi-Line 1H\" tempo=\"1.5\">\n",
      "    </row>\n",
      "    <row codigo=\"7\" codigoprotecao=\"1001\" corrente=\"15\" curva=\"Min\" modeloprotecao=\"Hitachi-Line 1H\" tempo=\"1.27\">\n",
      "    </row>\n",
      "    <row codigo=\"8\" codigoprotecao=\"1001\" corrente=\"20\" curva=\"Min\" modeloprotecao=\"Hitachi-Line 1H\" tempo=\"0.6899999999999999\">\n",
      "    </row>\n",
      "    <row codigo=\"9\" codigoprotecao=\"1001\" corrente=\"25\" curva=\"Min\" modeloprotecao=\"Hitachi-Line 1H\" tempo=\"0.45\">\n",
      "    </row>\n",
      "    <row codigo=\"10\" codigoprotecao=\"1001\" corrente=\"30\" curva=\"Min\" modeloprotecao=\"Hitachi-Line 1H\" tempo=\"0.319\">\n",
      "    </row>\n",
      "    <row codigo=\"11\" codigoprotecao=\"1001\" corrente=\"35\" curva=\"Min\" modeloprotecao=\"Hitachi-Line 1H\" tempo=\"0.231\">\n",
      "    </row>\n",
      "    <row codigo=\"12\" codigoprotecao=\"1001\" corrente=\"40\" curva=\"Min\" modeloprotecao=\"Hitachi-Line 1H\" tempo=\"0.179\">\n",
      "    </row>\n",
      "    <row codigo=\"13\" codigoprotecao=\"1001\" corrente=\"45\" curva=\"Min\" modeloprotecao=\"Hitachi-Line 1H\" tempo=\"0.141\">\n",
      "    </row>\n",
      "    <row codigo=\"14\" codigoprotecao=\"1001\" corrente=\"50\" curva=\"Min\" modeloprotecao=\"Hitachi-Line 1H\" tempo=\"0.117\">\n",
      "    </row>\n",
      "    <row codigo=\"15\" codigoprotecao=\"1001\" corrente=\"60\" curva=\"Min\" modeloprotecao=\"Hitachi-Line 1H\" tempo=\"0.081\">\n",
      "    </row>\n",
      "    <row codigo=\"16\" codigoprotecao=\"1001\" corrente=\"70\" curva=\"Min\" modeloprotecao=\"Hitachi-Line 1H\" tempo=\"0.06\">\n",
      "    </row>\n",
      "    <row codigo=\"17\" codigoprotecao=\"1001\" corrente=\"80\" curva=\"Min\" modeloprotecao=\"Hitachi-Line 1H\" tempo=\"0.0465\">\n",
      "    </row>\n",
      "    <row codigo=\"18\" codigoprotecao=\"1001\" corrente=\"90\" curva=\"Min\" modeloprotecao=\"Hitachi-Line 1H\" tempo=\"0.037\">\n",
      "    </row>\n",
      "    <row codigo=\"19\" codigoprotecao=\"1001\" corrente=\"100\" curva=\"Min\" modeloprotecao=\"Hitachi-Line 1H\" tempo=\"0.03\">\n",
      "    </row>\n",
      "    <row codigo=\"23\" codigoprotecao=\"1001\" corrente=\"170\" curva=\"Min\" modeloprotecao=\"Hitachi-Line 1H\" tempo=\"0.013\">\n",
      "    </row>\n",
      "    <row codigo=\"24\" codigoprotecao=\"1001\" corrente=\"5\" curva=\"Max\" modeloprotecao=\"Hitachi-Line 1H\" tempo=\"29\">\n",
      "    </row>\n",
      "    <row codigo=\"25\" codigoprotecao=\"1001\" corrente=\"6\" curva=\"Max\" modeloprotecao=\"Hitachi-Line 1H\" tempo=\"19\">\n",
      "    </row>\n",
      "    <row codigo=\"26\" codigoprotecao=\"1001\" corrente=\"7\" curva=\"Max\" modeloprotecao=\"Hitachi-Line 1H\" tempo=\"14.1\">\n",
      "    </row>\n",
      "    <row codigo=\"27\" codigoprotecao=\"1001\" corrente=\"8\" curva=\"Max\" modeloprotecao=\"Hitachi-Line 1H\" tempo=\"11.5\">\n",
      "    </row>\n",
      "    <row codigo=\"28\" codigoprotecao=\"1001\" corrente=\"9\" curva=\"Max\" modeloprotecao=\"Hitachi-Line 1H\" tempo=\"9.4\">\n",
      "    </row>\n",
      "    <row codigo=\"29\" codigoprotecao=\"1001\" corrente=\"10\" curva=\"Max\" modeloprotecao=\"Hitachi-Line 1H\" tempo=\"7.8\">\n",
      "    </row>\n",
      "    <row codigo=\"1299\" codigoprotecao=\"1001\" corrente=\"12\" curva=\"Max\" modeloprotecao=\"Hitachi-Line 1H\" tempo=\"5\">\n",
      "    </row>\n",
      "    <row codigo=\"30\" codigoprotecao=\"1001\" corrente=\"15\" curva=\"Max\" modeloprotecao=\"Hitachi-Line 1H\" tempo=\"2.38\">\n",
      "    </row>\n",
      "    <row codigo=\"31\" codigoprotecao=\"1001\" corrente=\"20\" curva=\"Max\" modeloprotecao=\"Hitachi-Line 1H\" tempo=\"1.12\">\n",
      "    </row>\n",
      "    <row codigo=\"32\" codigoprotecao=\"1001\" corrente=\"25\" curva=\"Max\" modeloprotecao=\"Hitachi-Line 1H\" tempo=\"0.71\">\n",
      "    </row>\n",
      "    <row codigo=\"33\" codigoprotecao=\"1001\" corrente=\"30\" curva=\"Max\" modeloprotecao=\"Hitachi-Line 1H\" tempo=\"0.51\">\n",
      "    </row>\n",
      "    <row codigo=\"34\" codigoprotecao=\"1001\" corrente=\"35\" curva=\"Max\" modeloprotecao=\"Hitachi-Line 1H\" tempo=\"0.39\">\n",
      "    </row>\n",
      "    <row codigo=\"35\" codigoprotecao=\"1001\" corrente=\"40\" curva=\"Max\" modeloprotecao=\"Hitachi-Line 1H\" tempo=\"0.3\">\n",
      "    </row>\n",
      "    <row codigo=\"36\" codigoprotecao=\"1001\" corrente=\"45\" curva=\"Max\" modeloprotecao=\"Hitachi-Line 1H\" tempo=\"0.245\">\n",
      "    </row>\n",
      "    <row codigo=\"37\" codigoprotecao=\"1001\" corrente=\"50\" curva=\"Max\" modeloprotecao=\"Hitachi-Line 1H\" tempo=\"0.2\">\n",
      "    </row>\n",
      "    <row codigo=\"38\" codigoprotecao=\"1001\" corrente=\"60\" curva=\"Max\" modeloprotecao=\"Hitachi-Line 1H\" tempo=\"0.145\">\n",
      "    </row>\n",
      "    <row codigo=\"39\" codigoprotecao=\"1001\" corrente=\"70\" curva=\"Max\" modeloprotecao=\"Hitachi-Line 1H\" tempo=\"0.111\">\n",
      "    </row>\n",
      "    <row codigo=\"40\" codigoprotecao=\"1001\" corrente=\"80\" curva=\"Max\" modeloprotecao=\"Hitachi-Line 1H\" tempo=\"0.09\">\n",
      "    </row>\n",
      "    <row codigo=\"41\" codigoprotecao=\"1001\" corrente=\"90\" curva=\"Max\" modeloprotecao=\"Hitachi-Line 1H\" tempo=\"0.075\">\n",
      "    </row>\n",
      "    <row codigo=\"42\" codigoprotecao=\"1001\" corrente=\"100\" curva=\"Max\" modeloprotecao=\"Hitachi-Line 1H\" tempo=\"0.0635\">\n",
      "    </row>\n",
      "    <row codigo=\"44\" codigoprotecao=\"1001\" corrente=\"120\" curva=\"Max\" modeloprotecao=\"Hitachi-Line 1H\" tempo=\"0.0485\">\n",
      "    </row>\n",
      "    <row codigo=\"45\" codigoprotecao=\"1001\" corrente=\"150\" curva=\"Max\" modeloprotecao=\"Hitachi-Line 1H\" tempo=\"0.035\">\n",
      "    </row>\n",
      "    <row codigo=\"47\" codigoprotecao=\"1001\" corrente=\"200\" curva=\"Max\" modeloprotecao=\"Hitachi-Line 1H\" tempo=\"0.0245\">\n",
      "    </row>\n",
      "    <row codigo=\"49\" codigoprotecao=\"1001\" corrente=\"250\" curva=\"Max\" modeloprotecao=\"Hitachi-Line 1H\" tempo=\"0.019\">\n",
      "    </row>\n",
      "    <row codigo=\"50\" codigoprotecao=\"1001\" corrente=\"300\" curva=\"Max\" modeloprotecao=\"Hitachi-Line 1H\" tempo=\"0.0159\">\n",
      "    </row>\n",
      "    <row codigo=\"1298\" codigoprotecao=\"1001\" corrente=\"345\" curva=\"Max\" modeloprotecao=\"Hitachi-Line 1H\" tempo=\"0.014\">\n",
      "    </row>\n",
      "    <row codigo=\"51\" codigoprotecao=\"1009\" corrente=\"12.1\" curva=\"Min\" modeloprotecao=\"6K(Pref)\" tempo=\"100\">\n",
      "    </row>\n",
      "    <row codigo=\"52\" codigoprotecao=\"1009\" corrente=\"13\" curva=\"Min\" modeloprotecao=\"6K(Pref)\" tempo=\"25\">\n",
      "    </row>\n",
      "    <row codigo=\"53\" codigoprotecao=\"1009\" corrente=\"14\" curva=\"Min\" modeloprotecao=\"6K(Pref)\" tempo=\"9.4\">\n",
      "    </row>\n",
      "    <row codigo=\"54\" codigoprotecao=\"1009\" corrente=\"15\" curva=\"Min\" modeloprotecao=\"6K(Pref)\" tempo=\"5.8\">\n",
      "    </row>\n",
      "    <row codigo=\"55\" codigoprotecao=\"1009\" corrente=\"16\" curva=\"Min\" modeloprotecao=\"6K(Pref)\" tempo=\"4\">\n",
      "    </row>\n",
      "    <row codigo=\"56\" codigoprotecao=\"1009\" corrente=\"17\" curva=\"Min\" modeloprotecao=\"6K(Pref)\" tempo=\"3\">\n",
      "    </row>\n",
      "    <row codigo=\"57\" codigoprotecao=\"1009\" corrente=\"18\" curva=\"Min\" modeloprotecao=\"6K(Pref)\" tempo=\"2.35\">\n",
      "    </row>\n",
      "    <row codigo=\"58\" codigoprotecao=\"1009\" corrente=\"19\" curva=\"Min\" modeloprotecao=\"6K(Pref)\" tempo=\"1.9\">\n",
      "    </row>\n",
      "    <row codigo=\"59\" codigoprotecao=\"1009\" corrente=\"20\" curva=\"Min\" modeloprotecao=\"6K(Pref)\" tempo=\"1.6\">\n",
      "    </row>\n",
      "    <row codigo=\"1355\" codigoprotecao=\"1009\" corrente=\"25\" curva=\"Min\" modeloprotecao=\"6K(Pref)\" tempo=\"0.8100000000000001\">\n",
      "    </row>\n",
      "    <row codigo=\"60\" codigoprotecao=\"1009\" corrente=\"30\" curva=\"Min\" modeloprotecao=\"6K(Pref)\" tempo=\"0.52\">\n",
      "    </row>\n",
      "    <row codigo=\"61\" codigoprotecao=\"1009\" corrente=\"40\" curva=\"Min\" modeloprotecao=\"6K(Pref)\" tempo=\"0.27\">\n",
      "    </row>\n",
      "    <row codigo=\"62\" codigoprotecao=\"1009\" corrente=\"50\" curva=\"Min\" modeloprotecao=\"6K(Pref)\" tempo=\"0.17\">\n",
      "    </row>\n",
      "    <row codigo=\"63\" codigoprotecao=\"1009\" corrente=\"60\" curva=\"Min\" modeloprotecao=\"6K(Pref)\" tempo=\"0.115\">\n",
      "    </row>\n",
      "    <row codigo=\"64\" codigoprotecao=\"1009\" corrente=\"70\" curva=\"Min\" modeloprotecao=\"6K(Pref)\" tempo=\"0.08400000000000001\">\n",
      "    </row>\n",
      "    <row codigo=\"65\" codigoprotecao=\"1009\" corrente=\"80\" curva=\"Min\" modeloprotecao=\"6K(Pref)\" tempo=\"0.065\">\n",
      "    </row>\n",
      "    <row codigo=\"66\" codigoprotecao=\"1009\" corrente=\"90\" curva=\"Min\" modeloprotecao=\"6K(Pref)\" tempo=\"0.051\">\n",
      "    </row>\n",
      "    <row codigo=\"67\" codigoprotecao=\"1009\" corrente=\"100\" curva=\"Min\" modeloprotecao=\"6K(Pref)\" tempo=\"0.041\">\n",
      "    </row>\n",
      "    <row codigo=\"72\" codigoprotecao=\"1009\" corrente=\"150\" curva=\"Min\" modeloprotecao=\"6K(Pref)\" tempo=\"0.0175\">\n",
      "    </row>\n",
      "    <row codigo=\"74\" codigoprotecao=\"1009\" corrente=\"200\" curva=\"Min\" modeloprotecao=\"6K(Pref)\" tempo=\"0.01\">\n",
      "    </row>\n",
      "    <row codigo=\"75\" codigoprotecao=\"1009\" corrente=\"180\" curva=\"Min\" modeloprotecao=\"6K(Pref)\" tempo=\"0.0125\">\n",
      "    </row>\n",
      "    <row codigo=\"76\" codigoprotecao=\"1009\" corrente=\"190\" curva=\"Min\" modeloprotecao=\"6K(Pref)\" tempo=\"0.011\">\n",
      "    </row>\n",
      "    <row codigo=\"77\" codigoprotecao=\"1009\" corrente=\"14.8\" curva=\"Max\" modeloprotecao=\"6K(Pref)\" tempo=\"100\">\n",
      "    </row>\n",
      "    <row codigo=\"1356\" codigoprotecao=\"1009\" corrente=\"16\" curva=\"Max\" modeloprotecao=\"6K(Pref)\" tempo=\"20\">\n",
      "    </row>\n",
      "    <row codigo=\"78\" codigoprotecao=\"1009\" corrente=\"18\" curva=\"Max\" modeloprotecao=\"6K(Pref)\" tempo=\"6\">\n",
      "    </row>\n",
      "    <row codigo=\"1357\" codigoprotecao=\"1009\" corrente=\"22\" curva=\"Max\" modeloprotecao=\"6K(Pref)\" tempo=\"2\">\n",
      "    </row>\n",
      "    <row codigo=\"79\" codigoprotecao=\"1009\" corrente=\"30\" curva=\"Max\" modeloprotecao=\"6K(Pref)\" tempo=\"0.8\">\n",
      "    </row>\n",
      "    <row codigo=\"80\" codigoprotecao=\"1009\" corrente=\"40\" curva=\"Max\" modeloprotecao=\"6K(Pref)\" tempo=\"0.415\">\n",
      "    </row>\n",
      "    <row codigo=\"81\" codigoprotecao=\"1009\" corrente=\"50\" curva=\"Max\" modeloprotecao=\"6K(Pref)\" tempo=\"0.26\">\n",
      "    </row>\n",
      "    <row codigo=\"82\" codigoprotecao=\"1009\" corrente=\"60\" curva=\"Max\" modeloprotecao=\"6K(Pref)\" tempo=\"0.181\">\n",
      "    </row>\n",
      "    <row codigo=\"83\" codigoprotecao=\"1009\" corrente=\"70\" curva=\"Max\" modeloprotecao=\"6K(Pref)\" tempo=\"0.138\">\n",
      "    </row>\n",
      "    <row codigo=\"84\" codigoprotecao=\"1009\" corrente=\"80\" curva=\"Max\" modeloprotecao=\"6K(Pref)\" tempo=\"0.109\">\n",
      "    </row>\n",
      "    <row codigo=\"85\" codigoprotecao=\"1009\" corrente=\"90\" curva=\"Max\" modeloprotecao=\"6K(Pref)\" tempo=\"0.08699999999999999\">\n",
      "    </row>\n",
      "    <row codigo=\"86\" codigoprotecao=\"1009\" corrente=\"100\" curva=\"Max\" modeloprotecao=\"6K(Pref)\" tempo=\"0.07199999999999999\">\n",
      "    </row>\n",
      "    <row codigo=\"91\" codigoprotecao=\"1009\" corrente=\"150\" curva=\"Max\" modeloprotecao=\"6K(Pref)\" tempo=\"0.037\">\n",
      "    </row>\n",
      "    <row codigo=\"95\" codigoprotecao=\"1009\" corrente=\"200\" curva=\"Max\" modeloprotecao=\"6K(Pref)\" tempo=\"0.0245\">\n",
      "    </row>\n",
      "    <row codigo=\"99\" codigoprotecao=\"1009\" corrente=\"250\" curva=\"Max\" modeloprotecao=\"6K(Pref)\" tempo=\"0.0197\">\n",
      "    </row>\n",
      "    <row codigo=\"102\" codigoprotecao=\"1009\" corrente=\"370\" curva=\"Max\" modeloprotecao=\"6K(Pref)\" tempo=\"0.015\">\n",
      "    </row>\n",
      "    <row codigo=\"103\" codigoprotecao=\"1010\" corrente=\"20\" curva=\"Min\" modeloprotecao=\"10K(Pref)\" tempo=\"90\">\n",
      "    </row>\n",
      "    <row codigo=\"1358\" codigoprotecao=\"1010\" corrente=\"22\" curva=\"Min\" modeloprotecao=\"10K(Pref)\" tempo=\"20\">\n",
      "    </row>\n",
      "    <row codigo=\"1359\" codigoprotecao=\"1010\" corrente=\"26\" curva=\"Min\" modeloprotecao=\"10K(Pref)\" tempo=\"6.2\">\n",
      "    </row>\n",
      "    <row codigo=\"104\" codigoprotecao=\"1010\" corrente=\"30\" curva=\"Min\" modeloprotecao=\"10K(Pref)\" tempo=\"3\">\n",
      "    </row>\n",
      "    <row codigo=\"105\" codigoprotecao=\"1010\" corrente=\"40\" curva=\"Min\" modeloprotecao=\"10K(Pref)\" tempo=\"1.1\">\n",
      "    </row>\n",
      "    <row codigo=\"106\" codigoprotecao=\"1010\" corrente=\"50\" curva=\"Min\" modeloprotecao=\"10K(Pref)\" tempo=\"0.58\">\n",
      "    </row>\n",
      "    <row codigo=\"107\" codigoprotecao=\"1010\" corrente=\"60\" curva=\"Min\" modeloprotecao=\"10K(Pref)\" tempo=\"0.365\">\n",
      "    </row>\n",
      "    <row codigo=\"108\" codigoprotecao=\"1010\" corrente=\"70\" curva=\"Min\" modeloprotecao=\"10K(Pref)\" tempo=\"0.25\">\n",
      "    </row>\n",
      "    <row codigo=\"109\" codigoprotecao=\"1010\" corrente=\"80\" curva=\"Min\" modeloprotecao=\"10K(Pref)\" tempo=\"0.185\">\n",
      "    </row>\n",
      "    <row codigo=\"110\" codigoprotecao=\"1010\" corrente=\"90\" curva=\"Min\" modeloprotecao=\"10K(Pref)\" tempo=\"0.14\">\n",
      "    </row>\n",
      "    <row codigo=\"111\" codigoprotecao=\"1010\" corrente=\"100\" curva=\"Min\" modeloprotecao=\"10K(Pref)\" tempo=\"0.111\">\n",
      "    </row>\n",
      "    <row codigo=\"113\" codigoprotecao=\"1010\" corrente=\"120\" curva=\"Min\" modeloprotecao=\"10K(Pref)\" tempo=\"0.078\">\n",
      "    </row>\n",
      "    <row codigo=\"128\" codigoprotecao=\"1010\" corrente=\"345\" curva=\"Min\" modeloprotecao=\"10K(Pref)\" tempo=\"0.01\">\n",
      "    </row>\n",
      "    <row codigo=\"140\" codigoprotecao=\"1010\" corrente=\"24.7\" curva=\"Max\" modeloprotecao=\"10K(Pref)\" tempo=\"100\">\n",
      "    </row>\n",
      "    <row codigo=\"141\" codigoprotecao=\"1010\" corrente=\"26\" curva=\"Max\" modeloprotecao=\"10K(Pref)\" tempo=\"45\">\n",
      "    </row>\n",
      "    <row codigo=\"142\" codigoprotecao=\"1010\" corrente=\"30\" curva=\"Max\" modeloprotecao=\"10K(Pref)\" tempo=\"8.4\">\n",
      "    </row>\n",
      "    <row codigo=\"143\" codigoprotecao=\"1010\" corrente=\"40\" curva=\"Max\" modeloprotecao=\"10K(Pref)\" tempo=\"2\">\n",
      "    </row>\n",
      "    <row codigo=\"144\" codigoprotecao=\"1010\" corrente=\"50\" curva=\"Max\" modeloprotecao=\"10K(Pref)\" tempo=\"0.98\">\n",
      "    </row>\n",
      "    <row codigo=\"145\" codigoprotecao=\"1010\" corrente=\"60\" curva=\"Max\" modeloprotecao=\"10K(Pref)\" tempo=\"0.61\">\n",
      "    </row>\n",
      "    <row codigo=\"146\" codigoprotecao=\"1010\" corrente=\"70\" curva=\"Max\" modeloprotecao=\"10K(Pref)\" tempo=\"0.42\">\n",
      "    </row>\n",
      "    <row codigo=\"147\" codigoprotecao=\"1010\" corrente=\"80\" curva=\"Max\" modeloprotecao=\"10K(Pref)\" tempo=\"0.315\">\n",
      "    </row>\n",
      "    <row codigo=\"148\" codigoprotecao=\"1010\" corrente=\"90\" curva=\"Max\" modeloprotecao=\"10K(Pref)\" tempo=\"0.25\">\n",
      "    </row>\n",
      "    <row codigo=\"149\" codigoprotecao=\"1010\" corrente=\"100\" curva=\"Max\" modeloprotecao=\"10K(Pref)\" tempo=\"0.201\">\n",
      "    </row>\n",
      "    <row codigo=\"152\" codigoprotecao=\"1010\" corrente=\"130\" curva=\"Max\" modeloprotecao=\"10K(Pref)\" tempo=\"0.125\">\n",
      "    </row>\n",
      "    <row codigo=\"169\" codigoprotecao=\"1010\" corrente=\"300\" curva=\"Max\" modeloprotecao=\"10K(Pref)\" tempo=\"0.0315\">\n",
      "    </row>\n",
      "    <row codigo=\"171\" codigoprotecao=\"1010\" corrente=\"350\" curva=\"Max\" modeloprotecao=\"10K(Pref)\" tempo=\"0.0255\">\n",
      "    </row>\n",
      "    <row codigo=\"172\" codigoprotecao=\"1010\" corrente=\"400\" curva=\"Max\" modeloprotecao=\"10K(Pref)\" tempo=\"0.022\">\n",
      "    </row>\n",
      "    <row codigo=\"174\" codigoprotecao=\"1010\" corrente=\"500\" curva=\"Max\" modeloprotecao=\"10K(Pref)\" tempo=\"0.018\">\n",
      "    </row>\n",
      "    <row codigo=\"175\" codigoprotecao=\"1010\" corrente=\"660\" curva=\"Max\" modeloprotecao=\"10K(Pref)\" tempo=\"0.015\">\n",
      "    </row>\n",
      "    <row codigo=\"177\" codigoprotecao=\"1011\" corrente=\"33\" curva=\"Min\" modeloprotecao=\"15K(Pref)\" tempo=\"100\">\n",
      "    </row>\n",
      "    <row codigo=\"1360\" codigoprotecao=\"1011\" corrente=\"35\" curva=\"Min\" modeloprotecao=\"15K(Pref)\" tempo=\"40\">\n",
      "    </row>\n",
      "    <row codigo=\"1361\" codigoprotecao=\"1011\" corrente=\"37\" curva=\"Min\" modeloprotecao=\"15K(Pref)\" tempo=\"22\">\n",
      "    </row>\n",
      "    <row codigo=\"178\" codigoprotecao=\"1011\" corrente=\"40\" curva=\"Min\" modeloprotecao=\"15K(Pref)\" tempo=\"11.5\">\n",
      "    </row>\n",
      "    <row codigo=\"179\" codigoprotecao=\"1011\" corrente=\"50\" curva=\"Min\" modeloprotecao=\"15K(Pref)\" tempo=\"3.8\">\n",
      "    </row>\n",
      "    <row codigo=\"180\" codigoprotecao=\"1011\" corrente=\"60\" curva=\"Min\" modeloprotecao=\"15K(Pref)\" tempo=\"1.9\">\n",
      "    </row>\n",
      "    <row codigo=\"181\" codigoprotecao=\"1011\" corrente=\"70\" curva=\"Min\" modeloprotecao=\"15K(Pref)\" tempo=\"1.1\">\n",
      "    </row>\n",
      "    <row codigo=\"182\" codigoprotecao=\"1011\" corrente=\"80\" curva=\"Min\" modeloprotecao=\"15K(Pref)\" tempo=\"0.74\">\n",
      "    </row>\n",
      "    <row codigo=\"183\" codigoprotecao=\"1011\" corrente=\"90\" curva=\"Min\" modeloprotecao=\"15K(Pref)\" tempo=\"0.54\">\n",
      "    </row>\n",
      "    <row codigo=\"184\" codigoprotecao=\"1011\" corrente=\"100\" curva=\"Min\" modeloprotecao=\"15K(Pref)\" tempo=\"0.415\">\n",
      "    </row>\n",
      "    <row codigo=\"185\" codigoprotecao=\"1011\" corrente=\"110\" curva=\"Min\" modeloprotecao=\"15K(Pref)\" tempo=\"0.33\">\n",
      "    </row>\n",
      "    <row codigo=\"186\" codigoprotecao=\"1011\" corrente=\"120\" curva=\"Min\" modeloprotecao=\"15K(Pref)\" tempo=\"0.27\">\n",
      "    </row>\n",
      "    <row codigo=\"187\" codigoprotecao=\"1011\" corrente=\"130\" curva=\"Min\" modeloprotecao=\"15K(Pref)\" tempo=\"0.227\">\n",
      "    </row>\n",
      "    <row codigo=\"190\" codigoprotecao=\"1011\" corrente=\"160\" curva=\"Min\" modeloprotecao=\"15K(Pref)\" tempo=\"0.147\">\n",
      "    </row>\n",
      "    <row codigo=\"1363\" codigoprotecao=\"1011\" corrente=\"300\" curva=\"Min\" modeloprotecao=\"15K(Pref)\" tempo=\"0.0413\">\n",
      "    </row>\n",
      "    <row codigo=\"1362\" codigoprotecao=\"1011\" corrente=\"600\" curva=\"Min\" modeloprotecao=\"15K(Pref)\" tempo=\"0.01\">\n",
      "    </row>\n",
      "    <row codigo=\"213\" codigoprotecao=\"1011\" corrente=\"38.6\" curva=\"Max\" modeloprotecao=\"15K(Pref)\" tempo=\"100\">\n",
      "    </row>\n",
      "    <row codigo=\"214\" codigoprotecao=\"1011\" corrente=\"40\" curva=\"Max\" modeloprotecao=\"15K(Pref)\" tempo=\"76\">\n",
      "    </row>\n",
      "    <row codigo=\"1364\" codigoprotecao=\"1011\" corrente=\"45\" curva=\"Max\" modeloprotecao=\"15K(Pref)\" tempo=\"25\">\n",
      "    </row>\n",
      "    <row codigo=\"215\" codigoprotecao=\"1011\" corrente=\"50\" curva=\"Max\" modeloprotecao=\"15K(Pref)\" tempo=\"10.7\">\n",
      "    </row>\n",
      "    <row codigo=\"1365\" codigoprotecao=\"1011\" corrente=\"54\" curva=\"Max\" modeloprotecao=\"15K(Pref)\" tempo=\"6.6\">\n",
      "    </row>\n",
      "    <row codigo=\"216\" codigoprotecao=\"1011\" corrente=\"60\" curva=\"Max\" modeloprotecao=\"15K(Pref)\" tempo=\"3.9\">\n",
      "    </row>\n",
      "    <row codigo=\"217\" codigoprotecao=\"1011\" corrente=\"70\" curva=\"Max\" modeloprotecao=\"15K(Pref)\" tempo=\"2\">\n",
      "    </row>\n",
      "    <row codigo=\"218\" codigoprotecao=\"1011\" corrente=\"80\" curva=\"Max\" modeloprotecao=\"15K(Pref)\" tempo=\"1.22\">\n",
      "    </row>\n",
      "    <row codigo=\"219\" codigoprotecao=\"1011\" corrente=\"90\" curva=\"Max\" modeloprotecao=\"15K(Pref)\" tempo=\"0.83\">\n",
      "    </row>\n",
      "    <row codigo=\"220\" codigoprotecao=\"1011\" corrente=\"100\" curva=\"Max\" modeloprotecao=\"15K(Pref)\" tempo=\"0.6\">\n",
      "    </row>\n",
      "    <row codigo=\"223\" codigoprotecao=\"1011\" corrente=\"130\" curva=\"Max\" modeloprotecao=\"15K(Pref)\" tempo=\"0.327\">\n",
      "    </row>\n",
      "    <row codigo=\"225\" codigoprotecao=\"1011\" corrente=\"150\" curva=\"Max\" modeloprotecao=\"15K(Pref)\" tempo=\"0.246\">\n",
      "    </row>\n",
      "    <row codigo=\"227\" codigoprotecao=\"1011\" corrente=\"200\" curva=\"Max\" modeloprotecao=\"15K(Pref)\" tempo=\"0.144\">\n",
      "    </row>\n",
      "    <row codigo=\"231\" codigoprotecao=\"1011\" corrente=\"300\" curva=\"Max\" modeloprotecao=\"15K(Pref)\" tempo=\"0.07000000000000001\">\n",
      "    </row>\n",
      "    <row codigo=\"235\" codigoprotecao=\"1011\" corrente=\"400\" curva=\"Max\" modeloprotecao=\"15K(Pref)\" tempo=\"0.042\">\n",
      "    </row>\n",
      "    <row codigo=\"238\" codigoprotecao=\"1011\" corrente=\"500\" curva=\"Max\" modeloprotecao=\"15K(Pref)\" tempo=\"0.029\">\n",
      "    </row>\n",
      "    <row codigo=\"240\" codigoprotecao=\"1011\" corrente=\"600\" curva=\"Max\" modeloprotecao=\"15K(Pref)\" tempo=\"0.0231\">\n",
      "    </row>\n",
      "    <row codigo=\"241\" codigoprotecao=\"1011\" corrente=\"700\" curva=\"Max\" modeloprotecao=\"15K(Pref)\" tempo=\"0.02\">\n",
      "    </row>\n",
      "    <row codigo=\"242\" codigoprotecao=\"1011\" corrente=\"1100\" curva=\"Max\" modeloprotecao=\"15K(Pref)\" tempo=\"0.0149\">\n",
      "    </row>\n",
      "    <row codigo=\"243\" codigoprotecao=\"1012\" corrente=\"52\" curva=\"Min\" modeloprotecao=\"25K(Pref)\" tempo=\"80\">\n",
      "    </row>\n",
      "    <row codigo=\"1386\" codigoprotecao=\"1012\" corrente=\"52\" curva=\"Min\" modeloprotecao=\"25K(Pref)\" tempo=\"100\">\n",
      "    </row>\n",
      "    <row codigo=\"1366\" codigoprotecao=\"1012\" corrente=\"54\" curva=\"Min\" modeloprotecao=\"25K(Pref)\" tempo=\"35\">\n",
      "    </row>\n",
      "    <row codigo=\"244\" codigoprotecao=\"1012\" corrente=\"60\" curva=\"Min\" modeloprotecao=\"25K(Pref)\" tempo=\"14.5\">\n",
      "    </row>\n",
      "    <row codigo=\"245\" codigoprotecao=\"1012\" corrente=\"70\" curva=\"Min\" modeloprotecao=\"25K(Pref)\" tempo=\"5.8\">\n",
      "    </row>\n",
      "    <row codigo=\"246\" codigoprotecao=\"1012\" corrente=\"80\" curva=\"Min\" modeloprotecao=\"25K(Pref)\" tempo=\"3.2\">\n",
      "    </row>\n",
      "    <row codigo=\"247\" codigoprotecao=\"1012\" corrente=\"90\" curva=\"Min\" modeloprotecao=\"25K(Pref)\" tempo=\"2.05\">\n",
      "    </row>\n",
      "    <row codigo=\"248\" codigoprotecao=\"1012\" corrente=\"100\" curva=\"Min\" modeloprotecao=\"25K(Pref)\" tempo=\"1.43\">\n",
      "    </row>\n",
      "    <row codigo=\"250\" codigoprotecao=\"1012\" corrente=\"120\" curva=\"Min\" modeloprotecao=\"25K(Pref)\" tempo=\"0.8\">\n",
      "    </row>\n",
      "    <row codigo=\"253\" codigoprotecao=\"1012\" corrente=\"150\" curva=\"Min\" modeloprotecao=\"25K(Pref)\" tempo=\"0.45\">\n",
      "    </row>\n",
      "    <row codigo=\"258\" codigoprotecao=\"1012\" corrente=\"200\" curva=\"Min\" modeloprotecao=\"25K(Pref)\" tempo=\"0.238\">\n",
      "    </row>\n",
      "    <row codigo=\"261\" codigoprotecao=\"1012\" corrente=\"300\" curva=\"Min\" modeloprotecao=\"25K(Pref)\" tempo=\"0.106\">\n",
      "    </row>\n",
      "    <row codigo=\"1367\" codigoprotecao=\"1012\" corrente=\"600\" curva=\"Min\" modeloprotecao=\"25K(Pref)\" tempo=\"0.0262\">\n",
      "    </row>\n",
      "    <row codigo=\"277\" codigoprotecao=\"1012\" corrente=\"980\" curva=\"Min\" modeloprotecao=\"25K(Pref)\" tempo=\"0.01\">\n",
      "    </row>\n",
      "    <row codigo=\"1264\" codigoprotecao=\"1012\" corrente=\"62.1\" curva=\"Max\" modeloprotecao=\"25K(Pref)\" tempo=\"100\">\n",
      "    </row>\n",
      "    <row codigo=\"1368\" codigoprotecao=\"1012\" corrente=\"64\" curva=\"Max\" modeloprotecao=\"25K(Pref)\" tempo=\"45\">\n",
      "    </row>\n",
      "    <row codigo=\"1369\" codigoprotecao=\"1012\" corrente=\"66\" curva=\"Max\" modeloprotecao=\"25K(Pref)\" tempo=\"28\">\n",
      "    </row>\n",
      "    <row codigo=\"1265\" codigoprotecao=\"1012\" corrente=\"70\" curva=\"Max\" modeloprotecao=\"25K(Pref)\" tempo=\"17\">\n",
      "    </row>\n",
      "    <row codigo=\"1370\" codigoprotecao=\"1012\" corrente=\"75\" curva=\"Max\" modeloprotecao=\"25K(Pref)\" tempo=\"9.5\">\n",
      "    </row>\n",
      "    <row codigo=\"1266\" codigoprotecao=\"1012\" corrente=\"80\" curva=\"Max\" modeloprotecao=\"25K(Pref)\" tempo=\"6.6\">\n",
      "    </row>\n",
      "    <row codigo=\"1267\" codigoprotecao=\"1012\" corrente=\"90\" curva=\"Max\" modeloprotecao=\"25K(Pref)\" tempo=\"3.8\">\n",
      "    </row>\n",
      "    <row codigo=\"1268\" codigoprotecao=\"1012\" corrente=\"100\" curva=\"Max\" modeloprotecao=\"25K(Pref)\" tempo=\"2.48\">\n",
      "    </row>\n",
      "    <row codigo=\"1270\" codigoprotecao=\"1012\" corrente=\"120\" curva=\"Max\" modeloprotecao=\"25K(Pref)\" tempo=\"1.28\">\n",
      "    </row>\n",
      "    <row codigo=\"1272\" codigoprotecao=\"1012\" corrente=\"140\" curva=\"Max\" modeloprotecao=\"25K(Pref)\" tempo=\"0.78\">\n",
      "    </row>\n",
      "    <row codigo=\"1275\" codigoprotecao=\"1012\" corrente=\"170\" curva=\"Max\" modeloprotecao=\"25K(Pref)\" tempo=\"0.499\">\n",
      "    </row>\n",
      "    <row codigo=\"1278\" codigoprotecao=\"1012\" corrente=\"200\" curva=\"Max\" modeloprotecao=\"25K(Pref)\" tempo=\"0.36\">\n",
      "    </row>\n",
      "    <row codigo=\"1371\" codigoprotecao=\"1012\" corrente=\"250\" curva=\"Max\" modeloprotecao=\"25K(Pref)\" tempo=\"0.235\">\n",
      "    </row>\n",
      "    <row codigo=\"1279\" codigoprotecao=\"1012\" corrente=\"300\" curva=\"Max\" modeloprotecao=\"25K(Pref)\" tempo=\"0.168\">\n",
      "    </row>\n",
      "    <row codigo=\"1289\" codigoprotecao=\"1012\" corrente=\"500\" curva=\"Max\" modeloprotecao=\"25K(Pref)\" tempo=\"0.0699\">\n",
      "    </row>\n",
      "    <row codigo=\"1290\" codigoprotecao=\"1012\" corrente=\"700\" curva=\"Max\" modeloprotecao=\"25K(Pref)\" tempo=\"0.039\">\n",
      "    </row>\n",
      "    <row codigo=\"1293\" codigoprotecao=\"1012\" corrente=\"900\" curva=\"Max\" modeloprotecao=\"25K(Pref)\" tempo=\"0.027\">\n",
      "    </row>\n",
      "    <row codigo=\"1294\" codigoprotecao=\"1012\" corrente=\"1000\" curva=\"Max\" modeloprotecao=\"25K(Pref)\" tempo=\"0.024\">\n",
      "    </row>\n",
      "    <row codigo=\"1295\" codigoprotecao=\"1012\" corrente=\"1300\" curva=\"Max\" modeloprotecao=\"25K(Pref)\" tempo=\"0.0188\">\n",
      "    </row>\n",
      "    <row codigo=\"1297\" codigoprotecao=\"1012\" corrente=\"1900\" curva=\"Max\" modeloprotecao=\"25K(Pref)\" tempo=\"0.015\">\n",
      "    </row>\n",
      "    <row codigo=\"278\" codigoprotecao=\"1003\" corrente=\"5.4\" curva=\"Min\" modeloprotecao=\"Hitachi-Line 3H\" tempo=\"100\">\n",
      "    </row>\n",
      "    <row codigo=\"279\" codigoprotecao=\"1003\" corrente=\"6\" curva=\"Min\" modeloprotecao=\"Hitachi-Line 3H\" tempo=\"65\">\n",
      "    </row>\n",
      "    <row codigo=\"280\" codigoprotecao=\"1003\" corrente=\"7\" curva=\"Min\" modeloprotecao=\"Hitachi-Line 3H\" tempo=\"32\">\n",
      "    </row>\n",
      "    <row codigo=\"281\" codigoprotecao=\"1003\" corrente=\"8\" curva=\"Min\" modeloprotecao=\"Hitachi-Line 3H\" tempo=\"21\">\n",
      "    </row>\n",
      "    <row codigo=\"282\" codigoprotecao=\"1003\" corrente=\"9\" curva=\"Min\" modeloprotecao=\"Hitachi-Line 3H\" tempo=\"15.5\">\n",
      "    </row>\n",
      "    <row codigo=\"283\" codigoprotecao=\"1003\" corrente=\"10\" curva=\"Min\" modeloprotecao=\"Hitachi-Line 3H\" tempo=\"12.9\">\n",
      "    </row>\n",
      "    <row codigo=\"1311\" codigoprotecao=\"1003\" corrente=\"12\" curva=\"Min\" modeloprotecao=\"Hitachi-Line 3H\" tempo=\"9.3\">\n",
      "    </row>\n",
      "    <row codigo=\"1312\" codigoprotecao=\"1003\" corrente=\"13\" curva=\"Min\" modeloprotecao=\"Hitachi-Line 3H\" tempo=\"8\">\n",
      "    </row>\n",
      "    <row codigo=\"284\" codigoprotecao=\"1003\" corrente=\"15\" curva=\"Min\" modeloprotecao=\"Hitachi-Line 3H\" tempo=\"6.55\">\n",
      "    </row>\n",
      "    <row codigo=\"1313\" codigoprotecao=\"1003\" corrente=\"17.5\" curva=\"Min\" modeloprotecao=\"Hitachi-Line 3H\" tempo=\"4.7\">\n",
      "    </row>\n",
      "    <row codigo=\"285\" codigoprotecao=\"1003\" corrente=\"20\" curva=\"Min\" modeloprotecao=\"Hitachi-Line 3H\" tempo=\"3\">\n",
      "    </row>\n",
      "    <row codigo=\"1314\" codigoprotecao=\"1003\" corrente=\"23.5\" curva=\"Min\" modeloprotecao=\"Hitachi-Line 3H\" tempo=\"1.7\">\n",
      "    </row>\n",
      "    <row codigo=\"286\" codigoprotecao=\"1003\" corrente=\"25\" curva=\"Min\" modeloprotecao=\"Hitachi-Line 3H\" tempo=\"1.43\">\n",
      "    </row>\n",
      "    <row codigo=\"287\" codigoprotecao=\"1003\" corrente=\"30\" curva=\"Min\" modeloprotecao=\"Hitachi-Line 3H\" tempo=\"0.941\">\n",
      "    </row>\n",
      "    <row codigo=\"298\" codigoprotecao=\"1003\" corrente=\"120\" curva=\"Min\" modeloprotecao=\"Hitachi-Line 3H\" tempo=\"0.0541\">\n",
      "    </row>\n",
      "    <row codigo=\"299\" codigoprotecao=\"1003\" corrente=\"150\" curva=\"Min\" modeloprotecao=\"Hitachi-Line 3H\" tempo=\"0.035\">\n",
      "    </row>\n",
      "    <row codigo=\"300\" codigoprotecao=\"1003\" corrente=\"200\" curva=\"Min\" modeloprotecao=\"Hitachi-Line 3H\" tempo=\"0.019\">\n",
      "    </row>\n",
      "    <row codigo=\"301\" codigoprotecao=\"1003\" corrente=\"250\" curva=\"Min\" modeloprotecao=\"Hitachi-Line 3H\" tempo=\"0.0125\">\n",
      "    </row>\n",
      "    <row codigo=\"302\" codigoprotecao=\"1003\" corrente=\"280\" curva=\"Min\" modeloprotecao=\"Hitachi-Line 3H\" tempo=\"0.0101\">\n",
      "    </row>\n",
      "    <row codigo=\"304\" codigoprotecao=\"1003\" corrente=\"6.6\" curva=\"Max\" modeloprotecao=\"Hitachi-Line 3H\" tempo=\"100\">\n",
      "    </row>\n",
      "    <row codigo=\"305\" codigoprotecao=\"1003\" corrente=\"7\" curva=\"Max\" modeloprotecao=\"Hitachi-Line 3H\" tempo=\"74\">\n",
      "    </row>\n",
      "    <row codigo=\"306\" codigoprotecao=\"1003\" corrente=\"8\" curva=\"Max\" modeloprotecao=\"Hitachi-Line 3H\" tempo=\"39\">\n",
      "    </row>\n",
      "    <row codigo=\"307\" codigoprotecao=\"1003\" corrente=\"9\" curva=\"Max\" modeloprotecao=\"Hitachi-Line 3H\" tempo=\"26.5\">\n",
      "    </row>\n",
      "    <row codigo=\"308\" codigoprotecao=\"1003\" corrente=\"10\" curva=\"Max\" modeloprotecao=\"Hitachi-Line 3H\" tempo=\"20.5\">\n",
      "    </row>\n",
      "    <row codigo=\"1315\" codigoprotecao=\"1003\" corrente=\"12\" curva=\"Max\" modeloprotecao=\"Hitachi-Line 3H\" tempo=\"14.1\">\n",
      "    </row>\n",
      "    <row codigo=\"309\" codigoprotecao=\"1003\" corrente=\"15\" curva=\"Max\" modeloprotecao=\"Hitachi-Line 3H\" tempo=\"9.8\">\n",
      "    </row>\n",
      "    <row codigo=\"1316\" codigoprotecao=\"1003\" corrente=\"17\" curva=\"Max\" modeloprotecao=\"Hitachi-Line 3H\" tempo=\"7.2\">\n",
      "    </row>\n",
      "    <row codigo=\"1317\" codigoprotecao=\"1003\" corrente=\"17.5\" curva=\"Max\" modeloprotecao=\"Hitachi-Line 3H\" tempo=\"4.7\">\n",
      "    </row>\n",
      "    <row codigo=\"310\" codigoprotecao=\"1003\" corrente=\"20\" curva=\"Max\" modeloprotecao=\"Hitachi-Line 3H\" tempo=\"3.5\">\n",
      "    </row>\n",
      "    <row codigo=\"1318\" codigoprotecao=\"1003\" corrente=\"23\" curva=\"Max\" modeloprotecao=\"Hitachi-Line 3H\" tempo=\"2.55\">\n",
      "    </row>\n",
      "    <row codigo=\"1320\" codigoprotecao=\"1003\" corrente=\"25\" curva=\"Max\" modeloprotecao=\"Hitachi-Line 3H\" tempo=\"2.2\">\n",
      "    </row>\n",
      "    <row codigo=\"311\" codigoprotecao=\"1003\" corrente=\"28\" curva=\"Max\" modeloprotecao=\"Hitachi-Line 3H\" tempo=\"1.85\">\n",
      "    </row>\n",
      "    <row codigo=\"312\" codigoprotecao=\"1003\" corrente=\"30\" curva=\"Max\" modeloprotecao=\"Hitachi-Line 3H\" tempo=\"1.55\">\n",
      "    </row>\n",
      "    <row codigo=\"314\" codigoprotecao=\"1003\" corrente=\"40\" curva=\"Max\" modeloprotecao=\"Hitachi-Line 3H\" tempo=\"0.83\">\n",
      "    </row>\n",
      "    <row codigo=\"316\" codigoprotecao=\"1003\" corrente=\"50\" curva=\"Max\" modeloprotecao=\"Hitachi-Line 3H\" tempo=\"0.55\">\n",
      "    </row>\n",
      "    <row codigo=\"317\" codigoprotecao=\"1003\" corrente=\"60\" curva=\"Max\" modeloprotecao=\"Hitachi-Line 3H\" tempo=\"0.4\">\n",
      "    </row>\n",
      "    <row codigo=\"318\" codigoprotecao=\"1003\" corrente=\"70\" curva=\"Max\" modeloprotecao=\"Hitachi-Line 3H\" tempo=\"0.305\">\n",
      "    </row>\n",
      "    <row codigo=\"319\" codigoprotecao=\"1003\" corrente=\"80\" curva=\"Max\" modeloprotecao=\"Hitachi-Line 3H\" tempo=\"0.24\">\n",
      "    </row>\n",
      "    <row codigo=\"320\" codigoprotecao=\"1003\" corrente=\"90\" curva=\"Max\" modeloprotecao=\"Hitachi-Line 3H\" tempo=\"0.19\">\n",
      "    </row>\n",
      "    <row codigo=\"321\" codigoprotecao=\"1003\" corrente=\"100\" curva=\"Max\" modeloprotecao=\"Hitachi-Line 3H\" tempo=\"0.157\">\n",
      "    </row>\n",
      "    <row codigo=\"324\" codigoprotecao=\"1003\" corrente=\"150\" curva=\"Max\" modeloprotecao=\"Hitachi-Line 3H\" tempo=\"0.075\">\n",
      "    </row>\n",
      "    <row codigo=\"326\" codigoprotecao=\"1003\" corrente=\"200\" curva=\"Max\" modeloprotecao=\"Hitachi-Line 3H\" tempo=\"0.048\">\n",
      "    </row>\n",
      "    <row codigo=\"328\" codigoprotecao=\"1003\" corrente=\"250\" curva=\"Max\" modeloprotecao=\"Hitachi-Line 3H\" tempo=\"0.035\">\n",
      "    </row>\n",
      "    <row codigo=\"329\" codigoprotecao=\"1003\" corrente=\"300\" curva=\"Max\" modeloprotecao=\"Hitachi-Line 3H\" tempo=\"0.0279\">\n",
      "    </row>\n",
      "    <row codigo=\"330\" codigoprotecao=\"1003\" corrente=\"350\" curva=\"Max\" modeloprotecao=\"Hitachi-Line 3H\" tempo=\"0.023\">\n",
      "    </row>\n",
      "    <row codigo=\"331\" codigoprotecao=\"1003\" corrente=\"400\" curva=\"Max\" modeloprotecao=\"Hitachi-Line 3H\" tempo=\"0.02\">\n",
      "    </row>\n",
      "    <row codigo=\"333\" codigoprotecao=\"1003\" corrente=\"500\" curva=\"Max\" modeloprotecao=\"Hitachi-Line 3H\" tempo=\"0.016\">\n",
      "    </row>\n",
      "    <row codigo=\"1319\" codigoprotecao=\"1003\" corrente=\"600\" curva=\"Max\" modeloprotecao=\"Hitachi-Line 3H\" tempo=\"0.0138\">\n",
      "    </row>\n",
      "    <row codigo=\"334\" codigoprotecao=\"1004\" corrente=\"8.199999999999999\" curva=\"Min\" modeloprotecao=\"Hitachi-Line 5H\" tempo=\"100\">\n",
      "    </row>\n",
      "    <row codigo=\"1321\" codigoprotecao=\"1004\" corrente=\"8.4\" curva=\"Min\" modeloprotecao=\"Hitachi-Line 5H\" tempo=\"70\">\n",
      "    </row>\n",
      "    <row codigo=\"1322\" codigoprotecao=\"1004\" corrente=\"8.6\" curva=\"Min\" modeloprotecao=\"Hitachi-Line 5H\" tempo=\"60\">\n",
      "    </row>\n",
      "    <row codigo=\"335\" codigoprotecao=\"1004\" corrente=\"9\" curva=\"Min\" modeloprotecao=\"Hitachi-Line 5H\" tempo=\"46\">\n",
      "    </row>\n",
      "    <row codigo=\"336\" codigoprotecao=\"1004\" corrente=\"10\" curva=\"Min\" modeloprotecao=\"Hitachi-Line 5H\" tempo=\"31\">\n",
      "    </row>\n",
      "    <row codigo=\"1323\" codigoprotecao=\"1004\" corrente=\"12\" curva=\"Min\" modeloprotecao=\"Hitachi-Line 5H\" tempo=\"18\">\n",
      "    </row>\n",
      "    <row codigo=\"337\" codigoprotecao=\"1004\" corrente=\"15\" curva=\"Min\" modeloprotecao=\"Hitachi-Line 5H\" tempo=\"9.8\">\n",
      "    </row>\n",
      "    <row codigo=\"1324\" codigoprotecao=\"1004\" corrente=\"17\" curva=\"Min\" modeloprotecao=\"Hitachi-Line 5H\" tempo=\"7.2\">\n",
      "    </row>\n",
      "    <row codigo=\"1325\" codigoprotecao=\"1004\" corrente=\"17.5\" curva=\"Min\" modeloprotecao=\"Hitachi-Line 5H\" tempo=\"4.7\">\n",
      "    </row>\n",
      "    <row codigo=\"338\" codigoprotecao=\"1004\" corrente=\"20\" curva=\"Min\" modeloprotecao=\"Hitachi-Line 5H\" tempo=\"3\">\n",
      "    </row>\n",
      "    <row codigo=\"1326\" codigoprotecao=\"1004\" corrente=\"23.5\" curva=\"Min\" modeloprotecao=\"Hitachi-Line 5H\" tempo=\"1.7\">\n",
      "    </row>\n",
      "    <row codigo=\"339\" codigoprotecao=\"1004\" corrente=\"25\" curva=\"Min\" modeloprotecao=\"Hitachi-Line 5H\" tempo=\"1.43\">\n",
      "    </row>\n",
      "    <row codigo=\"340\" codigoprotecao=\"1004\" corrente=\"30\" curva=\"Min\" modeloprotecao=\"Hitachi-Line 5H\" tempo=\"0.941\">\n",
      "    </row>\n",
      "    <row codigo=\"355\" codigoprotecao=\"1004\" corrente=\"120\" curva=\"Min\" modeloprotecao=\"Hitachi-Line 5H\" tempo=\"0.0541\">\n",
      "    </row>\n",
      "    <row codigo=\"356\" codigoprotecao=\"1004\" corrente=\"150\" curva=\"Min\" modeloprotecao=\"Hitachi-Line 5H\" tempo=\"0.035\">\n",
      "    </row>\n",
      "    <row codigo=\"1327\" codigoprotecao=\"1004\" corrente=\"200\" curva=\"Min\" modeloprotecao=\"Hitachi-Line 5H\" tempo=\"0.019\">\n",
      "    </row>\n",
      "    <row codigo=\"1328\" codigoprotecao=\"1004\" corrente=\"250\" curva=\"Min\" modeloprotecao=\"Hitachi-Line 5H\" tempo=\"0.0125\">\n",
      "    </row>\n",
      "    <row codigo=\"1329\" codigoprotecao=\"1004\" corrente=\"280\" curva=\"Min\" modeloprotecao=\"Hitachi-Line 5H\" tempo=\"0.0101\">\n",
      "    </row>\n",
      "    <row codigo=\"357\" codigoprotecao=\"1004\" corrente=\"10.2\" curva=\"Max\" modeloprotecao=\"Hitachi-Line 5H\" tempo=\"100\">\n",
      "    </row>\n",
      "    <row codigo=\"1330\" codigoprotecao=\"1004\" corrente=\"11\" curva=\"Max\" modeloprotecao=\"Hitachi-Line 5H\" tempo=\"52\">\n",
      "    </row>\n",
      "    <row codigo=\"1331\" codigoprotecao=\"1004\" corrente=\"13\" curva=\"Max\" modeloprotecao=\"Hitachi-Line 5H\" tempo=\"27\">\n",
      "    </row>\n",
      "    <row codigo=\"358\" codigoprotecao=\"1004\" corrente=\"15\" curva=\"Max\" modeloprotecao=\"Hitachi-Line 5H\" tempo=\"18\">\n",
      "    </row>\n",
      "    <row codigo=\"1332\" codigoprotecao=\"1004\" corrente=\"18\" curva=\"Max\" modeloprotecao=\"Hitachi-Line 5H\" tempo=\"11\">\n",
      "    </row>\n",
      "    <row codigo=\"1333\" codigoprotecao=\"1004\" corrente=\"19\" curva=\"Max\" modeloprotecao=\"Hitachi-Line 5H\" tempo=\"9.5\">\n",
      "    </row>\n",
      "    <row codigo=\"359\" codigoprotecao=\"1004\" corrente=\"20\" curva=\"Max\" modeloprotecao=\"Hitachi-Line 5H\" tempo=\"7.6\">\n",
      "    </row>\n",
      "    <row codigo=\"1334\" codigoprotecao=\"1004\" corrente=\"20.6\" curva=\"Max\" modeloprotecao=\"Hitachi-Line 5H\" tempo=\"6\">\n",
      "    </row>\n",
      "    <row codigo=\"1335\" codigoprotecao=\"1004\" corrente=\"23.6\" curva=\"Max\" modeloprotecao=\"Hitachi-Line 5H\" tempo=\"3.45\">\n",
      "    </row>\n",
      "    <row codigo=\"360\" codigoprotecao=\"1004\" corrente=\"25\" curva=\"Max\" modeloprotecao=\"Hitachi-Line 5H\" tempo=\"2.69\">\n",
      "    </row>\n",
      "    <row codigo=\"1336\" codigoprotecao=\"1004\" corrente=\"28\" curva=\"Max\" modeloprotecao=\"Hitachi-Line 5H\" tempo=\"1.85\">\n",
      "    </row>\n",
      "    <row codigo=\"361\" codigoprotecao=\"1004\" corrente=\"30\" curva=\"Max\" modeloprotecao=\"Hitachi-Line 5H\" tempo=\"1.55\">\n",
      "    </row>\n",
      "    <row codigo=\"363\" codigoprotecao=\"1004\" corrente=\"40\" curva=\"Max\" modeloprotecao=\"Hitachi-Line 5H\" tempo=\"0.83\">\n",
      "    </row>\n",
      "    <row codigo=\"365\" codigoprotecao=\"1004\" corrente=\"50\" curva=\"Max\" modeloprotecao=\"Hitachi-Line 5H\" tempo=\"0.55\">\n",
      "    </row>\n",
      "    <row codigo=\"366\" codigoprotecao=\"1004\" corrente=\"60\" curva=\"Max\" modeloprotecao=\"Hitachi-Line 5H\" tempo=\"0.4\">\n",
      "    </row>\n",
      "    <row codigo=\"367\" codigoprotecao=\"1004\" corrente=\"70\" curva=\"Max\" modeloprotecao=\"Hitachi-Line 5H\" tempo=\"0.305\">\n",
      "    </row>\n",
      "    <row codigo=\"368\" codigoprotecao=\"1004\" corrente=\"80\" curva=\"Max\" modeloprotecao=\"Hitachi-Line 5H\" tempo=\"0.24\">\n",
      "    </row>\n",
      "    <row codigo=\"369\" codigoprotecao=\"1004\" corrente=\"90\" curva=\"Max\" modeloprotecao=\"Hitachi-Line 5H\" tempo=\"0.19\">\n",
      "    </row>\n",
      "    <row codigo=\"370\" codigoprotecao=\"1004\" corrente=\"100\" curva=\"Max\" modeloprotecao=\"Hitachi-Line 5H\" tempo=\"0.157\">\n",
      "    </row>\n",
      "    <row codigo=\"373\" codigoprotecao=\"1004\" corrente=\"150\" curva=\"Max\" modeloprotecao=\"Hitachi-Line 5H\" tempo=\"0.075\">\n",
      "    </row>\n",
      "    <row codigo=\"375\" codigoprotecao=\"1004\" corrente=\"200\" curva=\"Max\" modeloprotecao=\"Hitachi-Line 5H\" tempo=\"0.048\">\n",
      "    </row>\n",
      "    <row codigo=\"377\" codigoprotecao=\"1004\" corrente=\"250\" curva=\"Max\" modeloprotecao=\"Hitachi-Line 5H\" tempo=\"0.035\">\n",
      "    </row>\n",
      "    <row codigo=\"378\" codigoprotecao=\"1004\" corrente=\"300\" curva=\"Max\" modeloprotecao=\"Hitachi-Line 5H\" tempo=\"0.0279\">\n",
      "    </row>\n",
      "    <row codigo=\"379\" codigoprotecao=\"1004\" corrente=\"350\" curva=\"Max\" modeloprotecao=\"Hitachi-Line 5H\" tempo=\"0.023\">\n",
      "    </row>\n",
      "    <row codigo=\"380\" codigoprotecao=\"1004\" corrente=\"400\" curva=\"Max\" modeloprotecao=\"Hitachi-Line 5H\" tempo=\"0.02\">\n",
      "    </row>\n",
      "    <row codigo=\"381\" codigoprotecao=\"1004\" corrente=\"500\" curva=\"Max\" modeloprotecao=\"Hitachi-Line 5H\" tempo=\"0.016\">\n",
      "    </row>\n",
      "    <row codigo=\"382\" codigoprotecao=\"1004\" corrente=\"600\" curva=\"Max\" modeloprotecao=\"Hitachi-Line 5H\" tempo=\"0.0138\">\n",
      "    </row>\n",
      "    <row codigo=\"383\" codigoprotecao=\"1002\" corrente=\"5\" curva=\"Min\" modeloprotecao=\"Hitachi-Line 2H\" tempo=\"33\">\n",
      "    </row>\n",
      "    <row codigo=\"384\" codigoprotecao=\"1002\" corrente=\"6\" curva=\"Min\" modeloprotecao=\"Hitachi-Line 2H\" tempo=\"22\">\n",
      "    </row>\n",
      "    <row codigo=\"385\" codigoprotecao=\"1002\" corrente=\"7\" curva=\"Min\" modeloprotecao=\"Hitachi-Line 2H\" tempo=\"16.6\">\n",
      "    </row>\n",
      "    <row codigo=\"386\" codigoprotecao=\"1002\" corrente=\"8\" curva=\"Min\" modeloprotecao=\"Hitachi-Line 2H\" tempo=\"13.4\">\n",
      "    </row>\n",
      "    <row codigo=\"387\" codigoprotecao=\"1002\" corrente=\"9\" curva=\"Min\" modeloprotecao=\"Hitachi-Line 2H\" tempo=\"11.1\">\n",
      "    </row>\n",
      "    <row codigo=\"388\" codigoprotecao=\"1002\" corrente=\"10\" curva=\"Min\" modeloprotecao=\"Hitachi-Line 2H\" tempo=\"9.35\">\n",
      "    </row>\n",
      "    <row codigo=\"1304\" codigoprotecao=\"1002\" corrente=\"12\" curva=\"Min\" modeloprotecao=\"Hitachi-Line 2H\" tempo=\"6.4\">\n",
      "    </row>\n",
      "    <row codigo=\"389\" codigoprotecao=\"1002\" corrente=\"15\" curva=\"Min\" modeloprotecao=\"Hitachi-Line 2H\" tempo=\"4.05\">\n",
      "    </row>\n",
      "    <row codigo=\"390\" codigoprotecao=\"1002\" corrente=\"20\" curva=\"Min\" modeloprotecao=\"Hitachi-Line 2H\" tempo=\"2.09\">\n",
      "    </row>\n",
      "    <row codigo=\"1306\" codigoprotecao=\"1002\" corrente=\"23.5\" curva=\"Min\" modeloprotecao=\"Hitachi-Line 2H\" tempo=\"1.7\">\n",
      "    </row>\n",
      "    <row codigo=\"391\" codigoprotecao=\"1002\" corrente=\"25\" curva=\"Min\" modeloprotecao=\"Hitachi-Line 2H\" tempo=\"1.43\">\n",
      "    </row>\n",
      "    <row codigo=\"392\" codigoprotecao=\"1002\" corrente=\"30\" curva=\"Min\" modeloprotecao=\"Hitachi-Line 2H\" tempo=\"0.941\">\n",
      "    </row>\n",
      "    <row codigo=\"401\" codigoprotecao=\"1002\" corrente=\"120\" curva=\"Min\" modeloprotecao=\"Hitachi-Line 2H\" tempo=\"0.0541\">\n",
      "    </row>\n",
      "    <row codigo=\"405\" codigoprotecao=\"1002\" corrente=\"150\" curva=\"Min\" modeloprotecao=\"Hitachi-Line 2H\" tempo=\"0.035\">\n",
      "    </row>\n",
      "    <row codigo=\"407\" codigoprotecao=\"1002\" corrente=\"200\" curva=\"Min\" modeloprotecao=\"Hitachi-Line 2H\" tempo=\"0.019\">\n",
      "    </row>\n",
      "    <row codigo=\"408\" codigoprotecao=\"1002\" corrente=\"250\" curva=\"Min\" modeloprotecao=\"Hitachi-Line 2H\" tempo=\"0.0125\">\n",
      "    </row>\n",
      "    <row codigo=\"1305\" codigoprotecao=\"1002\" corrente=\"280\" curva=\"Min\" modeloprotecao=\"Hitachi-Line 2H\" tempo=\"0.0101\">\n",
      "    </row>\n",
      "    <row codigo=\"409\" codigoprotecao=\"1002\" corrente=\"5\" curva=\"Max\" modeloprotecao=\"Hitachi-Line 2H\" tempo=\"65\">\n",
      "    </row>\n",
      "    <row codigo=\"410\" codigoprotecao=\"1002\" corrente=\"6\" curva=\"Max\" modeloprotecao=\"Hitachi-Line 2H\" tempo=\"35\">\n",
      "    </row>\n",
      "    <row codigo=\"411\" codigoprotecao=\"1002\" corrente=\"7\" curva=\"Max\" modeloprotecao=\"Hitachi-Line 2H\" tempo=\"25\">\n",
      "    </row>\n",
      "    <row codigo=\"412\" codigoprotecao=\"1002\" corrente=\"8\" curva=\"Max\" modeloprotecao=\"Hitachi-Line 2H\" tempo=\"19\">\n",
      "    </row>\n",
      "    <row codigo=\"413\" codigoprotecao=\"1002\" corrente=\"9\" curva=\"Max\" modeloprotecao=\"Hitachi-Line 2H\" tempo=\"15.5\">\n",
      "    </row>\n",
      "    <row codigo=\"414\" codigoprotecao=\"1002\" corrente=\"10\" curva=\"Max\" modeloprotecao=\"Hitachi-Line 2H\" tempo=\"12.9\">\n",
      "    </row>\n",
      "    <row codigo=\"1307\" codigoprotecao=\"1002\" corrente=\"12\" curva=\"Max\" modeloprotecao=\"Hitachi-Line 2H\" tempo=\"9.3\">\n",
      "    </row>\n",
      "    <row codigo=\"415\" codigoprotecao=\"1002\" corrente=\"15\" curva=\"Max\" modeloprotecao=\"Hitachi-Line 2H\" tempo=\"6\">\n",
      "    </row>\n",
      "    <row codigo=\"416\" codigoprotecao=\"1002\" corrente=\"20\" curva=\"Max\" modeloprotecao=\"Hitachi-Line 2H\" tempo=\"3.55\">\n",
      "    </row>\n",
      "    <row codigo=\"1308\" codigoprotecao=\"1002\" corrente=\"23\" curva=\"Max\" modeloprotecao=\"Hitachi-Line 2H\" tempo=\"2.55\">\n",
      "    </row>\n",
      "    <row codigo=\"417\" codigoprotecao=\"1002\" corrente=\"25\" curva=\"Max\" modeloprotecao=\"Hitachi-Line 2H\" tempo=\"2.2\">\n",
      "    </row>\n",
      "    <row codigo=\"1309\" codigoprotecao=\"1002\" corrente=\"28\" curva=\"Max\" modeloprotecao=\"Hitachi-Line 2H\" tempo=\"1.85\">\n",
      "    </row>\n",
      "    <row codigo=\"418\" codigoprotecao=\"1002\" corrente=\"30\" curva=\"Max\" modeloprotecao=\"Hitachi-Line 2H\" tempo=\"1.55\">\n",
      "    </row>\n",
      "    <row codigo=\"420\" codigoprotecao=\"1002\" corrente=\"40\" curva=\"Max\" modeloprotecao=\"Hitachi-Line 2H\" tempo=\"0.83\">\n",
      "    </row>\n",
      "    <row codigo=\"422\" codigoprotecao=\"1002\" corrente=\"50\" curva=\"Max\" modeloprotecao=\"Hitachi-Line 2H\" tempo=\"0.55\">\n",
      "    </row>\n",
      "    <row codigo=\"423\" codigoprotecao=\"1002\" corrente=\"60\" curva=\"Max\" modeloprotecao=\"Hitachi-Line 2H\" tempo=\"0.4\">\n",
      "    </row>\n",
      "    <row codigo=\"424\" codigoprotecao=\"1002\" corrente=\"70\" curva=\"Max\" modeloprotecao=\"Hitachi-Line 2H\" tempo=\"0.305\">\n",
      "    </row>\n",
      "    <row codigo=\"425\" codigoprotecao=\"1002\" corrente=\"80\" curva=\"Max\" modeloprotecao=\"Hitachi-Line 2H\" tempo=\"0.24\">\n",
      "    </row>\n",
      "    <row codigo=\"426\" codigoprotecao=\"1002\" corrente=\"90\" curva=\"Max\" modeloprotecao=\"Hitachi-Line 2H\" tempo=\"0.19\">\n",
      "    </row>\n",
      "    <row codigo=\"427\" codigoprotecao=\"1002\" corrente=\"100\" curva=\"Max\" modeloprotecao=\"Hitachi-Line 2H\" tempo=\"0.157\">\n",
      "    </row>\n",
      "    <row codigo=\"430\" codigoprotecao=\"1002\" corrente=\"150\" curva=\"Max\" modeloprotecao=\"Hitachi-Line 2H\" tempo=\"0.075\">\n",
      "    </row>\n",
      "    <row codigo=\"432\" codigoprotecao=\"1002\" corrente=\"200\" curva=\"Max\" modeloprotecao=\"Hitachi-Line 2H\" tempo=\"0.048\">\n",
      "    </row>\n",
      "    <row codigo=\"434\" codigoprotecao=\"1002\" corrente=\"250\" curva=\"Max\" modeloprotecao=\"Hitachi-Line 2H\" tempo=\"0.035\">\n",
      "    </row>\n",
      "    <row codigo=\"435\" codigoprotecao=\"1002\" corrente=\"300\" curva=\"Max\" modeloprotecao=\"Hitachi-Line 2H\" tempo=\"0.0279\">\n",
      "    </row>\n",
      "    <row codigo=\"436\" codigoprotecao=\"1002\" corrente=\"350\" curva=\"Max\" modeloprotecao=\"Hitachi-Line 2H\" tempo=\"0.023\">\n",
      "    </row>\n",
      "    <row codigo=\"437\" codigoprotecao=\"1002\" corrente=\"400\" curva=\"Max\" modeloprotecao=\"Hitachi-Line 2H\" tempo=\"0.02\">\n",
      "    </row>\n",
      "    <row codigo=\"439\" codigoprotecao=\"1002\" corrente=\"500\" curva=\"Max\" modeloprotecao=\"Hitachi-Line 2H\" tempo=\"0.016\">\n",
      "    </row>\n",
      "    <row codigo=\"1310\" codigoprotecao=\"1002\" corrente=\"600\" curva=\"Max\" modeloprotecao=\"Hitachi-Line 2H\" tempo=\"0.0138\">\n",
      "    </row>\n",
      "    <row codigo=\"440\" codigoprotecao=\"1005\" corrente=\"5\" curva=\"Min\" modeloprotecao=\"Lorenzetti 1H\" tempo=\"13\">\n",
      "    </row>\n",
      "    <row codigo=\"441\" codigoprotecao=\"1005\" corrente=\"6\" curva=\"Min\" modeloprotecao=\"Lorenzetti 1H\" tempo=\"9.8\">\n",
      "    </row>\n",
      "    <row codigo=\"442\" codigoprotecao=\"1005\" corrente=\"7\" curva=\"Min\" modeloprotecao=\"Lorenzetti 1H\" tempo=\"7.8\">\n",
      "    </row>\n",
      "    <row codigo=\"443\" codigoprotecao=\"1005\" corrente=\"8\" curva=\"Min\" modeloprotecao=\"Lorenzetti 1H\" tempo=\"6.5\">\n",
      "    </row>\n",
      "    <row codigo=\"444\" codigoprotecao=\"1005\" corrente=\"9\" curva=\"Min\" modeloprotecao=\"Lorenzetti 1H\" tempo=\"5.6\">\n",
      "    </row>\n",
      "    <row codigo=\"445\" codigoprotecao=\"1005\" corrente=\"10\" curva=\"Min\" modeloprotecao=\"Lorenzetti 1H\" tempo=\"4.9\">\n",
      "    </row>\n",
      "    <row codigo=\"446\" codigoprotecao=\"1005\" corrente=\"15\" curva=\"Min\" modeloprotecao=\"Lorenzetti 1H\" tempo=\"3\">\n",
      "    </row>\n",
      "    <row codigo=\"447\" codigoprotecao=\"1005\" corrente=\"20\" curva=\"Min\" modeloprotecao=\"Lorenzetti 1H\" tempo=\"1.85\">\n",
      "    </row>\n",
      "    <row codigo=\"1337\" codigoprotecao=\"1005\" corrente=\"23\" curva=\"Min\" modeloprotecao=\"Lorenzetti 1H\" tempo=\"1.35\">\n",
      "    </row>\n",
      "    <row codigo=\"448\" codigoprotecao=\"1005\" corrente=\"26\" curva=\"Min\" modeloprotecao=\"Lorenzetti 1H\" tempo=\"1\">\n",
      "    </row>\n",
      "    <row codigo=\"449\" codigoprotecao=\"1005\" corrente=\"30\" curva=\"Min\" modeloprotecao=\"Lorenzetti 1H\" tempo=\"0.74\">\n",
      "    </row>\n",
      "    <row codigo=\"451\" codigoprotecao=\"1005\" corrente=\"40\" curva=\"Min\" modeloprotecao=\"Lorenzetti 1H\" tempo=\"0.43\">\n",
      "    </row>\n",
      "    <row codigo=\"452\" codigoprotecao=\"1005\" corrente=\"44\" curva=\"Min\" modeloprotecao=\"Lorenzetti 1H\" tempo=\"0.37\">\n",
      "    </row>\n",
      "    <row codigo=\"453\" codigoprotecao=\"1005\" corrente=\"50\" curva=\"Min\" modeloprotecao=\"Lorenzetti 1H\" tempo=\"0.29\">\n",
      "    </row>\n",
      "    <row codigo=\"458\" codigoprotecao=\"1005\" corrente=\"100\" curva=\"Min\" modeloprotecao=\"Lorenzetti 1H\" tempo=\"0.064\">\n",
      "    </row>\n",
      "    <row codigo=\"462\" codigoprotecao=\"1005\" corrente=\"150\" curva=\"Min\" modeloprotecao=\"Lorenzetti 1H\" tempo=\"0.0275\">\n",
      "    </row>\n",
      "    <row codigo=\"464\" codigoprotecao=\"1005\" corrente=\"200\" curva=\"Min\" modeloprotecao=\"Lorenzetti 1H\" tempo=\"0.0165\">\n",
      "    </row>\n",
      "    <row codigo=\"465\" codigoprotecao=\"1005\" corrente=\"270\" curva=\"Min\" modeloprotecao=\"Lorenzetti 1H\" tempo=\"0.0105\">\n",
      "    </row>\n",
      "    <row codigo=\"466\" codigoprotecao=\"1005\" corrente=\"5\" curva=\"Max\" modeloprotecao=\"Lorenzetti 1H\" tempo=\"18.5\">\n",
      "    </row>\n",
      "    <row codigo=\"467\" codigoprotecao=\"1005\" corrente=\"6\" curva=\"Max\" modeloprotecao=\"Lorenzetti 1H\" tempo=\"13.2\">\n",
      "    </row>\n",
      "    <row codigo=\"468\" codigoprotecao=\"1005\" corrente=\"7\" curva=\"Max\" modeloprotecao=\"Lorenzetti 1H\" tempo=\"10.2\">\n",
      "    </row>\n",
      "    <row codigo=\"469\" codigoprotecao=\"1005\" corrente=\"8\" curva=\"Max\" modeloprotecao=\"Lorenzetti 1H\" tempo=\"8.4\">\n",
      "    </row>\n",
      "    <row codigo=\"470\" codigoprotecao=\"1005\" corrente=\"9\" curva=\"Max\" modeloprotecao=\"Lorenzetti 1H\" tempo=\"7.1\">\n",
      "    </row>\n",
      "    <row codigo=\"471\" codigoprotecao=\"1005\" corrente=\"10\" curva=\"Max\" modeloprotecao=\"Lorenzetti 1H\" tempo=\"6.3\">\n",
      "    </row>\n",
      "    <row codigo=\"1338\" codigoprotecao=\"1005\" corrente=\"12\" curva=\"Max\" modeloprotecao=\"Lorenzetti 1H\" tempo=\"5\">\n",
      "    </row>\n",
      "    <row codigo=\"472\" codigoprotecao=\"1005\" corrente=\"15\" curva=\"Max\" modeloprotecao=\"Lorenzetti 1H\" tempo=\"3.85\">\n",
      "    </row>\n",
      "    <row codigo=\"473\" codigoprotecao=\"1005\" corrente=\"20\" curva=\"Max\" modeloprotecao=\"Lorenzetti 1H\" tempo=\"2.55\">\n",
      "    </row>\n",
      "    <row codigo=\"474\" codigoprotecao=\"1005\" corrente=\"23\" curva=\"Max\" modeloprotecao=\"Lorenzetti 1H\" tempo=\"2\">\n",
      "    </row>\n",
      "    <row codigo=\"1339\" codigoprotecao=\"1005\" corrente=\"27\" curva=\"Max\" modeloprotecao=\"Lorenzetti 1H\" tempo=\"1.5\">\n",
      "    </row>\n",
      "    <row codigo=\"475\" codigoprotecao=\"1005\" corrente=\"30\" curva=\"Max\" modeloprotecao=\"Lorenzetti 1H\" tempo=\"1.15\">\n",
      "    </row>\n",
      "    <row codigo=\"476\" codigoprotecao=\"1005\" corrente=\"35\" curva=\"Max\" modeloprotecao=\"Lorenzetti 1H\" tempo=\"0.8\">\n",
      "    </row>\n",
      "    <row codigo=\"479\" codigoprotecao=\"1005\" corrente=\"52\" curva=\"Max\" modeloprotecao=\"Lorenzetti 1H\" tempo=\"0.338\">\n",
      "    </row>\n",
      "    <row codigo=\"1342\" codigoprotecao=\"1005\" corrente=\"70\" curva=\"Max\" modeloprotecao=\"Lorenzetti 1H\" tempo=\"0.21\">\n",
      "    </row>\n",
      "    <row codigo=\"1341\" codigoprotecao=\"1005\" corrente=\"100\" curva=\"Max\" modeloprotecao=\"Lorenzetti 1H\" tempo=\"0.111\">\n",
      "    </row>\n",
      "    <row codigo=\"489\" codigoprotecao=\"1005\" corrente=\"150\" curva=\"Max\" modeloprotecao=\"Lorenzetti 1H\" tempo=\"0.054\">\n",
      "    </row>\n",
      "    <row codigo=\"491\" codigoprotecao=\"1005\" corrente=\"200\" curva=\"Max\" modeloprotecao=\"Lorenzetti 1H\" tempo=\"0.0345\">\n",
      "    </row>\n",
      "    <row codigo=\"492\" codigoprotecao=\"1005\" corrente=\"250\" curva=\"Max\" modeloprotecao=\"Lorenzetti 1H\" tempo=\"0.0255\">\n",
      "    </row>\n",
      "    <row codigo=\"493\" codigoprotecao=\"1005\" corrente=\"300\" curva=\"Max\" modeloprotecao=\"Lorenzetti 1H\" tempo=\"0.0213\">\n",
      "    </row>\n",
      "    <row codigo=\"1340\" codigoprotecao=\"1005\" corrente=\"400\" curva=\"Max\" modeloprotecao=\"Lorenzetti 1H\" tempo=\"0.017\">\n",
      "    </row>\n",
      "    <row codigo=\"494\" codigoprotecao=\"1005\" corrente=\"500\" curva=\"Max\" modeloprotecao=\"Lorenzetti 1H\" tempo=\"0.0148\">\n",
      "    </row>\n",
      "    <row codigo=\"495\" codigoprotecao=\"1006\" corrente=\"5\" curva=\"Min\" modeloprotecao=\"Lorenzetti 2H\" tempo=\"40\">\n",
      "    </row>\n",
      "    <row codigo=\"496\" codigoprotecao=\"1006\" corrente=\"6\" curva=\"Min\" modeloprotecao=\"Lorenzetti 2H\" tempo=\"22.5\">\n",
      "    </row>\n",
      "    <row codigo=\"497\" codigoprotecao=\"1006\" corrente=\"7\" curva=\"Min\" modeloprotecao=\"Lorenzetti 2H\" tempo=\"16\">\n",
      "    </row>\n",
      "    <row codigo=\"498\" codigoprotecao=\"1006\" corrente=\"8\" curva=\"Min\" modeloprotecao=\"Lorenzetti 2H\" tempo=\"12.2\">\n",
      "    </row>\n",
      "    <row codigo=\"499\" codigoprotecao=\"1006\" corrente=\"9\" curva=\"Min\" modeloprotecao=\"Lorenzetti 2H\" tempo=\"10\">\n",
      "    </row>\n",
      "    <row codigo=\"500\" codigoprotecao=\"1006\" corrente=\"10\" curva=\"Min\" modeloprotecao=\"Lorenzetti 2H\" tempo=\"8.6\">\n",
      "    </row>\n",
      "    <row codigo=\"1343\" codigoprotecao=\"1006\" corrente=\"12\" curva=\"Min\" modeloprotecao=\"Lorenzetti 2H\" tempo=\"6.8\">\n",
      "    </row>\n",
      "    <row codigo=\"501\" codigoprotecao=\"1006\" corrente=\"15\" curva=\"Min\" modeloprotecao=\"Lorenzetti 2H\" tempo=\"4.85\">\n",
      "    </row>\n",
      "    <row codigo=\"502\" codigoprotecao=\"1006\" corrente=\"21\" curva=\"Min\" modeloprotecao=\"Lorenzetti 2H\" tempo=\"2.4\">\n",
      "    </row>\n",
      "    <row codigo=\"503\" codigoprotecao=\"1006\" corrente=\"23\" curva=\"Min\" modeloprotecao=\"Lorenzetti 2H\" tempo=\"1.35\">\n",
      "    </row>\n",
      "    <row codigo=\"504\" codigoprotecao=\"1006\" corrente=\"26\" curva=\"Min\" modeloprotecao=\"Lorenzetti 2H\" tempo=\"1\">\n",
      "    </row>\n",
      "    <row codigo=\"505\" codigoprotecao=\"1006\" corrente=\"30\" curva=\"Min\" modeloprotecao=\"Lorenzetti 2H\" tempo=\"0.74\">\n",
      "    </row>\n",
      "    <row codigo=\"506\" codigoprotecao=\"1006\" corrente=\"40\" curva=\"Min\" modeloprotecao=\"Lorenzetti 2H\" tempo=\"0.43\">\n",
      "    </row>\n",
      "    <row codigo=\"507\" codigoprotecao=\"1006\" corrente=\"44\" curva=\"Min\" modeloprotecao=\"Lorenzetti 2H\" tempo=\"0.37\">\n",
      "    </row>\n",
      "    <row codigo=\"508\" codigoprotecao=\"1006\" corrente=\"50\" curva=\"Min\" modeloprotecao=\"Lorenzetti 2H\" tempo=\"0.29\">\n",
      "    </row>\n",
      "    <row codigo=\"509\" codigoprotecao=\"1006\" corrente=\"100\" curva=\"Min\" modeloprotecao=\"Lorenzetti 2H\" tempo=\"0.064\">\n",
      "    </row>\n",
      "    <row codigo=\"510\" codigoprotecao=\"1006\" corrente=\"150\" curva=\"Min\" modeloprotecao=\"Lorenzetti 2H\" tempo=\"0.0275\">\n",
      "    </row>\n",
      "    <row codigo=\"511\" codigoprotecao=\"1006\" corrente=\"200\" curva=\"Min\" modeloprotecao=\"Lorenzetti 2H\" tempo=\"0.0165\">\n",
      "    </row>\n",
      "    <row codigo=\"512\" codigoprotecao=\"1006\" corrente=\"270\" curva=\"Min\" modeloprotecao=\"Lorenzetti 2H\" tempo=\"0.0105\">\n",
      "    </row>\n",
      "    <row codigo=\"521\" codigoprotecao=\"1006\" corrente=\"5\" curva=\"Max\" modeloprotecao=\"Lorenzetti 2H\" tempo=\"64\">\n",
      "    </row>\n",
      "    <row codigo=\"522\" codigoprotecao=\"1006\" corrente=\"6\" curva=\"Max\" modeloprotecao=\"Lorenzetti 2H\" tempo=\"35\">\n",
      "    </row>\n",
      "    <row codigo=\"523\" codigoprotecao=\"1006\" corrente=\"7\" curva=\"Max\" modeloprotecao=\"Lorenzetti 2H\" tempo=\"23.8\">\n",
      "    </row>\n",
      "    <row codigo=\"524\" codigoprotecao=\"1006\" corrente=\"8\" curva=\"Max\" modeloprotecao=\"Lorenzetti 2H\" tempo=\"17.5\">\n",
      "    </row>\n",
      "    <row codigo=\"525\" codigoprotecao=\"1006\" corrente=\"9\" curva=\"Max\" modeloprotecao=\"Lorenzetti 2H\" tempo=\"13.9\">\n",
      "    </row>\n",
      "    <row codigo=\"526\" codigoprotecao=\"1006\" corrente=\"10\" curva=\"Max\" modeloprotecao=\"Lorenzetti 2H\" tempo=\"11.3\">\n",
      "    </row>\n",
      "    <row codigo=\"1344\" codigoprotecao=\"1006\" corrente=\"12\" curva=\"Max\" modeloprotecao=\"Lorenzetti 2H\" tempo=\"8.6\">\n",
      "    </row>\n",
      "    <row codigo=\"527\" codigoprotecao=\"1006\" corrente=\"15\" curva=\"Max\" modeloprotecao=\"Lorenzetti 2H\" tempo=\"5.9\">\n",
      "    </row>\n",
      "    <row codigo=\"1345\" codigoprotecao=\"1006\" corrente=\"17\" curva=\"Max\" modeloprotecao=\"Lorenzetti 2H\" tempo=\"4.55\">\n",
      "    </row>\n",
      "    <row codigo=\"528\" codigoprotecao=\"1006\" corrente=\"21\" curva=\"Max\" modeloprotecao=\"Lorenzetti 2H\" tempo=\"2.4\">\n",
      "    </row>\n",
      "    <row codigo=\"529\" codigoprotecao=\"1006\" corrente=\"27\" curva=\"Max\" modeloprotecao=\"Lorenzetti 2H\" tempo=\"1.5\">\n",
      "    </row>\n",
      "    <row codigo=\"530\" codigoprotecao=\"1006\" corrente=\"30\" curva=\"Max\" modeloprotecao=\"Lorenzetti 2H\" tempo=\"1.15\">\n",
      "    </row>\n",
      "    <row codigo=\"531\" codigoprotecao=\"1006\" corrente=\"35\" curva=\"Max\" modeloprotecao=\"Lorenzetti 2H\" tempo=\"0.8\">\n",
      "    </row>\n",
      "    <row codigo=\"532\" codigoprotecao=\"1006\" corrente=\"52\" curva=\"Max\" modeloprotecao=\"Lorenzetti 2H\" tempo=\"0.338\">\n",
      "    </row>\n",
      "    <row codigo=\"533\" codigoprotecao=\"1006\" corrente=\"70\" curva=\"Max\" modeloprotecao=\"Lorenzetti 2H\" tempo=\"0.21\">\n",
      "    </row>\n",
      "    <row codigo=\"534\" codigoprotecao=\"1006\" corrente=\"100\" curva=\"Max\" modeloprotecao=\"Lorenzetti 2H\" tempo=\"0.111\">\n",
      "    </row>\n",
      "    <row codigo=\"535\" codigoprotecao=\"1006\" corrente=\"150\" curva=\"Max\" modeloprotecao=\"Lorenzetti 2H\" tempo=\"0.054\">\n",
      "    </row>\n",
      "    <row codigo=\"536\" codigoprotecao=\"1006\" corrente=\"200\" curva=\"Max\" modeloprotecao=\"Lorenzetti 2H\" tempo=\"0.0345\">\n",
      "    </row>\n",
      "    <row codigo=\"537\" codigoprotecao=\"1006\" corrente=\"250\" curva=\"Max\" modeloprotecao=\"Lorenzetti 2H\" tempo=\"0.0255\">\n",
      "    </row>\n",
      "    <row codigo=\"538\" codigoprotecao=\"1006\" corrente=\"300\" curva=\"Max\" modeloprotecao=\"Lorenzetti 2H\" tempo=\"0.0213\">\n",
      "    </row>\n",
      "    <row codigo=\"539\" codigoprotecao=\"1006\" corrente=\"400\" curva=\"Max\" modeloprotecao=\"Lorenzetti 2H\" tempo=\"0.017\">\n",
      "    </row>\n",
      "    <row codigo=\"540\" codigoprotecao=\"1006\" corrente=\"500\" curva=\"Max\" modeloprotecao=\"Lorenzetti 2H\" tempo=\"0.0148\">\n",
      "    </row>\n",
      "    <row codigo=\"550\" codigoprotecao=\"1007\" corrente=\"5\" curva=\"Min\" modeloprotecao=\"Lorenzetti 3H\" tempo=\"100\">\n",
      "    </row>\n",
      "    <row codigo=\"551\" codigoprotecao=\"1007\" corrente=\"6\" curva=\"Min\" modeloprotecao=\"Lorenzetti 3H\" tempo=\"40\">\n",
      "    </row>\n",
      "    <row codigo=\"552\" codigoprotecao=\"1007\" corrente=\"7\" curva=\"Min\" modeloprotecao=\"Lorenzetti 3H\" tempo=\"25.5\">\n",
      "    </row>\n",
      "    <row codigo=\"553\" codigoprotecao=\"1007\" corrente=\"8\" curva=\"Min\" modeloprotecao=\"Lorenzetti 3H\" tempo=\"19\">\n",
      "    </row>\n",
      "    <row codigo=\"554\" codigoprotecao=\"1007\" corrente=\"9\" curva=\"Min\" modeloprotecao=\"Lorenzetti 3H\" tempo=\"15\">\n",
      "    </row>\n",
      "    <row codigo=\"555\" codigoprotecao=\"1007\" corrente=\"10\" curva=\"Min\" modeloprotecao=\"Lorenzetti 3H\" tempo=\"12\">\n",
      "    </row>\n",
      "    <row codigo=\"1346\" codigoprotecao=\"1007\" corrente=\"12\" curva=\"Min\" modeloprotecao=\"Lorenzetti 3H\" tempo=\"8.6\">\n",
      "    </row>\n",
      "    <row codigo=\"556\" codigoprotecao=\"1007\" corrente=\"15\" curva=\"Min\" modeloprotecao=\"Lorenzetti 3H\" tempo=\"6.3\">\n",
      "    </row>\n",
      "    <row codigo=\"1347\" codigoprotecao=\"1007\" corrente=\"17\" curva=\"Min\" modeloprotecao=\"Lorenzetti 3H\" tempo=\"5.1\">\n",
      "    </row>\n",
      "    <row codigo=\"557\" codigoprotecao=\"1007\" corrente=\"21\" curva=\"Min\" modeloprotecao=\"Lorenzetti 3H\" tempo=\"2.4\">\n",
      "    </row>\n",
      "    <row codigo=\"558\" codigoprotecao=\"1007\" corrente=\"23\" curva=\"Min\" modeloprotecao=\"Lorenzetti 3H\" tempo=\"1.35\">\n",
      "    </row>\n",
      "    <row codigo=\"559\" codigoprotecao=\"1007\" corrente=\"26\" curva=\"Min\" modeloprotecao=\"Lorenzetti 3H\" tempo=\"1\">\n",
      "    </row>\n",
      "    <row codigo=\"560\" codigoprotecao=\"1007\" corrente=\"30\" curva=\"Min\" modeloprotecao=\"Lorenzetti 3H\" tempo=\"0.74\">\n",
      "    </row>\n",
      "    <row codigo=\"561\" codigoprotecao=\"1007\" corrente=\"40\" curva=\"Min\" modeloprotecao=\"Lorenzetti 3H\" tempo=\"0.43\">\n",
      "    </row>\n",
      "    <row codigo=\"562\" codigoprotecao=\"1007\" corrente=\"44\" curva=\"Min\" modeloprotecao=\"Lorenzetti 3H\" tempo=\"0.37\">\n",
      "    </row>\n",
      "    <row codigo=\"563\" codigoprotecao=\"1007\" corrente=\"50\" curva=\"Min\" modeloprotecao=\"Lorenzetti 3H\" tempo=\"0.29\">\n",
      "    </row>\n",
      "    <row codigo=\"564\" codigoprotecao=\"1007\" corrente=\"100\" curva=\"Min\" modeloprotecao=\"Lorenzetti 3H\" tempo=\"0.064\">\n",
      "    </row>\n",
      "    <row codigo=\"565\" codigoprotecao=\"1007\" corrente=\"150\" curva=\"Min\" modeloprotecao=\"Lorenzetti 3H\" tempo=\"0.0275\">\n",
      "    </row>\n",
      "    <row codigo=\"566\" codigoprotecao=\"1007\" corrente=\"200\" curva=\"Min\" modeloprotecao=\"Lorenzetti 3H\" tempo=\"0.0165\">\n",
      "    </row>\n",
      "    <row codigo=\"567\" codigoprotecao=\"1007\" corrente=\"270\" curva=\"Min\" modeloprotecao=\"Lorenzetti 3H\" tempo=\"0.0105\">\n",
      "    </row>\n",
      "    <row codigo=\"576\" codigoprotecao=\"1007\" corrente=\"6\" curva=\"Max\" modeloprotecao=\"Lorenzetti 3H\" tempo=\"100\">\n",
      "    </row>\n",
      "    <row codigo=\"577\" codigoprotecao=\"1007\" corrente=\"7\" curva=\"Max\" modeloprotecao=\"Lorenzetti 3H\" tempo=\"43\">\n",
      "    </row>\n",
      "    <row codigo=\"578\" codigoprotecao=\"1007\" corrente=\"8\" curva=\"Max\" modeloprotecao=\"Lorenzetti 3H\" tempo=\"30\">\n",
      "    </row>\n",
      "    <row codigo=\"579\" codigoprotecao=\"1007\" corrente=\"9\" curva=\"Max\" modeloprotecao=\"Lorenzetti 3H\" tempo=\"23\">\n",
      "    </row>\n",
      "    <row codigo=\"580\" codigoprotecao=\"1007\" corrente=\"10\" curva=\"Max\" modeloprotecao=\"Lorenzetti 3H\" tempo=\"18\">\n",
      "    </row>\n",
      "    <row codigo=\"1348\" codigoprotecao=\"1007\" corrente=\"12\" curva=\"Max\" modeloprotecao=\"Lorenzetti 3H\" tempo=\"12.9\">\n",
      "    </row>\n",
      "    <row codigo=\"581\" codigoprotecao=\"1007\" corrente=\"15\" curva=\"Max\" modeloprotecao=\"Lorenzetti 3H\" tempo=\"8.5\">\n",
      "    </row>\n",
      "    <row codigo=\"1349\" codigoprotecao=\"1007\" corrente=\"18\" curva=\"Max\" modeloprotecao=\"Lorenzetti 3H\" tempo=\"5.9\">\n",
      "    </row>\n",
      "    <row codigo=\"582\" codigoprotecao=\"1007\" corrente=\"20\" curva=\"Max\" modeloprotecao=\"Lorenzetti 3H\" tempo=\"4.4\">\n",
      "    </row>\n",
      "    <row codigo=\"583\" codigoprotecao=\"1007\" corrente=\"23\" curva=\"Max\" modeloprotecao=\"Lorenzetti 3H\" tempo=\"3.2\">\n",
      "    </row>\n",
      "    <row codigo=\"1350\" codigoprotecao=\"1007\" corrente=\"27\" curva=\"Max\" modeloprotecao=\"Lorenzetti 3H\" tempo=\"1.5\">\n",
      "    </row>\n",
      "    <row codigo=\"584\" codigoprotecao=\"1007\" corrente=\"30\" curva=\"Max\" modeloprotecao=\"Lorenzetti 3H\" tempo=\"1.15\">\n",
      "    </row>\n",
      "    <row codigo=\"585\" codigoprotecao=\"1007\" corrente=\"35\" curva=\"Max\" modeloprotecao=\"Lorenzetti 3H\" tempo=\"0.8\">\n",
      "    </row>\n",
      "    <row codigo=\"586\" codigoprotecao=\"1007\" corrente=\"52\" curva=\"Max\" modeloprotecao=\"Lorenzetti 3H\" tempo=\"0.338\">\n",
      "    </row>\n",
      "    <row codigo=\"587\" codigoprotecao=\"1007\" corrente=\"70\" curva=\"Max\" modeloprotecao=\"Lorenzetti 3H\" tempo=\"0.21\">\n",
      "    </row>\n",
      "    <row codigo=\"588\" codigoprotecao=\"1007\" corrente=\"100\" curva=\"Max\" modeloprotecao=\"Lorenzetti 3H\" tempo=\"0.111\">\n",
      "    </row>\n",
      "    <row codigo=\"589\" codigoprotecao=\"1007\" corrente=\"150\" curva=\"Max\" modeloprotecao=\"Lorenzetti 3H\" tempo=\"0.054\">\n",
      "    </row>\n",
      "    <row codigo=\"590\" codigoprotecao=\"1007\" corrente=\"200\" curva=\"Max\" modeloprotecao=\"Lorenzetti 3H\" tempo=\"0.0345\">\n",
      "    </row>\n",
      "    <row codigo=\"591\" codigoprotecao=\"1007\" corrente=\"250\" curva=\"Max\" modeloprotecao=\"Lorenzetti 3H\" tempo=\"0.0255\">\n",
      "    </row>\n",
      "    <row codigo=\"592\" codigoprotecao=\"1007\" corrente=\"300\" curva=\"Max\" modeloprotecao=\"Lorenzetti 3H\" tempo=\"0.0213\">\n",
      "    </row>\n",
      "    <row codigo=\"593\" codigoprotecao=\"1007\" corrente=\"400\" curva=\"Max\" modeloprotecao=\"Lorenzetti 3H\" tempo=\"0.017\">\n",
      "    </row>\n",
      "    <row codigo=\"594\" codigoprotecao=\"1007\" corrente=\"500\" curva=\"Max\" modeloprotecao=\"Lorenzetti 3H\" tempo=\"0.0148\">\n",
      "    </row>\n",
      "    <row codigo=\"604\" codigoprotecao=\"1008\" corrente=\"7.2\" curva=\"Min\" modeloprotecao=\"Lorenzetti 5H\" tempo=\"100\">\n",
      "    </row>\n",
      "    <row codigo=\"605\" codigoprotecao=\"1008\" corrente=\"8\" curva=\"Min\" modeloprotecao=\"Lorenzetti 5H\" tempo=\"52\">\n",
      "    </row>\n",
      "    <row codigo=\"606\" codigoprotecao=\"1008\" corrente=\"9\" curva=\"Min\" modeloprotecao=\"Lorenzetti 5H\" tempo=\"31.5\">\n",
      "    </row>\n",
      "    <row codigo=\"607\" codigoprotecao=\"1008\" corrente=\"10\" curva=\"Min\" modeloprotecao=\"Lorenzetti 5H\" tempo=\"22.1\">\n",
      "    </row>\n",
      "    <row codigo=\"1351\" codigoprotecao=\"1008\" corrente=\"12\" curva=\"Min\" modeloprotecao=\"Lorenzetti 5H\" tempo=\"12.7\">\n",
      "    </row>\n",
      "    <row codigo=\"608\" codigoprotecao=\"1008\" corrente=\"15\" curva=\"Min\" modeloprotecao=\"Lorenzetti 5H\" tempo=\"7.4\">\n",
      "    </row>\n",
      "    <row codigo=\"609\" codigoprotecao=\"1008\" corrente=\"20\" curva=\"Min\" modeloprotecao=\"Lorenzetti 5H\" tempo=\"3\">\n",
      "    </row>\n",
      "    <row codigo=\"610\" codigoprotecao=\"1008\" corrente=\"23\" curva=\"Min\" modeloprotecao=\"Lorenzetti 5H\" tempo=\"1.35\">\n",
      "    </row>\n",
      "    <row codigo=\"611\" codigoprotecao=\"1008\" corrente=\"26\" curva=\"Min\" modeloprotecao=\"Lorenzetti 5H\" tempo=\"1\">\n",
      "    </row>\n",
      "    <row codigo=\"612\" codigoprotecao=\"1008\" corrente=\"30\" curva=\"Min\" modeloprotecao=\"Lorenzetti 5H\" tempo=\"0.74\">\n",
      "    </row>\n",
      "    <row codigo=\"613\" codigoprotecao=\"1008\" corrente=\"40\" curva=\"Min\" modeloprotecao=\"Lorenzetti 5H\" tempo=\"0.43\">\n",
      "    </row>\n",
      "    <row codigo=\"614\" codigoprotecao=\"1008\" corrente=\"44\" curva=\"Min\" modeloprotecao=\"Lorenzetti 5H\" tempo=\"0.37\">\n",
      "    </row>\n",
      "    <row codigo=\"615\" codigoprotecao=\"1008\" corrente=\"50\" curva=\"Min\" modeloprotecao=\"Lorenzetti 5H\" tempo=\"0.29\">\n",
      "    </row>\n",
      "    <row codigo=\"616\" codigoprotecao=\"1008\" corrente=\"100\" curva=\"Min\" modeloprotecao=\"Lorenzetti 5H\" tempo=\"0.064\">\n",
      "    </row>\n",
      "    <row codigo=\"617\" codigoprotecao=\"1008\" corrente=\"150\" curva=\"Min\" modeloprotecao=\"Lorenzetti 5H\" tempo=\"0.0275\">\n",
      "    </row>\n",
      "    <row codigo=\"618\" codigoprotecao=\"1008\" corrente=\"200\" curva=\"Min\" modeloprotecao=\"Lorenzetti 5H\" tempo=\"0.0165\">\n",
      "    </row>\n",
      "    <row codigo=\"619\" codigoprotecao=\"1008\" corrente=\"270\" curva=\"Min\" modeloprotecao=\"Lorenzetti 5H\" tempo=\"0.0105\">\n",
      "    </row>\n",
      "    <row codigo=\"628\" codigoprotecao=\"1008\" corrente=\"9\" curva=\"Max\" modeloprotecao=\"Lorenzetti 5H\" tempo=\"100\">\n",
      "    </row>\n",
      "    <row codigo=\"629\" codigoprotecao=\"1008\" corrente=\"10\" curva=\"Max\" modeloprotecao=\"Lorenzetti 5H\" tempo=\"41\">\n",
      "    </row>\n",
      "    <row codigo=\"1352\" codigoprotecao=\"1008\" corrente=\"12\" curva=\"Max\" modeloprotecao=\"Lorenzetti 5H\" tempo=\"21\">\n",
      "    </row>\n",
      "    <row codigo=\"630\" codigoprotecao=\"1008\" corrente=\"15\" curva=\"Max\" modeloprotecao=\"Lorenzetti 5H\" tempo=\"11.1\">\n",
      "    </row>\n",
      "    <row codigo=\"631\" codigoprotecao=\"1008\" corrente=\"20\" curva=\"Max\" modeloprotecao=\"Lorenzetti 5H\" tempo=\"5.7\">\n",
      "    </row>\n",
      "    <row codigo=\"1353\" codigoprotecao=\"1008\" corrente=\"23\" curva=\"Max\" modeloprotecao=\"Lorenzetti 5H\" tempo=\"3.5\">\n",
      "    </row>\n",
      "    <row codigo=\"632\" codigoprotecao=\"1008\" corrente=\"25\" curva=\"Max\" modeloprotecao=\"Lorenzetti 5H\" tempo=\"2.2\">\n",
      "    </row>\n",
      "    <row codigo=\"1354\" codigoprotecao=\"1008\" corrente=\"27\" curva=\"Max\" modeloprotecao=\"Lorenzetti 5H\" tempo=\"1.5\">\n",
      "    </row>\n",
      "    <row codigo=\"633\" codigoprotecao=\"1008\" corrente=\"30\" curva=\"Max\" modeloprotecao=\"Lorenzetti 5H\" tempo=\"1.15\">\n",
      "    </row>\n",
      "    <row codigo=\"634\" codigoprotecao=\"1008\" corrente=\"35\" curva=\"Max\" modeloprotecao=\"Lorenzetti 5H\" tempo=\"0.8\">\n",
      "    </row>\n",
      "    <row codigo=\"635\" codigoprotecao=\"1008\" corrente=\"52\" curva=\"Max\" modeloprotecao=\"Lorenzetti 5H\" tempo=\"0.338\">\n",
      "    </row>\n",
      "    <row codigo=\"636\" codigoprotecao=\"1008\" corrente=\"70\" curva=\"Max\" modeloprotecao=\"Lorenzetti 5H\" tempo=\"0.21\">\n",
      "    </row>\n",
      "    <row codigo=\"637\" codigoprotecao=\"1008\" corrente=\"100\" curva=\"Max\" modeloprotecao=\"Lorenzetti 5H\" tempo=\"0.111\">\n",
      "    </row>\n",
      "    <row codigo=\"638\" codigoprotecao=\"1008\" corrente=\"150\" curva=\"Max\" modeloprotecao=\"Lorenzetti 5H\" tempo=\"0.054\">\n",
      "    </row>\n",
      "    <row codigo=\"639\" codigoprotecao=\"1008\" corrente=\"200\" curva=\"Max\" modeloprotecao=\"Lorenzetti 5H\" tempo=\"0.0345\">\n",
      "    </row>\n",
      "    <row codigo=\"640\" codigoprotecao=\"1008\" corrente=\"250\" curva=\"Max\" modeloprotecao=\"Lorenzetti 5H\" tempo=\"0.0255\">\n",
      "    </row>\n",
      "    <row codigo=\"641\" codigoprotecao=\"1008\" corrente=\"300\" curva=\"Max\" modeloprotecao=\"Lorenzetti 5H\" tempo=\"0.0213\">\n",
      "    </row>\n",
      "    <row codigo=\"642\" codigoprotecao=\"1008\" corrente=\"400\" curva=\"Max\" modeloprotecao=\"Lorenzetti 5H\" tempo=\"0.017\">\n",
      "    </row>\n",
      "    <row codigo=\"643\" codigoprotecao=\"1008\" corrente=\"500\" curva=\"Max\" modeloprotecao=\"Lorenzetti 5H\" tempo=\"0.0148\">\n",
      "    </row>\n",
      "    <row codigo=\"653\" codigoprotecao=\"1013\" corrente=\"87\" curva=\"Min\" modeloprotecao=\"40K(Pref)\" tempo=\"100\">\n",
      "    </row>\n",
      "    <row codigo=\"654\" codigoprotecao=\"1013\" corrente=\"90\" curva=\"Min\" modeloprotecao=\"40K(Pref)\" tempo=\"56\">\n",
      "    </row>\n",
      "    <row codigo=\"1376\" codigoprotecao=\"1013\" corrente=\"94\" curva=\"Min\" modeloprotecao=\"40K(Pref)\" tempo=\"36\">\n",
      "    </row>\n",
      "    <row codigo=\"655\" codigoprotecao=\"1013\" corrente=\"100\" curva=\"Min\" modeloprotecao=\"40K(Pref)\" tempo=\"22\">\n",
      "    </row>\n",
      "    <row codigo=\"656\" codigoprotecao=\"1013\" corrente=\"120\" curva=\"Min\" modeloprotecao=\"40K(Pref)\" tempo=\"6.8\">\n",
      "    </row>\n",
      "    <row codigo=\"1372\" codigoprotecao=\"1013\" corrente=\"140\" curva=\"Min\" modeloprotecao=\"40K(Pref)\" tempo=\"3\">\n",
      "    </row>\n",
      "    <row codigo=\"1373\" codigoprotecao=\"1013\" corrente=\"170\" curva=\"Min\" modeloprotecao=\"40K(Pref)\" tempo=\"1.39\">\n",
      "    </row>\n",
      "    <row codigo=\"657\" codigoprotecao=\"1013\" corrente=\"200\" curva=\"Min\" modeloprotecao=\"40K(Pref)\" tempo=\"0.83\">\n",
      "    </row>\n",
      "    <row codigo=\"1377\" codigoprotecao=\"1013\" corrente=\"220\" curva=\"Min\" modeloprotecao=\"40K(Pref)\" tempo=\"0.64\">\n",
      "    </row>\n",
      "    <row codigo=\"1374\" codigoprotecao=\"1013\" corrente=\"250\" curva=\"Min\" modeloprotecao=\"40K(Pref)\" tempo=\"0.46\">\n",
      "    </row>\n",
      "    <row codigo=\"1375\" codigoprotecao=\"1013\" corrente=\"300\" curva=\"Min\" modeloprotecao=\"40K(Pref)\" tempo=\"0.295\">\n",
      "    </row>\n",
      "    <row codigo=\"660\" codigoprotecao=\"1013\" corrente=\"400\" curva=\"Min\" modeloprotecao=\"40K(Pref)\" tempo=\"0.157\">\n",
      "    </row>\n",
      "    <row codigo=\"675\" codigoprotecao=\"1013\" corrente=\"700\" curva=\"Min\" modeloprotecao=\"40K(Pref)\" tempo=\"0.051\">\n",
      "    </row>\n",
      "    <row codigo=\"1378\" codigoprotecao=\"1013\" corrente=\"1000\" curva=\"Min\" modeloprotecao=\"40K(Pref)\" tempo=\"0.024\">\n",
      "    </row>\n",
      "    <row codigo=\"676\" codigoprotecao=\"1013\" corrente=\"1540\" curva=\"Min\" modeloprotecao=\"40K(Pref)\" tempo=\"0.01\">\n",
      "    </row>\n",
      "    <row codigo=\"677\" codigoprotecao=\"1013\" corrente=\"101\" curva=\"Max\" modeloprotecao=\"40K(Pref)\" tempo=\"100\">\n",
      "    </row>\n",
      "    <row codigo=\"1379\" codigoprotecao=\"1013\" corrente=\"120\" curva=\"Max\" modeloprotecao=\"40K(Pref)\" tempo=\"20\">\n",
      "    </row>\n",
      "    <row codigo=\"678\" codigoprotecao=\"1013\" corrente=\"140\" curva=\"Max\" modeloprotecao=\"40K(Pref)\" tempo=\"6.5\">\n",
      "    </row>\n",
      "    <row codigo=\"1380\" codigoprotecao=\"1013\" corrente=\"170\" curva=\"Max\" modeloprotecao=\"40K(Pref)\" tempo=\"2.6\">\n",
      "    </row>\n",
      "    <row codigo=\"679\" codigoprotecao=\"1013\" corrente=\"200\" curva=\"Max\" modeloprotecao=\"40K(Pref)\" tempo=\"1.37\">\n",
      "    </row>\n",
      "    <row codigo=\"680\" codigoprotecao=\"1013\" corrente=\"250\" curva=\"Max\" modeloprotecao=\"40K(Pref)\" tempo=\"0.6899999999999999\">\n",
      "    </row>\n",
      "    <row codigo=\"681\" codigoprotecao=\"1013\" corrente=\"300\" curva=\"Max\" modeloprotecao=\"40K(Pref)\" tempo=\"0.445\">\n",
      "    </row>\n",
      "    <row codigo=\"683\" codigoprotecao=\"1013\" corrente=\"400\" curva=\"Max\" modeloprotecao=\"40K(Pref)\" tempo=\"0.25\">\n",
      "    </row>\n",
      "    <row codigo=\"684\" codigoprotecao=\"1013\" corrente=\"500\" curva=\"Max\" modeloprotecao=\"40K(Pref)\" tempo=\"0.165\">\n",
      "    </row>\n",
      "    <row codigo=\"685\" codigoprotecao=\"1013\" corrente=\"1100\" curva=\"Max\" modeloprotecao=\"40K(Pref)\" tempo=\"0.041\">\n",
      "    </row>\n",
      "    <row codigo=\"1383\" codigoprotecao=\"1013\" corrente=\"1200\" curva=\"Max\" modeloprotecao=\"40K(Pref)\" tempo=\"0.0349\">\n",
      "    </row>\n",
      "    <row codigo=\"701\" codigoprotecao=\"1013\" corrente=\"1300\" curva=\"Max\" modeloprotecao=\"40K(Pref)\" tempo=\"0.0305\">\n",
      "    </row>\n",
      "    <row codigo=\"702\" codigoprotecao=\"1013\" corrente=\"1500\" curva=\"Max\" modeloprotecao=\"40K(Pref)\" tempo=\"0.0255\">\n",
      "    </row>\n",
      "    <row codigo=\"1381\" codigoprotecao=\"1013\" corrente=\"2000\" curva=\"Max\" modeloprotecao=\"40K(Pref)\" tempo=\"0.0192\">\n",
      "    </row>\n",
      "    <row codigo=\"1382\" codigoprotecao=\"1013\" corrente=\"2900\" curva=\"Max\" modeloprotecao=\"40K(Pref)\" tempo=\"0.015\">\n",
      "    </row>\n",
      "    <row codigo=\"1384\" codigoprotecao=\"1014\" corrente=\"134\" curva=\"Min\" modeloprotecao=\"65K(Pref)\" tempo=\"100\">\n",
      "    </row>\n",
      "    <row codigo=\"703\" codigoprotecao=\"1014\" corrente=\"140\" curva=\"Min\" modeloprotecao=\"65K(Pref)\" tempo=\"45\">\n",
      "    </row>\n",
      "    <row codigo=\"704\" codigoprotecao=\"1014\" corrente=\"150\" curva=\"Min\" modeloprotecao=\"65K(Pref)\" tempo=\"23\">\n",
      "    </row>\n",
      "    <row codigo=\"1385\" codigoprotecao=\"1014\" corrente=\"180\" curva=\"Min\" modeloprotecao=\"65K(Pref)\" tempo=\"7.4\">\n",
      "    </row>\n",
      "    <row codigo=\"705\" codigoprotecao=\"1014\" corrente=\"200\" curva=\"Min\" modeloprotecao=\"65K(Pref)\" tempo=\"4.2\">\n",
      "    </row>\n",
      "    <row codigo=\"706\" codigoprotecao=\"1014\" corrente=\"250\" curva=\"Min\" modeloprotecao=\"65K(Pref)\" tempo=\"1.74\">\n",
      "    </row>\n",
      "    <row codigo=\"707\" codigoprotecao=\"1014\" corrente=\"300\" curva=\"Min\" modeloprotecao=\"65K(Pref)\" tempo=\"0.96\">\n",
      "    </row>\n",
      "    <row codigo=\"708\" codigoprotecao=\"1014\" corrente=\"350\" curva=\"Min\" modeloprotecao=\"65K(Pref)\" tempo=\"0.64\">\n",
      "    </row>\n",
      "    <row codigo=\"709\" codigoprotecao=\"1014\" corrente=\"400\" curva=\"Min\" modeloprotecao=\"65K(Pref)\" tempo=\"0.47\">\n",
      "    </row>\n",
      "    <row codigo=\"710\" codigoprotecao=\"1014\" corrente=\"450\" curva=\"Min\" modeloprotecao=\"65K(Pref)\" tempo=\"0.36\">\n",
      "    </row>\n",
      "    <row codigo=\"711\" codigoprotecao=\"1014\" corrente=\"500\" curva=\"Min\" modeloprotecao=\"65K(Pref)\" tempo=\"0.285\">\n",
      "    </row>\n",
      "    <row codigo=\"712\" codigoprotecao=\"1014\" corrente=\"800\" curva=\"Min\" modeloprotecao=\"65K(Pref)\" tempo=\"0.109\">\n",
      "    </row>\n",
      "    <row codigo=\"1387\" codigoprotecao=\"1014\" corrente=\"1500\" curva=\"Min\" modeloprotecao=\"65K(Pref)\" tempo=\"0.0299\">\n",
      "    </row>\n",
      "    <row codigo=\"730\" codigoprotecao=\"1014\" corrente=\"2550\" curva=\"Min\" modeloprotecao=\"65K(Pref)\" tempo=\"0.01\">\n",
      "    </row>\n",
      "    <row codigo=\"731\" codigoprotecao=\"1014\" corrente=\"163\" curva=\"Max\" modeloprotecao=\"65K(Pref)\" tempo=\"100\">\n",
      "    </row>\n",
      "    <row codigo=\"732\" codigoprotecao=\"1014\" corrente=\"180\" curva=\"Max\" modeloprotecao=\"65K(Pref)\" tempo=\"54\">\n",
      "    </row>\n",
      "    <row codigo=\"733\" codigoprotecao=\"1014\" corrente=\"190\" curva=\"Max\" modeloprotecao=\"65K(Pref)\" tempo=\"31\">\n",
      "    </row>\n",
      "    <row codigo=\"734\" codigoprotecao=\"1014\" corrente=\"200\" curva=\"Max\" modeloprotecao=\"65K(Pref)\" tempo=\"16\">\n",
      "    </row>\n",
      "    <row codigo=\"1398\" codigoprotecao=\"1014\" corrente=\"210\" curva=\"Max\" modeloprotecao=\"65K(Pref)\" tempo=\"10\">\n",
      "    </row>\n",
      "    <row codigo=\"736\" codigoprotecao=\"1014\" corrente=\"230\" curva=\"Max\" modeloprotecao=\"65K(Pref)\" tempo=\"5.8\">\n",
      "    </row>\n",
      "    <row codigo=\"737\" codigoprotecao=\"1014\" corrente=\"300\" curva=\"Max\" modeloprotecao=\"65K(Pref)\" tempo=\"1.68\">\n",
      "    </row>\n",
      "    <row codigo=\"738\" codigoprotecao=\"1014\" corrente=\"380\" curva=\"Max\" modeloprotecao=\"65K(Pref)\" tempo=\"0.78\">\n",
      "    </row>\n",
      "    <row codigo=\"739\" codigoprotecao=\"1014\" corrente=\"500\" curva=\"Max\" modeloprotecao=\"65K(Pref)\" tempo=\"0.44\">\n",
      "    </row>\n",
      "    <row codigo=\"1399\" codigoprotecao=\"1014\" corrente=\"600\" curva=\"Max\" modeloprotecao=\"65K(Pref)\" tempo=\"0.292\">\n",
      "    </row>\n",
      "    <row codigo=\"1388\" codigoprotecao=\"1014\" corrente=\"1000\" curva=\"Max\" modeloprotecao=\"65K(Pref)\" tempo=\"0.112\">\n",
      "    </row>\n",
      "    <row codigo=\"740\" codigoprotecao=\"1014\" corrente=\"1500\" curva=\"Max\" modeloprotecao=\"65K(Pref)\" tempo=\"0.0535\">\n",
      "    </row>\n",
      "    <row codigo=\"1389\" codigoprotecao=\"1014\" corrente=\"1800\" curva=\"Max\" modeloprotecao=\"65K(Pref)\" tempo=\"0.038\">\n",
      "    </row>\n",
      "    <row codigo=\"757\" codigoprotecao=\"1014\" corrente=\"2000\" curva=\"Max\" modeloprotecao=\"65K(Pref)\" tempo=\"0.032\">\n",
      "    </row>\n",
      "    <row codigo=\"758\" codigoprotecao=\"1014\" corrente=\"2500\" curva=\"Max\" modeloprotecao=\"65K(Pref)\" tempo=\"0.024\">\n",
      "    </row>\n",
      "    <row codigo=\"1390\" codigoprotecao=\"1014\" corrente=\"3000\" curva=\"Max\" modeloprotecao=\"65K(Pref)\" tempo=\"0.0201\">\n",
      "    </row>\n",
      "    <row codigo=\"1391\" codigoprotecao=\"1014\" corrente=\"4000\" curva=\"Max\" modeloprotecao=\"65K(Pref)\" tempo=\"0.0165\">\n",
      "    </row>\n",
      "    <row codigo=\"1392\" codigoprotecao=\"1014\" corrente=\"5000\" curva=\"Max\" modeloprotecao=\"65K(Pref)\" tempo=\"0.0149\">\n",
      "    </row>\n",
      "    <row codigo=\"759\" codigoprotecao=\"1015\" corrente=\"205\" curva=\"Min\" modeloprotecao=\"100K(Pref)\" tempo=\"100\">\n",
      "    </row>\n",
      "    <row codigo=\"1393\" codigoprotecao=\"1015\" corrente=\"230\" curva=\"Min\" modeloprotecao=\"100K(Pref)\" tempo=\"86\">\n",
      "    </row>\n",
      "    <row codigo=\"760\" codigoprotecao=\"1015\" corrente=\"250\" curva=\"Min\" modeloprotecao=\"100K(Pref)\" tempo=\"71\">\n",
      "    </row>\n",
      "    <row codigo=\"1394\" codigoprotecao=\"1015\" corrente=\"270\" curva=\"Min\" modeloprotecao=\"100K(Pref)\" tempo=\"55\">\n",
      "    </row>\n",
      "    <row codigo=\"761\" codigoprotecao=\"1015\" corrente=\"300\" curva=\"Min\" modeloprotecao=\"100K(Pref)\" tempo=\"26\">\n",
      "    </row>\n",
      "    <row codigo=\"1395\" codigoprotecao=\"1015\" corrente=\"315\" curva=\"Min\" modeloprotecao=\"100K(Pref)\" tempo=\"6.8\">\n",
      "    </row>\n",
      "    <row codigo=\"762\" codigoprotecao=\"1015\" corrente=\"350\" curva=\"Min\" modeloprotecao=\"100K(Pref)\" tempo=\"3.1\">\n",
      "    </row>\n",
      "    <row codigo=\"763\" codigoprotecao=\"1015\" corrente=\"400\" curva=\"Min\" modeloprotecao=\"100K(Pref)\" tempo=\"1.85\">\n",
      "    </row>\n",
      "    <row codigo=\"765\" codigoprotecao=\"1015\" corrente=\"500\" curva=\"Min\" modeloprotecao=\"100K(Pref)\" tempo=\"0.91\">\n",
      "    </row>\n",
      "    <row codigo=\"767\" codigoprotecao=\"1015\" corrente=\"700\" curva=\"Min\" modeloprotecao=\"100K(Pref)\" tempo=\"0.38\">\n",
      "    </row>\n",
      "    <row codigo=\"772\" codigoprotecao=\"1015\" corrente=\"1000\" curva=\"Min\" modeloprotecao=\"100K(Pref)\" tempo=\"0.18\">\n",
      "    </row>\n",
      "    <row codigo=\"1397\" codigoprotecao=\"1015\" corrente=\"2000\" curva=\"Min\" modeloprotecao=\"100K(Pref)\" tempo=\"0.048\">\n",
      "    </row>\n",
      "    <row codigo=\"1396\" codigoprotecao=\"1015\" corrente=\"4190\" curva=\"Min\" modeloprotecao=\"100K(Pref)\" tempo=\"0.01\">\n",
      "    </row>\n",
      "    <row codigo=\"787\" codigoprotecao=\"1015\" corrente=\"245\" curva=\"Max\" modeloprotecao=\"100K(Pref)\" tempo=\"100\">\n",
      "    </row>\n",
      "    <row codigo=\"788\" codigoprotecao=\"1015\" corrente=\"280\" curva=\"Max\" modeloprotecao=\"100K(Pref)\" tempo=\"75\">\n",
      "    </row>\n",
      "    <row codigo=\"789\" codigoprotecao=\"1015\" corrente=\"310\" curva=\"Max\" modeloprotecao=\"100K(Pref)\" tempo=\"60\">\n",
      "    </row>\n",
      "    <row codigo=\"790\" codigoprotecao=\"1015\" corrente=\"350\" curva=\"Max\" modeloprotecao=\"100K(Pref)\" tempo=\"25\">\n",
      "    </row>\n",
      "    <row codigo=\"791\" codigoprotecao=\"1015\" corrente=\"400\" curva=\"Max\" modeloprotecao=\"100K(Pref)\" tempo=\"7\">\n",
      "    </row>\n",
      "    <row codigo=\"792\" codigoprotecao=\"1015\" corrente=\"450\" curva=\"Max\" modeloprotecao=\"100K(Pref)\" tempo=\"3.2\">\n",
      "    </row>\n",
      "    <row codigo=\"793\" codigoprotecao=\"1015\" corrente=\"500\" curva=\"Max\" modeloprotecao=\"100K(Pref)\" tempo=\"1.9\">\n",
      "    </row>\n",
      "    <row codigo=\"794\" codigoprotecao=\"1015\" corrente=\"600\" curva=\"Max\" modeloprotecao=\"100K(Pref)\" tempo=\"0.94\">\n",
      "    </row>\n",
      "    <row codigo=\"795\" codigoprotecao=\"1015\" corrente=\"700\" curva=\"Max\" modeloprotecao=\"100K(Pref)\" tempo=\"0.6\">\n",
      "    </row>\n",
      "    <row codigo=\"796\" codigoprotecao=\"1015\" corrente=\"800\" curva=\"Max\" modeloprotecao=\"100K(Pref)\" tempo=\"0.445\">\n",
      "    </row>\n",
      "    <row codigo=\"798\" codigoprotecao=\"1015\" corrente=\"1000\" curva=\"Max\" modeloprotecao=\"100K(Pref)\" tempo=\"0.285\">\n",
      "    </row>\n",
      "    <row codigo=\"808\" codigoprotecao=\"1015\" corrente=\"2000\" curva=\"Max\" modeloprotecao=\"100K(Pref)\" tempo=\"0.08500000000000001\">\n",
      "    </row>\n",
      "    <row codigo=\"809\" codigoprotecao=\"1015\" corrente=\"3000\" curva=\"Max\" modeloprotecao=\"100K(Pref)\" tempo=\"0.0405\">\n",
      "    </row>\n",
      "    <row codigo=\"811\" codigoprotecao=\"1015\" corrente=\"3500\" curva=\"Max\" modeloprotecao=\"100K(Pref)\" tempo=\"0.0305\">\n",
      "    </row>\n",
      "    <row codigo=\"812\" codigoprotecao=\"1015\" corrente=\"4000\" curva=\"Max\" modeloprotecao=\"100K(Pref)\" tempo=\"0.02505\">\n",
      "    </row>\n",
      "    <row codigo=\"814\" codigoprotecao=\"1015\" corrente=\"5000\" curva=\"Max\" modeloprotecao=\"100K(Pref)\" tempo=\"0.02\">\n",
      "    </row>\n",
      "    <row codigo=\"815\" codigoprotecao=\"1015\" corrente=\"6000\" curva=\"Max\" modeloprotecao=\"100K(Pref)\" tempo=\"0.0171\">\n",
      "    </row>\n",
      "    <row codigo=\"816\" codigoprotecao=\"1015\" corrente=\"7200\" curva=\"Max\" modeloprotecao=\"100K(Pref)\" tempo=\"0.015\">\n",
      "    </row>\n",
      "    <row codigo=\"817\" codigoprotecao=\"1016\" corrente=\"405\" curva=\"Min\" modeloprotecao=\"140K(Pref)\" tempo=\"100\">\n",
      "    </row>\n",
      "    <row codigo=\"1400\" codigoprotecao=\"1016\" corrente=\"410\" curva=\"Min\" modeloprotecao=\"140K(Pref)\" tempo=\"45\">\n",
      "    </row>\n",
      "    <row codigo=\"818\" codigoprotecao=\"1016\" corrente=\"450\" curva=\"Min\" modeloprotecao=\"140K(Pref)\" tempo=\"16\">\n",
      "    </row>\n",
      "    <row codigo=\"819\" codigoprotecao=\"1016\" corrente=\"500\" curva=\"Min\" modeloprotecao=\"140K(Pref)\" tempo=\"7.7\">\n",
      "    </row>\n",
      "    <row codigo=\"820\" codigoprotecao=\"1016\" corrente=\"600\" curva=\"Min\" modeloprotecao=\"140K(Pref)\" tempo=\"2.8\">\n",
      "    </row>\n",
      "    <row codigo=\"821\" codigoprotecao=\"1016\" corrente=\"700\" curva=\"Min\" modeloprotecao=\"140K(Pref)\" tempo=\"1.5\">\n",
      "    </row>\n",
      "    <row codigo=\"822\" codigoprotecao=\"1016\" corrente=\"800\" curva=\"Min\" modeloprotecao=\"140K(Pref)\" tempo=\"1\">\n",
      "    </row>\n",
      "    <row codigo=\"823\" codigoprotecao=\"1016\" corrente=\"900\" curva=\"Min\" modeloprotecao=\"140K(Pref)\" tempo=\"0.72\">\n",
      "    </row>\n",
      "    <row codigo=\"824\" codigoprotecao=\"1016\" corrente=\"1000\" curva=\"Min\" modeloprotecao=\"140K(Pref)\" tempo=\"0.5600000000000001\">\n",
      "    </row>\n",
      "    <row codigo=\"826\" codigoprotecao=\"1016\" corrente=\"1500\" curva=\"Min\" modeloprotecao=\"140K(Pref)\" tempo=\"0.221\">\n",
      "    </row>\n",
      "    <row codigo=\"829\" codigoprotecao=\"1016\" corrente=\"2000\" curva=\"Min\" modeloprotecao=\"140K(Pref)\" tempo=\"0.119\">\n",
      "    </row>\n",
      "    <row codigo=\"834\" codigoprotecao=\"1016\" corrente=\"3000\" curva=\"Min\" modeloprotecao=\"140K(Pref)\" tempo=\"0.053\">\n",
      "    </row>\n",
      "    <row codigo=\"836\" codigoprotecao=\"1016\" corrente=\"3500\" curva=\"Min\" modeloprotecao=\"140K(Pref)\" tempo=\"0.04\">\n",
      "    </row>\n",
      "    <row codigo=\"838\" codigoprotecao=\"1016\" corrente=\"4000\" curva=\"Min\" modeloprotecao=\"140K(Pref)\" tempo=\"0.03\">\n",
      "    </row>\n",
      "    <row codigo=\"843\" codigoprotecao=\"1016\" corrente=\"6350\" curva=\"Min\" modeloprotecao=\"140K(Pref)\" tempo=\"0.01\">\n",
      "    </row>\n",
      "    <row codigo=\"844\" codigoprotecao=\"1016\" corrente=\"465\" curva=\"Max\" modeloprotecao=\"140K(Pref)\" tempo=\"100\">\n",
      "    </row>\n",
      "    <row codigo=\"845\" codigoprotecao=\"1016\" corrente=\"500\" curva=\"Max\" modeloprotecao=\"140K(Pref)\" tempo=\"82\">\n",
      "    </row>\n",
      "    <row codigo=\"1401\" codigoprotecao=\"1016\" corrente=\"510\" curva=\"Max\" modeloprotecao=\"140K(Pref)\" tempo=\"67\">\n",
      "    </row>\n",
      "    <row codigo=\"1402\" codigoprotecao=\"1016\" corrente=\"515\" curva=\"Max\" modeloprotecao=\"140K(Pref)\" tempo=\"55\">\n",
      "    </row>\n",
      "    <row codigo=\"1403\" codigoprotecao=\"1016\" corrente=\"520\" curva=\"Max\" modeloprotecao=\"140K(Pref)\" tempo=\"24\">\n",
      "    </row>\n",
      "    <row codigo=\"846\" codigoprotecao=\"1016\" corrente=\"600\" curva=\"Max\" modeloprotecao=\"140K(Pref)\" tempo=\"9\">\n",
      "    </row>\n",
      "    <row codigo=\"847\" codigoprotecao=\"1016\" corrente=\"700\" curva=\"Max\" modeloprotecao=\"140K(Pref)\" tempo=\"3.6\">\n",
      "    </row>\n",
      "    <row codigo=\"848\" codigoprotecao=\"1016\" corrente=\"800\" curva=\"Max\" modeloprotecao=\"140K(Pref)\" tempo=\"1.79\">\n",
      "    </row>\n",
      "    <row codigo=\"849\" codigoprotecao=\"1016\" corrente=\"900\" curva=\"Max\" modeloprotecao=\"140K(Pref)\" tempo=\"1.15\">\n",
      "    </row>\n",
      "    <row codigo=\"850\" codigoprotecao=\"1016\" corrente=\"1000\" curva=\"Max\" modeloprotecao=\"140K(Pref)\" tempo=\"0.85\">\n",
      "    </row>\n",
      "    <row codigo=\"852\" codigoprotecao=\"1016\" corrente=\"1200\" curva=\"Max\" modeloprotecao=\"140K(Pref)\" tempo=\"0.53\">\n",
      "    </row>\n",
      "    <row codigo=\"854\" codigoprotecao=\"1016\" corrente=\"1500\" curva=\"Max\" modeloprotecao=\"140K(Pref)\" tempo=\"0.35\">\n",
      "    </row>\n",
      "    <row codigo=\"856\" codigoprotecao=\"1016\" corrente=\"2000\" curva=\"Max\" modeloprotecao=\"140K(Pref)\" tempo=\"0.185\">\n",
      "    </row>\n",
      "    <row codigo=\"858\" codigoprotecao=\"1016\" corrente=\"2500\" curva=\"Max\" modeloprotecao=\"140K(Pref)\" tempo=\"0.121\">\n",
      "    </row>\n",
      "    <row codigo=\"860\" codigoprotecao=\"1016\" corrente=\"3000\" curva=\"Max\" modeloprotecao=\"140K(Pref)\" tempo=\"0.08699999999999999\">\n",
      "    </row>\n",
      "    <row codigo=\"865\" codigoprotecao=\"1016\" corrente=\"4000\" curva=\"Max\" modeloprotecao=\"140K(Pref)\" tempo=\"0.052\">\n",
      "    </row>\n",
      "    <row codigo=\"868\" codigoprotecao=\"1016\" corrente=\"5000\" curva=\"Max\" modeloprotecao=\"140K(Pref)\" tempo=\"0.036\">\n",
      "    </row>\n",
      "    <row codigo=\"870\" codigoprotecao=\"1016\" corrente=\"6000\" curva=\"Max\" modeloprotecao=\"140K(Pref)\" tempo=\"0.0275\">\n",
      "    </row>\n",
      "    <row codigo=\"871\" codigoprotecao=\"1016\" corrente=\"7000\" curva=\"Max\" modeloprotecao=\"140K(Pref)\" tempo=\"0.0227\">\n",
      "    </row>\n",
      "    <row codigo=\"872\" codigoprotecao=\"1016\" corrente=\"8600\" curva=\"Max\" modeloprotecao=\"140K(Pref)\" tempo=\"0.018\">\n",
      "    </row>\n",
      "    <row codigo=\"873\" codigoprotecao=\"1017\" corrente=\"620\" curva=\"Min\" modeloprotecao=\"200K(Pref)\" tempo=\"100\">\n",
      "    </row>\n",
      "    <row codigo=\"874\" codigoprotecao=\"1017\" corrente=\"700\" curva=\"Min\" modeloprotecao=\"200K(Pref)\" tempo=\"64\">\n",
      "    </row>\n",
      "    <row codigo=\"1404\" codigoprotecao=\"1017\" corrente=\"760\" curva=\"Min\" modeloprotecao=\"200k(Pref)\" tempo=\"24\">\n",
      "    </row>\n",
      "    <row codigo=\"1405\" codigoprotecao=\"1017\" corrente=\"780\" curva=\"Min\" modeloprotecao=\"200k(Pref)\" tempo=\"15\">\n",
      "    </row>\n",
      "    <row codigo=\"875\" codigoprotecao=\"1017\" corrente=\"800\" curva=\"Min\" modeloprotecao=\"200K(Pref)\" tempo=\"12\">\n",
      "    </row>\n",
      "    <row codigo=\"876\" codigoprotecao=\"1017\" corrente=\"900\" curva=\"Min\" modeloprotecao=\"200K(Pref)\" tempo=\"5.1\">\n",
      "    </row>\n",
      "    <row codigo=\"877\" codigoprotecao=\"1017\" corrente=\"1000\" curva=\"Min\" modeloprotecao=\"200K(Pref)\" tempo=\"2.95\">\n",
      "    </row>\n",
      "    <row codigo=\"878\" codigoprotecao=\"1017\" corrente=\"1100\" curva=\"Min\" modeloprotecao=\"200K(Pref)\" tempo=\"1.8\">\n",
      "    </row>\n",
      "    <row codigo=\"879\" codigoprotecao=\"1017\" corrente=\"1200\" curva=\"Min\" modeloprotecao=\"200K(Pref)\" tempo=\"1.3\">\n",
      "    </row>\n",
      "    <row codigo=\"880\" codigoprotecao=\"1017\" corrente=\"1300\" curva=\"Min\" modeloprotecao=\"200K(Pref)\" tempo=\"0.96\">\n",
      "    </row>\n",
      "    <row codigo=\"882\" codigoprotecao=\"1017\" corrente=\"1500\" curva=\"Min\" modeloprotecao=\"200K(Pref)\" tempo=\"0.64\">\n",
      "    </row>\n",
      "    <row codigo=\"883\" codigoprotecao=\"1017\" corrente=\"2000\" curva=\"Min\" modeloprotecao=\"200K(Pref)\" tempo=\"0.318\">\n",
      "    </row>\n",
      "    <row codigo=\"885\" codigoprotecao=\"1017\" corrente=\"2500\" curva=\"Min\" modeloprotecao=\"200K(Pref)\" tempo=\"0.193\">\n",
      "    </row>\n",
      "    <row codigo=\"887\" codigoprotecao=\"1017\" corrente=\"3000\" curva=\"Min\" modeloprotecao=\"200K(Pref)\" tempo=\"0.133\">\n",
      "    </row>\n",
      "    <row codigo=\"890\" codigoprotecao=\"1017\" corrente=\"4000\" curva=\"Min\" modeloprotecao=\"200K(Pref)\" tempo=\"0.075\">\n",
      "    </row>\n",
      "    <row codigo=\"894\" codigoprotecao=\"1017\" corrente=\"5000\" curva=\"Min\" modeloprotecao=\"200K(Pref)\" tempo=\"0.0485\">\n",
      "    </row>\n",
      "    <row codigo=\"896\" codigoprotecao=\"1017\" corrente=\"6000\" curva=\"Min\" modeloprotecao=\"200K(Pref)\" tempo=\"0.0335\">\n",
      "    </row>\n",
      "    <row codigo=\"898\" codigoprotecao=\"1017\" corrente=\"7000\" curva=\"Min\" modeloprotecao=\"200K(Pref)\" tempo=\"0.0244\">\n",
      "    </row>\n",
      "    <row codigo=\"901\" codigoprotecao=\"1017\" corrente=\"8600\" curva=\"Min\" modeloprotecao=\"200K(Pref)\" tempo=\"0.015\">\n",
      "    </row>\n",
      "    <row codigo=\"902\" codigoprotecao=\"1017\" corrente=\"780\" curva=\"Max\" modeloprotecao=\"200K(Pref)\" tempo=\"100\">\n",
      "    </row>\n",
      "    <row codigo=\"903\" codigoprotecao=\"1017\" corrente=\"820\" curva=\"Max\" modeloprotecao=\"200K(Pref)\" tempo=\"80\">\n",
      "    </row>\n",
      "    <row codigo=\"904\" codigoprotecao=\"1017\" corrente=\"880\" curva=\"Max\" modeloprotecao=\"200K(Pref)\" tempo=\"62\">\n",
      "    </row>\n",
      "    <row codigo=\"905\" codigoprotecao=\"1017\" corrente=\"910\" curva=\"Max\" modeloprotecao=\"200K(Pref)\" tempo=\"13\">\n",
      "    </row>\n",
      "    <row codigo=\"1406\" codigoprotecao=\"1017\" corrente=\"1000\" curva=\"Max\" modeloprotecao=\"200k(Pref)\" tempo=\"6.5\">\n",
      "    </row>\n",
      "    <row codigo=\"906\" codigoprotecao=\"1017\" corrente=\"1100\" curva=\"Max\" modeloprotecao=\"200K(Pref)\" tempo=\"3.6\">\n",
      "    </row>\n",
      "    <row codigo=\"907\" codigoprotecao=\"1017\" corrente=\"1200\" curva=\"Max\" modeloprotecao=\"200K(Pref)\" tempo=\"2.25\">\n",
      "    </row>\n",
      "    <row codigo=\"908\" codigoprotecao=\"1017\" corrente=\"1300\" curva=\"Max\" modeloprotecao=\"200K(Pref)\" tempo=\"1.59\">\n",
      "    </row>\n",
      "    <row codigo=\"910\" codigoprotecao=\"1017\" corrente=\"1500\" curva=\"Max\" modeloprotecao=\"200K(Pref)\" tempo=\"1\">\n",
      "    </row>\n",
      "    <row codigo=\"911\" codigoprotecao=\"1017\" corrente=\"1800\" curva=\"Max\" modeloprotecao=\"200K(Pref)\" tempo=\"0.62\">\n",
      "    </row>\n",
      "    <row codigo=\"912\" codigoprotecao=\"1017\" corrente=\"2000\" curva=\"Max\" modeloprotecao=\"200K(Pref)\" tempo=\"0.46\">\n",
      "    </row>\n",
      "    <row codigo=\"915\" codigoprotecao=\"1017\" corrente=\"2500\" curva=\"Max\" modeloprotecao=\"200K(Pref)\" tempo=\"0.3\">\n",
      "    </row>\n",
      "    <row codigo=\"917\" codigoprotecao=\"1017\" corrente=\"3000\" curva=\"Max\" modeloprotecao=\"200K(Pref)\" tempo=\"0.21\">\n",
      "    </row>\n",
      "    <row codigo=\"919\" codigoprotecao=\"1017\" corrente=\"4000\" curva=\"Max\" modeloprotecao=\"200K(Pref)\" tempo=\"0.121\">\n",
      "    </row>\n",
      "    <row codigo=\"921\" codigoprotecao=\"1017\" corrente=\"5000\" curva=\"Max\" modeloprotecao=\"200K(Pref)\" tempo=\"0.0825\">\n",
      "    </row>\n",
      "    <row codigo=\"923\" codigoprotecao=\"1017\" corrente=\"6000\" curva=\"Max\" modeloprotecao=\"200K(Pref)\" tempo=\"0.06\">\n",
      "    </row>\n",
      "    <row codigo=\"925\" codigoprotecao=\"1017\" corrente=\"7000\" curva=\"Max\" modeloprotecao=\"200K(Pref)\" tempo=\"0.046\">\n",
      "    </row>\n",
      "    <row codigo=\"928\" codigoprotecao=\"1017\" corrente=\"8800\" curva=\"Max\" modeloprotecao=\"200K(Pref)\" tempo=\"0.03\">\n",
      "    </row>\n",
      "    <row codigo=\"929\" codigoprotecao=\"1018\" corrente=\"16\" curva=\"Min\" modeloprotecao=\"8K\" tempo=\"100\">\n",
      "    </row>\n",
      "    <row codigo=\"1407\" codigoprotecao=\"1018\" corrente=\"17\" curva=\"Min\" modeloprotecao=\"8K\" tempo=\"36\">\n",
      "    </row>\n",
      "    <row codigo=\"1408\" codigoprotecao=\"1018\" corrente=\"18\" curva=\"Min\" modeloprotecao=\"8K\" tempo=\"18.5\">\n",
      "    </row>\n",
      "    <row codigo=\"1409\" codigoprotecao=\"1018\" corrente=\"20\" curva=\"Min\" modeloprotecao=\"8K\" tempo=\"8.800000000000001\">\n",
      "    </row>\n",
      "    <row codigo=\"930\" codigoprotecao=\"1018\" corrente=\"22\" curva=\"Min\" modeloprotecao=\"8K\" tempo=\"5.3\">\n",
      "    </row>\n",
      "    <row codigo=\"931\" codigoprotecao=\"1018\" corrente=\"25\" curva=\"Min\" modeloprotecao=\"8K\" tempo=\"3.01\">\n",
      "    </row>\n",
      "    <row codigo=\"932\" codigoprotecao=\"1018\" corrente=\"30\" curva=\"Min\" modeloprotecao=\"8K\" tempo=\"1.59\">\n",
      "    </row>\n",
      "    <row codigo=\"933\" codigoprotecao=\"1018\" corrente=\"35\" curva=\"Min\" modeloprotecao=\"8K\" tempo=\"0.99\">\n",
      "    </row>\n",
      "    <row codigo=\"934\" codigoprotecao=\"1018\" corrente=\"40\" curva=\"Min\" modeloprotecao=\"8K\" tempo=\"0.6899999999999999\">\n",
      "    </row>\n",
      "    <row codigo=\"936\" codigoprotecao=\"1018\" corrente=\"50\" curva=\"Min\" modeloprotecao=\"8K\" tempo=\"0.39\">\n",
      "    </row>\n",
      "    <row codigo=\"937\" codigoprotecao=\"1018\" corrente=\"60\" curva=\"Min\" modeloprotecao=\"8K\" tempo=\"0.261\">\n",
      "    </row>\n",
      "    <row codigo=\"938\" codigoprotecao=\"1018\" corrente=\"70\" curva=\"Min\" modeloprotecao=\"8K\" tempo=\"0.188\">\n",
      "    </row>\n",
      "    <row codigo=\"939\" codigoprotecao=\"1018\" corrente=\"80\" curva=\"Min\" modeloprotecao=\"8K\" tempo=\"0.142\">\n",
      "    </row>\n",
      "    <row codigo=\"940\" codigoprotecao=\"1018\" corrente=\"90\" curva=\"Min\" modeloprotecao=\"8K\" tempo=\"0.112\">\n",
      "    </row>\n",
      "    <row codigo=\"941\" codigoprotecao=\"1018\" corrente=\"100\" curva=\"Min\" modeloprotecao=\"8K\" tempo=\"0.089\">\n",
      "    </row>\n",
      "    <row codigo=\"946\" codigoprotecao=\"1018\" corrente=\"150\" curva=\"Min\" modeloprotecao=\"8K\" tempo=\"0.038\">\n",
      "    </row>\n",
      "    <row codigo=\"950\" codigoprotecao=\"1018\" corrente=\"200\" curva=\"Min\" modeloprotecao=\"8K\" tempo=\"0.0215\">\n",
      "    </row>\n",
      "    <row codigo=\"954\" codigoprotecao=\"1018\" corrente=\"250\" curva=\"Min\" modeloprotecao=\"8K\" tempo=\"0.0141\">\n",
      "    </row>\n",
      "    <row codigo=\"955\" codigoprotecao=\"1018\" corrente=\"305\" curva=\"Min\" modeloprotecao=\"8K\" tempo=\"0.01\">\n",
      "    </row>\n",
      "    <row codigo=\"956\" codigoprotecao=\"1018\" corrente=\"19\" curva=\"Max\" modeloprotecao=\"8K\" tempo=\"100\">\n",
      "    </row>\n",
      "    <row codigo=\"957\" codigoprotecao=\"1018\" corrente=\"20\" curva=\"Max\" modeloprotecao=\"8K\" tempo=\"40\">\n",
      "    </row>\n",
      "    <row codigo=\"1410\" codigoprotecao=\"1018\" corrente=\"20.09\" curva=\"Max\" modeloprotecao=\"8K\" tempo=\"31\">\n",
      "    </row>\n",
      "    <row codigo=\"1411\" codigoprotecao=\"1018\" corrente=\"22\" curva=\"Max\" modeloprotecao=\"8K\" tempo=\"16\">\n",
      "    </row>\n",
      "    <row codigo=\"958\" codigoprotecao=\"1018\" corrente=\"25\" curva=\"Max\" modeloprotecao=\"8K\" tempo=\"5.9\">\n",
      "    </row>\n",
      "    <row codigo=\"959\" codigoprotecao=\"1018\" corrente=\"30\" curva=\"Max\" modeloprotecao=\"8K\" tempo=\"2.4\">\n",
      "    </row>\n",
      "    <row codigo=\"960\" codigoprotecao=\"1018\" corrente=\"35\" curva=\"Max\" modeloprotecao=\"8K\" tempo=\"1.41\">\n",
      "    </row>\n",
      "    <row codigo=\"961\" codigoprotecao=\"1018\" corrente=\"40\" curva=\"Max\" modeloprotecao=\"8K\" tempo=\"0.98\">\n",
      "    </row>\n",
      "    <row codigo=\"962\" codigoprotecao=\"1018\" corrente=\"45\" curva=\"Max\" modeloprotecao=\"8K\" tempo=\"0.71\">\n",
      "    </row>\n",
      "    <row codigo=\"963\" codigoprotecao=\"1018\" corrente=\"50\" curva=\"Max\" modeloprotecao=\"8K\" tempo=\"0.54\">\n",
      "    </row>\n",
      "    <row codigo=\"964\" codigoprotecao=\"1018\" corrente=\"60\" curva=\"Max\" modeloprotecao=\"8K\" tempo=\"0.365\">\n",
      "    </row>\n",
      "    <row codigo=\"965\" codigoprotecao=\"1018\" corrente=\"70\" curva=\"Max\" modeloprotecao=\"8K\" tempo=\"0.27\">\n",
      "    </row>\n",
      "    <row codigo=\"966\" codigoprotecao=\"1018\" corrente=\"80\" curva=\"Max\" modeloprotecao=\"8K\" tempo=\"0.21\">\n",
      "    </row>\n",
      "    <row codigo=\"967\" codigoprotecao=\"1018\" corrente=\"90\" curva=\"Max\" modeloprotecao=\"8K\" tempo=\"0.169\">\n",
      "    </row>\n",
      "    <row codigo=\"968\" codigoprotecao=\"1018\" corrente=\"100\" curva=\"Max\" modeloprotecao=\"8K\" tempo=\"0.139\">\n",
      "    </row>\n",
      "    <row codigo=\"972\" codigoprotecao=\"1018\" corrente=\"150\" curva=\"Max\" modeloprotecao=\"8K\" tempo=\"0.06900000000000001\">\n",
      "    </row>\n",
      "    <row codigo=\"976\" codigoprotecao=\"1018\" corrente=\"200\" curva=\"Max\" modeloprotecao=\"8K\" tempo=\"0.0435\">\n",
      "    </row>\n",
      "    <row codigo=\"979\" codigoprotecao=\"1018\" corrente=\"250\" curva=\"Max\" modeloprotecao=\"8K\" tempo=\"0.031\">\n",
      "    </row>\n",
      "    <row codigo=\"981\" codigoprotecao=\"1018\" corrente=\"300\" curva=\"Max\" modeloprotecao=\"8K\" tempo=\"0.0245\">\n",
      "    </row>\n",
      "    <row codigo=\"982\" codigoprotecao=\"1018\" corrente=\"350\" curva=\"Max\" modeloprotecao=\"8K\" tempo=\"0.021\">\n",
      "    </row>\n",
      "    <row codigo=\"984\" codigoprotecao=\"1018\" corrente=\"400\" curva=\"Max\" modeloprotecao=\"8K\" tempo=\"0.0187\">\n",
      "    </row>\n",
      "    <row codigo=\"985\" codigoprotecao=\"1018\" corrente=\"450\" curva=\"Max\" modeloprotecao=\"8K\" tempo=\"0.017\">\n",
      "    </row>\n",
      "    <row codigo=\"986\" codigoprotecao=\"1018\" corrente=\"560\" curva=\"Max\" modeloprotecao=\"8K\" tempo=\"0.0149\">\n",
      "    </row>\n",
      "    <row codigo=\"987\" codigoprotecao=\"1019\" corrente=\"26.5\" curva=\"Min\" modeloprotecao=\"12K\" tempo=\"100\">\n",
      "    </row>\n",
      "    <row codigo=\"1412\" codigoprotecao=\"1019\" corrente=\"27\" curva=\"Min\" modeloprotecao=\"12K\" tempo=\"50\">\n",
      "    </row>\n",
      "    <row codigo=\"988\" codigoprotecao=\"1019\" corrente=\"30\" curva=\"Min\" modeloprotecao=\"12K\" tempo=\"19\">\n",
      "    </row>\n",
      "    <row codigo=\"989\" codigoprotecao=\"1019\" corrente=\"35\" curva=\"Min\" modeloprotecao=\"12K\" tempo=\"7.8\">\n",
      "    </row>\n",
      "    <row codigo=\"990\" codigoprotecao=\"1019\" corrente=\"40\" curva=\"Min\" modeloprotecao=\"12K\" tempo=\"4.1\">\n",
      "    </row>\n",
      "    <row codigo=\"991\" codigoprotecao=\"1019\" corrente=\"45\" curva=\"Min\" modeloprotecao=\"12K\" tempo=\"2.3\">\n",
      "    </row>\n",
      "    <row codigo=\"992\" codigoprotecao=\"1019\" corrente=\"50\" curva=\"Min\" modeloprotecao=\"12K\" tempo=\"1.55\">\n",
      "    </row>\n",
      "    <row codigo=\"993\" codigoprotecao=\"1019\" corrente=\"60\" curva=\"Min\" modeloprotecao=\"12K\" tempo=\"0.9\">\n",
      "    </row>\n",
      "    <row codigo=\"994\" codigoprotecao=\"1019\" corrente=\"70\" curva=\"Min\" modeloprotecao=\"12K\" tempo=\"0.61\">\n",
      "    </row>\n",
      "    <row codigo=\"995\" codigoprotecao=\"1019\" corrente=\"80\" curva=\"Min\" modeloprotecao=\"12K\" tempo=\"0.44\">\n",
      "    </row>\n",
      "    <row codigo=\"996\" codigoprotecao=\"1019\" corrente=\"90\" curva=\"Min\" modeloprotecao=\"12K\" tempo=\"0.34\">\n",
      "    </row>\n",
      "    <row codigo=\"997\" codigoprotecao=\"1019\" corrente=\"100\" curva=\"Min\" modeloprotecao=\"12K\" tempo=\"0.27\">\n",
      "    </row>\n",
      "    <row codigo=\"999\" codigoprotecao=\"1019\" corrente=\"150\" curva=\"Min\" modeloprotecao=\"12K\" tempo=\"0.119\">\n",
      "    </row>\n",
      "    <row codigo=\"1003\" codigoprotecao=\"1019\" corrente=\"200\" curva=\"Min\" modeloprotecao=\"12K\" tempo=\"0.066\">\n",
      "    </row>\n",
      "    <row codigo=\"1007\" codigoprotecao=\"1019\" corrente=\"250\" curva=\"Min\" modeloprotecao=\"12K\" tempo=\"0.04\">\n",
      "    </row>\n",
      "    <row codigo=\"1009\" codigoprotecao=\"1019\" corrente=\"300\" curva=\"Min\" modeloprotecao=\"12K\" tempo=\"0.028\">\n",
      "    </row>\n",
      "    <row codigo=\"1011\" codigoprotecao=\"1019\" corrente=\"350\" curva=\"Min\" modeloprotecao=\"12K\" tempo=\"0.0205\">\n",
      "    </row>\n",
      "    <row codigo=\"1013\" codigoprotecao=\"1019\" corrente=\"400\" curva=\"Min\" modeloprotecao=\"12K\" tempo=\"0.0159\">\n",
      "    </row>\n",
      "    <row codigo=\"1015\" codigoprotecao=\"1019\" corrente=\"510\" curva=\"Min\" modeloprotecao=\"12K\" tempo=\"0.01\">\n",
      "    </row>\n",
      "    <row codigo=\"1016\" codigoprotecao=\"1019\" corrente=\"31.3\" curva=\"Max\" modeloprotecao=\"12K\" tempo=\"100\">\n",
      "    </row>\n",
      "    <row codigo=\"1017\" codigoprotecao=\"1019\" corrente=\"35\" curva=\"Max\" modeloprotecao=\"12K\" tempo=\"31\">\n",
      "    </row>\n",
      "    <row codigo=\"1018\" codigoprotecao=\"1019\" corrente=\"40\" curva=\"Max\" modeloprotecao=\"12K\" tempo=\"10\">\n",
      "    </row>\n",
      "    <row codigo=\"1019\" codigoprotecao=\"1019\" corrente=\"45\" curva=\"Max\" modeloprotecao=\"12K\" tempo=\"5\">\n",
      "    </row>\n",
      "    <row codigo=\"1020\" codigoprotecao=\"1019\" corrente=\"50\" curva=\"Max\" modeloprotecao=\"12K\" tempo=\"2.75\">\n",
      "    </row>\n",
      "    <row codigo=\"1021\" codigoprotecao=\"1019\" corrente=\"60\" curva=\"Max\" modeloprotecao=\"12K\" tempo=\"1.4\">\n",
      "    </row>\n",
      "    <row codigo=\"1022\" codigoprotecao=\"1019\" corrente=\"70\" curva=\"Max\" modeloprotecao=\"12K\" tempo=\"0.9\">\n",
      "    </row>\n",
      "    <row codigo=\"1023\" codigoprotecao=\"1019\" corrente=\"80\" curva=\"Max\" modeloprotecao=\"12K\" tempo=\"0.63\">\n",
      "    </row>\n",
      "    <row codigo=\"1024\" codigoprotecao=\"1019\" corrente=\"90\" curva=\"Max\" modeloprotecao=\"12K\" tempo=\"0.475\">\n",
      "    </row>\n",
      "    <row codigo=\"1025\" codigoprotecao=\"1019\" corrente=\"100\" curva=\"Max\" modeloprotecao=\"12K\" tempo=\"0.38\">\n",
      "    </row>\n",
      "    <row codigo=\"1026\" codigoprotecao=\"1019\" corrente=\"110\" curva=\"Max\" modeloprotecao=\"12K\" tempo=\"0.31\">\n",
      "    </row>\n",
      "    <row codigo=\"1027\" codigoprotecao=\"1019\" corrente=\"120\" curva=\"Max\" modeloprotecao=\"12K\" tempo=\"0.27\">\n",
      "    </row>\n",
      "    <row codigo=\"1029\" codigoprotecao=\"1019\" corrente=\"150\" curva=\"Max\" modeloprotecao=\"12K\" tempo=\"0.179\">\n",
      "    </row>\n",
      "    <row codigo=\"1030\" codigoprotecao=\"1019\" corrente=\"170\" curva=\"Max\" modeloprotecao=\"12K\" tempo=\"0.141\">\n",
      "    </row>\n",
      "    <row codigo=\"1031\" codigoprotecao=\"1019\" corrente=\"200\" curva=\"Max\" modeloprotecao=\"12K\" tempo=\"0.105\">\n",
      "    </row>\n",
      "    <row codigo=\"1035\" codigoprotecao=\"1019\" corrente=\"250\" curva=\"Max\" modeloprotecao=\"12K\" tempo=\"0.073\">\n",
      "    </row>\n",
      "    <row codigo=\"1036\" codigoprotecao=\"1019\" corrente=\"300\" curva=\"Max\" modeloprotecao=\"12K\" tempo=\"0.054\">\n",
      "    </row>\n",
      "    <row codigo=\"1037\" codigoprotecao=\"1019\" corrente=\"350\" curva=\"Max\" modeloprotecao=\"12K\" tempo=\"0.043\">\n",
      "    </row>\n",
      "    <row codigo=\"1038\" codigoprotecao=\"1019\" corrente=\"400\" curva=\"Max\" modeloprotecao=\"12K\" tempo=\"0.035\">\n",
      "    </row>\n",
      "    <row codigo=\"1039\" codigoprotecao=\"1019\" corrente=\"450\" curva=\"Max\" modeloprotecao=\"12K\" tempo=\"0.0295\">\n",
      "    </row>\n",
      "    <row codigo=\"1040\" codigoprotecao=\"1019\" corrente=\"500\" curva=\"Max\" modeloprotecao=\"12K\" tempo=\"0.0255\">\n",
      "    </row>\n",
      "    <row codigo=\"1041\" codigoprotecao=\"1019\" corrente=\"600\" curva=\"Max\" modeloprotecao=\"12K\" tempo=\"0.0211\">\n",
      "    </row>\n",
      "    <row codigo=\"1042\" codigoprotecao=\"1019\" corrente=\"700\" curva=\"Max\" modeloprotecao=\"12K\" tempo=\"0.0185\">\n",
      "    </row>\n",
      "    <row codigo=\"1043\" codigoprotecao=\"1019\" corrente=\"800\" curva=\"Max\" modeloprotecao=\"12K\" tempo=\"0.0169\">\n",
      "    </row>\n",
      "    <row codigo=\"1044\" codigoprotecao=\"1019\" corrente=\"940\" curva=\"Max\" modeloprotecao=\"12K\" tempo=\"0.0152\">\n",
      "    </row>\n",
      "    <row codigo=\"1045\" codigoprotecao=\"1020\" corrente=\"42.5\" curva=\"Min\" modeloprotecao=\"20K\" tempo=\"100\">\n",
      "    </row>\n",
      "    <row codigo=\"1046\" codigoprotecao=\"1020\" corrente=\"45\" curva=\"Min\" modeloprotecao=\"20K\" tempo=\"40\">\n",
      "    </row>\n",
      "    <row codigo=\"1047\" codigoprotecao=\"1020\" corrente=\"50\" curva=\"Min\" modeloprotecao=\"20K\" tempo=\"16\">\n",
      "    </row>\n",
      "    <row codigo=\"1048\" codigoprotecao=\"1020\" corrente=\"60\" curva=\"Min\" modeloprotecao=\"20K\" tempo=\"5.4\">\n",
      "    </row>\n",
      "    <row codigo=\"1049\" codigoprotecao=\"1020\" corrente=\"70\" curva=\"Min\" modeloprotecao=\"20K\" tempo=\"2.8\">\n",
      "    </row>\n",
      "    <row codigo=\"1050\" codigoprotecao=\"1020\" corrente=\"80\" curva=\"Min\" modeloprotecao=\"20K\" tempo=\"1.7\">\n",
      "    </row>\n",
      "    <row codigo=\"1051\" codigoprotecao=\"1020\" corrente=\"90\" curva=\"Min\" modeloprotecao=\"20K\" tempo=\"1.11\">\n",
      "    </row>\n",
      "    <row codigo=\"1052\" codigoprotecao=\"1020\" corrente=\"100\" curva=\"Min\" modeloprotecao=\"20K\" tempo=\"0.83\">\n",
      "    </row>\n",
      "    <row codigo=\"1413\" codigoprotecao=\"1020\" corrente=\"120\" curva=\"Min\" modeloprotecao=\"20K\" tempo=\"0.51\">\n",
      "    </row>\n",
      "    <row codigo=\"1053\" codigoprotecao=\"1020\" corrente=\"150\" curva=\"Min\" modeloprotecao=\"20K\" tempo=\"0.315\">\n",
      "    </row>\n",
      "    <row codigo=\"1054\" codigoprotecao=\"1020\" corrente=\"170\" curva=\"Min\" modeloprotecao=\"20K\" tempo=\"0.241\">\n",
      "    </row>\n",
      "    <row codigo=\"1055\" codigoprotecao=\"1020\" corrente=\"200\" curva=\"Min\" modeloprotecao=\"20K\" tempo=\"0.175\">\n",
      "    </row>\n",
      "    <row codigo=\"1059\" codigoprotecao=\"1020\" corrente=\"250\" curva=\"Min\" modeloprotecao=\"20K\" tempo=\"0.116\">\n",
      "    </row>\n",
      "    <row codigo=\"1060\" codigoprotecao=\"1020\" corrente=\"300\" curva=\"Min\" modeloprotecao=\"20K\" tempo=\"0.0839\">\n",
      "    </row>\n",
      "    <row codigo=\"1062\" codigoprotecao=\"1020\" corrente=\"350\" curva=\"Min\" modeloprotecao=\"20K\" tempo=\"0.06\">\n",
      "    </row>\n",
      "    <row codigo=\"1064\" codigoprotecao=\"1020\" corrente=\"400\" curva=\"Min\" modeloprotecao=\"20K\" tempo=\"0.045\">\n",
      "    </row>\n",
      "    <row codigo=\"1067\" codigoprotecao=\"1020\" corrente=\"500\" curva=\"Min\" modeloprotecao=\"20K\" tempo=\"0.029\">\n",
      "    </row>\n",
      "    <row codigo=\"1069\" codigoprotecao=\"1020\" corrente=\"600\" curva=\"Min\" modeloprotecao=\"20K\" tempo=\"0.02\">\n",
      "    </row>\n",
      "    <row codigo=\"1071\" codigoprotecao=\"1020\" corrente=\"700\" curva=\"Min\" modeloprotecao=\"20K\" tempo=\"0.015\">\n",
      "    </row>\n",
      "    <row codigo=\"1072\" codigoprotecao=\"1020\" corrente=\"860\" curva=\"Min\" modeloprotecao=\"20K\" tempo=\"0.01\">\n",
      "    </row>\n",
      "    <row codigo=\"1073\" codigoprotecao=\"1020\" corrente=\"49.5\" curva=\"Max\" modeloprotecao=\"20K\" tempo=\"100\">\n",
      "    </row>\n",
      "    <row codigo=\"1074\" codigoprotecao=\"1020\" corrente=\"50\" curva=\"Max\" modeloprotecao=\"20K\" tempo=\"75\">\n",
      "    </row>\n",
      "    <row codigo=\"1414\" codigoprotecao=\"1020\" corrente=\"54\" curva=\"Max\" modeloprotecao=\"20K\" tempo=\"36\">\n",
      "    </row>\n",
      "    <row codigo=\"1075\" codigoprotecao=\"1020\" corrente=\"60\" curva=\"Max\" modeloprotecao=\"20K\" tempo=\"17.5\">\n",
      "    </row>\n",
      "    <row codigo=\"1415\" codigoprotecao=\"1020\" corrente=\"66\" curva=\"Max\" modeloprotecao=\"20K\" tempo=\"10.5\">\n",
      "    </row>\n",
      "    <row codigo=\"1076\" codigoprotecao=\"1020\" corrente=\"70\" curva=\"Max\" modeloprotecao=\"20K\" tempo=\"7\">\n",
      "    </row>\n",
      "    <row codigo=\"1077\" codigoprotecao=\"1020\" corrente=\"80\" curva=\"Max\" modeloprotecao=\"20K\" tempo=\"3.6\">\n",
      "    </row>\n",
      "    <row codigo=\"1078\" codigoprotecao=\"1020\" corrente=\"90\" curva=\"Max\" modeloprotecao=\"20K\" tempo=\"2.21\">\n",
      "    </row>\n",
      "    <row codigo=\"1079\" codigoprotecao=\"1020\" corrente=\"100\" curva=\"Max\" modeloprotecao=\"20K\" tempo=\"1.51\">\n",
      "    </row>\n",
      "    <row codigo=\"1416\" codigoprotecao=\"1020\" corrente=\"120\" curva=\"Max\" modeloprotecao=\"20K\" tempo=\"0.84\">\n",
      "    </row>\n",
      "    <row codigo=\"1080\" codigoprotecao=\"1020\" corrente=\"150\" curva=\"Max\" modeloprotecao=\"20K\" tempo=\"0.47\">\n",
      "    </row>\n",
      "    <row codigo=\"1417\" codigoprotecao=\"1020\" corrente=\"170\" curva=\"Max\" modeloprotecao=\"20K\" tempo=\"0.36\">\n",
      "    </row>\n",
      "    <row codigo=\"1081\" codigoprotecao=\"1020\" corrente=\"200\" curva=\"Max\" modeloprotecao=\"20K\" tempo=\"0.259\">\n",
      "    </row>\n",
      "    <row codigo=\"1083\" codigoprotecao=\"1020\" corrente=\"250\" curva=\"Max\" modeloprotecao=\"20K\" tempo=\"0.17\">\n",
      "    </row>\n",
      "    <row codigo=\"1085\" codigoprotecao=\"1020\" corrente=\"300\" curva=\"Max\" modeloprotecao=\"20K\" tempo=\"0.123\">\n",
      "    </row>\n",
      "    <row codigo=\"1086\" codigoprotecao=\"1020\" corrente=\"350\" curva=\"Max\" modeloprotecao=\"20K\" tempo=\"0.095\">\n",
      "    </row>\n",
      "    <row codigo=\"1088\" codigoprotecao=\"1020\" corrente=\"400\" curva=\"Max\" modeloprotecao=\"20K\" tempo=\"0.076\">\n",
      "    </row>\n",
      "    <row codigo=\"1091\" codigoprotecao=\"1020\" corrente=\"500\" curva=\"Max\" modeloprotecao=\"20K\" tempo=\"0.053\">\n",
      "    </row>\n",
      "    <row codigo=\"1093\" codigoprotecao=\"1020\" corrente=\"600\" curva=\"Max\" modeloprotecao=\"20K\" tempo=\"0.04\">\n",
      "    </row>\n",
      "    <row codigo=\"1095\" codigoprotecao=\"1020\" corrente=\"700\" curva=\"Max\" modeloprotecao=\"20K\" tempo=\"0.031\">\n",
      "    </row>\n",
      "    <row codigo=\"1096\" codigoprotecao=\"1020\" corrente=\"800\" curva=\"Max\" modeloprotecao=\"20K\" tempo=\"0.0255\">\n",
      "    </row>\n",
      "    <row codigo=\"1097\" codigoprotecao=\"1020\" corrente=\"900\" curva=\"Max\" modeloprotecao=\"20K\" tempo=\"0.0226\">\n",
      "    </row>\n",
      "    <row codigo=\"1098\" codigoprotecao=\"1020\" corrente=\"1000\" curva=\"Max\" modeloprotecao=\"20K\" tempo=\"0.0204\">\n",
      "    </row>\n",
      "    <row codigo=\"1099\" codigoprotecao=\"1020\" corrente=\"1200\" curva=\"Max\" modeloprotecao=\"20K\" tempo=\"0.0178\">\n",
      "    </row>\n",
      "    <row codigo=\"1100\" codigoprotecao=\"1020\" corrente=\"1600\" curva=\"Max\" modeloprotecao=\"20K\" tempo=\"0.015\">\n",
      "    </row>\n",
      "    <row codigo=\"1101\" codigoprotecao=\"1021\" corrente=\"68\" curva=\"Min\" modeloprotecao=\"30K\" tempo=\"100\">\n",
      "    </row>\n",
      "    <row codigo=\"1102\" codigoprotecao=\"1021\" corrente=\"70\" curva=\"Min\" modeloprotecao=\"30K\" tempo=\"52\">\n",
      "    </row>\n",
      "    <row codigo=\"1103\" codigoprotecao=\"1021\" corrente=\"80\" curva=\"Min\" modeloprotecao=\"30K\" tempo=\"16\">\n",
      "    </row>\n",
      "    <row codigo=\"1104\" codigoprotecao=\"1021\" corrente=\"90\" curva=\"Min\" modeloprotecao=\"30K\" tempo=\"7.8\">\n",
      "    </row>\n",
      "    <row codigo=\"1105\" codigoprotecao=\"1021\" corrente=\"100\" curva=\"Min\" modeloprotecao=\"30K\" tempo=\"4.4\">\n",
      "    </row>\n",
      "    <row codigo=\"1418\" codigoprotecao=\"1021\" corrente=\"120\" curva=\"Min\" modeloprotecao=\"30K\" tempo=\"2.1\">\n",
      "    </row>\n",
      "    <row codigo=\"1106\" codigoprotecao=\"1021\" corrente=\"150\" curva=\"Min\" modeloprotecao=\"30K\" tempo=\"1.05\">\n",
      "    </row>\n",
      "    <row codigo=\"1419\" codigoprotecao=\"1021\" corrente=\"170\" curva=\"Min\" modeloprotecao=\"30K\" tempo=\"0.76\">\n",
      "    </row>\n",
      "    <row codigo=\"1107\" codigoprotecao=\"1021\" corrente=\"200\" curva=\"Min\" modeloprotecao=\"30K\" tempo=\"0.5\">\n",
      "    </row>\n",
      "    <row codigo=\"1108\" codigoprotecao=\"1021\" corrente=\"250\" curva=\"Min\" modeloprotecao=\"30K\" tempo=\"0.301\">\n",
      "    </row>\n",
      "    <row codigo=\"1109\" codigoprotecao=\"1021\" corrente=\"300\" curva=\"Min\" modeloprotecao=\"30K\" tempo=\"0.205\">\n",
      "    </row>\n",
      "    <row codigo=\"1111\" codigoprotecao=\"1021\" corrente=\"350\" curva=\"Min\" modeloprotecao=\"30K\" tempo=\"0.15\">\n",
      "    </row>\n",
      "    <row codigo=\"1113\" codigoprotecao=\"1021\" corrente=\"400\" curva=\"Min\" modeloprotecao=\"30K\" tempo=\"0.113\">\n",
      "    </row>\n",
      "    <row codigo=\"1116\" codigoprotecao=\"1021\" corrente=\"500\" curva=\"Min\" modeloprotecao=\"30K\" tempo=\"0.073\">\n",
      "    </row>\n",
      "    <row codigo=\"1118\" codigoprotecao=\"1021\" corrente=\"600\" curva=\"Min\" modeloprotecao=\"30K\" tempo=\"0.051\">\n",
      "    </row>\n",
      "    <row codigo=\"1120\" codigoprotecao=\"1021\" corrente=\"700\" curva=\"Min\" modeloprotecao=\"30K\" tempo=\"0.038\">\n",
      "    </row>\n",
      "    <row codigo=\"1124\" codigoprotecao=\"1021\" corrente=\"900\" curva=\"Min\" modeloprotecao=\"30K\" tempo=\"0.0225\">\n",
      "    </row>\n",
      "    <row codigo=\"1126\" codigoprotecao=\"1021\" corrente=\"1100\" curva=\"Min\" modeloprotecao=\"30K\" tempo=\"0.0151\">\n",
      "    </row>\n",
      "    <row codigo=\"1127\" codigoprotecao=\"1021\" corrente=\"1350\" curva=\"Min\" modeloprotecao=\"30K\" tempo=\"0.01\">\n",
      "    </row>\n",
      "    <row codigo=\"1128\" codigoprotecao=\"1021\" corrente=\"78\" curva=\"Max\" modeloprotecao=\"30K\" tempo=\"100\">\n",
      "    </row>\n",
      "    <row codigo=\"1129\" codigoprotecao=\"1021\" corrente=\"80\" curva=\"Max\" modeloprotecao=\"30K\" tempo=\"68\">\n",
      "    </row>\n",
      "    <row codigo=\"1130\" codigoprotecao=\"1021\" corrente=\"90\" curva=\"Max\" modeloprotecao=\"30K\" tempo=\"24\">\n",
      "    </row>\n",
      "    <row codigo=\"1131\" codigoprotecao=\"1021\" corrente=\"100\" curva=\"Max\" modeloprotecao=\"30K\" tempo=\"10.5\">\n",
      "    </row>\n",
      "    <row codigo=\"1420\" codigoprotecao=\"1021\" corrente=\"120\" curva=\"Max\" modeloprotecao=\"30K\" tempo=\"4.4\">\n",
      "    </row>\n",
      "    <row codigo=\"1132\" codigoprotecao=\"1021\" corrente=\"150\" curva=\"Max\" modeloprotecao=\"30K\" tempo=\"1.87\">\n",
      "    </row>\n",
      "    <row codigo=\"1133\" codigoprotecao=\"1021\" corrente=\"200\" curva=\"Max\" modeloprotecao=\"30K\" tempo=\"0.76\">\n",
      "    </row>\n",
      "    <row codigo=\"1134\" codigoprotecao=\"1021\" corrente=\"250\" curva=\"Max\" modeloprotecao=\"30K\" tempo=\"0.455\">\n",
      "    </row>\n",
      "    <row codigo=\"1135\" codigoprotecao=\"1021\" corrente=\"300\" curva=\"Max\" modeloprotecao=\"30K\" tempo=\"0.311\">\n",
      "    </row>\n",
      "    <row codigo=\"1136\" codigoprotecao=\"1021\" corrente=\"350\" curva=\"Max\" modeloprotecao=\"30K\" tempo=\"0.23\">\n",
      "    </row>\n",
      "    <row codigo=\"1137\" codigoprotecao=\"1021\" corrente=\"400\" curva=\"Max\" modeloprotecao=\"30K\" tempo=\"0.181\">\n",
      "    </row>\n",
      "    <row codigo=\"1139\" codigoprotecao=\"1021\" corrente=\"500\" curva=\"Max\" modeloprotecao=\"30K\" tempo=\"0.122\">\n",
      "    </row>\n",
      "    <row codigo=\"1143\" codigoprotecao=\"1021\" corrente=\"700\" curva=\"Max\" modeloprotecao=\"30K\" tempo=\"0.07000000000000001\">\n",
      "    </row>\n",
      "    <row codigo=\"1147\" codigoprotecao=\"1021\" corrente=\"900\" curva=\"Max\" modeloprotecao=\"30K\" tempo=\"0.0465\">\n",
      "    </row>\n",
      "    <row codigo=\"1149\" codigoprotecao=\"1021\" corrente=\"1100\" curva=\"Max\" modeloprotecao=\"30K\" tempo=\"0.0331\">\n",
      "    </row>\n",
      "    <row codigo=\"1150\" codigoprotecao=\"1021\" corrente=\"1300\" curva=\"Max\" modeloprotecao=\"30K\" tempo=\"0.0261\">\n",
      "    </row>\n",
      "    <row codigo=\"1151\" codigoprotecao=\"1021\" corrente=\"1500\" curva=\"Max\" modeloprotecao=\"30K\" tempo=\"0.0225\">\n",
      "    </row>\n",
      "    <row codigo=\"1152\" codigoprotecao=\"1021\" corrente=\"1800\" curva=\"Max\" modeloprotecao=\"30K\" tempo=\"0.0189\">\n",
      "    </row>\n",
      "    <row codigo=\"1154\" codigoprotecao=\"1021\" corrente=\"2500\" curva=\"Max\" modeloprotecao=\"30K\" tempo=\"0.015\">\n",
      "    </row>\n",
      "    <row codigo=\"1155\" codigoprotecao=\"1022\" corrente=\"113\" curva=\"Min\" modeloprotecao=\"50K\" tempo=\"100\">\n",
      "    </row>\n",
      "    <row codigo=\"1421\" codigoprotecao=\"1022\" corrente=\"120\" curva=\"Min\" modeloprotecao=\"50K\" tempo=\"43\">\n",
      "    </row>\n",
      "    <row codigo=\"1156\" codigoprotecao=\"1022\" corrente=\"150\" curva=\"Min\" modeloprotecao=\"50K\" tempo=\"9.8\">\n",
      "    </row>\n",
      "    <row codigo=\"1422\" codigoprotecao=\"1022\" corrente=\"180\" curva=\"Min\" modeloprotecao=\"50K\" tempo=\"3.95\">\n",
      "    </row>\n",
      "    <row codigo=\"1157\" codigoprotecao=\"1022\" corrente=\"200\" curva=\"Min\" modeloprotecao=\"50K\" tempo=\"2.41\">\n",
      "    </row>\n",
      "    <row codigo=\"1423\" codigoprotecao=\"1022\" corrente=\"230\" curva=\"Min\" modeloprotecao=\"50K\" tempo=\"1.45\">\n",
      "    </row>\n",
      "    <row codigo=\"1158\" codigoprotecao=\"1022\" corrente=\"250\" curva=\"Min\" modeloprotecao=\"50K\" tempo=\"1.12\">\n",
      "    </row>\n",
      "    <row codigo=\"1159\" codigoprotecao=\"1022\" corrente=\"300\" curva=\"Min\" modeloprotecao=\"50K\" tempo=\"0.68\">\n",
      "    </row>\n",
      "    <row codigo=\"1160\" codigoprotecao=\"1022\" corrente=\"350\" curva=\"Min\" modeloprotecao=\"50K\" tempo=\"0.46\">\n",
      "    </row>\n",
      "    <row codigo=\"1162\" codigoprotecao=\"1022\" corrente=\"400\" curva=\"Min\" modeloprotecao=\"50K\" tempo=\"0.34\">\n",
      "    </row>\n",
      "    <row codigo=\"1165\" codigoprotecao=\"1022\" corrente=\"500\" curva=\"Min\" modeloprotecao=\"50K\" tempo=\"0.205\">\n",
      "    </row>\n",
      "    <row codigo=\"1166\" codigoprotecao=\"1022\" corrente=\"600\" curva=\"Min\" modeloprotecao=\"50K\" tempo=\"0.139\">\n",
      "    </row>\n",
      "    <row codigo=\"1169\" codigoprotecao=\"1022\" corrente=\"800\" curva=\"Min\" modeloprotecao=\"50K\" tempo=\"0.078\">\n",
      "    </row>\n",
      "    <row codigo=\"1172\" codigoprotecao=\"1022\" corrente=\"1000\" curva=\"Min\" modeloprotecao=\"50K\" tempo=\"0.05\">\n",
      "    </row>\n",
      "    <row codigo=\"1175\" codigoprotecao=\"1022\" corrente=\"1300\" curva=\"Min\" modeloprotecao=\"50K\" tempo=\"0.03\">\n",
      "    </row>\n",
      "    <row codigo=\"1177\" codigoprotecao=\"1022\" corrente=\"1600\" curva=\"Min\" modeloprotecao=\"50K\" tempo=\"0.0199\">\n",
      "    </row>\n",
      "    <row codigo=\"1179\" codigoprotecao=\"1022\" corrente=\"2210\" curva=\"Min\" modeloprotecao=\"50K\" tempo=\"0.01\">\n",
      "    </row>\n",
      "    <row codigo=\"1180\" codigoprotecao=\"1022\" corrente=\"135\" curva=\"Max\" modeloprotecao=\"50K\" tempo=\"100\">\n",
      "    </row>\n",
      "    <row codigo=\"1181\" codigoprotecao=\"1022\" corrente=\"150\" curva=\"Max\" modeloprotecao=\"50K\" tempo=\"40\">\n",
      "    </row>\n",
      "    <row codigo=\"1424\" codigoprotecao=\"1022\" corrente=\"155\" curva=\"Max\" modeloprotecao=\"50K\" tempo=\"31\">\n",
      "    </row>\n",
      "    <row codigo=\"1425\" codigoprotecao=\"1022\" corrente=\"170\" curva=\"Max\" modeloprotecao=\"50K\" tempo=\"12\">\n",
      "    </row>\n",
      "    <row codigo=\"1182\" codigoprotecao=\"1022\" corrente=\"200\" curva=\"Max\" modeloprotecao=\"50K\" tempo=\"4.9\">\n",
      "    </row>\n",
      "    <row codigo=\"1183\" codigoprotecao=\"1022\" corrente=\"250\" curva=\"Max\" modeloprotecao=\"50K\" tempo=\"1.8\">\n",
      "    </row>\n",
      "    <row codigo=\"1184\" codigoprotecao=\"1022\" corrente=\"300\" curva=\"Max\" modeloprotecao=\"50K\" tempo=\"0.96\">\n",
      "    </row>\n",
      "    <row codigo=\"1185\" codigoprotecao=\"1022\" corrente=\"350\" curva=\"Max\" modeloprotecao=\"50K\" tempo=\"0.635\">\n",
      "    </row>\n",
      "    <row codigo=\"1186\" codigoprotecao=\"1022\" corrente=\"400\" curva=\"Max\" modeloprotecao=\"50K\" tempo=\"0.465\">\n",
      "    </row>\n",
      "    <row codigo=\"1187\" codigoprotecao=\"1022\" corrente=\"500\" curva=\"Max\" modeloprotecao=\"50K\" tempo=\"0.29\">\n",
      "    </row>\n",
      "    <row codigo=\"1189\" codigoprotecao=\"1022\" corrente=\"600\" curva=\"Max\" modeloprotecao=\"50K\" tempo=\"0.205\">\n",
      "    </row>\n",
      "    <row codigo=\"1191\" codigoprotecao=\"1022\" corrente=\"800\" curva=\"Max\" modeloprotecao=\"50K\" tempo=\"0.121\">\n",
      "    </row>\n",
      "    <row codigo=\"1193\" codigoprotecao=\"1022\" corrente=\"1000\" curva=\"Max\" modeloprotecao=\"50K\" tempo=\"0.083\">\n",
      "    </row>\n",
      "    <row codigo=\"1196\" codigoprotecao=\"1022\" corrente=\"1300\" curva=\"Max\" modeloprotecao=\"50K\" tempo=\"0.053\">\n",
      "    </row>\n",
      "    <row codigo=\"1199\" codigoprotecao=\"1022\" corrente=\"1700\" curva=\"Max\" modeloprotecao=\"50K\" tempo=\"0.034\">\n",
      "    </row>\n",
      "    <row codigo=\"1200\" codigoprotecao=\"1022\" corrente=\"2000\" curva=\"Max\" modeloprotecao=\"50K\" tempo=\"0.0268\">\n",
      "    </row>\n",
      "    <row codigo=\"1201\" codigoprotecao=\"1022\" corrente=\"2300\" curva=\"Max\" modeloprotecao=\"50K\" tempo=\"0.0229\">\n",
      "    </row>\n",
      "    <row codigo=\"1202\" codigoprotecao=\"1022\" corrente=\"3000\" curva=\"Max\" modeloprotecao=\"50K\" tempo=\"0.0181\">\n",
      "    </row>\n",
      "    <row codigo=\"1204\" codigoprotecao=\"1022\" corrente=\"4200\" curva=\"Max\" modeloprotecao=\"50K\" tempo=\"0.015\">\n",
      "    </row>\n",
      "    <row codigo=\"1205\" codigoprotecao=\"1023\" corrente=\"165\" curva=\"Min\" modeloprotecao=\"80K\" tempo=\"100\">\n",
      "    </row>\n",
      "    <row codigo=\"1206\" codigoprotecao=\"1023\" corrente=\"200\" curva=\"Min\" modeloprotecao=\"80K\" tempo=\"46\">\n",
      "    </row>\n",
      "    <row codigo=\"1426\" codigoprotecao=\"1023\" corrente=\"230\" curva=\"Min\" modeloprotecao=\"80K\" tempo=\"22\">\n",
      "    </row>\n",
      "    <row codigo=\"1207\" codigoprotecao=\"1023\" corrente=\"250\" curva=\"Min\" modeloprotecao=\"80K\" tempo=\"12.3\">\n",
      "    </row>\n",
      "    <row codigo=\"1427\" codigoprotecao=\"1023\" corrente=\"270\" curva=\"Min\" modeloprotecao=\"80K\" tempo=\"6.2\">\n",
      "    </row>\n",
      "    <row codigo=\"1208\" codigoprotecao=\"1023\" corrente=\"300\" curva=\"Min\" modeloprotecao=\"80K\" tempo=\"3.35\">\n",
      "    </row>\n",
      "    <row codigo=\"1209\" codigoprotecao=\"1023\" corrente=\"350\" curva=\"Min\" modeloprotecao=\"80K\" tempo=\"1.8\">\n",
      "    </row>\n",
      "    <row codigo=\"1210\" codigoprotecao=\"1023\" corrente=\"400\" curva=\"Min\" modeloprotecao=\"80K\" tempo=\"1.15\">\n",
      "    </row>\n",
      "    <row codigo=\"1211\" codigoprotecao=\"1023\" corrente=\"450\" curva=\"Min\" modeloprotecao=\"80K\" tempo=\"0.8100000000000001\">\n",
      "    </row>\n",
      "    <row codigo=\"1212\" codigoprotecao=\"1023\" corrente=\"500\" curva=\"Min\" modeloprotecao=\"80K\" tempo=\"0.6\">\n",
      "    </row>\n",
      "    <row codigo=\"1213\" codigoprotecao=\"1023\" corrente=\"600\" curva=\"Min\" modeloprotecao=\"80K\" tempo=\"0.375\">\n",
      "    </row>\n",
      "    <row codigo=\"1215\" codigoprotecao=\"1023\" corrente=\"800\" curva=\"Min\" modeloprotecao=\"80K\" tempo=\"0.195\">\n",
      "    </row>\n",
      "    <row codigo=\"1217\" codigoprotecao=\"1023\" corrente=\"1000\" curva=\"Min\" modeloprotecao=\"80K\" tempo=\"0.123\">\n",
      "    </row>\n",
      "    <row codigo=\"1219\" codigoprotecao=\"1023\" corrente=\"1200\" curva=\"Min\" modeloprotecao=\"80K\" tempo=\"0.08699999999999999\">\n",
      "    </row>\n",
      "    <row codigo=\"1222\" codigoprotecao=\"1023\" corrente=\"1500\" curva=\"Min\" modeloprotecao=\"80K\" tempo=\"0.056\">\n",
      "    </row>\n",
      "    <row codigo=\"1227\" codigoprotecao=\"1023\" corrente=\"2000\" curva=\"Min\" modeloprotecao=\"80K\" tempo=\"0.0322\">\n",
      "    </row>\n",
      "    <row codigo=\"1229\" codigoprotecao=\"1023\" corrente=\"2500\" curva=\"Min\" modeloprotecao=\"80K\" tempo=\"0.021\">\n",
      "    </row>\n",
      "    <row codigo=\"1231\" codigoprotecao=\"1023\" corrente=\"3000\" curva=\"Min\" modeloprotecao=\"80K\" tempo=\"0.0143\">\n",
      "    </row>\n",
      "    <row codigo=\"1233\" codigoprotecao=\"1023\" corrente=\"3500\" curva=\"Min\" modeloprotecao=\"80K\" tempo=\"0.01\">\n",
      "    </row>\n",
      "    <row codigo=\"1234\" codigoprotecao=\"1023\" corrente=\"195\" curva=\"Max\" modeloprotecao=\"80K\" tempo=\"100\">\n",
      "    </row>\n",
      "    <row codigo=\"1235\" codigoprotecao=\"1023\" corrente=\"220\" curva=\"Max\" modeloprotecao=\"80K\" tempo=\"65\">\n",
      "    </row>\n",
      "    <row codigo=\"1236\" codigoprotecao=\"1023\" corrente=\"250\" curva=\"Max\" modeloprotecao=\"80K\" tempo=\"33\">\n",
      "    </row>\n",
      "    <row codigo=\"1428\" codigoprotecao=\"1023\" corrente=\"290\" curva=\"Max\" modeloprotecao=\"80K\" tempo=\"14.5\">\n",
      "    </row>\n",
      "    <row codigo=\"1238\" codigoprotecao=\"1023\" corrente=\"350\" curva=\"Max\" modeloprotecao=\"80K\" tempo=\"4.8\">\n",
      "    </row>\n",
      "    <row codigo=\"1239\" codigoprotecao=\"1023\" corrente=\"400\" curva=\"Max\" modeloprotecao=\"80K\" tempo=\"2.7\">\n",
      "    </row>\n",
      "    <row codigo=\"1240\" codigoprotecao=\"1023\" corrente=\"450\" curva=\"Max\" modeloprotecao=\"80K\" tempo=\"1.7\">\n",
      "    </row>\n",
      "    <row codigo=\"1241\" codigoprotecao=\"1023\" corrente=\"500\" curva=\"Max\" modeloprotecao=\"80K\" tempo=\"1.1\">\n",
      "    </row>\n",
      "    <row codigo=\"1242\" codigoprotecao=\"1023\" corrente=\"600\" curva=\"Max\" modeloprotecao=\"80K\" tempo=\"0.64\">\n",
      "    </row>\n",
      "    <row codigo=\"1244\" codigoprotecao=\"1023\" corrente=\"800\" curva=\"Max\" modeloprotecao=\"80K\" tempo=\"0.328\">\n",
      "    </row>\n",
      "    <row codigo=\"1246\" codigoprotecao=\"1023\" corrente=\"1000\" curva=\"Max\" modeloprotecao=\"80K\" tempo=\"0.205\">\n",
      "    </row>\n",
      "    <row codigo=\"1248\" codigoprotecao=\"1023\" corrente=\"1300\" curva=\"Max\" modeloprotecao=\"80K\" tempo=\"0.125\">\n",
      "    </row>\n",
      "    <row codigo=\"1249\" codigoprotecao=\"1023\" corrente=\"1500\" curva=\"Max\" modeloprotecao=\"80K\" tempo=\"0.098\">\n",
      "    </row>\n",
      "    <row codigo=\"1253\" codigoprotecao=\"1023\" corrente=\"2000\" curva=\"Max\" modeloprotecao=\"80K\" tempo=\"0.0585\">\n",
      "    </row>\n",
      "    <row codigo=\"1256\" codigoprotecao=\"1023\" corrente=\"2500\" curva=\"Max\" modeloprotecao=\"80K\" tempo=\"0.041\">\n",
      "    </row>\n",
      "    <row codigo=\"1258\" codigoprotecao=\"1023\" corrente=\"3000\" curva=\"Max\" modeloprotecao=\"80K\" tempo=\"0.032\">\n",
      "    </row>\n",
      "    <row codigo=\"1259\" codigoprotecao=\"1023\" corrente=\"3500\" curva=\"Max\" modeloprotecao=\"80K\" tempo=\"0.0265\">\n",
      "    </row>\n",
      "    <row codigo=\"1260\" codigoprotecao=\"1023\" corrente=\"4000\" curva=\"Max\" modeloprotecao=\"80K\" tempo=\"0.0228\">\n",
      "    </row>\n",
      "    <row codigo=\"1261\" codigoprotecao=\"1023\" corrente=\"4500\" curva=\"Max\" modeloprotecao=\"80K\" tempo=\"0.0201\">\n",
      "    </row>\n",
      "    <row codigo=\"1262\" codigoprotecao=\"1023\" corrente=\"5000\" curva=\"Max\" modeloprotecao=\"80K\" tempo=\"0.0181\">\n",
      "    </row>\n",
      "    <row codigo=\"1263\" codigoprotecao=\"1023\" corrente=\"6000\" curva=\"Max\" modeloprotecao=\"80K\" tempo=\"0.0159\">\n",
      "    </row>\n",
      "    <row codigo=\"1429\" codigoprotecao=\"1023\" corrente=\"6200\" curva=\"Max\" modeloprotecao=\"80K\" tempo=\"0.0151\">\n",
      "    </row>\n",
      "    <row codigo=\"1430\" codigoprotecao=\"1024\" corrente=\"50\" curva=\"Min\" modeloprotecao=\"Hitachi-Line 25ES\" tempo=\"200\">\n",
      "    </row>\n",
      "    <row codigo=\"1431\" codigoprotecao=\"1024\" corrente=\"55\" curva=\"Min\" modeloprotecao=\"Hitachi-Line 25ES\" tempo=\"70\">\n",
      "    </row>\n",
      "    <row codigo=\"1432\" codigoprotecao=\"1024\" corrente=\"60\" curva=\"Min\" modeloprotecao=\"Hitachi-Line 25ES\" tempo=\"32\">\n",
      "    </row>\n",
      "    <row codigo=\"1433\" codigoprotecao=\"1024\" corrente=\"70\" curva=\"Min\" modeloprotecao=\"Hitachi-Line 25ES\" tempo=\"15\">\n",
      "    </row>\n",
      "    <row codigo=\"1434\" codigoprotecao=\"1024\" corrente=\"80\" curva=\"Min\" modeloprotecao=\"Hitachi-Line 25ES\" tempo=\"9.5\">\n",
      "    </row>\n",
      "    <row codigo=\"1435\" codigoprotecao=\"1024\" corrente=\"90\" curva=\"Min\" modeloprotecao=\"Hitachi-Line 25ES\" tempo=\"6.7\">\n",
      "    </row>\n",
      "    <row codigo=\"1436\" codigoprotecao=\"1024\" corrente=\"100\" curva=\"Min\" modeloprotecao=\"Hitachi-Line 25ES\" tempo=\"5\">\n",
      "    </row>\n",
      "    <row codigo=\"1437\" codigoprotecao=\"1024\" corrente=\"150\" curva=\"Min\" modeloprotecao=\"Hitachi-Line 25ES\" tempo=\"2.2\">\n",
      "    </row>\n",
      "    <row codigo=\"1438\" codigoprotecao=\"1024\" corrente=\"200\" curva=\"Min\" modeloprotecao=\"Hitachi-Line 25ES\" tempo=\"1.25\">\n",
      "    </row>\n",
      "    <row codigo=\"1439\" codigoprotecao=\"1024\" corrente=\"250\" curva=\"Min\" modeloprotecao=\"Hitachi-Line 25ES\" tempo=\"0.8\">\n",
      "    </row>\n",
      "    <row codigo=\"1440\" codigoprotecao=\"1024\" corrente=\"300\" curva=\"Min\" modeloprotecao=\"Hitachi-Line 25ES\" tempo=\"0.55\">\n",
      "    </row>\n",
      "    <row codigo=\"1441\" codigoprotecao=\"1024\" corrente=\"350\" curva=\"Min\" modeloprotecao=\"Hitachi-Line 25ES\" tempo=\"0.4\">\n",
      "    </row>\n",
      "    <row codigo=\"1442\" codigoprotecao=\"1024\" corrente=\"400\" curva=\"Min\" modeloprotecao=\"Hitachi-Line 25ES\" tempo=\"0.305\">\n",
      "    </row>\n",
      "    <row codigo=\"1443\" codigoprotecao=\"1024\" corrente=\"450\" curva=\"Min\" modeloprotecao=\"Hitachi-Line 25ES\" tempo=\"0.25\">\n",
      "    </row>\n",
      "    <row codigo=\"1444\" codigoprotecao=\"1024\" corrente=\"500\" curva=\"Min\" modeloprotecao=\"Hitachi-Line 25ES\" tempo=\"0.2\">\n",
      "    </row>\n",
      "    <row codigo=\"1445\" codigoprotecao=\"1024\" corrente=\"600\" curva=\"Min\" modeloprotecao=\"Hitachi-Line 25ES\" tempo=\"0.14\">\n",
      "    </row>\n",
      "    <row codigo=\"1446\" codigoprotecao=\"1024\" corrente=\"700\" curva=\"Min\" modeloprotecao=\"Hitachi-Line 25ES\" tempo=\"0.1\">\n",
      "    </row>\n",
      "    <row codigo=\"1447\" codigoprotecao=\"1024\" corrente=\"800\" curva=\"Min\" modeloprotecao=\"Hitachi-Line 25ES\" tempo=\"0.079\">\n",
      "    </row>\n",
      "    <row codigo=\"1448\" codigoprotecao=\"1024\" corrente=\"900\" curva=\"Min\" modeloprotecao=\"Hitachi-Line 25ES\" tempo=\"0.062\">\n",
      "    </row>\n",
      "    <row codigo=\"1449\" codigoprotecao=\"1024\" corrente=\"1000\" curva=\"Min\" modeloprotecao=\"Hitachi-Line 25ES\" tempo=\"0.05\">\n",
      "    </row>\n",
      "    <row codigo=\"1450\" codigoprotecao=\"1024\" corrente=\"1500\" curva=\"Min\" modeloprotecao=\"Hitachi-Line 25ES\" tempo=\"0.023\">\n",
      "    </row>\n",
      "    <row codigo=\"1451\" codigoprotecao=\"1024\" corrente=\"2000\" curva=\"Min\" modeloprotecao=\"Hitachi-Line 25ES\" tempo=\"0.013\">\n",
      "    </row>\n",
      "    <row codigo=\"1452\" codigoprotecao=\"1024\" corrente=\"2300\" curva=\"Min\" modeloprotecao=\"Hitachi-Line 25ES\" tempo=\"0.01\">\n",
      "    </row>\n",
      "    <row codigo=\"1453\" codigoprotecao=\"1024\" corrente=\"60\" curva=\"Max\" modeloprotecao=\"Hitachi-Line 25ES\" tempo=\"200\">\n",
      "    </row>\n",
      "    <row codigo=\"1454\" codigoprotecao=\"1024\" corrente=\"70\" curva=\"Max\" modeloprotecao=\"Hitachi-Line 25ES\" tempo=\"40\">\n",
      "    </row>\n",
      "    <row codigo=\"1455\" codigoprotecao=\"1024\" corrente=\"80\" curva=\"Max\" modeloprotecao=\"Hitachi-Line 25ES\" tempo=\"20\">\n",
      "    </row>\n",
      "    <row codigo=\"1456\" codigoprotecao=\"1024\" corrente=\"90\" curva=\"Max\" modeloprotecao=\"Hitachi-Line 25ES\" tempo=\"12.5\">\n",
      "    </row>\n",
      "    <row codigo=\"1457\" codigoprotecao=\"1024\" corrente=\"100\" curva=\"Max\" modeloprotecao=\"Hitachi-Line 25ES\" tempo=\"8.9\">\n",
      "    </row>\n",
      "    <row codigo=\"1458\" codigoprotecao=\"1024\" corrente=\"150\" curva=\"Max\" modeloprotecao=\"Hitachi-Line 25ES\" tempo=\"3.5\">\n",
      "    </row>\n",
      "    <row codigo=\"1459\" codigoprotecao=\"1024\" corrente=\"200\" curva=\"Max\" modeloprotecao=\"Hitachi-Line 25ES\" tempo=\"2.2\">\n",
      "    </row>\n",
      "    <row codigo=\"1460\" codigoprotecao=\"1024\" corrente=\"250\" curva=\"Max\" modeloprotecao=\"Hitachi-Line 25ES\" tempo=\"1.45\">\n",
      "    </row>\n",
      "    <row codigo=\"1461\" codigoprotecao=\"1024\" corrente=\"300\" curva=\"Max\" modeloprotecao=\"Hitachi-Line 25ES\" tempo=\"1\">\n",
      "    </row>\n",
      "    <row codigo=\"1462\" codigoprotecao=\"1024\" corrente=\"350\" curva=\"Max\" modeloprotecao=\"Hitachi-Line 25ES\" tempo=\"0.78\">\n",
      "    </row>\n",
      "    <row codigo=\"1463\" codigoprotecao=\"1024\" corrente=\"400\" curva=\"Max\" modeloprotecao=\"Hitachi-Line 25ES\" tempo=\"0.61\">\n",
      "    </row>\n",
      "    <row codigo=\"1464\" codigoprotecao=\"1024\" corrente=\"450\" curva=\"Max\" modeloprotecao=\"Hitachi-Line 25ES\" tempo=\"0.51\">\n",
      "    </row>\n",
      "    <row codigo=\"1465\" codigoprotecao=\"1024\" corrente=\"500\" curva=\"Max\" modeloprotecao=\"Hitachi-Line 25ES\" tempo=\"0.41\">\n",
      "    </row>\n",
      "    <row codigo=\"1466\" codigoprotecao=\"1024\" corrente=\"600\" curva=\"Max\" modeloprotecao=\"Hitachi-Line 25ES\" tempo=\"0.3\">\n",
      "    </row>\n",
      "    <row codigo=\"1467\" codigoprotecao=\"1024\" corrente=\"700\" curva=\"Max\" modeloprotecao=\"Hitachi-Line 25ES\" tempo=\"0.24\">\n",
      "    </row>\n",
      "    <row codigo=\"1468\" codigoprotecao=\"1024\" corrente=\"800\" curva=\"Max\" modeloprotecao=\"Hitachi-Line 25ES\" tempo=\"0.18\">\n",
      "    </row>\n",
      "    <row codigo=\"1469\" codigoprotecao=\"1024\" corrente=\"900\" curva=\"Max\" modeloprotecao=\"Hitachi-Line 25ES\" tempo=\"0.15\">\n",
      "    </row>\n",
      "    <row codigo=\"1470\" codigoprotecao=\"1024\" corrente=\"1000\" curva=\"Max\" modeloprotecao=\"Hitachi-Line 25ES\" tempo=\"0.13\">\n",
      "    </row>\n",
      "    <row codigo=\"1471\" codigoprotecao=\"1024\" corrente=\"1500\" curva=\"Max\" modeloprotecao=\"Hitachi-Line 25ES\" tempo=\"0.066\">\n",
      "    </row>\n",
      "    <row codigo=\"1472\" codigoprotecao=\"1024\" corrente=\"2000\" curva=\"Max\" modeloprotecao=\"Hitachi-Line 25ES\" tempo=\"0.045\">\n",
      "    </row>\n",
      "    <row codigo=\"1473\" codigoprotecao=\"1024\" corrente=\"2500\" curva=\"Max\" modeloprotecao=\"Hitachi-Line 25ES\" tempo=\"0.036\">\n",
      "    </row>\n",
      "    <row codigo=\"1583\" codigoprotecao=\"1024\" corrente=\"3000\" curva=\"Max\" modeloprotecao=\"Hitachi-Line 25ES\" tempo=\"0.03\">\n",
      "    </row>\n",
      "    <row codigo=\"1474\" codigoprotecao=\"1025\" corrente=\"100\" curva=\"Min\" modeloprotecao=\"Hitachi-Line 50ES\" tempo=\"200\">\n",
      "    </row>\n",
      "    <row codigo=\"1475\" codigoprotecao=\"1025\" corrente=\"125\" curva=\"Min\" modeloprotecao=\"Hitachi-Line 50ES\" tempo=\"37\">\n",
      "    </row>\n",
      "    <row codigo=\"1476\" codigoprotecao=\"1025\" corrente=\"150\" curva=\"Min\" modeloprotecao=\"Hitachi-Line 50ES\" tempo=\"14\">\n",
      "    </row>\n",
      "    <row codigo=\"1477\" codigoprotecao=\"1025\" corrente=\"200\" curva=\"Min\" modeloprotecao=\"Hitachi-Line 50ES\" tempo=\"6.1\">\n",
      "    </row>\n",
      "    <row codigo=\"1478\" codigoprotecao=\"1025\" corrente=\"250\" curva=\"Min\" modeloprotecao=\"Hitachi-Line 50ES\" tempo=\"3.7\">\n",
      "    </row>\n",
      "    <row codigo=\"1479\" codigoprotecao=\"1025\" corrente=\"300\" curva=\"Min\" modeloprotecao=\"Hitachi-Line 50ES\" tempo=\"2.5\">\n",
      "    </row>\n",
      "    <row codigo=\"1480\" codigoprotecao=\"1025\" corrente=\"350\" curva=\"Min\" modeloprotecao=\"Hitachi-Line 50ES\" tempo=\"1.8\">\n",
      "    </row>\n",
      "    <row codigo=\"1481\" codigoprotecao=\"1025\" corrente=\"400\" curva=\"Min\" modeloprotecao=\"Hitachi-Line 50ES\" tempo=\"1.4\">\n",
      "    </row>\n",
      "    <row codigo=\"1482\" codigoprotecao=\"1025\" corrente=\"450\" curva=\"Min\" modeloprotecao=\"Hitachi-Line 50ES\" tempo=\"1.1\">\n",
      "    </row>\n",
      "    <row codigo=\"1483\" codigoprotecao=\"1025\" corrente=\"500\" curva=\"Min\" modeloprotecao=\"Hitachi-Line 50ES\" tempo=\"0.9\">\n",
      "    </row>\n",
      "    <row codigo=\"1484\" codigoprotecao=\"1025\" corrente=\"600\" curva=\"Min\" modeloprotecao=\"Hitachi-Line 50ES\" tempo=\"0.62\">\n",
      "    </row>\n",
      "    <row codigo=\"1485\" codigoprotecao=\"1025\" corrente=\"700\" curva=\"Min\" modeloprotecao=\"Hitachi-Line 50ES\" tempo=\"0.46\">\n",
      "    </row>\n",
      "    <row codigo=\"1486\" codigoprotecao=\"1025\" corrente=\"800\" curva=\"Min\" modeloprotecao=\"Hitachi-Line 50ES\" tempo=\"0.35\">\n",
      "    </row>\n",
      "    <row codigo=\"1487\" codigoprotecao=\"1025\" corrente=\"900\" curva=\"Min\" modeloprotecao=\"Hitachi-Line 50ES\" tempo=\"0.28\">\n",
      "    </row>\n",
      "    <row codigo=\"1488\" codigoprotecao=\"1025\" corrente=\"1000\" curva=\"Min\" modeloprotecao=\"Hitachi-Line 50ES\" tempo=\"0.22\">\n",
      "    </row>\n",
      "    <row codigo=\"1489\" codigoprotecao=\"1025\" corrente=\"1500\" curva=\"Min\" modeloprotecao=\"Hitachi-Line 50ES\" tempo=\"0.1\">\n",
      "    </row>\n",
      "    <row codigo=\"1490\" codigoprotecao=\"1025\" corrente=\"2000\" curva=\"Min\" modeloprotecao=\"Hitachi-Line 50ES\" tempo=\"0.057\">\n",
      "    </row>\n",
      "    <row codigo=\"1491\" codigoprotecao=\"1025\" corrente=\"2500\" curva=\"Min\" modeloprotecao=\"Hitachi-Line 50ES\" tempo=\"0.037\">\n",
      "    </row>\n",
      "    <row codigo=\"1492\" codigoprotecao=\"1025\" corrente=\"3000\" curva=\"Min\" modeloprotecao=\"Hitachi-Line 50ES\" tempo=\"0.026\">\n",
      "    </row>\n",
      "    <row codigo=\"1493\" codigoprotecao=\"1025\" corrente=\"4000\" curva=\"Min\" modeloprotecao=\"Hitachi-Line 50ES\" tempo=\"0.014\">\n",
      "    </row>\n",
      "    <row codigo=\"1584\" codigoprotecao=\"1025\" corrente=\"4800\" curva=\"Min\" modeloprotecao=\"Hitachi-Line 50ES\" tempo=\"0.01\">\n",
      "    </row>\n",
      "    <row codigo=\"1494\" codigoprotecao=\"1025\" corrente=\"130\" curva=\"Max\" modeloprotecao=\"Hitachi-Line 50ES\" tempo=\"200\">\n",
      "    </row>\n",
      "    <row codigo=\"1495\" codigoprotecao=\"1025\" corrente=\"150\" curva=\"Max\" modeloprotecao=\"Hitachi-Line 50ES\" tempo=\"34\">\n",
      "    </row>\n",
      "    <row codigo=\"1496\" codigoprotecao=\"1025\" corrente=\"200\" curva=\"Max\" modeloprotecao=\"Hitachi-Line 50ES\" tempo=\"11\">\n",
      "    </row>\n",
      "    <row codigo=\"1497\" codigoprotecao=\"1025\" corrente=\"250\" curva=\"Max\" modeloprotecao=\"Hitachi-Line 50ES\" tempo=\"5.8\">\n",
      "    </row>\n",
      "    <row codigo=\"1498\" codigoprotecao=\"1025\" corrente=\"300\" curva=\"Max\" modeloprotecao=\"Hitachi-Line 50ES\" tempo=\"3.9\">\n",
      "    </row>\n",
      "    <row codigo=\"1499\" codigoprotecao=\"1025\" corrente=\"350\" curva=\"Max\" modeloprotecao=\"Hitachi-Line 50ES\" tempo=\"2.9\">\n",
      "    </row>\n",
      "    <row codigo=\"1500\" codigoprotecao=\"1025\" corrente=\"400\" curva=\"Max\" modeloprotecao=\"Hitachi-Line 50ES\" tempo=\"2.3\">\n",
      "    </row>\n",
      "    <row codigo=\"1501\" codigoprotecao=\"1025\" corrente=\"450\" curva=\"Max\" modeloprotecao=\"Hitachi-Line 50ES\" tempo=\"1.8\">\n",
      "    </row>\n",
      "    <row codigo=\"1502\" codigoprotecao=\"1025\" corrente=\"500\" curva=\"Max\" modeloprotecao=\"Hitachi-Line 50ES\" tempo=\"1.5\">\n",
      "    </row>\n",
      "    <row codigo=\"1503\" codigoprotecao=\"1025\" corrente=\"600\" curva=\"Max\" modeloprotecao=\"Hitachi-Line 50ES\" tempo=\"1.1\">\n",
      "    </row>\n",
      "    <row codigo=\"1504\" codigoprotecao=\"1025\" corrente=\"700\" curva=\"Max\" modeloprotecao=\"Hitachi-Line 50ES\" tempo=\"0.85\">\n",
      "    </row>\n",
      "    <row codigo=\"1505\" codigoprotecao=\"1025\" corrente=\"800\" curva=\"Max\" modeloprotecao=\"Hitachi-Line 50ES\" tempo=\"0.66\">\n",
      "    </row>\n",
      "    <row codigo=\"1506\" codigoprotecao=\"1025\" corrente=\"900\" curva=\"Max\" modeloprotecao=\"Hitachi-Line 50ES\" tempo=\"0.53\">\n",
      "    </row>\n",
      "    <row codigo=\"1507\" codigoprotecao=\"1025\" corrente=\"1000\" curva=\"Max\" modeloprotecao=\"Hitachi-Line 50ES\" tempo=\"0.43\">\n",
      "    </row>\n",
      "    <row codigo=\"1508\" codigoprotecao=\"1025\" corrente=\"1500\" curva=\"Max\" modeloprotecao=\"Hitachi-Line 50ES\" tempo=\"0.22\">\n",
      "    </row>\n",
      "    <row codigo=\"1509\" codigoprotecao=\"1025\" corrente=\"2000\" curva=\"Max\" modeloprotecao=\"Hitachi-Line 50ES\" tempo=\"0.13\">\n",
      "    </row>\n",
      "    <row codigo=\"1510\" codigoprotecao=\"1025\" corrente=\"2500\" curva=\"Max\" modeloprotecao=\"Hitachi-Line 50ES\" tempo=\"0.095\">\n",
      "    </row>\n",
      "    <row codigo=\"1511\" codigoprotecao=\"1025\" corrente=\"3000\" curva=\"Max\" modeloprotecao=\"Hitachi-Line 50ES\" tempo=\"0.07000000000000001\">\n",
      "    </row>\n",
      "    <row codigo=\"1512\" codigoprotecao=\"1025\" corrente=\"4000\" curva=\"Max\" modeloprotecao=\"Hitachi-Line 50ES\" tempo=\"0.05\">\n",
      "    </row>\n",
      "    <row codigo=\"1513\" codigoprotecao=\"1025\" corrente=\"5000\" curva=\"Max\" modeloprotecao=\"Hitachi-Line 50ES\" tempo=\"0.038\">\n",
      "    </row>\n",
      "    <row codigo=\"1514\" codigoprotecao=\"1025\" corrente=\"6200\" curva=\"Max\" modeloprotecao=\"Hitachi-Line 50ES\" tempo=\"0.03\">\n",
      "    </row>\n",
      "    <row codigo=\"1515\" codigoprotecao=\"1027\" corrente=\"100\" curva=\"Min\" modeloprotecao=\"Hitachi-Line 50EF\" tempo=\"300\">\n",
      "    </row>\n",
      "    <row codigo=\"1620\" codigoprotecao=\"1027\" corrente=\"120\" curva=\"Min\" modeloprotecao=\"Hitachi-Line 50EF\" tempo=\"100\">\n",
      "    </row>\n",
      "    <row codigo=\"1621\" codigoprotecao=\"1027\" corrente=\"140\" curva=\"Min\" modeloprotecao=\"Hitachi-Line 50EF\" tempo=\"20\">\n",
      "    </row>\n",
      "    <row codigo=\"1516\" codigoprotecao=\"1027\" corrente=\"150\" curva=\"Min\" modeloprotecao=\"Hitachi-Line 50EF\" tempo=\"12\">\n",
      "    </row>\n",
      "    <row codigo=\"1622\" codigoprotecao=\"1027\" corrente=\"170\" curva=\"Min\" modeloprotecao=\"Hitachi-Line 50EF\" tempo=\"5\">\n",
      "    </row>\n",
      "    <row codigo=\"1517\" codigoprotecao=\"1027\" corrente=\"200\" curva=\"Min\" modeloprotecao=\"Hitachi-Line 50EF\" tempo=\"2.3\">\n",
      "    </row>\n",
      "    <row codigo=\"1518\" codigoprotecao=\"1027\" corrente=\"250\" curva=\"Min\" modeloprotecao=\"Hitachi-Line 50EF\" tempo=\"1.2\">\n",
      "    </row>\n",
      "    <row codigo=\"1519\" codigoprotecao=\"1027\" corrente=\"300\" curva=\"Min\" modeloprotecao=\"Hitachi-Line 50EF\" tempo=\"0.7\">\n",
      "    </row>\n",
      "    <row codigo=\"1521\" codigoprotecao=\"1027\" corrente=\"400\" curva=\"Min\" modeloprotecao=\"Hitachi-Line 50EF\" tempo=\"0.35\">\n",
      "    </row>\n",
      "    <row codigo=\"1522\" codigoprotecao=\"1027\" corrente=\"450\" curva=\"Min\" modeloprotecao=\"Hitachi-Line 50EF\" tempo=\"0.27\">\n",
      "    </row>\n",
      "    <row codigo=\"1523\" codigoprotecao=\"1027\" corrente=\"500\" curva=\"Min\" modeloprotecao=\"Hitachi-Line 50EF\" tempo=\"0.22\">\n",
      "    </row>\n",
      "    <row codigo=\"1524\" codigoprotecao=\"1027\" corrente=\"600\" curva=\"Min\" modeloprotecao=\"Hitachi-Line 50EF\" tempo=\"0.15\">\n",
      "    </row>\n",
      "    <row codigo=\"1525\" codigoprotecao=\"1027\" corrente=\"700\" curva=\"Min\" modeloprotecao=\"Hitachi-Line 50EF\" tempo=\"0.11\">\n",
      "    </row>\n",
      "    <row codigo=\"1526\" codigoprotecao=\"1027\" corrente=\"800\" curva=\"Min\" modeloprotecao=\"Hitachi-Line 50EF\" tempo=\"0.08\">\n",
      "    </row>\n",
      "    <row codigo=\"1527\" codigoprotecao=\"1027\" corrente=\"900\" curva=\"Min\" modeloprotecao=\"Hitachi-Line 50EF\" tempo=\"0.063\">\n",
      "    </row>\n",
      "    <row codigo=\"1528\" codigoprotecao=\"1027\" corrente=\"1000\" curva=\"Min\" modeloprotecao=\"Hitachi-Line 50EF\" tempo=\"0.05\">\n",
      "    </row>\n",
      "    <row codigo=\"1529\" codigoprotecao=\"1027\" corrente=\"1700\" curva=\"Min\" modeloprotecao=\"Hitachi-Line 50EF\" tempo=\"0.02\">\n",
      "    </row>\n",
      "    <row codigo=\"1530\" codigoprotecao=\"1027\" corrente=\"2350\" curva=\"Min\" modeloprotecao=\"Hitachi-Line 50EF\" tempo=\"0.01\">\n",
      "    </row>\n",
      "    <row codigo=\"1623\" codigoprotecao=\"1027\" corrente=\"130\" curva=\"Max\" modeloprotecao=\"Hitachi-Line 50EF\" tempo=\"300\">\n",
      "    </row>\n",
      "    <row codigo=\"1531\" codigoprotecao=\"1027\" corrente=\"150\" curva=\"Max\" modeloprotecao=\"Hitachi-Line 50EF\" tempo=\"45\">\n",
      "    </row>\n",
      "    <row codigo=\"1624\" codigoprotecao=\"1027\" corrente=\"175\" curva=\"Max\" modeloprotecao=\"Hitachi-Line 50EF\" tempo=\"13\">\n",
      "    </row>\n",
      "    <row codigo=\"1532\" codigoprotecao=\"1027\" corrente=\"200\" curva=\"Max\" modeloprotecao=\"Hitachi-Line 50EF\" tempo=\"5\">\n",
      "    </row>\n",
      "    <row codigo=\"1533\" codigoprotecao=\"1027\" corrente=\"250\" curva=\"Max\" modeloprotecao=\"Hitachi-Line 50EF\" tempo=\"2.2\">\n",
      "    </row>\n",
      "    <row codigo=\"1534\" codigoprotecao=\"1027\" corrente=\"300\" curva=\"Max\" modeloprotecao=\"Hitachi-Line 50EF\" tempo=\"1.3\">\n",
      "    </row>\n",
      "    <row codigo=\"1535\" codigoprotecao=\"1027\" corrente=\"350\" curva=\"Max\" modeloprotecao=\"Hitachi-Line 50EF\" tempo=\"0.9\">\n",
      "    </row>\n",
      "    <row codigo=\"1536\" codigoprotecao=\"1027\" corrente=\"400\" curva=\"Max\" modeloprotecao=\"Hitachi-Line 50EF\" tempo=\"0.66\">\n",
      "    </row>\n",
      "    <row codigo=\"1538\" codigoprotecao=\"1027\" corrente=\"500\" curva=\"Max\" modeloprotecao=\"Hitachi-Line 50EF\" tempo=\"0.42\">\n",
      "    </row>\n",
      "    <row codigo=\"1539\" codigoprotecao=\"1027\" corrente=\"600\" curva=\"Max\" modeloprotecao=\"Hitachi-Line 50EF\" tempo=\"0.3\">\n",
      "    </row>\n",
      "    <row codigo=\"1540\" codigoprotecao=\"1027\" corrente=\"700\" curva=\"Max\" modeloprotecao=\"Hitachi-Line 50EF\" tempo=\"0.23\">\n",
      "    </row>\n",
      "    <row codigo=\"1541\" codigoprotecao=\"1027\" corrente=\"800\" curva=\"Max\" modeloprotecao=\"Hitachi-Line 50EF\" tempo=\"0.18\">\n",
      "    </row>\n",
      "    <row codigo=\"1542\" codigoprotecao=\"1027\" corrente=\"900\" curva=\"Max\" modeloprotecao=\"Hitachi-Line 50EF\" tempo=\"0.15\">\n",
      "    </row>\n",
      "    <row codigo=\"1543\" codigoprotecao=\"1027\" corrente=\"1000\" curva=\"Max\" modeloprotecao=\"Hitachi-Line 50EF\" tempo=\"0.13\">\n",
      "    </row>\n",
      "    <row codigo=\"1544\" codigoprotecao=\"1027\" corrente=\"1500\" curva=\"Max\" modeloprotecao=\"Hitachi-Line 50EF\" tempo=\"0.07000000000000001\">\n",
      "    </row>\n",
      "    <row codigo=\"1545\" codigoprotecao=\"1027\" corrente=\"2000\" curva=\"Max\" modeloprotecao=\"Hitachi-Line 50EF\" tempo=\"0.047\">\n",
      "    </row>\n",
      "    <row codigo=\"1546\" codigoprotecao=\"1027\" corrente=\"2500\" curva=\"Max\" modeloprotecao=\"Hitachi-Line 50EF\" tempo=\"0.038\">\n",
      "    </row>\n",
      "    <row codigo=\"1547\" codigoprotecao=\"1027\" corrente=\"3200\" curva=\"Max\" modeloprotecao=\"Hitachi-Line 50EF\" tempo=\"0.03\">\n",
      "    </row>\n",
      "    <row codigo=\"1548\" codigoprotecao=\"1028\" corrente=\"200\" curva=\"Min\" modeloprotecao=\"Hitachi-Line 100EF\" tempo=\"300\">\n",
      "    </row>\n",
      "    <row codigo=\"1549\" codigoprotecao=\"1028\" corrente=\"250\" curva=\"Min\" modeloprotecao=\"Hitachi-Line 100EF\" tempo=\"40\">\n",
      "    </row>\n",
      "    <row codigo=\"1550\" codigoprotecao=\"1028\" corrente=\"300\" curva=\"Min\" modeloprotecao=\"Hitachi-Line 100EF\" tempo=\"12\">\n",
      "    </row>\n",
      "    <row codigo=\"1551\" codigoprotecao=\"1028\" corrente=\"350\" curva=\"Min\" modeloprotecao=\"Hitachi-Line 100EF\" tempo=\"5\">\n",
      "    </row>\n",
      "    <row codigo=\"1552\" codigoprotecao=\"1028\" corrente=\"400\" curva=\"Min\" modeloprotecao=\"Hitachi-Line 100EF\" tempo=\"2.8\">\n",
      "    </row>\n",
      "    <row codigo=\"1554\" codigoprotecao=\"1028\" corrente=\"500\" curva=\"Min\" modeloprotecao=\"Hitachi-Line 100EF\" tempo=\"1.3\">\n",
      "    </row>\n",
      "    <row codigo=\"1555\" codigoprotecao=\"1028\" corrente=\"600\" curva=\"Min\" modeloprotecao=\"Hitachi-Line 100EF\" tempo=\"0.75\">\n",
      "    </row>\n",
      "    <row codigo=\"1556\" codigoprotecao=\"1028\" corrente=\"700\" curva=\"Min\" modeloprotecao=\"Hitachi-Line 100EF\" tempo=\"0.53\">\n",
      "    </row>\n",
      "    <row codigo=\"1557\" codigoprotecao=\"1028\" corrente=\"800\" curva=\"Min\" modeloprotecao=\"Hitachi-Line 100EF\" tempo=\"0.4\">\n",
      "    </row>\n",
      "    <row codigo=\"1558\" codigoprotecao=\"1028\" corrente=\"900\" curva=\"Min\" modeloprotecao=\"Hitachi-Line 100EF\" tempo=\"0.31\">\n",
      "    </row>\n",
      "    <row codigo=\"1559\" codigoprotecao=\"1028\" corrente=\"1000\" curva=\"Min\" modeloprotecao=\"Hitachi-Line 100EF\" tempo=\"0.25\">\n",
      "    </row>\n",
      "    <row codigo=\"1560\" codigoprotecao=\"1028\" corrente=\"1500\" curva=\"Min\" modeloprotecao=\"Hitachi-Line 100EF\" tempo=\"0.115\">\n",
      "    </row>\n",
      "    <row codigo=\"1561\" codigoprotecao=\"1028\" corrente=\"2000\" curva=\"Min\" modeloprotecao=\"Hitachi-Line 100EF\" tempo=\"0.057\">\n",
      "    </row>\n",
      "    <row codigo=\"1563\" codigoprotecao=\"1028\" corrente=\"3000\" curva=\"Min\" modeloprotecao=\"Hitachi-Line 100EF\" tempo=\"0.025\">\n",
      "    </row>\n",
      "    <row codigo=\"1564\" codigoprotecao=\"1028\" corrente=\"4000\" curva=\"Min\" modeloprotecao=\"Hitachi-Line 100EF\" tempo=\"0.014\">\n",
      "    </row>\n",
      "    <row codigo=\"1625\" codigoprotecao=\"1028\" corrente=\"4600\" curva=\"Min\" modeloprotecao=\"Hitachi-Line 100EF\" tempo=\"0.01\">\n",
      "    </row>\n",
      "    <row codigo=\"1565\" codigoprotecao=\"1028\" corrente=\"250\" curva=\"Max\" modeloprotecao=\"Hitachi-Line 100EF\" tempo=\"300\">\n",
      "    </row>\n",
      "    <row codigo=\"1566\" codigoprotecao=\"1028\" corrente=\"300\" curva=\"Max\" modeloprotecao=\"Hitachi-Line 100EF\" tempo=\"40\">\n",
      "    </row>\n",
      "    <row codigo=\"1567\" codigoprotecao=\"1028\" corrente=\"350\" curva=\"Max\" modeloprotecao=\"Hitachi-Line 100EF\" tempo=\"14\">\n",
      "    </row>\n",
      "    <row codigo=\"1568\" codigoprotecao=\"1028\" corrente=\"400\" curva=\"Max\" modeloprotecao=\"Hitachi-Line 100EF\" tempo=\"7\">\n",
      "    </row>\n",
      "    <row codigo=\"1569\" codigoprotecao=\"1028\" corrente=\"450\" curva=\"Max\" modeloprotecao=\"Hitachi-Line 100EF\" tempo=\"4.1\">\n",
      "    </row>\n",
      "    <row codigo=\"1570\" codigoprotecao=\"1028\" corrente=\"500\" curva=\"Max\" modeloprotecao=\"Hitachi-Line 100EF\" tempo=\"3\">\n",
      "    </row>\n",
      "    <row codigo=\"1571\" codigoprotecao=\"1028\" corrente=\"600\" curva=\"Max\" modeloprotecao=\"Hitachi-Line 100EF\" tempo=\"1.7\">\n",
      "    </row>\n",
      "    <row codigo=\"1572\" codigoprotecao=\"1028\" corrente=\"700\" curva=\"Max\" modeloprotecao=\"Hitachi-Line 100EF\" tempo=\"1.2\">\n",
      "    </row>\n",
      "    <row codigo=\"1573\" codigoprotecao=\"1028\" corrente=\"800\" curva=\"Max\" modeloprotecao=\"Hitachi-Line 100EF\" tempo=\"0.82\">\n",
      "    </row>\n",
      "    <row codigo=\"1574\" codigoprotecao=\"1028\" corrente=\"900\" curva=\"Max\" modeloprotecao=\"Hitachi-Line 100EF\" tempo=\"0.63\">\n",
      "    </row>\n",
      "    <row codigo=\"1575\" codigoprotecao=\"1028\" corrente=\"1000\" curva=\"Max\" modeloprotecao=\"Hitachi-Line 100EF\" tempo=\"0.5\">\n",
      "    </row>\n",
      "    <row codigo=\"1576\" codigoprotecao=\"1028\" corrente=\"1500\" curva=\"Max\" modeloprotecao=\"Hitachi-Line 100EF\" tempo=\"0.24\">\n",
      "    </row>\n",
      "    <row codigo=\"1577\" codigoprotecao=\"1028\" corrente=\"2000\" curva=\"Max\" modeloprotecao=\"Hitachi-Line 100EF\" tempo=\"0.14\">\n",
      "    </row>\n",
      "    <row codigo=\"1578\" codigoprotecao=\"1028\" corrente=\"2500\" curva=\"Max\" modeloprotecao=\"Hitachi-Line 100EF\" tempo=\"0.095\">\n",
      "    </row>\n",
      "    <row codigo=\"1579\" codigoprotecao=\"1028\" corrente=\"3000\" curva=\"Max\" modeloprotecao=\"Hitachi-Line 100EF\" tempo=\"0.07099999999999999\">\n",
      "    </row>\n",
      "    <row codigo=\"1580\" codigoprotecao=\"1028\" corrente=\"4000\" curva=\"Max\" modeloprotecao=\"Hitachi-Line 100EF\" tempo=\"0.048\">\n",
      "    </row>\n",
      "    <row codigo=\"1581\" codigoprotecao=\"1028\" corrente=\"5000\" curva=\"Max\" modeloprotecao=\"Hitachi-Line 100EF\" tempo=\"0.037\">\n",
      "    </row>\n",
      "    <row codigo=\"1582\" codigoprotecao=\"1028\" corrente=\"6500\" curva=\"Max\" modeloprotecao=\"Hitachi-Line 100EF\" tempo=\"0.03\">\n",
      "    </row>\n",
      "    <row codigo=\"1585\" codigoprotecao=\"1026\" corrente=\"280\" curva=\"Min\" modeloprotecao=\"Hitachi-Line 125ES\" tempo=\"200\">\n",
      "    </row>\n",
      "    <row codigo=\"1586\" codigoprotecao=\"1026\" corrente=\"300\" curva=\"Min\" modeloprotecao=\"Hitachi-Line 125ES\" tempo=\"80\">\n",
      "    </row>\n",
      "    <row codigo=\"1587\" codigoprotecao=\"1026\" corrente=\"350\" curva=\"Min\" modeloprotecao=\"Hitachi-Line 125ES\" tempo=\"27\">\n",
      "    </row>\n",
      "    <row codigo=\"1588\" codigoprotecao=\"1026\" corrente=\"400\" curva=\"Min\" modeloprotecao=\"Hitachi-Line 125ES\" tempo=\"13.5\">\n",
      "    </row>\n",
      "    <row codigo=\"1589\" codigoprotecao=\"1026\" corrente=\"500\" curva=\"Min\" modeloprotecao=\"Hitachi-Line 125ES\" tempo=\"6\">\n",
      "    </row>\n",
      "    <row codigo=\"1590\" codigoprotecao=\"1026\" corrente=\"600\" curva=\"Min\" modeloprotecao=\"Hitachi-Line 125ES\" tempo=\"3.6\">\n",
      "    </row>\n",
      "    <row codigo=\"1591\" codigoprotecao=\"1026\" corrente=\"700\" curva=\"Min\" modeloprotecao=\"Hitachi-Line 125ES\" tempo=\"2.4\">\n",
      "    </row>\n",
      "    <row codigo=\"1592\" codigoprotecao=\"1026\" corrente=\"800\" curva=\"Min\" modeloprotecao=\"Hitachi-Line 125ES\" tempo=\"1.8\">\n",
      "    </row>\n",
      "    <row codigo=\"1593\" codigoprotecao=\"1026\" corrente=\"900\" curva=\"Min\" modeloprotecao=\"Hitachi-Line 125ES\" tempo=\"1.4\">\n",
      "    </row>\n",
      "    <row codigo=\"1594\" codigoprotecao=\"1026\" corrente=\"1000\" curva=\"Min\" modeloprotecao=\"Hitachi-Line 125ES\" tempo=\"1.15\">\n",
      "    </row>\n",
      "    <row codigo=\"1595\" codigoprotecao=\"1026\" corrente=\"1500\" curva=\"Min\" modeloprotecao=\"Hitachi-Line 125ES\" tempo=\"0.5\">\n",
      "    </row>\n",
      "    <row codigo=\"1596\" codigoprotecao=\"1026\" corrente=\"2000\" curva=\"Min\" modeloprotecao=\"Hitachi-Line 125ES\" tempo=\"0.29\">\n",
      "    </row>\n",
      "    <row codigo=\"1597\" codigoprotecao=\"1026\" corrente=\"3000\" curva=\"Min\" modeloprotecao=\"Hitachi-Line 125ES\" tempo=\"0.13\">\n",
      "    </row>\n",
      "    <row codigo=\"1598\" codigoprotecao=\"1026\" corrente=\"4000\" curva=\"Min\" modeloprotecao=\"Hitachi-Line 125ES\" tempo=\"0.073\">\n",
      "    </row>\n",
      "    <row codigo=\"1599\" codigoprotecao=\"1026\" corrente=\"5000\" curva=\"Min\" modeloprotecao=\"Hitachi-Line 125ES\" tempo=\"0.046\">\n",
      "    </row>\n",
      "    <row codigo=\"1600\" codigoprotecao=\"1026\" corrente=\"7000\" curva=\"Min\" modeloprotecao=\"Hitachi-Line 125ES\" tempo=\"0.024\">\n",
      "    </row>\n",
      "    <row codigo=\"1601\" codigoprotecao=\"1026\" corrente=\"9000\" curva=\"Min\" modeloprotecao=\"Hitachi-Line 125ES\" tempo=\"0.0145\">\n",
      "    </row>\n",
      "    <row codigo=\"1602\" codigoprotecao=\"1026\" corrente=\"10000\" curva=\"Min\" modeloprotecao=\"Hitachi-Line 125ES\" tempo=\"0.012\">\n",
      "    </row>\n",
      "    <row codigo=\"1603\" codigoprotecao=\"1026\" corrente=\"330\" curva=\"Max\" modeloprotecao=\"Hitachi-Line 125ES\" tempo=\"200\">\n",
      "    </row>\n",
      "    <row codigo=\"1604\" codigoprotecao=\"1026\" corrente=\"350\" curva=\"Max\" modeloprotecao=\"Hitachi-Line 125ES\" tempo=\"100\">\n",
      "    </row>\n",
      "    <row codigo=\"1605\" codigoprotecao=\"1026\" corrente=\"400\" curva=\"Max\" modeloprotecao=\"Hitachi-Line 125ES\" tempo=\"33\">\n",
      "    </row>\n",
      "    <row codigo=\"1606\" codigoprotecao=\"1026\" corrente=\"450\" curva=\"Max\" modeloprotecao=\"Hitachi-Line 125ES\" tempo=\"18\">\n",
      "    </row>\n",
      "    <row codigo=\"1607\" codigoprotecao=\"1026\" corrente=\"500\" curva=\"Max\" modeloprotecao=\"Hitachi-Line 125ES\" tempo=\"12\">\n",
      "    </row>\n",
      "    <row codigo=\"1608\" codigoprotecao=\"1026\" corrente=\"600\" curva=\"Max\" modeloprotecao=\"Hitachi-Line 125ES\" tempo=\"6.5\">\n",
      "    </row>\n",
      "    <row codigo=\"1609\" codigoprotecao=\"1026\" corrente=\"700\" curva=\"Max\" modeloprotecao=\"Hitachi-Line 125ES\" tempo=\"4.2\">\n",
      "    </row>\n",
      "    <row codigo=\"1610\" codigoprotecao=\"1026\" corrente=\"800\" curva=\"Max\" modeloprotecao=\"Hitachi-Line 125ES\" tempo=\"3.1\">\n",
      "    </row>\n",
      "    <row codigo=\"1611\" codigoprotecao=\"1026\" corrente=\"900\" curva=\"Max\" modeloprotecao=\"Hitachi-Line 125ES\" tempo=\"2.4\">\n",
      "    </row>\n",
      "    <row codigo=\"1612\" codigoprotecao=\"1026\" corrente=\"1000\" curva=\"Max\" modeloprotecao=\"Hitachi-Line 125ES\" tempo=\"2\">\n",
      "    </row>\n",
      "    <row codigo=\"1613\" codigoprotecao=\"1026\" corrente=\"1500\" curva=\"Max\" modeloprotecao=\"Hitachi-Line 125ES\" tempo=\"0.99\">\n",
      "    </row>\n",
      "    <row codigo=\"1614\" codigoprotecao=\"1026\" corrente=\"2000\" curva=\"Max\" modeloprotecao=\"Hitachi-Line 125ES\" tempo=\"0.59\">\n",
      "    </row>\n",
      "    <row codigo=\"1615\" codigoprotecao=\"1026\" corrente=\"3000\" curva=\"Max\" modeloprotecao=\"Hitachi-Line 125ES\" tempo=\"0.28\">\n",
      "    </row>\n",
      "    <row codigo=\"1616\" codigoprotecao=\"1026\" corrente=\"4000\" curva=\"Max\" modeloprotecao=\"Hitachi-Line 125ES\" tempo=\"0.16\">\n",
      "    </row>\n",
      "    <row codigo=\"1617\" codigoprotecao=\"1026\" corrente=\"6000\" curva=\"Max\" modeloprotecao=\"Hitachi-Line 125ES\" tempo=\"0.08799999999999999\">\n",
      "    </row>\n",
      "    <row codigo=\"1618\" codigoprotecao=\"1026\" corrente=\"8000\" curva=\"Max\" modeloprotecao=\"Hitachi-Line 125ES\" tempo=\"0.06\">\n",
      "    </row>\n",
      "    <row codigo=\"1619\" codigoprotecao=\"1026\" corrente=\"10000\" curva=\"Max\" modeloprotecao=\"Hitachi-Line 125ES\" tempo=\"0.046\">\n",
      "    </row>\n",
      "    <row codigo=\"1626\" codigoprotecao=\"1029\" corrente=\"6\" curva=\"Min\" modeloprotecao=\"3K\" tempo=\"250\">\n",
      "    </row>\n",
      "    <row codigo=\"1662\" codigoprotecao=\"1029\" corrente=\"6.1\" curva=\"Min\" modeloprotecao=\"3K\" tempo=\"40\">\n",
      "    </row>\n",
      "    <row codigo=\"1627\" codigoprotecao=\"1029\" corrente=\"7\" curva=\"Min\" modeloprotecao=\"3K\" tempo=\"12\">\n",
      "    </row>\n",
      "    <row codigo=\"1628\" codigoprotecao=\"1029\" corrente=\"8\" curva=\"Min\" modeloprotecao=\"3K\" tempo=\"5.5\">\n",
      "    </row>\n",
      "    <row codigo=\"1629\" codigoprotecao=\"1029\" corrente=\"9\" curva=\"Min\" modeloprotecao=\"3K\" tempo=\"3.6\">\n",
      "    </row>\n",
      "    <row codigo=\"1630\" codigoprotecao=\"1029\" corrente=\"10\" curva=\"Min\" modeloprotecao=\"3K\" tempo=\"2.7\">\n",
      "    </row>\n",
      "    <row codigo=\"1631\" codigoprotecao=\"1029\" corrente=\"15\" curva=\"Min\" modeloprotecao=\"3K\" tempo=\"1\">\n",
      "    </row>\n",
      "    <row codigo=\"1632\" codigoprotecao=\"1029\" corrente=\"20\" curva=\"Min\" modeloprotecao=\"3K\" tempo=\"0.57\">\n",
      "    </row>\n",
      "    <row codigo=\"1633\" codigoprotecao=\"1029\" corrente=\"25\" curva=\"Min\" modeloprotecao=\"3K\" tempo=\"0.34\">\n",
      "    </row>\n",
      "    <row codigo=\"1634\" codigoprotecao=\"1029\" corrente=\"30\" curva=\"Min\" modeloprotecao=\"3K\" tempo=\"0.245\">\n",
      "    </row>\n",
      "    <row codigo=\"1635\" codigoprotecao=\"1029\" corrente=\"35\" curva=\"Min\" modeloprotecao=\"3K\" tempo=\"0.175\">\n",
      "    </row>\n",
      "    <row codigo=\"1636\" codigoprotecao=\"1029\" corrente=\"40\" curva=\"Min\" modeloprotecao=\"3K\" tempo=\"0.135\">\n",
      "    </row>\n",
      "    <row codigo=\"1637\" codigoprotecao=\"1029\" corrente=\"45\" curva=\"Min\" modeloprotecao=\"3K\" tempo=\"0.105\">\n",
      "    </row>\n",
      "    <row codigo=\"1638\" codigoprotecao=\"1029\" corrente=\"50\" curva=\"Min\" modeloprotecao=\"3K\" tempo=\"0.082\">\n",
      "    </row>\n",
      "    <row codigo=\"1639\" codigoprotecao=\"1029\" corrente=\"60\" curva=\"Min\" modeloprotecao=\"3K\" tempo=\"0.058\">\n",
      "    </row>\n",
      "    <row codigo=\"1640\" codigoprotecao=\"1029\" corrente=\"70\" curva=\"Min\" modeloprotecao=\"3K\" tempo=\"0.041\">\n",
      "    </row>\n",
      "    <row codigo=\"1641\" codigoprotecao=\"1029\" corrente=\"80\" curva=\"Min\" modeloprotecao=\"3K\" tempo=\"0.031\">\n",
      "    </row>\n",
      "    <row codigo=\"1642\" codigoprotecao=\"1029\" corrente=\"90\" curva=\"Min\" modeloprotecao=\"3K\" tempo=\"0.025\">\n",
      "    </row>\n",
      "    <row codigo=\"1643\" codigoprotecao=\"1029\" corrente=\"100\" curva=\"Min\" modeloprotecao=\"3K\" tempo=\"0.02\">\n",
      "    </row>\n",
      "    <row codigo=\"1644\" codigoprotecao=\"1029\" corrente=\"145\" curva=\"Min\" modeloprotecao=\"3K\" tempo=\"0.01\">\n",
      "    </row>\n",
      "    <row codigo=\"1646\" codigoprotecao=\"1029\" corrente=\"7\" curva=\"Max\" modeloprotecao=\"3K\" tempo=\"300\">\n",
      "    </row>\n",
      "    <row codigo=\"1663\" codigoprotecao=\"1029\" corrente=\"7.5\" curva=\"Max\" modeloprotecao=\"3K\" tempo=\"80\">\n",
      "    </row>\n",
      "    <row codigo=\"1647\" codigoprotecao=\"1029\" corrente=\"8\" curva=\"Max\" modeloprotecao=\"3K\" tempo=\"18\">\n",
      "    </row>\n",
      "    <row codigo=\"1648\" codigoprotecao=\"1029\" corrente=\"9\" curva=\"Max\" modeloprotecao=\"3K\" tempo=\"8.9\">\n",
      "    </row>\n",
      "    <row codigo=\"1649\" codigoprotecao=\"1029\" corrente=\"10\" curva=\"Max\" modeloprotecao=\"3K\" tempo=\"5.4\">\n",
      "    </row>\n",
      "    <row codigo=\"1650\" codigoprotecao=\"1029\" corrente=\"15\" curva=\"Max\" modeloprotecao=\"3K\" tempo=\"1.6\">\n",
      "    </row>\n",
      "    <row codigo=\"1651\" codigoprotecao=\"1029\" corrente=\"20\" curva=\"Max\" modeloprotecao=\"3K\" tempo=\"0.89\">\n",
      "    </row>\n",
      "    <row codigo=\"1652\" codigoprotecao=\"1029\" corrente=\"25\" curva=\"Max\" modeloprotecao=\"3K\" tempo=\"0.54\">\n",
      "    </row>\n",
      "    <row codigo=\"1653\" codigoprotecao=\"1029\" corrente=\"30\" curva=\"Max\" modeloprotecao=\"3K\" tempo=\"0.37\">\n",
      "    </row>\n",
      "    <row codigo=\"1654\" codigoprotecao=\"1029\" corrente=\"35\" curva=\"Max\" modeloprotecao=\"3K\" tempo=\"0.27\">\n",
      "    </row>\n",
      "    <row codigo=\"1655\" codigoprotecao=\"1029\" corrente=\"40\" curva=\"Max\" modeloprotecao=\"3K\" tempo=\"0.21\">\n",
      "    </row>\n",
      "    <row codigo=\"1656\" codigoprotecao=\"1029\" corrente=\"45\" curva=\"Max\" modeloprotecao=\"3K\" tempo=\"0.16\">\n",
      "    </row>\n",
      "    <row codigo=\"1657\" codigoprotecao=\"1029\" corrente=\"50\" curva=\"Max\" modeloprotecao=\"3K\" tempo=\"0.13\">\n",
      "    </row>\n",
      "    <row codigo=\"1658\" codigoprotecao=\"1029\" corrente=\"60\" curva=\"Max\" modeloprotecao=\"3K\" tempo=\"0.08599999999999999\">\n",
      "    </row>\n",
      "    <row codigo=\"1659\" codigoprotecao=\"1029\" corrente=\"70\" curva=\"Max\" modeloprotecao=\"3K\" tempo=\"0.063\">\n",
      "    </row>\n",
      "    <row codigo=\"1660\" codigoprotecao=\"1029\" corrente=\"80\" curva=\"Max\" modeloprotecao=\"3K\" tempo=\"0.046\">\n",
      "    </row>\n",
      "    <row codigo=\"1661\" codigoprotecao=\"1029\" corrente=\"90\" curva=\"Max\" modeloprotecao=\"3K\" tempo=\"0.036\">\n",
      "    </row>\n",
      "    <row codigo=\"1664\" codigoprotecao=\"1029\" corrente=\"100\" curva=\"Max\" modeloprotecao=\"3K\" tempo=\"0.03\">\n",
      "    </row>\n",
      "    <row codigo=\"1665\" codigoprotecao=\"1029\" corrente=\"150\" curva=\"Max\" modeloprotecao=\"3K\" tempo=\"0.014\">\n",
      "    </row>\n",
      "    <row codigo=\"1666\" codigoprotecao=\"1029\" corrente=\"180\" curva=\"Max\" modeloprotecao=\"3K\" tempo=\"0.01\">\n",
      "    </row>\n",
      "    <row codigo=\"1667\" codigoprotecao=\"1031\" corrente=\"6\" curva=\"Min\" modeloprotecao=\"3K (Indel Bauru)\" tempo=\"200\">\n",
      "    </row>\n",
      "    <row codigo=\"1668\" codigoprotecao=\"1031\" corrente=\"6.1\" curva=\"Min\" modeloprotecao=\"3K (Indel Bauru)\" tempo=\"100\">\n",
      "    </row>\n",
      "    <row codigo=\"1669\" codigoprotecao=\"1031\" corrente=\"6.2\" curva=\"Min\" modeloprotecao=\"3K (Indel Bauru)\" tempo=\"50\">\n",
      "    </row>\n",
      "    <row codigo=\"1670\" codigoprotecao=\"1031\" corrente=\"6.5\" curva=\"Min\" modeloprotecao=\"3K (Indel Bauru)\" tempo=\"25\">\n",
      "    </row>\n",
      "    <row codigo=\"1671\" codigoprotecao=\"1031\" corrente=\"7\" curva=\"Min\" modeloprotecao=\"3K (Indel Bauru)\" tempo=\"12\">\n",
      "    </row>\n",
      "    <row codigo=\"1672\" codigoprotecao=\"1031\" corrente=\"7.5\" curva=\"Min\" modeloprotecao=\"3K (Indel Bauru)\" tempo=\"8\">\n",
      "    </row>\n",
      "    <row codigo=\"1673\" codigoprotecao=\"1031\" corrente=\"8\" curva=\"Min\" modeloprotecao=\"3K (Indel Bauru)\" tempo=\"5.4\">\n",
      "    </row>\n",
      "    <row codigo=\"1674\" codigoprotecao=\"1031\" corrente=\"9\" curva=\"Min\" modeloprotecao=\"3K (Indel Bauru)\" tempo=\"3.4\">\n",
      "    </row>\n",
      "    <row codigo=\"1675\" codigoprotecao=\"1031\" corrente=\"10\" curva=\"Min\" modeloprotecao=\"3K (Indel Bauru)\" tempo=\"2.5\">\n",
      "    </row>\n",
      "    <row codigo=\"1676\" codigoprotecao=\"1031\" corrente=\"14\" curva=\"Min\" modeloprotecao=\"3K (Indel Bauru)\" tempo=\"1\">\n",
      "    </row>\n",
      "    <row codigo=\"1677\" codigoprotecao=\"1031\" corrente=\"20\" curva=\"Min\" modeloprotecao=\"3K (Indel Bauru)\" tempo=\"0.4\">\n",
      "    </row>\n",
      "    <row codigo=\"1678\" codigoprotecao=\"1031\" corrente=\"30\" curva=\"Min\" modeloprotecao=\"3K (Indel Bauru)\" tempo=\"0.15\">\n",
      "    </row>\n",
      "    <row codigo=\"1679\" codigoprotecao=\"1031\" corrente=\"40\" curva=\"Min\" modeloprotecao=\"3K (Indel Bauru)\" tempo=\"0.08\">\n",
      "    </row>\n",
      "    <row codigo=\"1680\" codigoprotecao=\"1031\" corrente=\"50\" curva=\"Min\" modeloprotecao=\"3K (Indel Bauru)\" tempo=\"0.05\">\n",
      "    </row>\n",
      "    <row codigo=\"1681\" codigoprotecao=\"1031\" corrente=\"60\" curva=\"Min\" modeloprotecao=\"3K (Indel Bauru)\" tempo=\"0.035\">\n",
      "    </row>\n",
      "    <row codigo=\"1682\" codigoprotecao=\"1031\" corrente=\"70\" curva=\"Min\" modeloprotecao=\"3K (Indel Bauru)\" tempo=\"0.027\">\n",
      "    </row>\n",
      "    <row codigo=\"1683\" codigoprotecao=\"1031\" corrente=\"80\" curva=\"Min\" modeloprotecao=\"3K (Indel Bauru)\" tempo=\"0.02\">\n",
      "    </row>\n",
      "    <row codigo=\"1684\" codigoprotecao=\"1031\" corrente=\"100\" curva=\"Min\" modeloprotecao=\"3K (Indel Bauru)\" tempo=\"0.014\">\n",
      "    </row>\n",
      "    <row codigo=\"1685\" codigoprotecao=\"1031\" corrente=\"120\" curva=\"Min\" modeloprotecao=\"3K (Indel Bauru)\" tempo=\"0.01\">\n",
      "    </row>\n",
      "    <row codigo=\"1686\" codigoprotecao=\"1031\" corrente=\"7\" curva=\"Max\" modeloprotecao=\"3K (Indel Bauru)\" tempo=\"300\">\n",
      "    </row>\n",
      "    <row codigo=\"1687\" codigoprotecao=\"1031\" corrente=\"7.3\" curva=\"Max\" modeloprotecao=\"3K (Indel Bauru)\" tempo=\"100\">\n",
      "    </row>\n",
      "    <row codigo=\"1688\" codigoprotecao=\"1031\" corrente=\"7.5\" curva=\"Max\" modeloprotecao=\"3K (Indel Bauru)\" tempo=\"50\">\n",
      "    </row>\n",
      "    <row codigo=\"1689\" codigoprotecao=\"1031\" corrente=\"8\" curva=\"Max\" modeloprotecao=\"3K (Indel Bauru)\" tempo=\"20\">\n",
      "    </row>\n",
      "    <row codigo=\"1690\" codigoprotecao=\"1031\" corrente=\"8.5\" curva=\"Max\" modeloprotecao=\"3K (Indel Bauru)\" tempo=\"11\">\n",
      "    </row>\n",
      "    <row codigo=\"1691\" codigoprotecao=\"1031\" corrente=\"9\" curva=\"Max\" modeloprotecao=\"3K (Indel Bauru)\" tempo=\"7.5\">\n",
      "    </row>\n",
      "    <row codigo=\"1692\" codigoprotecao=\"1031\" corrente=\"10\" curva=\"Max\" modeloprotecao=\"3K (Indel Bauru)\" tempo=\"4.4\">\n",
      "    </row>\n",
      "    <row codigo=\"1693\" codigoprotecao=\"1031\" corrente=\"15\" curva=\"Max\" modeloprotecao=\"3K (Indel Bauru)\" tempo=\"1.5\">\n",
      "    </row>\n",
      "    <row codigo=\"1694\" codigoprotecao=\"1031\" corrente=\"20\" curva=\"Max\" modeloprotecao=\"3K (Indel Bauru)\" tempo=\"0.6\">\n",
      "    </row>\n",
      "    <row codigo=\"1695\" codigoprotecao=\"1031\" corrente=\"24\" curva=\"Max\" modeloprotecao=\"3K (Indel Bauru)\" tempo=\"0.4\">\n",
      "    </row>\n",
      "    <row codigo=\"1696\" codigoprotecao=\"1031\" corrente=\"30\" curva=\"Max\" modeloprotecao=\"3K (Indel Bauru)\" tempo=\"0.23\">\n",
      "    </row>\n",
      "    <row codigo=\"1697\" codigoprotecao=\"1031\" corrente=\"40\" curva=\"Max\" modeloprotecao=\"3K (Indel Bauru)\" tempo=\"0.12\">\n",
      "    </row>\n",
      "    <row codigo=\"1698\" codigoprotecao=\"1031\" corrente=\"50\" curva=\"Max\" modeloprotecao=\"3K (Indel Bauru)\" tempo=\"0.075\">\n",
      "    </row>\n",
      "    <row codigo=\"1699\" codigoprotecao=\"1031\" corrente=\"70\" curva=\"Max\" modeloprotecao=\"3K (Indel Bauru)\" tempo=\"0.039\">\n",
      "    </row>\n",
      "    <row codigo=\"1700\" codigoprotecao=\"1031\" corrente=\"100\" curva=\"Max\" modeloprotecao=\"3K (Indel Bauru)\" tempo=\"0.019\">\n",
      "    </row>\n",
      "    <row codigo=\"1701\" codigoprotecao=\"1031\" corrente=\"140\" curva=\"Max\" modeloprotecao=\"3K (Indel Bauru)\" tempo=\"0.01\">\n",
      "    </row>\n",
      "    <row codigo=\"1702\" codigoprotecao=\"1032\" corrente=\"12\" curva=\"Min\" modeloprotecao=\"6K (Indel Bauru)\" tempo=\"300\">\n",
      "    </row>\n",
      "    <row codigo=\"1703\" codigoprotecao=\"1032\" corrente=\"12.5\" curva=\"Min\" modeloprotecao=\"6K (Indel Bauru)\" tempo=\"20\">\n",
      "    </row>\n",
      "    <row codigo=\"1704\" codigoprotecao=\"1032\" corrente=\"13\" curva=\"Min\" modeloprotecao=\"6K (Indel Bauru)\" tempo=\"10\">\n",
      "    </row>\n",
      "    <row codigo=\"1705\" codigoprotecao=\"1032\" corrente=\"15.5\" curva=\"Min\" modeloprotecao=\"6K (Indel Bauru)\" tempo=\"5\">\n",
      "    </row>\n",
      "    <row codigo=\"1706\" codigoprotecao=\"1032\" corrente=\"18\" curva=\"Min\" modeloprotecao=\"6K (Indel Bauru)\" tempo=\"3\">\n",
      "    </row>\n",
      "    <row codigo=\"1707\" codigoprotecao=\"1032\" corrente=\"20\" curva=\"Min\" modeloprotecao=\"6K (Indel Bauru)\" tempo=\"2.1\">\n",
      "    </row>\n",
      "    <row codigo=\"1708\" codigoprotecao=\"1032\" corrente=\"30\" curva=\"Min\" modeloprotecao=\"6K (Indel Bauru)\" tempo=\"0.71\">\n",
      "    </row>\n",
      "    <row codigo=\"1709\" codigoprotecao=\"1032\" corrente=\"40\" curva=\"Min\" modeloprotecao=\"6K (Indel Bauru)\" tempo=\"0.38\">\n",
      "    </row>\n",
      "    <row codigo=\"1710\" codigoprotecao=\"1032\" corrente=\"50\" curva=\"Min\" modeloprotecao=\"6K (Indel Bauru)\" tempo=\"0.22\">\n",
      "    </row>\n",
      "    <row codigo=\"1711\" codigoprotecao=\"1032\" corrente=\"60\" curva=\"Min\" modeloprotecao=\"6K (Indel Bauru)\" tempo=\"0.15\">\n",
      "    </row>\n",
      "    <row codigo=\"1712\" codigoprotecao=\"1032\" corrente=\"70\" curva=\"Min\" modeloprotecao=\"6K (Indel Bauru)\" tempo=\"0.11\">\n",
      "    </row>\n",
      "    <row codigo=\"1713\" codigoprotecao=\"1032\" corrente=\"100\" curva=\"Min\" modeloprotecao=\"6K (Indel Bauru)\" tempo=\"0.05\">\n",
      "    </row>\n",
      "    <row codigo=\"1714\" codigoprotecao=\"1032\" corrente=\"150\" curva=\"Min\" modeloprotecao=\"6K (Indel Bauru)\" tempo=\"0.025\">\n",
      "    </row>\n",
      "    <row codigo=\"1715\" codigoprotecao=\"1032\" corrente=\"230\" curva=\"Min\" modeloprotecao=\"6K (Indel Bauru)\" tempo=\"0.01\">\n",
      "    </row>\n",
      "    <row codigo=\"1716\" codigoprotecao=\"1032\" corrente=\"15\" curva=\"Max\" modeloprotecao=\"6K (Indel Bauru)\" tempo=\"300\">\n",
      "    </row>\n",
      "    <row codigo=\"1717\" codigoprotecao=\"1032\" corrente=\"15.5\" curva=\"Max\" modeloprotecao=\"6K (Indel Bauru)\" tempo=\"30\">\n",
      "    </row>\n",
      "    <row codigo=\"1718\" codigoprotecao=\"1032\" corrente=\"17\" curva=\"Max\" modeloprotecao=\"6K (Indel Bauru)\" tempo=\"10\">\n",
      "    </row>\n",
      "    <row codigo=\"1719\" codigoprotecao=\"1032\" corrente=\"20\" curva=\"Max\" modeloprotecao=\"6K (Indel Bauru)\" tempo=\"3.6\">\n",
      "    </row>\n",
      "    <row codigo=\"1720\" codigoprotecao=\"1032\" corrente=\"30\" curva=\"Max\" modeloprotecao=\"6K (Indel Bauru)\" tempo=\"1.2\">\n",
      "    </row>\n",
      "    <row codigo=\"1721\" codigoprotecao=\"1032\" corrente=\"40\" curva=\"Max\" modeloprotecao=\"6K (Indel Bauru)\" tempo=\"0.5600000000000001\">\n",
      "    </row>\n",
      "    <row codigo=\"1722\" codigoprotecao=\"1032\" corrente=\"50\" curva=\"Max\" modeloprotecao=\"6K (Indel Bauru)\" tempo=\"0.35\">\n",
      "    </row>\n",
      "    <row codigo=\"1723\" codigoprotecao=\"1032\" corrente=\"70\" curva=\"Max\" modeloprotecao=\"6K (Indel Bauru)\" tempo=\"0.16\">\n",
      "    </row>\n",
      "    <row codigo=\"1724\" codigoprotecao=\"1032\" corrente=\"100\" curva=\"Max\" modeloprotecao=\"6K (Indel Bauru)\" tempo=\"0.07000000000000001\">\n",
      "    </row>\n",
      "    <row codigo=\"1725\" codigoprotecao=\"1032\" corrente=\"200\" curva=\"Max\" modeloprotecao=\"6K (Indel Bauru)\" tempo=\"0.018\">\n",
      "    </row>\n",
      "    <row codigo=\"1726\" codigoprotecao=\"1032\" corrente=\"280\" curva=\"Max\" modeloprotecao=\"6K (Indel Bauru)\" tempo=\"0.01\">\n",
      "    </row>\n",
      "    <row codigo=\"1727\" codigoprotecao=\"1033\" corrente=\"19\" curva=\"Min\" modeloprotecao=\"10K (Indel Bauru)\" tempo=\"300\">\n",
      "    </row>\n",
      "    <row codigo=\"1728\" codigoprotecao=\"1033\" corrente=\"20\" curva=\"Min\" modeloprotecao=\"10K (Indel Bauru)\" tempo=\"40\">\n",
      "    </row>\n",
      "    <row codigo=\"1729\" codigoprotecao=\"1033\" corrente=\"22\" curva=\"Min\" modeloprotecao=\"10K (Indel Bauru)\" tempo=\"10\">\n",
      "    </row>\n",
      "    <row codigo=\"1730\" codigoprotecao=\"1033\" corrente=\"25\" curva=\"Min\" modeloprotecao=\"10K (Indel Bauru)\" tempo=\"6\">\n",
      "    </row>\n",
      "    <row codigo=\"1731\" codigoprotecao=\"1033\" corrente=\"30\" curva=\"Min\" modeloprotecao=\"10K (Indel Bauru)\" tempo=\"3\">\n",
      "    </row>\n",
      "    <row codigo=\"1732\" codigoprotecao=\"1033\" corrente=\"40\" curva=\"Min\" modeloprotecao=\"10K (Indel Bauru)\" tempo=\"1.4\">\n",
      "    </row>\n",
      "    <row codigo=\"1733\" codigoprotecao=\"1033\" corrente=\"50\" curva=\"Min\" modeloprotecao=\"10K (Indel Bauru)\" tempo=\"0.74\">\n",
      "    </row>\n",
      "    <row codigo=\"1734\" codigoprotecao=\"1033\" corrente=\"70\" curva=\"Min\" modeloprotecao=\"10K (Indel Bauru)\" tempo=\"0.37\">\n",
      "    </row>\n",
      "    <row codigo=\"1735\" codigoprotecao=\"1033\" corrente=\"100\" curva=\"Min\" modeloprotecao=\"10K (Indel Bauru)\" tempo=\"0.17\">\n",
      "    </row>\n",
      "    <row codigo=\"1736\" codigoprotecao=\"1033\" corrente=\"200\" curva=\"Min\" modeloprotecao=\"10K (Indel Bauru)\" tempo=\"0.042\">\n",
      "    </row>\n",
      "    <row codigo=\"1737\" codigoprotecao=\"1033\" corrente=\"300\" curva=\"Min\" modeloprotecao=\"10K (Indel Bauru)\" tempo=\"0.019\">\n",
      "    </row>\n",
      "    <row codigo=\"1738\" codigoprotecao=\"1033\" corrente=\"430\" curva=\"Min\" modeloprotecao=\"10K (Indel Bauru)\" tempo=\"0.01\">\n",
      "    </row>\n",
      "    <row codigo=\"1739\" codigoprotecao=\"1033\" corrente=\"24\" curva=\"Max\" modeloprotecao=\"10K (Indel Bauru)\" tempo=\"300\">\n",
      "    </row>\n",
      "    <row codigo=\"1740\" codigoprotecao=\"1033\" corrente=\"25\" curva=\"Max\" modeloprotecao=\"10K (Indel Bauru)\" tempo=\"30\">\n",
      "    </row>\n",
      "    <row codigo=\"1742\" codigoprotecao=\"1033\" corrente=\"27\" curva=\"Max\" modeloprotecao=\"10K (Indel Bauru)\" tempo=\"10\">\n",
      "    </row>\n",
      "    <row codigo=\"1743\" codigoprotecao=\"1033\" corrente=\"30\" curva=\"Max\" modeloprotecao=\"10K (Indel Bauru)\" tempo=\"6\">\n",
      "    </row>\n",
      "    <row codigo=\"1744\" codigoprotecao=\"1033\" corrente=\"40\" curva=\"Max\" modeloprotecao=\"10K (Indel Bauru)\" tempo=\"2.2\">\n",
      "    </row>\n",
      "    <row codigo=\"1745\" codigoprotecao=\"1033\" corrente=\"50\" curva=\"Max\" modeloprotecao=\"10K (Indel Bauru)\" tempo=\"1.2\">\n",
      "    </row>\n",
      "    <row codigo=\"1746\" codigoprotecao=\"1033\" corrente=\"60\" curva=\"Max\" modeloprotecao=\"10K (Indel Bauru)\" tempo=\"0.75\">\n",
      "    </row>\n",
      "    <row codigo=\"1747\" codigoprotecao=\"1033\" corrente=\"80\" curva=\"Max\" modeloprotecao=\"10K (Indel Bauru)\" tempo=\"0.4\">\n",
      "    </row>\n",
      "    <row codigo=\"1748\" codigoprotecao=\"1033\" corrente=\"100\" curva=\"Max\" modeloprotecao=\"10K (Indel Bauru)\" tempo=\"0.25\">\n",
      "    </row>\n",
      "    <row codigo=\"1749\" codigoprotecao=\"1033\" corrente=\"200\" curva=\"Max\" modeloprotecao=\"10K (Indel Bauru)\" tempo=\"0.06\">\n",
      "    </row>\n",
      "    <row codigo=\"1750\" codigoprotecao=\"1033\" corrente=\"300\" curva=\"Max\" modeloprotecao=\"10K (Indel Bauru)\" tempo=\"0.027\">\n",
      "    </row>\n",
      "    <row codigo=\"1751\" codigoprotecao=\"1033\" corrente=\"500\" curva=\"Max\" modeloprotecao=\"10K (Indel Bauru)\" tempo=\"0.01\">\n",
      "    </row>\n",
      "    <row codigo=\"1752\" codigoprotecao=\"1034\" corrente=\"32\" curva=\"Min\" modeloprotecao=\"15K (Indel Bauru)\" tempo=\"300\">\n",
      "    </row>\n",
      "    <row codigo=\"1753\" codigoprotecao=\"1034\" corrente=\"33\" curva=\"Min\" modeloprotecao=\"15K (Indel Bauru)\" tempo=\"60\">\n",
      "    </row>\n",
      "    <row codigo=\"1754\" codigoprotecao=\"1034\" corrente=\"34\" curva=\"Min\" modeloprotecao=\"15K (Indel Bauru)\" tempo=\"20\">\n",
      "    </row>\n",
      "    <row codigo=\"1755\" codigoprotecao=\"1034\" corrente=\"40\" curva=\"Min\" modeloprotecao=\"15K (Indel Bauru)\" tempo=\"6\">\n",
      "    </row>\n",
      "    <row codigo=\"1756\" codigoprotecao=\"1034\" corrente=\"50\" curva=\"Min\" modeloprotecao=\"15K (Indel Bauru)\" tempo=\"3\">\n",
      "    </row>\n",
      "    <row codigo=\"1757\" codigoprotecao=\"1034\" corrente=\"70\" curva=\"Min\" modeloprotecao=\"15K (Indel Bauru)\" tempo=\"1.2\">\n",
      "    </row>\n",
      "    <row codigo=\"1758\" codigoprotecao=\"1034\" corrente=\"100\" curva=\"Min\" modeloprotecao=\"15K (Indel Bauru)\" tempo=\"0.5\">\n",
      "    </row>\n",
      "    <row codigo=\"1759\" codigoprotecao=\"1034\" corrente=\"200\" curva=\"Min\" modeloprotecao=\"15K (Indel Bauru)\" tempo=\"0.12\">\n",
      "    </row>\n",
      "    <row codigo=\"1760\" codigoprotecao=\"1034\" corrente=\"300\" curva=\"Min\" modeloprotecao=\"15K (Indel Bauru)\" tempo=\"0.05\">\n",
      "    </row>\n",
      "    <row codigo=\"1761\" codigoprotecao=\"1034\" corrente=\"500\" curva=\"Min\" modeloprotecao=\"15K (Indel Bauru)\" tempo=\"0.018\">\n",
      "    </row>\n",
      "    <row codigo=\"1762\" codigoprotecao=\"1034\" corrente=\"700\" curva=\"Min\" modeloprotecao=\"15K (Indel Bauru)\" tempo=\"0.01\">\n",
      "    </row>\n",
      "    <row codigo=\"1763\" codigoprotecao=\"1034\" corrente=\"37\" curva=\"Max\" modeloprotecao=\"15K (Indel Bauru)\" tempo=\"300\">\n",
      "    </row>\n",
      "    <row codigo=\"1764\" codigoprotecao=\"1034\" corrente=\"37.5\" curva=\"Max\" modeloprotecao=\"15K (Indel Bauru)\" tempo=\"60\">\n",
      "    </row>\n",
      "    <row codigo=\"1765\" codigoprotecao=\"1034\" corrente=\"40\" curva=\"Max\" modeloprotecao=\"15K (Indel Bauru)\" tempo=\"24\">\n",
      "    </row>\n",
      "    <row codigo=\"1766\" codigoprotecao=\"1034\" corrente=\"50\" curva=\"Max\" modeloprotecao=\"15K (Indel Bauru)\" tempo=\"5.5\">\n",
      "    </row>\n",
      "    <row codigo=\"1767\" codigoprotecao=\"1034\" corrente=\"60\" curva=\"Max\" modeloprotecao=\"15K (Indel Bauru)\" tempo=\"2.9\">\n",
      "    </row>\n",
      "    <row codigo=\"1768\" codigoprotecao=\"1034\" corrente=\"70\" curva=\"Max\" modeloprotecao=\"15K (Indel Bauru)\" tempo=\"1.8\">\n",
      "    </row>\n",
      "    <row codigo=\"1769\" codigoprotecao=\"1034\" corrente=\"100\" curva=\"Max\" modeloprotecao=\"15K (Indel Bauru)\" tempo=\"0.75\">\n",
      "    </row>\n",
      "    <row codigo=\"1770\" codigoprotecao=\"1034\" corrente=\"200\" curva=\"Max\" modeloprotecao=\"15K (Indel Bauru)\" tempo=\"0.18\">\n",
      "    </row>\n",
      "    <row codigo=\"1771\" codigoprotecao=\"1034\" corrente=\"300\" curva=\"Max\" modeloprotecao=\"15K (Indel Bauru)\" tempo=\"0.075\">\n",
      "    </row>\n",
      "    <row codigo=\"1772\" codigoprotecao=\"1034\" corrente=\"400\" curva=\"Max\" modeloprotecao=\"15K (Indel Bauru)\" tempo=\"0.042\">\n",
      "    </row>\n",
      "    <row codigo=\"1773\" codigoprotecao=\"1034\" corrente=\"600\" curva=\"Max\" modeloprotecao=\"15K (Indel Bauru)\" tempo=\"0.018\">\n",
      "    </row>\n",
      "    <row codigo=\"1774\" codigoprotecao=\"1034\" corrente=\"820\" curva=\"Max\" modeloprotecao=\"15K (Indel Bauru)\" tempo=\"0.01\">\n",
      "    </row>\n",
      "    <row codigo=\"1775\" codigoprotecao=\"1035\" corrente=\"50\" curva=\"Min\" modeloprotecao=\"25K (Indel Bauru)\" tempo=\"300\">\n",
      "    </row>\n",
      "    <row codigo=\"1776\" codigoprotecao=\"1035\" corrente=\"52\" curva=\"Min\" modeloprotecao=\"25K (Indel Bauru)\" tempo=\"40\">\n",
      "    </row>\n",
      "    <row codigo=\"1777\" codigoprotecao=\"1035\" corrente=\"55\" curva=\"Min\" modeloprotecao=\"25K (Indel Bauru)\" tempo=\"20\">\n",
      "    </row>\n",
      "    <row codigo=\"1778\" codigoprotecao=\"1035\" corrente=\"60\" curva=\"Min\" modeloprotecao=\"25K (Indel Bauru)\" tempo=\"10\">\n",
      "    </row>\n",
      "    <row codigo=\"1779\" codigoprotecao=\"1035\" corrente=\"70\" curva=\"Min\" modeloprotecao=\"25K (Indel Bauru)\" tempo=\"4.9\">\n",
      "    </row>\n",
      "    <row codigo=\"1780\" codigoprotecao=\"1035\" corrente=\"80\" curva=\"Min\" modeloprotecao=\"25K (Indel Bauru)\" tempo=\"3.2\">\n",
      "    </row>\n",
      "    <row codigo=\"1781\" codigoprotecao=\"1035\" corrente=\"100\" curva=\"Min\" modeloprotecao=\"25K (Indel Bauru)\" tempo=\"1.7\">\n",
      "    </row>\n",
      "    <row codigo=\"1782\" codigoprotecao=\"1035\" corrente=\"200\" curva=\"Min\" modeloprotecao=\"25K (Indel Bauru)\" tempo=\"0.32\">\n",
      "    </row>\n",
      "    <row codigo=\"1783\" codigoprotecao=\"1035\" corrente=\"300\" curva=\"Min\" modeloprotecao=\"25K (Indel Bauru)\" tempo=\"0.15\">\n",
      "    </row>\n",
      "    <row codigo=\"1784\" codigoprotecao=\"1035\" corrente=\"400\" curva=\"Min\" modeloprotecao=\"25K (Indel Bauru)\" tempo=\"0.078\">\n",
      "    </row>\n",
      "    <row codigo=\"1785\" codigoprotecao=\"1035\" corrente=\"600\" curva=\"Min\" modeloprotecao=\"25K (Indel Bauru)\" tempo=\"0.037\">\n",
      "    </row>\n",
      "    <row codigo=\"1786\" codigoprotecao=\"1035\" corrente=\"1200\" curva=\"Min\" modeloprotecao=\"25K (Indel Bauru)\" tempo=\"0.01\">\n",
      "    </row>\n",
      "    <row codigo=\"1787\" codigoprotecao=\"1035\" corrente=\"60\" curva=\"Max\" modeloprotecao=\"25K (Indel Bauru)\" tempo=\"300\">\n",
      "    </row>\n",
      "    <row codigo=\"1788\" codigoprotecao=\"1035\" corrente=\"62\" curva=\"Max\" modeloprotecao=\"25K (Indel Bauru)\" tempo=\"50\">\n",
      "    </row>\n",
      "    <row codigo=\"1789\" codigoprotecao=\"1035\" corrente=\"64\" curva=\"Max\" modeloprotecao=\"25K (Indel Bauru)\" tempo=\"30\">\n",
      "    </row>\n",
      "    <row codigo=\"1790\" codigoprotecao=\"1035\" corrente=\"70\" curva=\"Max\" modeloprotecao=\"25K (Indel Bauru)\" tempo=\"12\">\n",
      "    </row>\n",
      "    <row codigo=\"1791\" codigoprotecao=\"1035\" corrente=\"80\" curva=\"Max\" modeloprotecao=\"25K (Indel Bauru)\" tempo=\"5.9\">\n",
      "    </row>\n",
      "    <row codigo=\"1792\" codigoprotecao=\"1035\" corrente=\"90\" curva=\"Max\" modeloprotecao=\"25K (Indel Bauru)\" tempo=\"3.8\">\n",
      "    </row>\n",
      "    <row codigo=\"1793\" codigoprotecao=\"1035\" corrente=\"100\" curva=\"Max\" modeloprotecao=\"25K (Indel Bauru)\" tempo=\"2.7\">\n",
      "    </row>\n",
      "    <row codigo=\"1794\" codigoprotecao=\"1035\" corrente=\"150\" curva=\"Max\" modeloprotecao=\"25K (Indel Bauru)\" tempo=\"1\">\n",
      "    </row>\n",
      "    <row codigo=\"1795\" codigoprotecao=\"1035\" corrente=\"200\" curva=\"Max\" modeloprotecao=\"25K (Indel Bauru)\" tempo=\"0.48\">\n",
      "    </row>\n",
      "    <row codigo=\"1796\" codigoprotecao=\"1035\" corrente=\"300\" curva=\"Max\" modeloprotecao=\"25K (Indel Bauru)\" tempo=\"0.2\">\n",
      "    </row>\n",
      "    <row codigo=\"1797\" codigoprotecao=\"1035\" corrente=\"400\" curva=\"Max\" modeloprotecao=\"25K (Indel Bauru)\" tempo=\"0.12\">\n",
      "    </row>\n",
      "    <row codigo=\"1798\" codigoprotecao=\"1035\" corrente=\"500\" curva=\"Max\" modeloprotecao=\"25K (Indel Bauru)\" tempo=\"0.07000000000000001\">\n",
      "    </row>\n",
      "    <row codigo=\"1799\" codigoprotecao=\"1035\" corrente=\"600\" curva=\"Max\" modeloprotecao=\"25K (Indel Bauru)\" tempo=\"0.05\">\n",
      "    </row>\n",
      "    <row codigo=\"1800\" codigoprotecao=\"1035\" corrente=\"800\" curva=\"Max\" modeloprotecao=\"25K (Indel Bauru)\" tempo=\"0.029\">\n",
      "    </row>\n",
      "    <row codigo=\"1801\" codigoprotecao=\"1035\" corrente=\"1500\" curva=\"Max\" modeloprotecao=\"25K (Indel Bauru)\" tempo=\"0.01\">\n",
      "    </row>\n",
      "    <row codigo=\"1802\" codigoprotecao=\"1036\" corrente=\"80\" curva=\"Min\" modeloprotecao=\"40K (Indel Bauru)\" tempo=\"300\">\n",
      "    </row>\n",
      "    <row codigo=\"1803\" codigoprotecao=\"1036\" corrente=\"85\" curva=\"Min\" modeloprotecao=\"40K (Indel Bauru)\" tempo=\"40\">\n",
      "    </row>\n",
      "    <row codigo=\"1804\" codigoprotecao=\"1036\" corrente=\"90\" curva=\"Min\" modeloprotecao=\"40K (Indel Bauru)\" tempo=\"20\">\n",
      "    </row>\n",
      "    <row codigo=\"1805\" codigoprotecao=\"1036\" corrente=\"100\" curva=\"Min\" modeloprotecao=\"40K (Indel Bauru)\" tempo=\"9\">\n",
      "    </row>\n",
      "    <row codigo=\"1806\" codigoprotecao=\"1036\" corrente=\"120\" curva=\"Min\" modeloprotecao=\"40K (Indel Bauru)\" tempo=\"5\">\n",
      "    </row>\n",
      "    <row codigo=\"1807\" codigoprotecao=\"1036\" corrente=\"140\" curva=\"Min\" modeloprotecao=\"40K (Indel Bauru)\" tempo=\"3\">\n",
      "    </row>\n",
      "    <row codigo=\"1808\" codigoprotecao=\"1036\" corrente=\"200\" curva=\"Min\" modeloprotecao=\"40K (Indel Bauru)\" tempo=\"0.95\">\n",
      "    </row>\n",
      "    <row codigo=\"1809\" codigoprotecao=\"1036\" corrente=\"300\" curva=\"Min\" modeloprotecao=\"40K (Indel Bauru)\" tempo=\"0.39\">\n",
      "    </row>\n",
      "    <row codigo=\"1810\" codigoprotecao=\"1036\" corrente=\"400\" curva=\"Min\" modeloprotecao=\"40K (Indel Bauru)\" tempo=\"0.21\">\n",
      "    </row>\n",
      "    <row codigo=\"1811\" codigoprotecao=\"1036\" corrente=\"600\" curva=\"Min\" modeloprotecao=\"40K (Indel Bauru)\" tempo=\"0.08799999999999999\">\n",
      "    </row>\n",
      "    <row codigo=\"1812\" codigoprotecao=\"1036\" corrente=\"800\" curva=\"Min\" modeloprotecao=\"40K (Indel Bauru)\" tempo=\"0.05\">\n",
      "    </row>\n",
      "    <row codigo=\"1813\" codigoprotecao=\"1036\" corrente=\"1000\" curva=\"Min\" modeloprotecao=\"40K (Indel Bauru)\" tempo=\"0.033\">\n",
      "    </row>\n",
      "    <row codigo=\"1814\" codigoprotecao=\"1036\" corrente=\"1800\" curva=\"Min\" modeloprotecao=\"40K (Indel Bauru)\" tempo=\"0.01\">\n",
      "    </row>\n",
      "    <row codigo=\"1815\" codigoprotecao=\"1036\" corrente=\"96\" curva=\"Max\" modeloprotecao=\"40K (Indel Bauru)\" tempo=\"300\">\n",
      "    </row>\n",
      "    <row codigo=\"1816\" codigoprotecao=\"1036\" corrente=\"100\" curva=\"Max\" modeloprotecao=\"40K (Indel Bauru)\" tempo=\"45\">\n",
      "    </row>\n",
      "    <row codigo=\"1817\" codigoprotecao=\"1036\" corrente=\"110\" curva=\"Max\" modeloprotecao=\"40K (Indel Bauru)\" tempo=\"20\">\n",
      "    </row>\n",
      "    <row codigo=\"1818\" codigoprotecao=\"1036\" corrente=\"120\" curva=\"Max\" modeloprotecao=\"40K (Indel Bauru)\" tempo=\"10\">\n",
      "    </row>\n",
      "    <row codigo=\"1819\" codigoprotecao=\"1036\" corrente=\"140\" curva=\"Max\" modeloprotecao=\"40K (Indel Bauru)\" tempo=\"6\">\n",
      "    </row>\n",
      "    <row codigo=\"1820\" codigoprotecao=\"1036\" corrente=\"170\" curva=\"Max\" modeloprotecao=\"40K (Indel Bauru)\" tempo=\"3\">\n",
      "    </row>\n",
      "    <row codigo=\"1821\" codigoprotecao=\"1036\" corrente=\"200\" curva=\"Max\" modeloprotecao=\"40K (Indel Bauru)\" tempo=\"1.7\">\n",
      "    </row>\n",
      "    <row codigo=\"1822\" codigoprotecao=\"1036\" corrente=\"250\" curva=\"Max\" modeloprotecao=\"40K (Indel Bauru)\" tempo=\"0.9\">\n",
      "    </row>\n",
      "    <row codigo=\"1823\" codigoprotecao=\"1036\" corrente=\"300\" curva=\"Max\" modeloprotecao=\"40K (Indel Bauru)\" tempo=\"0.58\">\n",
      "    </row>\n",
      "    <row codigo=\"1824\" codigoprotecao=\"1036\" corrente=\"400\" curva=\"Max\" modeloprotecao=\"40K (Indel Bauru)\" tempo=\"0.33\">\n",
      "    </row>\n",
      "    <row codigo=\"1825\" codigoprotecao=\"1036\" corrente=\"500\" curva=\"Max\" modeloprotecao=\"40K (Indel Bauru)\" tempo=\"0.19\">\n",
      "    </row>\n",
      "    <row codigo=\"1826\" codigoprotecao=\"1036\" corrente=\"700\" curva=\"Max\" modeloprotecao=\"40K (Indel Bauru)\" tempo=\"0.093\">\n",
      "    </row>\n",
      "    <row codigo=\"1827\" codigoprotecao=\"1036\" corrente=\"1000\" curva=\"Max\" modeloprotecao=\"40K (Indel Bauru)\" tempo=\"0.047\">\n",
      "    </row>\n",
      "    <row codigo=\"1828\" codigoprotecao=\"1036\" corrente=\"2000\" curva=\"Max\" modeloprotecao=\"40K (Indel Bauru)\" tempo=\"0.013\">\n",
      "    </row>\n",
      "    <row codigo=\"1829\" codigoprotecao=\"1036\" corrente=\"2200\" curva=\"Max\" modeloprotecao=\"40K (Indel Bauru)\" tempo=\"0.01\">\n",
      "    </row>\n",
      "    <row codigo=\"1830\" codigoprotecao=\"1037\" corrente=\"140\" curva=\"Min\" modeloprotecao=\"65K (Indel Bauru)\" tempo=\"300\">\n",
      "    </row>\n",
      "    <row codigo=\"1831\" codigoprotecao=\"1037\" corrente=\"150\" curva=\"Min\" modeloprotecao=\"65K (Indel Bauru)\" tempo=\"40\">\n",
      "    </row>\n",
      "    <row codigo=\"1832\" codigoprotecao=\"1037\" corrente=\"160\" curva=\"Min\" modeloprotecao=\"65K (Indel Bauru)\" tempo=\"20\">\n",
      "    </row>\n",
      "    <row codigo=\"1833\" codigoprotecao=\"1037\" corrente=\"170\" curva=\"Min\" modeloprotecao=\"65K (Indel Bauru)\" tempo=\"10\">\n",
      "    </row>\n",
      "    <row codigo=\"1834\" codigoprotecao=\"1037\" corrente=\"180\" curva=\"Min\" modeloprotecao=\"65K (Indel Bauru)\" tempo=\"6\">\n",
      "    </row>\n",
      "    <row codigo=\"1835\" codigoprotecao=\"1037\" corrente=\"200\" curva=\"Min\" modeloprotecao=\"65K (Indel Bauru)\" tempo=\"3.9\">\n",
      "    </row>\n",
      "    <row codigo=\"1836\" codigoprotecao=\"1037\" corrente=\"250\" curva=\"Min\" modeloprotecao=\"65K (Indel Bauru)\" tempo=\"2\">\n",
      "    </row>\n",
      "    <row codigo=\"1837\" codigoprotecao=\"1037\" corrente=\"300\" curva=\"Min\" modeloprotecao=\"65K (Indel Bauru)\" tempo=\"1.3\">\n",
      "    </row>\n",
      "    <row codigo=\"1838\" codigoprotecao=\"1037\" corrente=\"400\" curva=\"Min\" modeloprotecao=\"65K (Indel Bauru)\" tempo=\"0.61\">\n",
      "    </row>\n",
      "    <row codigo=\"1839\" codigoprotecao=\"1037\" corrente=\"600\" curva=\"Min\" modeloprotecao=\"65K (Indel Bauru)\" tempo=\"0.27\">\n",
      "    </row>\n",
      "    <row codigo=\"1840\" codigoprotecao=\"1037\" corrente=\"1000\" curva=\"Min\" modeloprotecao=\"65K (Indel Bauru)\" tempo=\"0.08500000000000001\">\n",
      "    </row>\n",
      "    <row codigo=\"1841\" codigoprotecao=\"1037\" corrente=\"2000\" curva=\"Min\" modeloprotecao=\"65K (Indel Bauru)\" tempo=\"0.022\">\n",
      "    </row>\n",
      "    <row codigo=\"1842\" codigoprotecao=\"1037\" corrente=\"2900\" curva=\"Min\" modeloprotecao=\"65K (Indel Bauru)\" tempo=\"0.01\">\n",
      "    </row>\n",
      "    <row codigo=\"1843\" codigoprotecao=\"1037\" corrente=\"160\" curva=\"Max\" modeloprotecao=\"65K (Indel Bauru)\" tempo=\"300\">\n",
      "    </row>\n",
      "    <row codigo=\"1844\" codigoprotecao=\"1037\" corrente=\"170\" curva=\"Max\" modeloprotecao=\"65K (Indel Bauru)\" tempo=\"40\">\n",
      "    </row>\n",
      "    <row codigo=\"1845\" codigoprotecao=\"1037\" corrente=\"180\" curva=\"Max\" modeloprotecao=\"65K (Indel Bauru)\" tempo=\"20\">\n",
      "    </row>\n",
      "    <row codigo=\"1846\" codigoprotecao=\"1037\" corrente=\"200\" curva=\"Max\" modeloprotecao=\"65K (Indel Bauru)\" tempo=\"8\">\n",
      "    </row>\n",
      "    <row codigo=\"1847\" codigoprotecao=\"1037\" corrente=\"240\" curva=\"Max\" modeloprotecao=\"65K (Indel Bauru)\" tempo=\"4\">\n",
      "    </row>\n",
      "    <row codigo=\"1848\" codigoprotecao=\"1037\" corrente=\"300\" curva=\"Max\" modeloprotecao=\"65K (Indel Bauru)\" tempo=\"2\">\n",
      "    </row>\n",
      "    <row codigo=\"1849\" codigoprotecao=\"1037\" corrente=\"400\" curva=\"Max\" modeloprotecao=\"65K (Indel Bauru)\" tempo=\"0.92\">\n",
      "    </row>\n",
      "    <row codigo=\"1850\" codigoprotecao=\"1037\" corrente=\"600\" curva=\"Max\" modeloprotecao=\"65K (Indel Bauru)\" tempo=\"0.38\">\n",
      "    </row>\n",
      "    <row codigo=\"1851\" codigoprotecao=\"1037\" corrente=\"1000\" curva=\"Max\" modeloprotecao=\"65K (Indel Bauru)\" tempo=\"0.13\">\n",
      "    </row>\n",
      "    <row codigo=\"1852\" codigoprotecao=\"1037\" corrente=\"1500\" curva=\"Max\" modeloprotecao=\"65K (Indel Bauru)\" tempo=\"0.06\">\n",
      "    </row>\n",
      "    <row codigo=\"1853\" codigoprotecao=\"1037\" corrente=\"2000\" curva=\"Max\" modeloprotecao=\"65K (Indel Bauru)\" tempo=\"0.03\">\n",
      "    </row>\n",
      "    <row codigo=\"1854\" codigoprotecao=\"1037\" corrente=\"3500\" curva=\"Max\" modeloprotecao=\"65K (Indel Bauru)\" tempo=\"0.01\">\n",
      "    </row>\n",
      "    <row codigo=\"1855\" codigoprotecao=\"1038\" corrente=\"200\" curva=\"Min\" modeloprotecao=\"100K (Indel Bauru)\" tempo=\"300\">\n",
      "    </row>\n",
      "    <row codigo=\"1856\" codigoprotecao=\"1038\" corrente=\"230\" curva=\"Min\" modeloprotecao=\"100K (Indel Bauru)\" tempo=\"30\">\n",
      "    </row>\n",
      "    <row codigo=\"1857\" codigoprotecao=\"1038\" corrente=\"260\" curva=\"Min\" modeloprotecao=\"100K (Indel Bauru)\" tempo=\"10\">\n",
      "    </row>\n",
      "    <row codigo=\"1858\" codigoprotecao=\"1038\" corrente=\"270\" curva=\"Min\" modeloprotecao=\"100K (Indel Bauru)\" tempo=\"7\">\n",
      "    </row>\n",
      "    <row codigo=\"1859\" codigoprotecao=\"1038\" corrente=\"300\" curva=\"Min\" modeloprotecao=\"100K (Indel Bauru)\" tempo=\"5\">\n",
      "    </row>\n",
      "    <row codigo=\"1860\" codigoprotecao=\"1038\" corrente=\"400\" curva=\"Min\" modeloprotecao=\"100K (Indel Bauru)\" tempo=\"2.2\">\n",
      "    </row>\n",
      "    <row codigo=\"1861\" codigoprotecao=\"1038\" corrente=\"500\" curva=\"Min\" modeloprotecao=\"100K (Indel Bauru)\" tempo=\"1.3\">\n",
      "    </row>\n",
      "    <row codigo=\"1862\" codigoprotecao=\"1038\" corrente=\"700\" curva=\"Min\" modeloprotecao=\"100K (Indel Bauru)\" tempo=\"0.55\">\n",
      "    </row>\n",
      "    <row codigo=\"1863\" codigoprotecao=\"1038\" corrente=\"1000\" curva=\"Min\" modeloprotecao=\"100K (Indel Bauru)\" tempo=\"0.26\">\n",
      "    </row>\n",
      "    <row codigo=\"1864\" codigoprotecao=\"1038\" corrente=\"2000\" curva=\"Min\" modeloprotecao=\"100K (Indel Bauru)\" tempo=\"0.058\">\n",
      "    </row>\n",
      "    <row codigo=\"1865\" codigoprotecao=\"1038\" corrente=\"3000\" curva=\"Min\" modeloprotecao=\"100K (Indel Bauru)\" tempo=\"0.026\">\n",
      "    </row>\n",
      "    <row codigo=\"1866\" codigoprotecao=\"1038\" corrente=\"4800\" curva=\"Min\" modeloprotecao=\"100K (Indel Bauru)\" tempo=\"0.01\">\n",
      "    </row>\n",
      "    <row codigo=\"1867\" codigoprotecao=\"1038\" corrente=\"240\" curva=\"Max\" modeloprotecao=\"100K (Indel Bauru)\" tempo=\"300\">\n",
      "    </row>\n",
      "    <row codigo=\"1868\" codigoprotecao=\"1038\" corrente=\"260\" curva=\"Max\" modeloprotecao=\"100K (Indel Bauru)\" tempo=\"70\">\n",
      "    </row>\n",
      "    <row codigo=\"1869\" codigoprotecao=\"1038\" corrente=\"280\" curva=\"Max\" modeloprotecao=\"100K (Indel Bauru)\" tempo=\"20\">\n",
      "    </row>\n",
      "    <row codigo=\"1870\" codigoprotecao=\"1038\" corrente=\"320\" curva=\"Max\" modeloprotecao=\"100K (Indel Bauru)\" tempo=\"10\">\n",
      "    </row>\n",
      "    <row codigo=\"1871\" codigoprotecao=\"1038\" corrente=\"350\" curva=\"Max\" modeloprotecao=\"100K (Indel Bauru)\" tempo=\"6\">\n",
      "    </row>\n",
      "    <row codigo=\"1872\" codigoprotecao=\"1038\" corrente=\"400\" curva=\"Max\" modeloprotecao=\"100K (Indel Bauru)\" tempo=\"3.9\">\n",
      "    </row>\n",
      "    <row codigo=\"1873\" codigoprotecao=\"1038\" corrente=\"500\" curva=\"Max\" modeloprotecao=\"100K (Indel Bauru)\" tempo=\"1.9\">\n",
      "    </row>\n",
      "    <row codigo=\"1874\" codigoprotecao=\"1038\" corrente=\"700\" curva=\"Max\" modeloprotecao=\"100K (Indel Bauru)\" tempo=\"0.8100000000000001\">\n",
      "    </row>\n",
      "    <row codigo=\"1875\" codigoprotecao=\"1038\" corrente=\"1300\" curva=\"Max\" modeloprotecao=\"100K (Indel Bauru)\" tempo=\"0.27\">\n",
      "    </row>\n",
      "    <row codigo=\"1876\" codigoprotecao=\"1038\" corrente=\"1400\" curva=\"Max\" modeloprotecao=\"100K (Indel Bauru)\" tempo=\"0.2\">\n",
      "    </row>\n",
      "    <row codigo=\"1877\" codigoprotecao=\"1038\" corrente=\"2000\" curva=\"Max\" modeloprotecao=\"100K (Indel Bauru)\" tempo=\"0.082\">\n",
      "    </row>\n",
      "    <row codigo=\"1878\" codigoprotecao=\"1038\" corrente=\"3000\" curva=\"Max\" modeloprotecao=\"100K (Indel Bauru)\" tempo=\"0.037\">\n",
      "    </row>\n",
      "    <row codigo=\"1879\" codigoprotecao=\"1038\" corrente=\"4000\" curva=\"Max\" modeloprotecao=\"100K (Indel Bauru)\" tempo=\"0.021\">\n",
      "    </row>\n",
      "    <row codigo=\"1880\" codigoprotecao=\"1038\" corrente=\"5800\" curva=\"Max\" modeloprotecao=\"100K (Indel Bauru)\" tempo=\"0.01\">\n",
      "    </row>\n",
      "    <row codigo=\"1881\" codigoprotecao=\"1039\" corrente=\"310\" curva=\"Min\" modeloprotecao=\"140K (Indel Bauru)\" tempo=\"600\">\n",
      "    </row>\n",
      "    <row codigo=\"1882\" codigoprotecao=\"1039\" corrente=\"330\" curva=\"Min\" modeloprotecao=\"140K (Indel Bauru)\" tempo=\"100\">\n",
      "    </row>\n",
      "    <row codigo=\"1883\" codigoprotecao=\"1039\" corrente=\"330\" curva=\"Min\" modeloprotecao=\"140K (Indel Bauru)\" tempo=\"100\">\n",
      "    </row>\n",
      "    <row codigo=\"1884\" codigoprotecao=\"1039\" corrente=\"400\" curva=\"Min\" modeloprotecao=\"140K (Indel Bauru)\" tempo=\"17\">\n",
      "    </row>\n",
      "    <row codigo=\"1885\" codigoprotecao=\"1039\" corrente=\"430\" curva=\"Min\" modeloprotecao=\"140K (Indel Bauru)\" tempo=\"10\">\n",
      "    </row>\n",
      "    <row codigo=\"1886\" codigoprotecao=\"1039\" corrente=\"450\" curva=\"Min\" modeloprotecao=\"140K (Indel Bauru)\" tempo=\"7.5\">\n",
      "    </row>\n",
      "    <row codigo=\"1887\" codigoprotecao=\"1039\" corrente=\"500\" curva=\"Min\" modeloprotecao=\"140K (Indel Bauru)\" tempo=\"4.9\">\n",
      "    </row>\n",
      "    <row codigo=\"1888\" codigoprotecao=\"1039\" corrente=\"600\" curva=\"Min\" modeloprotecao=\"140K (Indel Bauru)\" tempo=\"2.9\">\n",
      "    </row>\n",
      "    <row codigo=\"1889\" codigoprotecao=\"1039\" corrente=\"900\" curva=\"Min\" modeloprotecao=\"140K (Indel Bauru)\" tempo=\"1\">\n",
      "    </row>\n",
      "    <row codigo=\"1890\" codigoprotecao=\"1039\" corrente=\"2000\" curva=\"Min\" modeloprotecao=\"140K (Indel Bauru)\" tempo=\"0.17\">\n",
      "    </row>\n",
      "    <row codigo=\"1891\" codigoprotecao=\"1039\" corrente=\"3000\" curva=\"Min\" modeloprotecao=\"140K (Indel Bauru)\" tempo=\"0.067\">\n",
      "    </row>\n",
      "    <row codigo=\"1892\" codigoprotecao=\"1039\" corrente=\"5000\" curva=\"Min\" modeloprotecao=\"140K (Indel Bauru)\" tempo=\"0.025\">\n",
      "    </row>\n",
      "    <row codigo=\"1893\" codigoprotecao=\"1039\" corrente=\"7900\" curva=\"Min\" modeloprotecao=\"140K (Indel Bauru)\" tempo=\"0.01\">\n",
      "    </row>\n",
      "    <row codigo=\"1894\" codigoprotecao=\"1039\" corrente=\"370\" curva=\"Max\" modeloprotecao=\"140K (Indel Bauru)\" tempo=\"600\">\n",
      "    </row>\n",
      "    <row codigo=\"1895\" codigoprotecao=\"1039\" corrente=\"400\" curva=\"Max\" modeloprotecao=\"140K (Indel Bauru)\" tempo=\"150\">\n",
      "    </row>\n",
      "    <row codigo=\"1896\" codigoprotecao=\"1039\" corrente=\"450\" curva=\"Max\" modeloprotecao=\"140K (Indel Bauru)\" tempo=\"30\">\n",
      "    </row>\n",
      "    <row codigo=\"1897\" codigoprotecao=\"1039\" corrente=\"500\" curva=\"Max\" modeloprotecao=\"140K (Indel Bauru)\" tempo=\"13\">\n",
      "    </row>\n",
      "    <row codigo=\"1898\" codigoprotecao=\"1039\" corrente=\"530\" curva=\"Max\" modeloprotecao=\"140K (Indel Bauru)\" tempo=\"8\">\n",
      "    </row>\n",
      "    <row codigo=\"1899\" codigoprotecao=\"1039\" corrente=\"570\" curva=\"Max\" modeloprotecao=\"140K (Indel Bauru)\" tempo=\"6\">\n",
      "    </row>\n",
      "    <row codigo=\"1900\" codigoprotecao=\"1039\" corrente=\"600\" curva=\"Max\" modeloprotecao=\"140K (Indel Bauru)\" tempo=\"5\">\n",
      "    </row>\n",
      "    <row codigo=\"1901\" codigoprotecao=\"1039\" corrente=\"700\" curva=\"Max\" modeloprotecao=\"140K (Indel Bauru)\" tempo=\"3.3\">\n",
      "    </row>\n",
      "    <row codigo=\"1902\" codigoprotecao=\"1039\" corrente=\"900\" curva=\"Max\" modeloprotecao=\"140K (Indel Bauru)\" tempo=\"1.7\">\n",
      "    </row>\n",
      "    <row codigo=\"1903\" codigoprotecao=\"1039\" corrente=\"2000\" curva=\"Max\" modeloprotecao=\"140K (Indel Bauru)\" tempo=\"0.25\">\n",
      "    </row>\n",
      "    <row codigo=\"1904\" codigoprotecao=\"1039\" corrente=\"3000\" curva=\"Max\" modeloprotecao=\"140K (Indel Bauru)\" tempo=\"0.099\">\n",
      "    </row>\n",
      "    <row codigo=\"1905\" codigoprotecao=\"1039\" corrente=\"5000\" curva=\"Max\" modeloprotecao=\"140K (Indel Bauru)\" tempo=\"0.036\">\n",
      "    </row>\n",
      "    <row codigo=\"1906\" codigoprotecao=\"1039\" corrente=\"9400\" curva=\"Max\" modeloprotecao=\"140K (Indel Bauru)\" tempo=\"0.01\">\n",
      "    </row>\n",
      "    <row codigo=\"1907\" codigoprotecao=\"1040\" corrente=\"470\" curva=\"Min\" modeloprotecao=\"200K (Indel Bauru)\" tempo=\"600\">\n",
      "    </row>\n",
      "    <row codigo=\"1908\" codigoprotecao=\"1040\" corrente=\"550\" curva=\"Min\" modeloprotecao=\"200K (Indel Bauru)\" tempo=\"100\">\n",
      "    </row>\n",
      "    <row codigo=\"1909\" codigoprotecao=\"1040\" corrente=\"600\" curva=\"Min\" modeloprotecao=\"200K (Indel Bauru)\" tempo=\"45\">\n",
      "    </row>\n",
      "    <row codigo=\"1910\" codigoprotecao=\"1040\" corrente=\"700\" curva=\"Min\" modeloprotecao=\"200K (Indel Bauru)\" tempo=\"17\">\n",
      "    </row>\n",
      "    <row codigo=\"1911\" codigoprotecao=\"1040\" corrente=\"800\" curva=\"Min\" modeloprotecao=\"200K (Indel Bauru)\" tempo=\"8\">\n",
      "    </row>\n",
      "    <row codigo=\"1912\" codigoprotecao=\"1040\" corrente=\"900\" curva=\"Min\" modeloprotecao=\"200K (Indel Bauru)\" tempo=\"5\">\n",
      "    </row>\n",
      "    <row codigo=\"1913\" codigoprotecao=\"1040\" corrente=\"1000\" curva=\"Min\" modeloprotecao=\"200K (Indel Bauru)\" tempo=\"3.8\">\n",
      "    </row>\n",
      "    <row codigo=\"1914\" codigoprotecao=\"1040\" corrente=\"2000\" curva=\"Min\" modeloprotecao=\"200K (Indel Bauru)\" tempo=\"0.51\">\n",
      "    </row>\n",
      "    <row codigo=\"1915\" codigoprotecao=\"1040\" corrente=\"3000\" curva=\"Min\" modeloprotecao=\"200K (Indel Bauru)\" tempo=\"0.18\">\n",
      "    </row>\n",
      "    <row codigo=\"1916\" codigoprotecao=\"1040\" corrente=\"4000\" curva=\"Min\" modeloprotecao=\"200K (Indel Bauru)\" tempo=\"0.091\">\n",
      "    </row>\n",
      "    <row codigo=\"1917\" codigoprotecao=\"1040\" corrente=\"8000\" curva=\"Min\" modeloprotecao=\"200K (Indel Bauru)\" tempo=\"0.021\">\n",
      "    </row>\n",
      "    <row codigo=\"1918\" codigoprotecao=\"1040\" corrente=\"570\" curva=\"Max\" modeloprotecao=\"200K (Indel Bauru)\" tempo=\"600\">\n",
      "    </row>\n",
      "    <row codigo=\"1919\" codigoprotecao=\"1040\" corrente=\"660\" curva=\"Max\" modeloprotecao=\"200K (Indel Bauru)\" tempo=\"100\">\n",
      "    </row>\n",
      "    <row codigo=\"1920\" codigoprotecao=\"1040\" corrente=\"700\" curva=\"Max\" modeloprotecao=\"200K (Indel Bauru)\" tempo=\"60\">\n",
      "    </row>\n",
      "    <row codigo=\"1921\" codigoprotecao=\"1040\" corrente=\"770\" curva=\"Max\" modeloprotecao=\"200K (Indel Bauru)\" tempo=\"30\">\n",
      "    </row>\n",
      "    <row codigo=\"1922\" codigoprotecao=\"1040\" corrente=\"820\" curva=\"Max\" modeloprotecao=\"200K (Indel Bauru)\" tempo=\"20\">\n",
      "    </row>\n",
      "    <row codigo=\"1923\" codigoprotecao=\"1040\" corrente=\"900\" curva=\"Max\" modeloprotecao=\"200K (Indel Bauru)\" tempo=\"12\">\n",
      "    </row>\n",
      "    <row codigo=\"1924\" codigoprotecao=\"1040\" corrente=\"1000\" curva=\"Max\" modeloprotecao=\"200K (Indel Bauru)\" tempo=\"6.8\">\n",
      "    </row>\n",
      "    <row codigo=\"1925\" codigoprotecao=\"1040\" corrente=\"1400\" curva=\"Max\" modeloprotecao=\"200K (Indel Bauru)\" tempo=\"3\">\n",
      "    </row>\n",
      "    <row codigo=\"1926\" codigoprotecao=\"1040\" corrente=\"1550\" curva=\"Max\" modeloprotecao=\"200K (Indel Bauru)\" tempo=\"2\">\n",
      "    </row>\n",
      "    <row codigo=\"1927\" codigoprotecao=\"1040\" corrente=\"2000\" curva=\"Max\" modeloprotecao=\"200K (Indel Bauru)\" tempo=\"0.83\">\n",
      "    </row>\n",
      "    <row codigo=\"1928\" codigoprotecao=\"1040\" corrente=\"3000\" curva=\"Max\" modeloprotecao=\"200K (Indel Bauru)\" tempo=\"0.29\">\n",
      "    </row>\n",
      "    <row codigo=\"1929\" codigoprotecao=\"1040\" corrente=\"4000\" curva=\"Max\" modeloprotecao=\"200K (Indel Bauru)\" tempo=\"0.15\">\n",
      "    </row>\n",
      "    <row codigo=\"1930\" codigoprotecao=\"1040\" corrente=\"9700\" curva=\"Max\" modeloprotecao=\"200K (Indel Bauru)\" tempo=\"0.02\">\n",
      "    </row>\n",
      "    <row codigo=\"1931\" codigoprotecao=\"1041\" corrente=\"15.5\" curva=\"Min\" modeloprotecao=\"8K (Indel Bauru)\" tempo=\"300\">\n",
      "    </row>\n",
      "    <row codigo=\"1932\" codigoprotecao=\"1041\" corrente=\"16\" curva=\"Min\" modeloprotecao=\"8K (Indel Bauru)\" tempo=\"60\">\n",
      "    </row>\n",
      "    <row codigo=\"1933\" codigoprotecao=\"1041\" corrente=\"17\" curva=\"Min\" modeloprotecao=\"8K (Indel Bauru)\" tempo=\"30\">\n",
      "    </row>\n",
      "    <row codigo=\"1934\" codigoprotecao=\"1041\" corrente=\"18\" curva=\"Min\" modeloprotecao=\"8K (Indel Bauru)\" tempo=\"10\">\n",
      "    </row>\n",
      "    <row codigo=\"1935\" codigoprotecao=\"1041\" corrente=\"20\" curva=\"Min\" modeloprotecao=\"8K (Indel Bauru)\" tempo=\"5.4\">\n",
      "    </row>\n",
      "    <row codigo=\"1936\" codigoprotecao=\"1041\" corrente=\"23\" curva=\"Min\" modeloprotecao=\"8K (Indel Bauru)\" tempo=\"3\">\n",
      "    </row>\n",
      "    <row codigo=\"1937\" codigoprotecao=\"1041\" corrente=\"30\" curva=\"Min\" modeloprotecao=\"8K (Indel Bauru)\" tempo=\"1.6\">\n",
      "    </row>\n",
      "    <row codigo=\"1938\" codigoprotecao=\"1041\" corrente=\"40\" curva=\"Min\" modeloprotecao=\"8K (Indel Bauru)\" tempo=\"0.7\">\n",
      "    </row>\n",
      "    <row codigo=\"1939\" codigoprotecao=\"1041\" corrente=\"60\" curva=\"Min\" modeloprotecao=\"8K (Indel Bauru)\" tempo=\"0.28\">\n",
      "    </row>\n",
      "    <row codigo=\"1941\" codigoprotecao=\"1041\" corrente=\"100\" curva=\"Min\" modeloprotecao=\"8K (Indel Bauru)\" tempo=\"0.093\">\n",
      "    </row>\n",
      "    <row codigo=\"1942\" codigoprotecao=\"1041\" corrente=\"200\" curva=\"Min\" modeloprotecao=\"8K (Indel Bauru)\" tempo=\"0.024\">\n",
      "    </row>\n",
      "    <row codigo=\"1943\" codigoprotecao=\"1041\" corrente=\"310\" curva=\"Min\" modeloprotecao=\"8K (Indel Bauru)\" tempo=\"0.01\">\n",
      "    </row>\n",
      "    <row codigo=\"1944\" codigoprotecao=\"1041\" corrente=\"18\" curva=\"Max\" modeloprotecao=\"8K (Indel Bauru)\" tempo=\"300\">\n",
      "    </row>\n",
      "    <row codigo=\"1945\" codigoprotecao=\"1041\" corrente=\"18.5\" curva=\"Max\" modeloprotecao=\"8K (Indel Bauru)\" tempo=\"70\">\n",
      "    </row>\n",
      "    <row codigo=\"1946\" codigoprotecao=\"1041\" corrente=\"19\" curva=\"Max\" modeloprotecao=\"8K (Indel Bauru)\" tempo=\"40\">\n",
      "    </row>\n",
      "    <row codigo=\"1947\" codigoprotecao=\"1041\" corrente=\"20\" curva=\"Max\" modeloprotecao=\"8K (Indel Bauru)\" tempo=\"20\">\n",
      "    </row>\n",
      "    <row codigo=\"1948\" codigoprotecao=\"1041\" corrente=\"24\" curva=\"Max\" modeloprotecao=\"8K (Indel Bauru)\" tempo=\"6\">\n",
      "    </row>\n",
      "    <row codigo=\"1949\" codigoprotecao=\"1041\" corrente=\"25\" curva=\"Max\" modeloprotecao=\"8K (Indel Bauru)\" tempo=\"5\">\n",
      "    </row>\n",
      "    <row codigo=\"1950\" codigoprotecao=\"1041\" corrente=\"30\" curva=\"Max\" modeloprotecao=\"8K (Indel Bauru)\" tempo=\"2.6\">\n",
      "    </row>\n",
      "    <row codigo=\"1951\" codigoprotecao=\"1041\" corrente=\"40\" curva=\"Max\" modeloprotecao=\"8K (Indel Bauru)\" tempo=\"1.2\">\n",
      "    </row>\n",
      "    <row codigo=\"1952\" codigoprotecao=\"1041\" corrente=\"50\" curva=\"Max\" modeloprotecao=\"8K (Indel Bauru)\" tempo=\"0.62\">\n",
      "    </row>\n",
      "    <row codigo=\"1953\" codigoprotecao=\"1041\" corrente=\"70\" curva=\"Max\" modeloprotecao=\"8K (Indel Bauru)\" tempo=\"0.3\">\n",
      "    </row>\n",
      "    <row codigo=\"1954\" codigoprotecao=\"1041\" corrente=\"100\" curva=\"Max\" modeloprotecao=\"8K (Indel Bauru)\" tempo=\"0.14\">\n",
      "    </row>\n",
      "    <row codigo=\"1955\" codigoprotecao=\"1041\" corrente=\"200\" curva=\"Max\" modeloprotecao=\"8K (Indel Bauru)\" tempo=\"0.035\">\n",
      "    </row>\n",
      "    <row codigo=\"1956\" codigoprotecao=\"1041\" corrente=\"370\" curva=\"Max\" modeloprotecao=\"8K (Indel Bauru)\" tempo=\"0.01\">\n",
      "    </row>\n",
      "    <row codigo=\"1957\" codigoprotecao=\"1042\" corrente=\"25\" curva=\"Min\" modeloprotecao=\"12K (Indel Bauru)\" tempo=\"300\">\n",
      "    </row>\n",
      "    <row codigo=\"1958\" codigoprotecao=\"1042\" corrente=\"25.1\" curva=\"Min\" modeloprotecao=\"12K (Indel Bauru)\" tempo=\"70\">\n",
      "    </row>\n",
      "    <row codigo=\"1959\" codigoprotecao=\"1042\" corrente=\"28\" curva=\"Min\" modeloprotecao=\"12K (Indel Bauru)\" tempo=\"14\">\n",
      "    </row>\n",
      "    <row codigo=\"1960\" codigoprotecao=\"1042\" corrente=\"33\" curva=\"Min\" modeloprotecao=\"12K (Indel Bauru)\" tempo=\"5.8\">\n",
      "    </row>\n",
      "    <row codigo=\"1961\" codigoprotecao=\"1042\" corrente=\"40\" curva=\"Min\" modeloprotecao=\"12K (Indel Bauru)\" tempo=\"2.9\">\n",
      "    </row>\n",
      "    <row codigo=\"1962\" codigoprotecao=\"1042\" corrente=\"58\" curva=\"Min\" modeloprotecao=\"12K (Indel Bauru)\" tempo=\"1\">\n",
      "    </row>\n",
      "    <row codigo=\"1963\" codigoprotecao=\"1042\" corrente=\"110\" curva=\"Min\" modeloprotecao=\"12K (Indel Bauru)\" tempo=\"0.27\">\n",
      "    </row>\n",
      "    <row codigo=\"1964\" codigoprotecao=\"1042\" corrente=\"130\" curva=\"Min\" modeloprotecao=\"12K (Indel Bauru)\" tempo=\"0.18\">\n",
      "    </row>\n",
      "    <row codigo=\"1965\" codigoprotecao=\"1042\" corrente=\"200\" curva=\"Min\" modeloprotecao=\"12K (Indel Bauru)\" tempo=\"0.07000000000000001\">\n",
      "    </row>\n",
      "    <row codigo=\"1966\" codigoprotecao=\"1042\" corrente=\"400\" curva=\"Min\" modeloprotecao=\"12K (Indel Bauru)\" tempo=\"0.018\">\n",
      "    </row>\n",
      "    <row codigo=\"1967\" codigoprotecao=\"1042\" corrente=\"530\" curva=\"Min\" modeloprotecao=\"12K (Indel Bauru)\" tempo=\"0.01\">\n",
      "    </row>\n",
      "    <row codigo=\"1968\" codigoprotecao=\"1042\" corrente=\"30\" curva=\"Max\" modeloprotecao=\"12K (Indel Bauru)\" tempo=\"300\">\n",
      "    </row>\n",
      "    <row codigo=\"1969\" codigoprotecao=\"1042\" corrente=\"30.1\" curva=\"Max\" modeloprotecao=\"12K (Indel Bauru)\" tempo=\"60\">\n",
      "    </row>\n",
      "    <row codigo=\"1970\" codigoprotecao=\"1042\" corrente=\"33\" curva=\"Max\" modeloprotecao=\"12K (Indel Bauru)\" tempo=\"20\">\n",
      "    </row>\n",
      "    <row codigo=\"1971\" codigoprotecao=\"1042\" corrente=\"36\" curva=\"Max\" modeloprotecao=\"12K (Indel Bauru)\" tempo=\"10\">\n",
      "    </row>\n",
      "    <row codigo=\"1972\" codigoprotecao=\"1042\" corrente=\"40\" curva=\"Max\" modeloprotecao=\"12K (Indel Bauru)\" tempo=\"5.4\">\n",
      "    </row>\n",
      "    <row codigo=\"1973\" codigoprotecao=\"1042\" corrente=\"50\" curva=\"Max\" modeloprotecao=\"12K (Indel Bauru)\" tempo=\"2.6\">\n",
      "    </row>\n",
      "    <row codigo=\"1974\" codigoprotecao=\"1042\" corrente=\"60\" curva=\"Max\" modeloprotecao=\"12K (Indel Bauru)\" tempo=\"1.6\">\n",
      "    </row>\n",
      "    <row codigo=\"1975\" codigoprotecao=\"1042\" corrente=\"70\" curva=\"Max\" modeloprotecao=\"12K (Indel Bauru)\" tempo=\"0.95\">\n",
      "    </row>\n",
      "    <row codigo=\"1976\" codigoprotecao=\"1042\" corrente=\"100\" curva=\"Max\" modeloprotecao=\"12K (Indel Bauru)\" tempo=\"0.44\">\n",
      "    </row>\n",
      "    <row codigo=\"1979\" codigoprotecao=\"1042\" corrente=\"200\" curva=\"Max\" modeloprotecao=\"12K (Indel Bauru)\" tempo=\"0.1\">\n",
      "    </row>\n",
      "    <row codigo=\"1980\" codigoprotecao=\"1042\" corrente=\"300\" curva=\"Max\" modeloprotecao=\"12K (Indel Bauru)\" tempo=\"0.045\">\n",
      "    </row>\n",
      "    <row codigo=\"1981\" codigoprotecao=\"1042\" corrente=\"650\" curva=\"Max\" modeloprotecao=\"12K (Indel Bauru)\" tempo=\"0.01\">\n",
      "    </row>\n",
      "    <row codigo=\"1982\" codigoprotecao=\"1043\" corrente=\"38\" curva=\"Min\" modeloprotecao=\"20K (Indel Bauru)\" tempo=\"300\">\n",
      "    </row>\n",
      "    <row codigo=\"1983\" codigoprotecao=\"1043\" corrente=\"40\" curva=\"Min\" modeloprotecao=\"20K (Indel Bauru)\" tempo=\"80\">\n",
      "    </row>\n",
      "    <row codigo=\"1984\" codigoprotecao=\"1043\" corrente=\"42\" curva=\"Min\" modeloprotecao=\"20K (Indel Bauru)\" tempo=\"30\">\n",
      "    </row>\n",
      "    <row codigo=\"1985\" codigoprotecao=\"1043\" corrente=\"48\" curva=\"Min\" modeloprotecao=\"20K (Indel Bauru)\" tempo=\"10\">\n",
      "    </row>\n",
      "    <row codigo=\"1986\" codigoprotecao=\"1043\" corrente=\"54\" curva=\"Min\" modeloprotecao=\"20K (Indel Bauru)\" tempo=\"6\">\n",
      "    </row>\n",
      "    <row codigo=\"1987\" codigoprotecao=\"1043\" corrente=\"60\" curva=\"Min\" modeloprotecao=\"20K (Indel Bauru)\" tempo=\"4\">\n",
      "    </row>\n",
      "    <row codigo=\"1988\" codigoprotecao=\"1043\" corrente=\"70\" curva=\"Min\" modeloprotecao=\"20K (Indel Bauru)\" tempo=\"2.6\">\n",
      "    </row>\n",
      "    <row codigo=\"1989\" codigoprotecao=\"1043\" corrente=\"95\" curva=\"Min\" modeloprotecao=\"20K (Indel Bauru)\" tempo=\"1\">\n",
      "    </row>\n",
      "    <row codigo=\"1990\" codigoprotecao=\"1043\" corrente=\"140\" curva=\"Min\" modeloprotecao=\"20K (Indel Bauru)\" tempo=\"0.5\">\n",
      "    </row>\n",
      "    <row codigo=\"1991\" codigoprotecao=\"1043\" corrente=\"170\" curva=\"Min\" modeloprotecao=\"20K (Indel Bauru)\" tempo=\"0.3\">\n",
      "    </row>\n",
      "    <row codigo=\"1992\" codigoprotecao=\"1043\" corrente=\"200\" curva=\"Min\" modeloprotecao=\"20K (Indel Bauru)\" tempo=\"0.2\">\n",
      "    </row>\n",
      "    <row codigo=\"1993\" codigoprotecao=\"1043\" corrente=\"300\" curva=\"Min\" modeloprotecao=\"20K (Indel Bauru)\" tempo=\"0.082\">\n",
      "    </row>\n",
      "    <row codigo=\"1994\" codigoprotecao=\"1043\" corrente=\"400\" curva=\"Min\" modeloprotecao=\"20K (Indel Bauru)\" tempo=\"0.047\">\n",
      "    </row>\n",
      "    <row codigo=\"1995\" codigoprotecao=\"1043\" corrente=\"500\" curva=\"Min\" modeloprotecao=\"20K (Indel Bauru)\" tempo=\"0.03\">\n",
      "    </row>\n",
      "    <row codigo=\"1996\" codigoprotecao=\"1043\" corrente=\"600\" curva=\"Min\" modeloprotecao=\"20K (Indel Bauru)\" tempo=\"0.021\">\n",
      "    </row>\n",
      "    <row codigo=\"1997\" codigoprotecao=\"1043\" corrente=\"900\" curva=\"Min\" modeloprotecao=\"20K (Indel Bauru)\" tempo=\"0.01\">\n",
      "    </row>\n",
      "    <row codigo=\"1998\" codigoprotecao=\"1043\" corrente=\"47\" curva=\"Max\" modeloprotecao=\"20K (Indel Bauru)\" tempo=\"300\">\n",
      "    </row>\n",
      "    <row codigo=\"1999\" codigoprotecao=\"1043\" corrente=\"48\" curva=\"Max\" modeloprotecao=\"20K (Indel Bauru)\" tempo=\"100\">\n",
      "    </row>\n",
      "    <row codigo=\"2000\" codigoprotecao=\"1043\" corrente=\"50\" curva=\"Max\" modeloprotecao=\"20K (Indel Bauru)\" tempo=\"40\">\n",
      "    </row>\n",
      "    <row codigo=\"2001\" codigoprotecao=\"1043\" corrente=\"53\" curva=\"Max\" modeloprotecao=\"20K (Indel Bauru)\" tempo=\"20\">\n",
      "    </row>\n",
      "    <row codigo=\"2002\" codigoprotecao=\"1043\" corrente=\"57\" curva=\"Max\" modeloprotecao=\"20K (Indel Bauru)\" tempo=\"10\">\n",
      "    </row>\n",
      "    <row codigo=\"2003\" codigoprotecao=\"1043\" corrente=\"60\" curva=\"Max\" modeloprotecao=\"20K (Indel Bauru)\" tempo=\"8\">\n",
      "    </row>\n",
      "    <row codigo=\"2004\" codigoprotecao=\"1043\" corrente=\"70\" curva=\"Max\" modeloprotecao=\"20K (Indel Bauru)\" tempo=\"4.3\">\n",
      "    </row>\n",
      "    <row codigo=\"2005\" codigoprotecao=\"1043\" corrente=\"80\" curva=\"Max\" modeloprotecao=\"20K (Indel Bauru)\" tempo=\"2.9\">\n",
      "    </row>\n",
      "    <row codigo=\"2006\" codigoprotecao=\"1043\" corrente=\"100\" curva=\"Max\" modeloprotecao=\"20K (Indel Bauru)\" tempo=\"1.6\">\n",
      "    </row>\n",
      "    <row codigo=\"2007\" codigoprotecao=\"1043\" corrente=\"200\" curva=\"Max\" modeloprotecao=\"20K (Indel Bauru)\" tempo=\"0.31\">\n",
      "    </row>\n",
      "    <row codigo=\"2008\" codigoprotecao=\"1043\" corrente=\"300\" curva=\"Max\" modeloprotecao=\"20K (Indel Bauru)\" tempo=\"0.13\">\n",
      "    </row>\n",
      "    <row codigo=\"2009\" codigoprotecao=\"1043\" corrente=\"400\" curva=\"Max\" modeloprotecao=\"20K (Indel Bauru)\" tempo=\"0.068\">\n",
      "    </row>\n",
      "    <row codigo=\"2010\" codigoprotecao=\"1043\" corrente=\"500\" curva=\"Max\" modeloprotecao=\"20K (Indel Bauru)\" tempo=\"0.043\">\n",
      "    </row>\n",
      "    <row codigo=\"2011\" codigoprotecao=\"1043\" corrente=\"700\" curva=\"Max\" modeloprotecao=\"20K (Indel Bauru)\" tempo=\"0.023\">\n",
      "    </row>\n",
      "    <row codigo=\"2012\" codigoprotecao=\"1043\" corrente=\"1100\" curva=\"Max\" modeloprotecao=\"20K (Indel Bauru)\" tempo=\"0.01\">\n",
      "    </row>\n",
      "    <row codigo=\"2013\" codigoprotecao=\"1044\" corrente=\"63\" curva=\"Min\" modeloprotecao=\"30K (Indel Bauru)\" tempo=\"300\">\n",
      "    </row>\n",
      "    <row codigo=\"2014\" codigoprotecao=\"1044\" corrente=\"64\" curva=\"Min\" modeloprotecao=\"30K (Indel Bauru)\" tempo=\"60\">\n",
      "    </row>\n",
      "    <row codigo=\"2015\" codigoprotecao=\"1044\" corrente=\"73\" curva=\"Min\" modeloprotecao=\"30K (Indel Bauru)\" tempo=\"14.5\">\n",
      "    </row>\n",
      "    <row codigo=\"2016\" codigoprotecao=\"1044\" corrente=\"80\" curva=\"Min\" modeloprotecao=\"30K (Indel Bauru)\" tempo=\"8.5\">\n",
      "    </row>\n",
      "    <row codigo=\"2017\" codigoprotecao=\"1044\" corrente=\"90\" curva=\"Min\" modeloprotecao=\"30K (Indel Bauru)\" tempo=\"5.3\">\n",
      "    </row>\n",
      "    <row codigo=\"2018\" codigoprotecao=\"1044\" corrente=\"130\" curva=\"Min\" modeloprotecao=\"30K (Indel Bauru)\" tempo=\"2\">\n",
      "    </row>\n",
      "    <row codigo=\"2019\" codigoprotecao=\"1044\" corrente=\"170\" curva=\"Min\" modeloprotecao=\"30K (Indel Bauru)\" tempo=\"1\">\n",
      "    </row>\n",
      "    <row codigo=\"2020\" codigoprotecao=\"1044\" corrente=\"200\" curva=\"Min\" modeloprotecao=\"30K (Indel Bauru)\" tempo=\"0.58\">\n",
      "    </row>\n",
      "    <row codigo=\"2021\" codigoprotecao=\"1044\" corrente=\"270\" curva=\"Min\" modeloprotecao=\"30K (Indel Bauru)\" tempo=\"0.32\">\n",
      "    </row>\n",
      "    <row codigo=\"2022\" codigoprotecao=\"1044\" corrente=\"400\" curva=\"Min\" modeloprotecao=\"30K (Indel Bauru)\" tempo=\"0.14\">\n",
      "    </row>\n",
      "    <row codigo=\"2023\" codigoprotecao=\"1044\" corrente=\"500\" curva=\"Min\" modeloprotecao=\"30K (Indel Bauru)\" tempo=\"0.08\">\n",
      "    </row>\n",
      "    <row codigo=\"2024\" codigoprotecao=\"1044\" corrente=\"800\" curva=\"Min\" modeloprotecao=\"30K (Indel Bauru)\" tempo=\"0.033\">\n",
      "    </row>\n",
      "    <row codigo=\"2025\" codigoprotecao=\"1044\" corrente=\"1600\" curva=\"Min\" modeloprotecao=\"30K (Indel Bauru)\" tempo=\"0.01\">\n",
      "    </row>\n",
      "    <row codigo=\"2026\" codigoprotecao=\"1044\" corrente=\"75\" curva=\"Max\" modeloprotecao=\"30K (Indel Bauru)\" tempo=\"300\">\n",
      "    </row>\n",
      "    <row codigo=\"2027\" codigoprotecao=\"1044\" corrente=\"76\" curva=\"Max\" modeloprotecao=\"30K (Indel Bauru)\" tempo=\"100\">\n",
      "    </row>\n",
      "    <row codigo=\"2028\" codigoprotecao=\"1044\" corrente=\"80\" curva=\"Max\" modeloprotecao=\"30K (Indel Bauru)\" tempo=\"45\">\n",
      "    </row>\n",
      "    <row codigo=\"2029\" codigoprotecao=\"1044\" corrente=\"90\" curva=\"Max\" modeloprotecao=\"30K (Indel Bauru)\" tempo=\"12.5\">\n",
      "    </row>\n",
      "    <row codigo=\"2030\" codigoprotecao=\"1044\" corrente=\"95\" curva=\"Max\" modeloprotecao=\"30K (Indel Bauru)\" tempo=\"9\">\n",
      "    </row>\n",
      "    <row codigo=\"2031\" codigoprotecao=\"1044\" corrente=\"100\" curva=\"Max\" modeloprotecao=\"30K (Indel Bauru)\" tempo=\"6.9\">\n",
      "    </row>\n",
      "    <row codigo=\"2032\" codigoprotecao=\"1044\" corrente=\"140\" curva=\"Max\" modeloprotecao=\"30K (Indel Bauru)\" tempo=\"3\">\n",
      "    </row>\n",
      "    <row codigo=\"2033\" codigoprotecao=\"1044\" corrente=\"160\" curva=\"Max\" modeloprotecao=\"30K (Indel Bauru)\" tempo=\"2\">\n",
      "    </row>\n",
      "    <row codigo=\"2034\" codigoprotecao=\"1044\" corrente=\"200\" curva=\"Max\" modeloprotecao=\"30K (Indel Bauru)\" tempo=\"0.89\">\n",
      "    </row>\n",
      "    <row codigo=\"2035\" codigoprotecao=\"1044\" corrente=\"320\" curva=\"Max\" modeloprotecao=\"30K (Indel Bauru)\" tempo=\"0.33\">\n",
      "    </row>\n",
      "    <row codigo=\"2036\" codigoprotecao=\"1044\" corrente=\"400\" curva=\"Max\" modeloprotecao=\"30K (Indel Bauru)\" tempo=\"0.19\">\n",
      "    </row>\n",
      "    <row codigo=\"2037\" codigoprotecao=\"1044\" corrente=\"600\" curva=\"Max\" modeloprotecao=\"30K (Indel Bauru)\" tempo=\"0.08\">\n",
      "    </row>\n",
      "    <row codigo=\"2038\" codigoprotecao=\"1044\" corrente=\"1000\" curva=\"Max\" modeloprotecao=\"30K (Indel Bauru)\" tempo=\"0.03\">\n",
      "    </row>\n",
      "    <row codigo=\"2039\" codigoprotecao=\"1044\" corrente=\"1800\" curva=\"Max\" modeloprotecao=\"30K (Indel Bauru)\" tempo=\"0.01\">\n",
      "    </row>\n",
      "    <row codigo=\"2040\" codigoprotecao=\"1045\" corrente=\"100\" curva=\"Min\" modeloprotecao=\"50K (Indel Bauru)\" tempo=\"300\">\n",
      "    </row>\n",
      "    <row codigo=\"2041\" codigoprotecao=\"1045\" corrente=\"101\" curva=\"Min\" modeloprotecao=\"50K (Indel Bauru)\" tempo=\"60\">\n",
      "    </row>\n",
      "    <row codigo=\"2042\" codigoprotecao=\"1045\" corrente=\"135\" curva=\"Min\" modeloprotecao=\"50K (Indel Bauru)\" tempo=\"10\">\n",
      "    </row>\n",
      "    <row codigo=\"2043\" codigoprotecao=\"1045\" corrente=\"200\" curva=\"Min\" modeloprotecao=\"50K (Indel Bauru)\" tempo=\"2.1\">\n",
      "    </row>\n",
      "    <row codigo=\"2044\" codigoprotecao=\"1045\" corrente=\"260\" curva=\"Min\" modeloprotecao=\"50K (Indel Bauru)\" tempo=\"1\">\n",
      "    </row>\n",
      "    <row codigo=\"2045\" codigoprotecao=\"1045\" corrente=\"450\" curva=\"Min\" modeloprotecao=\"50K (Indel Bauru)\" tempo=\"0.3\">\n",
      "    </row>\n",
      "    <row codigo=\"2046\" codigoprotecao=\"1045\" corrente=\"1000\" curva=\"Min\" modeloprotecao=\"50K (Indel Bauru)\" tempo=\"0.051\">\n",
      "    </row>\n",
      "    <row codigo=\"2047\" codigoprotecao=\"1045\" corrente=\"2300\" curva=\"Min\" modeloprotecao=\"50K (Indel Bauru)\" tempo=\"0.01\">\n",
      "    </row>\n",
      "    <row codigo=\"2048\" codigoprotecao=\"1045\" corrente=\"130\" curva=\"Max\" modeloprotecao=\"50K (Indel Bauru)\" tempo=\"300\">\n",
      "    </row>\n",
      "    <row codigo=\"2049\" codigoprotecao=\"1045\" corrente=\"135\" curva=\"Max\" modeloprotecao=\"50K (Indel Bauru)\" tempo=\"60\">\n",
      "    </row>\n",
      "    <row codigo=\"2050\" codigoprotecao=\"1045\" corrente=\"145\" curva=\"Max\" modeloprotecao=\"50K (Indel Bauru)\" tempo=\"20\">\n",
      "    </row>\n",
      "    <row codigo=\"2051\" codigoprotecao=\"1045\" corrente=\"160\" curva=\"Max\" modeloprotecao=\"50K (Indel Bauru)\" tempo=\"10\">\n",
      "    </row>\n",
      "    <row codigo=\"2052\" codigoprotecao=\"1045\" corrente=\"200\" curva=\"Max\" modeloprotecao=\"50K (Indel Bauru)\" tempo=\"3.8\">\n",
      "    </row>\n",
      "    <row codigo=\"2053\" codigoprotecao=\"1045\" corrente=\"300\" curva=\"Max\" modeloprotecao=\"50K (Indel Bauru)\" tempo=\"1.1\">\n",
      "    </row>\n",
      "    <row codigo=\"2054\" codigoprotecao=\"1045\" corrente=\"500\" curva=\"Max\" modeloprotecao=\"50K (Indel Bauru)\" tempo=\"0.35\">\n",
      "    </row>\n",
      "    <row codigo=\"2055\" codigoprotecao=\"1045\" corrente=\"1000\" curva=\"Max\" modeloprotecao=\"50K (Indel Bauru)\" tempo=\"0.075\">\n",
      "    </row>\n",
      "    <row codigo=\"2056\" codigoprotecao=\"1045\" corrente=\"2000\" curva=\"Max\" modeloprotecao=\"50K (Indel Bauru)\" tempo=\"0.019\">\n",
      "    </row>\n",
      "    <row codigo=\"2057\" codigoprotecao=\"1045\" corrente=\"2800\" curva=\"Max\" modeloprotecao=\"50K (Indel Bauru)\" tempo=\"0.01\">\n",
      "    </row>\n",
      "    <row codigo=\"2058\" codigoprotecao=\"1046\" corrente=\"165\" curva=\"Min\" modeloprotecao=\"80K (Indel Bauru)\" tempo=\"300\">\n",
      "    </row>\n",
      "    <row codigo=\"2059\" codigoprotecao=\"1046\" corrente=\"170\" curva=\"Min\" modeloprotecao=\"80K (Indel Bauru)\" tempo=\"100\">\n",
      "    </row>\n",
      "    <row codigo=\"2060\" codigoprotecao=\"1046\" corrente=\"180\" curva=\"Min\" modeloprotecao=\"80K (Indel Bauru)\" tempo=\"30\">\n",
      "    </row>\n",
      "    <row codigo=\"2061\" codigoprotecao=\"1046\" corrente=\"200\" curva=\"Min\" modeloprotecao=\"80K (Indel Bauru)\" tempo=\"13\">\n",
      "    </row>\n",
      "    <row codigo=\"2062\" codigoprotecao=\"1046\" corrente=\"240\" curva=\"Min\" modeloprotecao=\"80K (Indel Bauru)\" tempo=\"5\">\n",
      "    </row>\n",
      "    <row codigo=\"2063\" codigoprotecao=\"1046\" corrente=\"300\" curva=\"Min\" modeloprotecao=\"80K (Indel Bauru)\" tempo=\"2.7\">\n",
      "    </row>\n",
      "    <row codigo=\"2064\" codigoprotecao=\"1046\" corrente=\"400\" curva=\"Min\" modeloprotecao=\"80K (Indel Bauru)\" tempo=\"1.3\">\n",
      "    </row>\n",
      "    <row codigo=\"2065\" codigoprotecao=\"1046\" corrente=\"600\" curva=\"Min\" modeloprotecao=\"80K (Indel Bauru)\" tempo=\"0.47\">\n",
      "    </row>\n",
      "    <row codigo=\"2066\" codigoprotecao=\"1046\" corrente=\"1000\" curva=\"Min\" modeloprotecao=\"80K (Indel Bauru)\" tempo=\"0.16\">\n",
      "    </row>\n",
      "    <row codigo=\"2067\" codigoprotecao=\"1046\" corrente=\"2000\" curva=\"Min\" modeloprotecao=\"80K (Indel Bauru)\" tempo=\"0.037\">\n",
      "    </row>\n",
      "    <row codigo=\"2068\" codigoprotecao=\"1046\" corrente=\"3800\" curva=\"Min\" modeloprotecao=\"80K (Indel Bauru)\" tempo=\"0.01\">\n",
      "    </row>\n",
      "    <row codigo=\"2069\" codigoprotecao=\"1046\" corrente=\"190\" curva=\"Max\" modeloprotecao=\"80K (Indel Bauru)\" tempo=\"300\">\n",
      "    </row>\n",
      "    <row codigo=\"2070\" codigoprotecao=\"1046\" corrente=\"200\" curva=\"Max\" modeloprotecao=\"80K (Indel Bauru)\" tempo=\"60\">\n",
      "    </row>\n",
      "    <row codigo=\"2071\" codigoprotecao=\"1046\" corrente=\"230\" curva=\"Max\" modeloprotecao=\"80K (Indel Bauru)\" tempo=\"20\">\n",
      "    </row>\n",
      "    <row codigo=\"2072\" codigoprotecao=\"1046\" corrente=\"250\" curva=\"Max\" modeloprotecao=\"80K (Indel Bauru)\" tempo=\"10\">\n",
      "    </row>\n",
      "    <row codigo=\"2073\" codigoprotecao=\"1046\" corrente=\"300\" curva=\"Max\" modeloprotecao=\"80K (Indel Bauru)\" tempo=\"4.8\">\n",
      "    </row>\n",
      "    <row codigo=\"2074\" codigoprotecao=\"1046\" corrente=\"400\" curva=\"Max\" modeloprotecao=\"80K (Indel Bauru)\" tempo=\"2\">\n",
      "    </row>\n",
      "    <row codigo=\"2075\" codigoprotecao=\"1046\" corrente=\"600\" curva=\"Max\" modeloprotecao=\"80K (Indel Bauru)\" tempo=\"0.6\">\n",
      "    </row>\n",
      "    <row codigo=\"2076\" codigoprotecao=\"1046\" corrente=\"1000\" curva=\"Max\" modeloprotecao=\"80K (Indel Bauru)\" tempo=\"0.22\">\n",
      "    </row>\n",
      "    <row codigo=\"2077\" codigoprotecao=\"1046\" corrente=\"2000\" curva=\"Max\" modeloprotecao=\"80K (Indel Bauru)\" tempo=\"0.05\">\n",
      "    </row>\n",
      "    <row codigo=\"2078\" codigoprotecao=\"1046\" corrente=\"3000\" curva=\"Max\" modeloprotecao=\"80K (Indel Bauru)\" tempo=\"0.023\">\n",
      "    </row>\n",
      "    <row codigo=\"2079\" codigoprotecao=\"1046\" corrente=\"4600\" curva=\"Max\" modeloprotecao=\"80K (Indel Bauru)\" tempo=\"0.01\">\n",
      "    </row>\n",
      "   </rowdata>\n",
      "  </datapacket>\n",
      " </body>\n",
      "</html>\n"
     ]
    }
   ],
   "source": [
    "print soup.prettify()"
   ]
  },
  {
   "cell_type": "code",
   "execution_count": 53,
   "metadata": {
    "collapsed": true
   },
   "outputs": [],
   "source": [
    "l = soup.find_all('row')\n",
    "cmax = list()\n",
    "tmin = list()\n",
    "cmin = list()\n",
    "tmax = list()\n",
    "for i in l:\n",
    "    if i['modeloprotecao'] == '30K':\n",
    "        if i['curva'] == 'Max':\n",
    "            cmax.append(float(i['corrente']))\n",
    "            tmax.append(float(i['tempo']))\n",
    "        elif i['curva'] == 'Min':\n",
    "            cmin.append(float(i['corrente']))\n",
    "            tmin.append(float(i['tempo']))\n",
    "\n",
    "# for i in range(len(cmax)):\n",
    "#     if i >= len(cmin):\n",
    "#         cmin.append(cmin[len(cmin)-1])\n",
    "#         tmin.append(tmin[len(tmin)-1])"
   ]
  },
  {
   "cell_type": "markdown",
   "metadata": {},
   "source": [
    "## Diagrama de coordenação entre os relés"
   ]
  },
  {
   "cell_type": "code",
   "execution_count": 54,
   "metadata": {
    "collapsed": true
   },
   "outputs": [],
   "source": [
    "t_aq7, I_aq7 = calc_coord(ipickup_51_aq7, ipickup_50_aq7, DIAL_aq7, 0.1, 'Muito Inversa')"
   ]
  },
  {
   "cell_type": "code",
   "execution_count": 55,
   "metadata": {
    "collapsed": true
   },
   "outputs": [],
   "source": [
    "t_rs1, I_rs1 = calc_coord(ipickup_51_rs1, ipickup_50_rs1, DIAL_rs1, 0.05, 'Muito Inversa')"
   ]
  },
  {
   "cell_type": "code",
   "execution_count": 56,
   "metadata": {},
   "outputs": [
    {
     "data": {
      "text/plain": [
       "<matplotlib.text.Text at 0x7f128f2d0610>"
      ]
     },
     "execution_count": 56,
     "metadata": {},
     "output_type": "execute_result"
    },
    {
     "data": {
      "image/png": "[encoded data removed]",
      "text/plain": [
       "<matplotlib.figure.Figure at 0x7f128f47d610>"
      ]
     },
     "metadata": {},
     "output_type": "display_data"
    }
   ],
   "source": [
    "loglog(I_aq7, # vetor de corrente\n",
    "       t_aq7,\n",
    "       'g',\n",
    "       I_rs1, # vetor de corrente \n",
    "       t_rs1,\n",
    "       'r',\n",
    "       cmin[3:16],\n",
    "       tmin[3:16],\n",
    "       'b',\n",
    "       cmax[3:16],\n",
    "       tmax[3:16],\n",
    "       'b',\n",
    "       ms=15.0,\n",
    "       lw=4.0)\n",
    "\n",
    "# fill_betweenx(tmin, cmin, cmax, facecolor='blue', alpha=0.5)\n",
    "\n",
    "grid(True,which=\"both\",ls=\"-\")\n",
    "plt.axis([50.0, 1e5, 1e-3, 500])\n",
    "plt.title(\"Coordenograma de Fase\")\n",
    "plt.xlabel(\"Corrente (A)\")\n",
    "plt.legend(['Rele AQ7',\n",
    "            'Rele RS1'])\n",
    "plt.ylabel(\"Tempo (s)\")"
   ]
  },
  {
   "cell_type": "code",
   "execution_count": null,
   "metadata": {
    "collapsed": true
   },
   "outputs": [],
   "source": []
  }
 ],
 "metadata": {
  "kernelspec": {
   "display_name": "Python [Root]",
   "language": "python",
   "name": "Python [Root]"
  },
  "language_info": {
   "codemirror_mode": {
    "name": "ipython",
    "version": 2
   },
   "file_extension": ".py",
   "mimetype": "text/x-python",
   "name": "python",
   "nbconvert_exporter": "python",
   "pygments_lexer": "ipython2",
   "version": "2.7.12"
  },
  "nbpresent": {
   "slides": {
    "0b95a65a-aeb8-42cd-b426-a8a73e7ec014": {
     "id": "0b95a65a-aeb8-42cd-b426-a8a73e7ec014",
     "prev": null,
     "regions": {
      "07600979-2060-4df9-898e-c6bbd0b3657f": {
       "attrs": {
        "height": 0.8,
        "width": 0.8,
        "x": 0.1,
        "y": 0.1
       },
       "content": {
        "cell": "c07938a8-b984-4023-9367-fe7a050c042c",
        "part": "whole"
       },
       "id": "07600979-2060-4df9-898e-c6bbd0b3657f"
      }
     }
    },
    "0dd33852-36d4-4fd0-b021-a12e72d735a6": {
     "id": "0dd33852-36d4-4fd0-b021-a12e72d735a6",
     "prev": "0b95a65a-aeb8-42cd-b426-a8a73e7ec014",
     "regions": {
      "91dccb8b-8fa0-4541-a1bd-43c7ec2fb1f6": {
       "attrs": {
        "height": 0.8,
        "width": 0.8,
        "x": 0.1,
        "y": 0.1
       },
       "content": {
        "cell": "f502c1e5-cc03-4c12-a8d6-ab49b75c896b",
        "part": "whole"
       },
       "id": "91dccb8b-8fa0-4541-a1bd-43c7ec2fb1f6"
      }
     }
    },
    "0f95cccf-40b0-4f08-bfcf-6fdfc79c01df": {
     "id": "0f95cccf-40b0-4f08-bfcf-6fdfc79c01df",
     "prev": "a23b266a-92af-469e-89be-f9d10b6e250c",
     "regions": {
      "b24cf146-4318-453d-a797-2bc8e8049d68": {
       "attrs": {
        "height": 0.8,
        "width": 0.8,
        "x": 0.1,
        "y": 0.1
       },
       "content": {
        "cell": "52d56d4e-fba9-47de-bd9a-007e34115f86",
        "part": "whole"
       },
       "id": "b24cf146-4318-453d-a797-2bc8e8049d68"
      }
     }
    },
    "0fd0ae88-45d0-4a38-a2f6-43c6957bb546": {
     "id": "0fd0ae88-45d0-4a38-a2f6-43c6957bb546",
     "prev": "b591bc4b-0797-4d63-b80d-75d28391245d",
     "regions": {
      "0a9be59c-82ee-4aea-b718-fc3dce243521": {
       "attrs": {
        "height": 0.8,
        "width": 0.8,
        "x": 0.1,
        "y": 0.1
       },
       "content": {
        "cell": "71f3b840-dc27-46ce-b288-4f3da99325b1",
        "part": "whole"
       },
       "id": "0a9be59c-82ee-4aea-b718-fc3dce243521"
      }
     }
    },
    "13c24780-73e3-4a51-86c3-f1532b0e7763": {
     "id": "13c24780-73e3-4a51-86c3-f1532b0e7763",
     "prev": "400347fb-9a25-4a58-a5a5-06feab5bdb46",
     "regions": {
      "49690bbd-c412-47f7-b323-e814f26caf1c": {
       "attrs": {
        "height": 0.8,
        "width": 0.8,
        "x": 0.1,
        "y": 0.1
       },
       "content": {
        "cell": "2c538dfa-ac73-423a-a1c3-dc89241aef34",
        "part": "whole"
       },
       "id": "49690bbd-c412-47f7-b323-e814f26caf1c"
      }
     }
    },
    "1c800ece-f990-46a0-a446-58b597604f3b": {
     "id": "1c800ece-f990-46a0-a446-58b597604f3b",
     "prev": "1cceca75-d48b-481a-8180-fd0a3a0d278c",
     "regions": {
      "7638c46e-eae8-4219-ac8b-4c5df07648b8": {
       "attrs": {
        "height": 0.8,
        "width": 0.8,
        "x": 0.1,
        "y": 0.1
       },
       "content": {
        "cell": "6b661538-44c5-4928-953f-7ea03bbbf69b",
        "part": "whole"
       },
       "id": "7638c46e-eae8-4219-ac8b-4c5df07648b8"
      }
     }
    },
    "1cceca75-d48b-481a-8180-fd0a3a0d278c": {
     "id": "1cceca75-d48b-481a-8180-fd0a3a0d278c",
     "prev": "13c24780-73e3-4a51-86c3-f1532b0e7763",
     "regions": {
      "72425c1b-457b-4a59-b8e0-655af40dfa16": {
       "attrs": {
        "height": 0.8,
        "width": 0.8,
        "x": 0.1,
        "y": 0.1
       },
       "content": {
        "cell": "d855dffd-7c1c-4244-8a4b-cbb02b4c910d",
        "part": "whole"
       },
       "id": "72425c1b-457b-4a59-b8e0-655af40dfa16"
      }
     }
    },
    "23be3c11-4d8e-4eca-b7c8-2bdaa2bd104c": {
     "id": "23be3c11-4d8e-4eca-b7c8-2bdaa2bd104c",
     "prev": "fdbdccf7-d9cf-4365-8d59-43720a96438e",
     "regions": {
      "905863f8-e104-4608-9cb5-3ff14a25011f": {
       "attrs": {
        "height": 0.8,
        "width": 0.8,
        "x": 0.1,
        "y": 0.1
       },
       "content": {
        "cell": "3f34952c-173a-4889-9bb4-c8f01580c80b",
        "part": "whole"
       },
       "id": "905863f8-e104-4608-9cb5-3ff14a25011f"
      }
     }
    },
    "2ae4ce15-3890-4d75-945f-8e286bfb4cde": {
     "id": "2ae4ce15-3890-4d75-945f-8e286bfb4cde",
     "prev": "aa307eff-1e9a-4b13-a9bd-91a83a9bbfb6",
     "regions": {
      "8bff3a7c-e6ce-406d-affb-77fb97678cec": {
       "attrs": {
        "height": 0.8,
        "width": 0.8,
        "x": 0.1,
        "y": 0.1
       },
       "content": {
        "cell": "27588ace-b082-4cba-9475-701863e1f277",
        "part": "whole"
       },
       "id": "8bff3a7c-e6ce-406d-affb-77fb97678cec"
      }
     }
    },
    "2f975a3a-f2ab-45f8-b041-af262dc697d1": {
     "id": "2f975a3a-f2ab-45f8-b041-af262dc697d1",
     "prev": "8ca9a40e-4e18-45b9-b4a5-d2247861a099",
     "regions": {
      "608667ce-80d8-4392-8adf-5d2594e4ffa7": {
       "attrs": {
        "height": 0.8,
        "width": 0.8,
        "x": 0.1,
        "y": 0.1
       },
       "content": {
        "cell": "4fe31939-63f5-449d-9b88-6cb1e9af383b",
        "part": "whole"
       },
       "id": "608667ce-80d8-4392-8adf-5d2594e4ffa7"
      }
     }
    },
    "400347fb-9a25-4a58-a5a5-06feab5bdb46": {
     "id": "400347fb-9a25-4a58-a5a5-06feab5bdb46",
     "prev": "53d027ad-30fb-49bc-890d-2d6cfa016bcf",
     "regions": {
      "e23639b4-1753-4c49-9dcf-408e8675cf2a": {
       "attrs": {
        "height": 0.8,
        "width": 0.8,
        "x": 0.1,
        "y": 0.1
       },
       "content": {
        "cell": "ebf3f078-ceed-4f8c-908c-180d3de23cb2",
        "part": "whole"
       },
       "id": "e23639b4-1753-4c49-9dcf-408e8675cf2a"
      }
     }
    },
    "40b39cb3-7c87-4778-a90a-2d4301be38bc": {
     "id": "40b39cb3-7c87-4778-a90a-2d4301be38bc",
     "prev": "4b7ffee2-0543-4a21-9c01-d46aef1e9d81",
     "regions": {
      "ebd2aac1-fb37-4959-9220-732b9c6b2fd6": {
       "attrs": {
        "height": 0.8,
        "width": 0.8,
        "x": 0.1,
        "y": 0.1
       },
       "content": {
        "cell": "a3c2035f-52a4-4ba0-a100-1c1367d2818b",
        "part": "whole"
       },
       "id": "ebd2aac1-fb37-4959-9220-732b9c6b2fd6"
      }
     }
    },
    "4b7ffee2-0543-4a21-9c01-d46aef1e9d81": {
     "id": "4b7ffee2-0543-4a21-9c01-d46aef1e9d81",
     "prev": "65fc2205-cd89-4972-97be-24f168d78265",
     "regions": {
      "f360dca7-6c16-4be0-a39a-ef5b0bc1f0dc": {
       "attrs": {
        "height": 0.8,
        "width": 0.8,
        "x": 0.1,
        "y": 0.1
       },
       "content": {
        "cell": "67c914d5-821b-4b1e-a4e4-74e8a9ff83b7",
        "part": "whole"
       },
       "id": "f360dca7-6c16-4be0-a39a-ef5b0bc1f0dc"
      }
     }
    },
    "53d027ad-30fb-49bc-890d-2d6cfa016bcf": {
     "id": "53d027ad-30fb-49bc-890d-2d6cfa016bcf",
     "prev": "90dfa645-6153-48b7-a4a5-753d0cf8fb4b",
     "regions": {
      "e1a2849b-a512-4ead-aa04-c9d7dab1b027": {
       "attrs": {
        "height": 0.8,
        "width": 0.8,
        "x": 0.1,
        "y": 0.1
       },
       "content": {
        "cell": "341ce942-ded2-4945-9855-6013065ccd42",
        "part": "whole"
       },
       "id": "e1a2849b-a512-4ead-aa04-c9d7dab1b027"
      }
     }
    },
    "65fc2205-cd89-4972-97be-24f168d78265": {
     "id": "65fc2205-cd89-4972-97be-24f168d78265",
     "prev": "70de6501-1859-4054-adae-f6adfcdc28aa",
     "regions": {
      "ff9f4ec2-d3b9-409d-aa39-283684403da3": {
       "attrs": {
        "height": 0.8,
        "width": 0.8,
        "x": 0.1,
        "y": 0.1
       },
       "content": {
        "cell": "c79f9cf1-34da-469c-8b87-408f3aa770e2",
        "part": "whole"
       },
       "id": "ff9f4ec2-d3b9-409d-aa39-283684403da3"
      }
     }
    },
    "68ec800d-9f6c-44c6-95e4-cbbdceca5fe9": {
     "id": "68ec800d-9f6c-44c6-95e4-cbbdceca5fe9",
     "prev": "69576928-cda8-4587-a642-37457fb019f5",
     "regions": {
      "ae7f95fb-2b29-4079-8183-6d74f6d557e2": {
       "attrs": {
        "height": 0.8,
        "width": 0.8,
        "x": 0.1,
        "y": 0.1
       },
       "content": {
        "cell": "531fdcf7-30e5-4ed1-baff-860cbb0964df",
        "part": "whole"
       },
       "id": "ae7f95fb-2b29-4079-8183-6d74f6d557e2"
      }
     }
    },
    "69576928-cda8-4587-a642-37457fb019f5": {
     "id": "69576928-cda8-4587-a642-37457fb019f5",
     "prev": "d14069a0-f6a2-4fce-95ce-814c0bdeb71a",
     "regions": {
      "97386c51-3bb8-4462-bfb1-d7720cd59480": {
       "attrs": {
        "height": 0.8,
        "width": 0.8,
        "x": 0.1,
        "y": 0.1
       },
       "content": {
        "cell": "15aabdda-5490-4e5a-80f3-aeb4fd960b25",
        "part": "whole"
       },
       "id": "97386c51-3bb8-4462-bfb1-d7720cd59480"
      }
     }
    },
    "70de6501-1859-4054-adae-f6adfcdc28aa": {
     "id": "70de6501-1859-4054-adae-f6adfcdc28aa",
     "prev": "68ec800d-9f6c-44c6-95e4-cbbdceca5fe9",
     "regions": {
      "dbf8e07d-d666-4962-a3a4-5115bf26348f": {
       "attrs": {
        "height": 0.8,
        "width": 0.8,
        "x": 0.1,
        "y": 0.1
       },
       "content": {
        "cell": "54e3ed26-6037-4161-81ce-5066f58d16ac",
        "part": "whole"
       },
       "id": "dbf8e07d-d666-4962-a3a4-5115bf26348f"
      }
     }
    },
    "7a467333-93c9-4808-aebf-f277f3f6203e": {
     "id": "7a467333-93c9-4808-aebf-f277f3f6203e",
     "prev": "1c800ece-f990-46a0-a446-58b597604f3b",
     "regions": {
      "4e01b2ca-0eab-470b-93f4-d015eaa1f95a": {
       "attrs": {
        "height": 0.8,
        "width": 0.8,
        "x": 0.1,
        "y": 0.1
       },
       "content": {
        "cell": "13940762-d179-4dc4-84fc-0ce3acae44a4",
        "part": "whole"
       },
       "id": "4e01b2ca-0eab-470b-93f4-d015eaa1f95a"
      }
     }
    },
    "85b1b870-e49f-41d5-8856-7b45c3bf1110": {
     "id": "85b1b870-e49f-41d5-8856-7b45c3bf1110",
     "prev": "7a467333-93c9-4808-aebf-f277f3f6203e",
     "regions": {
      "e233486b-4155-4a30-9d01-0b1395c928cd": {
       "attrs": {
        "height": 0.8,
        "width": 0.8,
        "x": 0.1,
        "y": 0.1
       },
       "content": {
        "cell": "a26d996a-28da-45d2-9cb6-3672609868c4",
        "part": "whole"
       },
       "id": "e233486b-4155-4a30-9d01-0b1395c928cd"
      }
     }
    },
    "8ca9a40e-4e18-45b9-b4a5-d2247861a099": {
     "id": "8ca9a40e-4e18-45b9-b4a5-d2247861a099",
     "prev": "ddb6314d-d09e-4787-a0dd-852577920946",
     "regions": {
      "64f08636-c6a2-4a56-ac38-3c458c057c37": {
       "attrs": {
        "height": 0.8,
        "width": 0.8,
        "x": 0.1,
        "y": 0.1
       },
       "content": {
        "cell": "a8ea7adb-d9e0-4429-9508-50d91699bfff",
        "part": "whole"
       },
       "id": "64f08636-c6a2-4a56-ac38-3c458c057c37"
      }
     }
    },
    "90dfa645-6153-48b7-a4a5-753d0cf8fb4b": {
     "id": "90dfa645-6153-48b7-a4a5-753d0cf8fb4b",
     "prev": "c74f19c5-2a97-4caf-8ca5-7ed7bf78ea75",
     "regions": {
      "f8a729e6-01ec-4a7c-8982-a5fdddafa75d": {
       "attrs": {
        "height": 0.8,
        "width": 0.8,
        "x": 0.1,
        "y": 0.1
       },
       "content": {
        "cell": "09771672-fafd-4259-be66-b62d9dfc5ee5",
        "part": "whole"
       },
       "id": "f8a729e6-01ec-4a7c-8982-a5fdddafa75d"
      }
     }
    },
    "a0d38e35-c3f2-4fa4-bf59-99641e81f5f1": {
     "id": "a0d38e35-c3f2-4fa4-bf59-99641e81f5f1",
     "prev": "0f95cccf-40b0-4f08-bfcf-6fdfc79c01df",
     "regions": {
      "5840ea83-5a49-42e1-9f33-5f8d9ba58ba1": {
       "attrs": {
        "height": 0.8,
        "width": 0.8,
        "x": 0.1,
        "y": 0.1
       },
       "content": {
        "cell": "f0ca3a6f-44e0-4cfe-baf4-ef4a95fed65a",
        "part": "whole"
       },
       "id": "5840ea83-5a49-42e1-9f33-5f8d9ba58ba1"
      }
     }
    },
    "a23b266a-92af-469e-89be-f9d10b6e250c": {
     "id": "a23b266a-92af-469e-89be-f9d10b6e250c",
     "prev": "d4d73a9e-54c3-4bad-be1b-78bda94747aa",
     "regions": {
      "59f804e8-c194-446e-82d8-790890c699b0": {
       "attrs": {
        "height": 0.8,
        "width": 0.8,
        "x": 0.1,
        "y": 0.1
       },
       "content": {
        "cell": "79484357-5694-4824-873d-880d849a58b6",
        "part": "whole"
       },
       "id": "59f804e8-c194-446e-82d8-790890c699b0"
      }
     }
    },
    "aa307eff-1e9a-4b13-a9bd-91a83a9bbfb6": {
     "id": "aa307eff-1e9a-4b13-a9bd-91a83a9bbfb6",
     "prev": "b56bbfd3-2c84-4565-8e28-20f2724ce300",
     "regions": {
      "43f0b0e4-a129-43b5-a424-85bedd1721e4": {
       "attrs": {
        "height": 0.8,
        "width": 0.8,
        "x": 0.1,
        "y": 0.1
       },
       "content": {
        "cell": "08e720b2-cb0d-4edb-9faa-8d500e52f94a",
        "part": "whole"
       },
       "id": "43f0b0e4-a129-43b5-a424-85bedd1721e4"
      }
     }
    },
    "ae72585c-fff5-491e-91f0-53899212b55f": {
     "id": "ae72585c-fff5-491e-91f0-53899212b55f",
     "prev": "d0464647-28ed-405b-a5a9-dd4c3945e16c",
     "regions": {
      "af8bd333-4211-42b8-9c7a-9badc493f8d2": {
       "attrs": {
        "height": 0.8,
        "width": 0.8,
        "x": 0.1,
        "y": 0.1
       },
       "content": {
        "cell": "9e608494-d058-473c-a4ee-db9cff5da2fb",
        "part": "whole"
       },
       "id": "af8bd333-4211-42b8-9c7a-9badc493f8d2"
      }
     }
    },
    "b56bbfd3-2c84-4565-8e28-20f2724ce300": {
     "id": "b56bbfd3-2c84-4565-8e28-20f2724ce300",
     "prev": "2f975a3a-f2ab-45f8-b041-af262dc697d1",
     "regions": {
      "8a7bfef2-5f7a-4ab3-8965-54f9fb9a88b2": {
       "attrs": {
        "height": 0.8,
        "width": 0.8,
        "x": 0.1,
        "y": 0.1
       },
       "content": {
        "cell": "cbb2e64e-178d-4177-b6aa-536302ab9294",
        "part": "whole"
       },
       "id": "8a7bfef2-5f7a-4ab3-8965-54f9fb9a88b2"
      }
     }
    },
    "b591bc4b-0797-4d63-b80d-75d28391245d": {
     "id": "b591bc4b-0797-4d63-b80d-75d28391245d",
     "prev": "ae72585c-fff5-491e-91f0-53899212b55f",
     "regions": {
      "e3cbc5d8-9e1b-4701-87a3-80b509639be6": {
       "attrs": {
        "height": 0.8,
        "width": 0.8,
        "x": 0.1,
        "y": 0.1
       },
       "content": {
        "cell": "b1df4d4e-00f1-4d89-973c-1c7ccddb9f81",
        "part": "whole"
       },
       "id": "e3cbc5d8-9e1b-4701-87a3-80b509639be6"
      }
     }
    },
    "b8c1b740-e547-4ef4-b7c5-99fb66385239": {
     "id": "b8c1b740-e547-4ef4-b7c5-99fb66385239",
     "prev": "0dd33852-36d4-4fd0-b021-a12e72d735a6",
     "regions": {
      "5d04c7d7-286a-45a7-8563-299f204af08e": {
       "attrs": {
        "height": 0.8,
        "width": 0.8,
        "x": 0.1,
        "y": 0.1
       },
       "content": {
        "cell": "09b48386-6935-4153-93b7-dbf2b7f8c1f2",
        "part": "whole"
       },
       "id": "5d04c7d7-286a-45a7-8563-299f204af08e"
      }
     }
    },
    "bbe8bc9a-f22f-42af-9351-e87b577b6dba": {
     "id": "bbe8bc9a-f22f-42af-9351-e87b577b6dba",
     "prev": "cd7bd0f4-5ac7-4864-9200-976883f4b422",
     "regions": {
      "0179f610-ebd7-4aa9-b0b6-87a158a33f2e": {
       "attrs": {
        "height": 0.8,
        "width": 0.8,
        "x": 0.1,
        "y": 0.1
       },
       "content": {
        "cell": "95deecde-be62-429b-a590-0a8375609d5a",
        "part": "whole"
       },
       "id": "0179f610-ebd7-4aa9-b0b6-87a158a33f2e"
      }
     }
    },
    "c74f19c5-2a97-4caf-8ca5-7ed7bf78ea75": {
     "id": "c74f19c5-2a97-4caf-8ca5-7ed7bf78ea75",
     "prev": "2ae4ce15-3890-4d75-945f-8e286bfb4cde",
     "regions": {
      "3ce23d04-413a-4bb6-9f7d-f950935ba1d9": {
       "attrs": {
        "height": 0.8,
        "width": 0.8,
        "x": 0.1,
        "y": 0.1
       },
       "content": {
        "cell": "08cd0f07-4d34-4f53-afa3-b71eed441320",
        "part": "whole"
       },
       "id": "3ce23d04-413a-4bb6-9f7d-f950935ba1d9"
      }
     }
    },
    "cd7bd0f4-5ac7-4864-9200-976883f4b422": {
     "id": "cd7bd0f4-5ac7-4864-9200-976883f4b422",
     "prev": "85b1b870-e49f-41d5-8856-7b45c3bf1110",
     "regions": {
      "9b0bd5f2-d1fc-42d2-9b9d-0189e6f9ad8c": {
       "attrs": {
        "height": 0.8,
        "width": 0.8,
        "x": 0.1,
        "y": 0.1
       },
       "content": {
        "cell": "c06db3d6-755c-4179-b228-4d4bd32ee393",
        "part": "whole"
       },
       "id": "9b0bd5f2-d1fc-42d2-9b9d-0189e6f9ad8c"
      }
     }
    },
    "d038c6e7-d62a-4a42-971b-9430b5c1707f": {
     "id": "d038c6e7-d62a-4a42-971b-9430b5c1707f",
     "prev": "de1474d6-9a9d-4217-934e-9833b776941d",
     "regions": {
      "4332e8c6-fd07-454a-97cd-1e69398bb921": {
       "attrs": {
        "height": 0.8,
        "width": 0.8,
        "x": 0.1,
        "y": 0.1
       },
       "content": {
        "cell": "0e66c3a3-363f-4663-ae25-52464211e1b1",
        "part": "whole"
       },
       "id": "4332e8c6-fd07-454a-97cd-1e69398bb921"
      }
     }
    },
    "d0464647-28ed-405b-a5a9-dd4c3945e16c": {
     "id": "d0464647-28ed-405b-a5a9-dd4c3945e16c",
     "prev": "b8c1b740-e547-4ef4-b7c5-99fb66385239",
     "regions": {
      "5eb60d52-7771-46ce-bfcc-eb3fab53d763": {
       "attrs": {
        "height": 0.8,
        "width": 0.8,
        "x": 0.1,
        "y": 0.1
       },
       "content": {
        "cell": "753dc2a8-11c5-4a03-81dc-8e621c24f3bf",
        "part": "whole"
       },
       "id": "5eb60d52-7771-46ce-bfcc-eb3fab53d763"
      }
     }
    },
    "d14069a0-f6a2-4fce-95ce-814c0bdeb71a": {
     "id": "d14069a0-f6a2-4fce-95ce-814c0bdeb71a",
     "prev": "bbe8bc9a-f22f-42af-9351-e87b577b6dba",
     "regions": {
      "b371d74d-5cce-45d2-ad11-79294412f8e5": {
       "attrs": {
        "height": 0.8,
        "width": 0.8,
        "x": 0.1,
        "y": 0.1
       },
       "content": {
        "cell": "48d5ba77-5cf8-4f21-949d-d1f539e684ae",
        "part": "whole"
       },
       "id": "b371d74d-5cce-45d2-ad11-79294412f8e5"
      }
     }
    },
    "d4d73a9e-54c3-4bad-be1b-78bda94747aa": {
     "id": "d4d73a9e-54c3-4bad-be1b-78bda94747aa",
     "prev": "d038c6e7-d62a-4a42-971b-9430b5c1707f",
     "regions": {
      "e447fe71-1340-4ca2-a50e-458c546bb699": {
       "attrs": {
        "height": 0.8,
        "width": 0.8,
        "x": 0.1,
        "y": 0.1
       },
       "content": {
        "cell": "1c4d718e-c342-42ca-9c54-a461674dda93",
        "part": "whole"
       },
       "id": "e447fe71-1340-4ca2-a50e-458c546bb699"
      }
     }
    },
    "ddb6314d-d09e-4787-a0dd-852577920946": {
     "id": "ddb6314d-d09e-4787-a0dd-852577920946",
     "prev": "a0d38e35-c3f2-4fa4-bf59-99641e81f5f1",
     "regions": {
      "f13796e8-d6b5-4e11-b5bb-65dfc0f9e0bc": {
       "attrs": {
        "height": 0.8,
        "width": 0.8,
        "x": 0.1,
        "y": 0.1
       },
       "content": {
        "cell": "2dbf26be-bbb7-42cd-938e-7ae64bdb5868",
        "part": "whole"
       },
       "id": "f13796e8-d6b5-4e11-b5bb-65dfc0f9e0bc"
      }
     }
    },
    "de1474d6-9a9d-4217-934e-9833b776941d": {
     "id": "de1474d6-9a9d-4217-934e-9833b776941d",
     "prev": "0fd0ae88-45d0-4a38-a2f6-43c6957bb546",
     "regions": {
      "2ac7d305-7ea7-46bb-8c95-c226c0dbd8ec": {
       "attrs": {
        "height": 0.8,
        "width": 0.8,
        "x": 0.1,
        "y": 0.1
       },
       "content": {
        "cell": "2557c0da-36c2-42e4-af1c-252c4dd8dda1",
        "part": "whole"
       },
       "id": "2ac7d305-7ea7-46bb-8c95-c226c0dbd8ec"
      }
     }
    },
    "fdbdccf7-d9cf-4365-8d59-43720a96438e": {
     "id": "fdbdccf7-d9cf-4365-8d59-43720a96438e",
     "prev": "40b39cb3-7c87-4778-a90a-2d4301be38bc",
     "regions": {
      "e69bc309-fffd-4a03-b2bf-f82a3b551b9b": {
       "attrs": {
        "height": 0.8,
        "width": 0.8,
        "x": 0.1,
        "y": 0.1
       },
       "content": {
        "cell": "04d1eab7-1816-49a2-8a0e-e06bd7841d1e",
        "part": "whole"
       },
       "id": "e69bc309-fffd-4a03-b2bf-f82a3b551b9b"
      }
     }
    }
   },
   "themes": {}
  }
 },
 "nbformat": 4,
 "nbformat_minor": 1
}
