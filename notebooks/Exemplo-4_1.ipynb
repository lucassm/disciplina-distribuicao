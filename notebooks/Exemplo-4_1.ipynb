{
 "cells": [
  {
   "cell_type": "markdown",
   "metadata": {},
   "source": [
    "# Exemplo de cálculo de matriz de impedância de fase e de matriz de impedância de sequência"
   ]
  },
  {
   "cell_type": "code",
   "execution_count": 19,
   "metadata": {},
   "outputs": [
    {
     "data": {
      "text/plain": [
       "u'%.4f'"
      ]
     },
     "execution_count": 19,
     "metadata": {},
     "output_type": "execute_result"
    }
   ],
   "source": [
    "import numpy as np\n",
    "np.set_printoptions(precision=4)\n",
    "%precision 4"
   ]
  },
  {
   "cell_type": "markdown",
   "metadata": {},
   "source": [
    "![rede](Figuras/fig_021.png)"
   ]
  },
  {
   "cell_type": "markdown",
   "metadata": {},
   "source": [
    "## Distância entre os condutores"
   ]
  },
  {
   "cell_type": "code",
   "execution_count": 21,
   "metadata": {
    "collapsed": true
   },
   "outputs": [],
   "source": [
    "dab = 2.5\n",
    "dbc = 4.5\n",
    "dca = 7.0\n",
    "dan = 5.6569\n",
    "dbn = 4.272\n",
    "dcn = 5.0"
   ]
  },
  {
   "cell_type": "markdown",
   "metadata": {},
   "source": [
    "## Características dos condutores"
   ]
  },
  {
   "cell_type": "code",
   "execution_count": 20,
   "metadata": {
    "collapsed": true
   },
   "outputs": [],
   "source": [
    "gmrf = 0.0244\n",
    "rf = 0.306"
   ]
  },
  {
   "cell_type": "code",
   "execution_count": 22,
   "metadata": {
    "collapsed": true
   },
   "outputs": [],
   "source": [
    "gmrn = 0.00814\n",
    "rn = 0.592"
   ]
  },
  {
   "cell_type": "markdown",
   "metadata": {},
   "source": [
    "## Matriz de distâncias"
   ]
  },
  {
   "cell_type": "code",
   "execution_count": 23,
   "metadata": {},
   "outputs": [
    {
     "name": "stdout",
     "output_type": "stream",
     "text": [
      "[[ 0.0244  2.5     7.      5.6569]\n",
      " [ 2.5     0.0244  4.5     4.272 ]\n",
      " [ 7.      4.5     0.0244  5.    ]\n",
      " [ 5.6569  4.272   5.      0.0081]]\n"
     ]
    }
   ],
   "source": [
    "D = np.array([[gmrf, dab, dca, dan],\n",
    "              [dab, gmrf, dbc, dbn],\n",
    "              [dca, dbc, gmrf, dcn],\n",
    "              [dan, dbn, dcn, gmrn]])\n",
    "print D"
   ]
  },
  {
   "cell_type": "markdown",
   "metadata": {},
   "source": [
    "## Cálculo da matriz de impedâncias primitiva"
   ]
  },
  {
   "cell_type": "markdown",
   "metadata": {},
   "source": [
    "Para o cálculo das impedâncias primitivas utilizamos as equações de Carson modificadas:\n",
    "\n",
    "\\begin{eqnarray}\n",
    "        \\hat z_{ii} & = & r_i + 0,0953 + j \\cdot 0,12134 \\cdot \\left ( ln \\frac{1}{GMR_i} + 7,93402 \\right) ~~ \\Omega/milha \\nonumber\\\\\n",
    "        \\hat z_{ij} & = & 0,0953 + j \\cdot 0,12134 \\cdot \\left ( ln \\frac{1}{D_{ij}} + 7,93402 \\right) ~~ \\Omega/milha \\nonumber\n",
    "\\end{eqnarray}"
   ]
  },
  {
   "cell_type": "code",
   "execution_count": 24,
   "metadata": {},
   "outputs": [
    {
     "name": "stdout",
     "output_type": "stream",
     "text": [
      "[[ 0.4013+1.4133j  0.0953+0.8515j  0.0953+0.7266j  0.0953+0.7524j]\n",
      " [ 0.0953+0.8515j  0.4013+1.4133j  0.0953+0.7802j  0.0953+0.7865j]\n",
      " [ 0.0953+0.7266j  0.0953+0.7802j  0.4013+1.4133j  0.0953+0.7674j]\n",
      " [ 0.0953+0.7524j  0.0953+0.7865j  0.0953+0.7674j  0.6873+1.5465j]]\n"
     ]
    }
   ],
   "source": [
    "zabc = list()\n",
    "for i in range(4):\n",
    "    zl = list()\n",
    "    for j in range(4):\n",
    "        if i != j:\n",
    "            zf = 0.0953 + 1j * (0.12134 * (np.log(1.0/D[i,j]) + 7.93402))\n",
    "        else:\n",
    "            if i == 3:\n",
    "                zf = rn + 0.0953 + 1j * (0.12134 * (np.log(1.0/D[i,j]) + 7.93402))\n",
    "            else:\n",
    "                zf = rf + 0.0953 + 1j * (0.12134 * (np.log(1.0/D[i,j]) + 7.93402))\n",
    "        zl.append(zf)\n",
    "    zabc.append(zl)\n",
    "Z = np.array(zabc)\n",
    "print Z"
   ]
  },
  {
   "cell_type": "markdown",
   "metadata": {},
   "source": [
    "## Particionamento da matriz de impedâncias primitiva para redução de Kron"
   ]
  },
  {
   "cell_type": "code",
   "execution_count": 25,
   "metadata": {},
   "outputs": [
    {
     "name": "stdout",
     "output_type": "stream",
     "text": [
      "[[ 0.4013+1.4133j  0.0953+0.8515j  0.0953+0.7266j]\n",
      " [ 0.0953+0.8515j  0.4013+1.4133j  0.0953+0.7802j]\n",
      " [ 0.0953+0.7266j  0.0953+0.7802j  0.4013+1.4133j]]\n"
     ]
    }
   ],
   "source": [
    "zij = Z[0:3, 0:3]\n",
    "zij = np.reshape(zij, (3, 3))\n",
    "print zij"
   ]
  },
  {
   "cell_type": "code",
   "execution_count": 26,
   "metadata": {},
   "outputs": [
    {
     "name": "stdout",
     "output_type": "stream",
     "text": [
      "[[ 0.0953+0.7524j]\n",
      " [ 0.0953+0.7865j]\n",
      " [ 0.0953+0.7674j]]\n"
     ]
    }
   ],
   "source": [
    "zin = Z[0:3, 3]\n",
    "zin = np.reshape(zin, (3, 1))\n",
    "print zin"
   ]
  },
  {
   "cell_type": "code",
   "execution_count": 27,
   "metadata": {},
   "outputs": [
    {
     "name": "stdout",
     "output_type": "stream",
     "text": [
      "[[ 0.6873+1.5465j]]\n"
     ]
    }
   ],
   "source": [
    "znn = Z[3,3]\n",
    "znn = np.reshape(znn, (1, 1))\n",
    "print znn"
   ]
  },
  {
   "cell_type": "code",
   "execution_count": 28,
   "metadata": {},
   "outputs": [
    {
     "name": "stdout",
     "output_type": "stream",
     "text": [
      "[[ 0.0953+0.7524j  0.0953+0.7865j  0.0953+0.7674j]]\n"
     ]
    }
   ],
   "source": [
    "znj = Z[3, 0:3]\n",
    "znj = np.reshape(znj, (1, 3))\n",
    "print znj"
   ]
  },
  {
   "cell_type": "markdown",
   "metadata": {},
   "source": [
    "## Aplicação da redução de Kron"
   ]
  },
  {
   "cell_type": "markdown",
   "metadata": {},
   "source": [
    "A equação que representa a redução de Kron é dada por:\n",
    "\n",
    "\\begin{equation}\n",
    "        \\mathbf{\\hat z_{abc}} = (\\mathbf{\\hat z_{ij}} - \\mathbf{\\hat z_{in}} \\cdot \\mathbf{\\hat z^{-1}_{nn}} \\cdot \\mathbf{\\hat z_{nj}} )\n",
    "\\end{equation}"
   ]
  },
  {
   "cell_type": "code",
   "execution_count": 29,
   "metadata": {},
   "outputs": [
    {
     "data": {
      "text/plain": [
       "array([[ 0.4576+1.078j ,  0.1559+0.5017j,  0.1535+0.3849j],\n",
       "       [ 0.1559+0.5017j,  0.4666+1.0482j,  0.1580+0.4236j],\n",
       "       [ 0.1535+0.3849j,  0.1580+0.4236j,  0.4615+1.0651j]])"
      ]
     },
     "execution_count": 29,
     "metadata": {},
     "output_type": "execute_result"
    }
   ],
   "source": [
    "Zabc = zij - np.dot(np.dot(zin, np.linalg.inv(znn)) ,znj)\n",
    "Zabc"
   ]
  },
  {
   "cell_type": "markdown",
   "metadata": {
    "collapsed": true
   },
   "source": [
    "## Cálculo da matriz de impedâncias de sequência"
   ]
  },
  {
   "cell_type": "markdown",
   "metadata": {},
   "source": [
    "\\begin{equation}\n",
    "    \\mathbf{Z_{012}} = \\mathbf{A}^{-1} \\cdot \\mathbf{Z_{abc}} \\cdot \\mathbf{A} = \n",
    "    \\left[\n",
    "    \\begin{array}{ccc}\n",
    "             z_{00} & z_{01} & z_{02} \\\\\n",
    "             z_{10} & z_{11} & z_{12} \\\\\n",
    "             z_{20} & z_{21} & z_{22}\n",
    "    \\end{array} \n",
    "    \\right]  \n",
    "\\end{equation}\n",
    "\n",
    "Em que $A$:\n",
    "\n",
    "\\begin{equation}\n",
    "\\mathbf{A} = \n",
    "    \\left[ \n",
    "    \\begin{array}{ccc}\n",
    "           1 & 1 & 1\\\\\n",
    "           1 & a^2 & a\\\\\n",
    "           1 & a & a^2\n",
    "    \\end{array} \n",
    "    \\right]\n",
    "\\end{equation}"
   ]
  },
  {
   "cell_type": "code",
   "execution_count": 30,
   "metadata": {
    "collapsed": true
   },
   "outputs": [],
   "source": [
    "a = -0.5 + 1j * np.sqrt(3.0) / 2.0"
   ]
  },
  {
   "cell_type": "code",
   "execution_count": 31,
   "metadata": {},
   "outputs": [
    {
     "name": "stdout",
     "output_type": "stream",
     "text": [
      "[[ 1.0+0.j     1.0+0.j     1.0+0.j   ]\n",
      " [ 1.0+0.j    -0.5-0.866j -0.5+0.866j]\n",
      " [ 1.0+0.j    -0.5+0.866j -0.5-0.866j]]\n"
     ]
    }
   ],
   "source": [
    "A = np.array([[1.0, 1.0, 1.0], [1.0, a**2, a], [1.0, a, a**2]])\n",
    "print A"
   ]
  },
  {
   "cell_type": "code",
   "execution_count": 32,
   "metadata": {},
   "outputs": [
    {
     "name": "stdout",
     "output_type": "stream",
     "text": [
      "[[ 0.7735+1.9373j  0.0256+0.0115j -0.0321+0.0159j]\n",
      " [-0.0321+0.0159j  0.3061+0.627j  -0.0723-0.006j ]\n",
      " [ 0.0256+0.0115j  0.0723-0.0059j  0.3061+0.627j ]]\n"
     ]
    }
   ],
   "source": [
    "Z012 = np.dot(np.linalg.inv(A), np.dot(Zabc, A))\n",
    "print Z012"
   ]
  },
  {
   "cell_type": "markdown",
   "metadata": {},
   "source": [
    "## Simulando a transposição de uma linha de distribuição"
   ]
  },
  {
   "cell_type": "markdown",
   "metadata": {},
   "source": [
    "Os termos que não estão na diagonal de $\\mathbf{Z_{012}}$ representam um acoplamento entre as impedâncias de sequência. \n",
    "\n",
    "Para que essas impedâncias mútuas fossem zero, é preciso assumir que a linha é transposta.\n",
    "\n",
    "Nesse caso:\n",
    "\n",
    "\\begin{eqnarray}\n",
    "        z_s & = & \\frac{1}{3} \\cdot(z_{aa} + z_{bb} + z_{cc}) \\\\\n",
    "        z_m & = & \\frac{1}{3} \\cdot(z_{ab} + z_{bc} + z_{ca}) \n",
    "\\end{eqnarray}\n",
    "\n",
    "Substituindo na matriz de impedância de fase:\n",
    "\n",
    "\\begin{equation}\n",
    "        \\mathbf{Z_{abc}} = \n",
    "        \\left[\n",
    "        \\begin{array}{ccc}\n",
    "             z_{s} & z_{m} & z_{m} \\\\\n",
    "             z_{m} & z_{s} & z_{m} \\\\\n",
    "             z_{m} & z_{m} & z_{s}\n",
    "        \\end{array} \n",
    "        \\right] ~~ \\Omega/milha\n",
    "\\end{equation}"
   ]
  },
  {
   "cell_type": "code",
   "execution_count": 37,
   "metadata": {},
   "outputs": [
    {
     "name": "stdout",
     "output_type": "stream",
     "text": [
      "(0.46188361492+1.0637522137j)\n"
     ]
    }
   ],
   "source": [
    "zs = 1.0/3.0 * (Zabc[0, 0] + Zabc[1, 1] + Zabc[2, 2])\n",
    "print zs"
   ]
  },
  {
   "cell_type": "code",
   "execution_count": 38,
   "metadata": {},
   "outputs": [
    {
     "name": "stdout",
     "output_type": "stream",
     "text": [
      "(0.155813629382+0.436751976048j)\n"
     ]
    }
   ],
   "source": [
    "zm = 1.0/3.0 * (Zabc[0, 1] + Zabc[0, 2] + Zabc[1, 2])\n",
    "print zm"
   ]
  },
  {
   "cell_type": "code",
   "execution_count": 39,
   "metadata": {},
   "outputs": [
    {
     "data": {
      "text/plain": [
       "array([[ 0.4619+1.0638j,  0.1558+0.4368j,  0.1558+0.4368j],\n",
       "       [ 0.1558+0.4368j,  0.4619+1.0638j,  0.1558+0.4368j],\n",
       "       [ 0.1558+0.4368j,  0.1558+0.4368j,  0.4619+1.0638j]])"
      ]
     },
     "execution_count": 39,
     "metadata": {},
     "output_type": "execute_result"
    }
   ],
   "source": [
    "Z1abc = np.array([[zs, zm, zm], [zm, zs, zm], [zm, zm, zs]])\n",
    "Z1abc"
   ]
  },
  {
   "cell_type": "code",
   "execution_count": 40,
   "metadata": {},
   "outputs": [
    {
     "name": "stdout",
     "output_type": "stream",
     "text": [
      "[[ 0.7735+1.9373j  0.0000+0.j      0.0000+0.j    ]\n",
      " [-0.0000-0.j      0.3061+0.627j   0.0000+0.j    ]\n",
      " [-0.0000+0.j      0.0000+0.j      0.3061+0.627j ]]\n"
     ]
    }
   ],
   "source": [
    "Z1012 = np.dot(np.linalg.inv(A), np.dot(Z1abc, A))\n",
    "print np.round(Z1012, 4)"
   ]
  },
  {
   "cell_type": "code",
   "execution_count": null,
   "metadata": {
    "collapsed": true
   },
   "outputs": [],
   "source": []
  }
 ],
 "metadata": {
  "kernelspec": {
   "display_name": "Python [Root]",
   "language": "python",
   "name": "Python [Root]"
  },
  "language_info": {
   "codemirror_mode": {
    "name": "ipython",
    "version": 2
   },
   "file_extension": ".py",
   "mimetype": "text/x-python",
   "name": "python",
   "nbconvert_exporter": "python",
   "pygments_lexer": "ipython2",
   "version": "2.7.12"
  }
 },
 "nbformat": 4,
 "nbformat_minor": 1
}
