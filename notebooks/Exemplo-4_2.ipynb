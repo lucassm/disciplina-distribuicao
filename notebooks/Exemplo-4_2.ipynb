{
 "cells": [
  {
   "cell_type": "code",
   "execution_count": 30,
   "metadata": {},
   "outputs": [
    {
     "data": {
      "text/plain": [
       "u'%.4f'"
      ]
     },
     "execution_count": 30,
     "metadata": {},
     "output_type": "execute_result"
    }
   ],
   "source": [
    "import numpy as np\n",
    "np.set_printoptions(precision=4)\n",
    "%precision 4"
   ]
  },
  {
   "cell_type": "markdown",
   "metadata": {},
   "source": [
    "<img src=\"Figuras/fig_025.png\" alt=\"conf. dos cabos\" width=\"600\"/>"
   ]
  },
  {
   "cell_type": "markdown",
   "metadata": {},
   "source": [
    "Three concentric neutral cables are buried in a trench with spacings as shown in Figure. \n",
    "\n",
    "The cables are 15 kV, 250,000 CM stranded all-aluminum with 13 strands, coated copper wires (1/3 neutral).\n",
    "\n",
    "The outside diameter of the cable over the neutral strands is 1.29 inches (Appendix B).\n",
    "\n",
    "Determine the phase impedance matrix and the sequence impedance matrix."
   ]
  },
  {
   "cell_type": "markdown",
   "metadata": {},
   "source": [
    "<img src=\"Figuras/fig_024.png\" alt=\"conf. dos cabos\" width=\"600\"/>"
   ]
  },
  {
   "cell_type": "markdown",
   "metadata": {},
   "source": [
    "<img src=\"Figuras/fig_023.png\" alt=\"conf. dos cabos\" width=\"600\"/>"
   ]
  },
  {
   "cell_type": "markdown",
   "metadata": {},
   "source": [
    "## Dados fornecidos pelo problema"
   ]
  },
  {
   "cell_type": "code",
   "execution_count": 31,
   "metadata": {
    "collapsed": true
   },
   "outputs": [],
   "source": [
    "dnm = 6.0 / 12.0\n",
    "dod = 1.29\n",
    "k = 13"
   ]
  },
  {
   "cell_type": "markdown",
   "metadata": {},
   "source": [
    "## Dados dos Condutores"
   ]
  },
  {
   "cell_type": "code",
   "execution_count": 32,
   "metadata": {
    "collapsed": true
   },
   "outputs": [],
   "source": [
    "gmr = 0.0171\n",
    "df = 0.567\n",
    "rf = 0.41"
   ]
  },
  {
   "cell_type": "code",
   "execution_count": 33,
   "metadata": {
    "collapsed": true
   },
   "outputs": [],
   "source": [
    "gmrs = 0.0028\n",
    "rs = 14.8722\n",
    "ds = 0.0641"
   ]
  },
  {
   "cell_type": "markdown",
   "metadata": {},
   "source": [
    "$$\n",
    "R = \\frac{d_{od} - d_s}{2 \\times 12}\n",
    "$$"
   ]
  },
  {
   "cell_type": "code",
   "execution_count": 34,
   "metadata": {},
   "outputs": [
    {
     "data": {
      "text/plain": [
       "0.0511"
      ]
     },
     "execution_count": 34,
     "metadata": {},
     "output_type": "execute_result"
    }
   ],
   "source": [
    "R = (dod - ds) / (2 * 12.0)\n",
    "R"
   ]
  },
  {
   "cell_type": "markdown",
   "metadata": {},
   "source": [
    "$$\n",
    "GMR_{cn} = \\sqrt[k]{GMR_s \\cdot k \\cdot R^{k-1}}\n",
    "$$"
   ]
  },
  {
   "cell_type": "code",
   "execution_count": 35,
   "metadata": {},
   "outputs": [
    {
     "data": {
      "text/plain": [
       "0.0487"
      ]
     },
     "execution_count": 35,
     "metadata": {},
     "output_type": "execute_result"
    }
   ],
   "source": [
    "gmrcn = (0.00208 * 13.0 * 0.0511**(13-1))**(1.0/13.0)\n",
    "gmrcn"
   ]
  },
  {
   "cell_type": "code",
   "execution_count": 36,
   "metadata": {},
   "outputs": [
    {
     "data": {
      "text/plain": [
       "1.1440"
      ]
     },
     "execution_count": 36,
     "metadata": {},
     "output_type": "execute_result"
    }
   ],
   "source": [
    "rcn = rs / k\n",
    "rcn"
   ]
  },
  {
   "cell_type": "markdown",
   "metadata": {
    "collapsed": true
   },
   "source": [
    "## Montagem da matriz de distâncias"
   ]
  },
  {
   "cell_type": "markdown",
   "metadata": {},
   "source": [
    "Considerando:\n",
    "\n",
    "- Condutor 1: condutor fase 1;\n",
    "- Condutor 2: condutor fase 2;\n",
    "- Condutor 3: condutor fase 3;\n",
    "- Condutor 4: neutro do condutor 1;\n",
    "- Condutor 5: neutro do condutor 2;\n",
    "- Condutor 6: neutro do condutor 3;"
   ]
  },
  {
   "cell_type": "markdown",
   "metadata": {},
   "source": [
    "Distância entre condutores fase adjacentes e entre seus neutros concêntricos"
   ]
  },
  {
   "cell_type": "code",
   "execution_count": 37,
   "metadata": {
    "collapsed": true
   },
   "outputs": [],
   "source": [
    "d12 = d21 = d45 = d54 = 6.0 / 12.0"
   ]
  },
  {
   "cell_type": "code",
   "execution_count": 38,
   "metadata": {
    "collapsed": true
   },
   "outputs": [],
   "source": [
    "d23 = d32 = d56 = d65 = 6.0 / 12.0"
   ]
  },
  {
   "cell_type": "markdown",
   "metadata": {},
   "source": [
    "Distância entre condutores fase que estão nos extremos e entre seus neutros concêntricos"
   ]
  },
  {
   "cell_type": "code",
   "execution_count": 39,
   "metadata": {
    "collapsed": true
   },
   "outputs": [],
   "source": [
    "d31 = d13 = d64 = d46 = 12.0 / 12.0"
   ]
  },
  {
   "cell_type": "markdown",
   "metadata": {},
   "source": [
    "Distância entre os condutores e seus próprios neutros concêntricos"
   ]
  },
  {
   "cell_type": "code",
   "execution_count": 40,
   "metadata": {},
   "outputs": [],
   "source": [
    "d14 = d25 = d36 = R"
   ]
  },
  {
   "cell_type": "code",
   "execution_count": 41,
   "metadata": {
    "collapsed": true
   },
   "outputs": [],
   "source": [
    "d41 = d52 = d63 = R"
   ]
  },
  {
   "cell_type": "markdown",
   "metadata": {},
   "source": [
    "Uma vez que o raio dos condutores com neutro concêntricos é bem menor que a distância entre os condutores em sí, não iremos utilizar a equação:\n",
    "\n",
    "$$\n",
    "D_{ij} = \\sqrt[k]{D_{nm}^k - R^{k}}\n",
    "$$\n",
    "\n",
    "Iremos utilizar apenas a distância entre os condutores concêntricos centro-a-centro, ou seja:\n",
    "\n",
    "$$\n",
    "D_{ij} = D_{nm}\n",
    "$$"
   ]
  },
  {
   "cell_type": "code",
   "execution_count": 42,
   "metadata": {
    "collapsed": true
   },
   "outputs": [],
   "source": [
    "d15 = d51 = dnm"
   ]
  },
  {
   "cell_type": "code",
   "execution_count": 43,
   "metadata": {
    "collapsed": true
   },
   "outputs": [],
   "source": [
    "d24 = d42 = dnm"
   ]
  },
  {
   "cell_type": "code",
   "execution_count": 44,
   "metadata": {
    "collapsed": true
   },
   "outputs": [],
   "source": [
    "d26 = d62 = dnm"
   ]
  },
  {
   "cell_type": "code",
   "execution_count": 45,
   "metadata": {},
   "outputs": [],
   "source": [
    "d35 = d53 = dnm"
   ]
  },
  {
   "cell_type": "code",
   "execution_count": 46,
   "metadata": {
    "collapsed": true
   },
   "outputs": [],
   "source": [
    "d61 = d16 = 2.0 * dnm"
   ]
  },
  {
   "cell_type": "code",
   "execution_count": 47,
   "metadata": {},
   "outputs": [],
   "source": [
    "d34 = d43 = 2.0 * dnm"
   ]
  },
  {
   "cell_type": "code",
   "execution_count": 48,
   "metadata": {},
   "outputs": [
    {
     "name": "stdout",
     "output_type": "stream",
     "text": [
      "[[ 0.0171  0.5     1.      0.0511  0.5     1.    ]\n",
      " [ 0.5     0.0171  0.5     0.5     0.0511  0.5   ]\n",
      " [ 1.      0.5     0.0171  1.      0.5     0.0511]\n",
      " [ 0.0511  0.5     1.      0.0487  0.5     1.    ]\n",
      " [ 0.5     0.0511  0.5     0.5     0.0487  0.5   ]\n",
      " [ 1.      0.5     0.0511  1.      0.5     0.0487]]\n"
     ]
    }
   ],
   "source": [
    "D = np.array([[gmr, d12, d13, d14, d15, d16],\n",
    "              [d21, gmr, d23, d24, d25, d26],\n",
    "              [d31, d32, gmr, d34, d35, d36],\n",
    "              [d41, d42, d43, gmrcn, d45, d46],\n",
    "              [d51, d52, d53, d54, gmrcn, d56],\n",
    "              [d61, d62, d63, d64, d65, gmrcn]])\n",
    "print D"
   ]
  },
  {
   "cell_type": "markdown",
   "metadata": {},
   "source": [
    "## Cálculo da matriz de impedâncias primitiva"
   ]
  },
  {
   "cell_type": "markdown",
   "metadata": {},
   "source": [
    "Para o cálculo das impedâncias primitivas utilizamos as equações de Carson modificadas:\n",
    "\n",
    "\\begin{eqnarray}\n",
    "        \\hat z_{ii} & = & r_i + 0,0953 + j \\cdot 0,12134 \\cdot \\left ( ln \\frac{1}{GMR_i} + 7,93402 \\right) ~~ \\Omega/milha \\nonumber\\\\\n",
    "        \\hat z_{ij} & = & 0,0953 + j \\cdot 0,12134 \\cdot \\left ( ln \\frac{1}{D_{ij}} + 7,93402 \\right) ~~ \\Omega/milha \\nonumber\n",
    "\\end{eqnarray}"
   ]
  },
  {
   "cell_type": "code",
   "execution_count": 49,
   "metadata": {},
   "outputs": [
    {
     "data": {
      "text/plain": [
       "u'%.4f'"
      ]
     },
     "execution_count": 49,
     "metadata": {},
     "output_type": "execute_result"
    }
   ],
   "source": [
    "%precision 4"
   ]
  },
  {
   "cell_type": "code",
   "execution_count": 51,
   "metadata": {},
   "outputs": [
    {
     "name": "stdout",
     "output_type": "stream",
     "text": [
      "[[ 0.5053+1.4564j  0.0953+1.0468j  0.0953+0.9627j  0.0953+1.3236j\n",
      "   0.0953+1.0468j  0.0953+0.9627j]\n",
      " [ 0.0953+1.0468j  0.5053+1.4564j  0.0953+1.0468j  0.0953+1.0468j\n",
      "   0.0953+1.3236j  0.0953+1.0468j]\n",
      " [ 0.0953+0.9627j  0.0953+1.0468j  0.5053+1.4564j  0.0953+0.9627j\n",
      "   0.0953+1.0468j  0.0953+1.3236j]\n",
      " [ 0.0953+1.3236j  0.0953+1.0468j  0.0953+0.9627j  1.2393+1.3295j\n",
      "   0.0953+1.0468j  0.0953+0.9627j]\n",
      " [ 0.0953+1.0468j  0.0953+1.3236j  0.0953+1.0468j  0.0953+1.0468j\n",
      "   1.2393+1.3295j  0.0953+1.0468j]\n",
      " [ 0.0953+0.9627j  0.0953+1.0468j  0.0953+1.3236j  0.0953+0.9627j\n",
      "   0.0953+1.0468j  1.2393+1.3295j]]\n"
     ]
    }
   ],
   "source": [
    "zabc = list()\n",
    "for i in range(6):\n",
    "    zl = list()\n",
    "    for j in range(6):\n",
    "        if i != j:\n",
    "            zf = 0.0953 + 1j * (0.12134 * (np.log(1.0/D[i,j]) + 7.93402))\n",
    "        else:\n",
    "            if j >= 3 and i >= 3:\n",
    "                zf = rcn + 0.0953 + 1j * (0.12134 * (np.log(1.0/D[i,j]) + 7.93402))\n",
    "            else:\n",
    "                zf = rf + 0.0953 + 1j * (0.12134 * (np.log(1.0/D[i,j]) + 7.93402))\n",
    "        zl.append(zf)\n",
    "    zabc.append(zl)\n",
    "Z = np.array(zabc)\n",
    "print Z"
   ]
  },
  {
   "cell_type": "markdown",
   "metadata": {},
   "source": [
    "## Particionamento da matriz de impedâncias primitiva para redução de Kron"
   ]
  },
  {
   "cell_type": "code",
   "execution_count": 52,
   "metadata": {},
   "outputs": [
    {
     "name": "stdout",
     "output_type": "stream",
     "text": [
      "[[ 0.5053+1.4564j  0.0953+1.0468j  0.0953+0.9627j]\n",
      " [ 0.0953+1.0468j  0.5053+1.4564j  0.0953+1.0468j]\n",
      " [ 0.0953+0.9627j  0.0953+1.0468j  0.5053+1.4564j]]\n"
     ]
    }
   ],
   "source": [
    "zij = Z[0:3, 0:3]\n",
    "zij = np.reshape(zij, (3, 3))\n",
    "print zij"
   ]
  },
  {
   "cell_type": "code",
   "execution_count": 53,
   "metadata": {},
   "outputs": [
    {
     "name": "stdout",
     "output_type": "stream",
     "text": [
      "[[ 0.0953+1.3236j  0.0953+1.0468j  0.0953+0.9627j]\n",
      " [ 0.0953+1.0468j  0.0953+1.3236j  0.0953+1.0468j]\n",
      " [ 0.0953+0.9627j  0.0953+1.0468j  0.0953+1.3236j]]\n"
     ]
    }
   ],
   "source": [
    "zin = Z[0:3, 3:6]\n",
    "zin = np.reshape(zin, (3, 3))\n",
    "print zin"
   ]
  },
  {
   "cell_type": "code",
   "execution_count": 54,
   "metadata": {},
   "outputs": [
    {
     "name": "stdout",
     "output_type": "stream",
     "text": [
      "[[ 0.0953+1.3236j  0.0953+1.0468j  0.0953+0.9627j]\n",
      " [ 0.0953+1.0468j  0.0953+1.3236j  0.0953+1.0468j]\n",
      " [ 0.0953+0.9627j  0.0953+1.0468j  0.0953+1.3236j]]\n"
     ]
    }
   ],
   "source": [
    "znj = Z[3:6, 0:3]\n",
    "znj = np.reshape(znj, (3, 3))\n",
    "print znj"
   ]
  },
  {
   "cell_type": "code",
   "execution_count": 55,
   "metadata": {},
   "outputs": [
    {
     "name": "stdout",
     "output_type": "stream",
     "text": [
      "[[ 1.2393+1.3295j  0.0953+1.0468j  0.0953+0.9627j]\n",
      " [ 0.0953+1.0468j  1.2393+1.3295j  0.0953+1.0468j]\n",
      " [ 0.0953+0.9627j  0.0953+1.0468j  1.2393+1.3295j]]\n"
     ]
    }
   ],
   "source": [
    "znn = Z[3:6,3:6]\n",
    "znn = np.reshape(znn, (3, 3))\n",
    "print znn"
   ]
  },
  {
   "cell_type": "markdown",
   "metadata": {},
   "source": [
    "## Aplicação da redução de Kron"
   ]
  },
  {
   "cell_type": "markdown",
   "metadata": {},
   "source": [
    "A equação que representa a redução de Kron é dada por:\n",
    "\n",
    "\\begin{equation}\n",
    "        \\mathbf{\\hat z_{abc}} = (\\mathbf{\\hat z_{ij}} - \\mathbf{\\hat z_{in}} \\cdot \\mathbf{\\hat z^{-1}_{nn}} \\cdot \\mathbf{\\hat z_{nj}} )\n",
    "\\end{equation}"
   ]
  },
  {
   "cell_type": "code",
   "execution_count": 56,
   "metadata": {},
   "outputs": [
    {
     "data": {
      "text/plain": [
       "array([[ 0.7982+0.4463j,  0.3192+0.0328j,  0.2849-0.0143j],\n",
       "       [ 0.3192+0.0328j,  0.7891+0.4041j,  0.3192+0.0328j],\n",
       "       [ 0.2849-0.0143j,  0.3192+0.0328j,  0.7982+0.4463j]])"
      ]
     },
     "execution_count": 56,
     "metadata": {},
     "output_type": "execute_result"
    }
   ],
   "source": [
    "Zabc = zij - np.dot(np.dot(zin, np.linalg.inv(znn)) ,znj)\n",
    "Zabc"
   ]
  },
  {
   "cell_type": "markdown",
   "metadata": {},
   "source": [
    "## Cálculo da matriz de impedâncias de sequência"
   ]
  },
  {
   "cell_type": "markdown",
   "metadata": {},
   "source": [
    "\\begin{equation}\n",
    "    \\mathbf{Z_{012}} = \\mathbf{A}^{-1} \\cdot \\mathbf{Z_{abc}} \\cdot \\mathbf{A} = \n",
    "    \\left[\n",
    "    \\begin{array}{ccc}\n",
    "             z_{00} & z_{01} & z_{02} \\\\\n",
    "             z_{10} & z_{11} & z_{12} \\\\\n",
    "             z_{20} & z_{21} & z_{22}\n",
    "    \\end{array} \n",
    "    \\right]  \n",
    "\\end{equation}\n",
    "\n",
    "Em que $A$:\n",
    "\n",
    "\\begin{equation}\n",
    "\\mathbf{A} = \n",
    "    \\left[ \n",
    "    \\begin{array}{ccc}\n",
    "           1 & 1 & 1\\\\\n",
    "           1 & a^2 & a\\\\\n",
    "           1 & a & a^2\n",
    "    \\end{array} \n",
    "    \\right]\n",
    "\\end{equation}\n",
    "\n",
    "Com:\n",
    "\n",
    "$$\n",
    "a = 1 \\angle 120^{o}\n",
    "$$"
   ]
  },
  {
   "cell_type": "code",
   "execution_count": 57,
   "metadata": {
    "collapsed": true
   },
   "outputs": [],
   "source": [
    "a = -0.5 + 1j * np.sqrt(3.0) / 2.0"
   ]
  },
  {
   "cell_type": "code",
   "execution_count": 58,
   "metadata": {},
   "outputs": [
    {
     "name": "stdout",
     "output_type": "stream",
     "text": [
      "[[ 1.0+0.j     1.0+0.j     1.0+0.j   ]\n",
      " [ 1.0+0.j    -0.5-0.866j -0.5+0.866j]\n",
      " [ 1.0+0.j    -0.5+0.866j -0.5-0.866j]]\n"
     ]
    }
   ],
   "source": [
    "A = np.array([[1.0, 1.0, 1.0], [1.0, a**2, a], [1.0, a, a**2]])\n",
    "print A"
   ]
  },
  {
   "cell_type": "code",
   "execution_count": 59,
   "metadata": {},
   "outputs": [
    {
     "name": "stdout",
     "output_type": "stream",
     "text": [
      "[[ 1.4107 +4.6646e-01j -0.0028 -8.0950e-03j -0.0056 +6.4517e-03j]\n",
      " [-0.0056 +6.4517e-03j  0.4874 +4.1513e-01j -0.0264 +4.5123e-02j]\n",
      " [-0.0028 -8.0950e-03j  0.0523 +3.3724e-04j  0.4874 +4.1513e-01j]]\n"
     ]
    }
   ],
   "source": [
    "Z012 = np.dot(np.linalg.inv(A), np.dot(Zabc, A))\n",
    "print Z012"
   ]
  },
  {
   "cell_type": "code",
   "execution_count": null,
   "metadata": {
    "collapsed": true
   },
   "outputs": [],
   "source": []
  }
 ],
 "metadata": {
  "kernelspec": {
   "display_name": "Python [Root]",
   "language": "python",
   "name": "Python [Root]"
  },
  "language_info": {
   "codemirror_mode": {
    "name": "ipython",
    "version": 2
   },
   "file_extension": ".py",
   "mimetype": "text/x-python",
   "name": "python",
   "nbconvert_exporter": "python",
   "pygments_lexer": "ipython2",
   "version": "2.7.12"
  }
 },
 "nbformat": 4,
 "nbformat_minor": 1
}
