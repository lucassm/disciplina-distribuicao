{
 "cells": [
  {
   "cell_type": "markdown",
   "metadata": {},
   "source": [
    "# Cálculo da matriz de capacitância em derivação"
   ]
  },
  {
   "cell_type": "code",
   "execution_count": 1,
   "metadata": {},
   "outputs": [
    {
     "data": {
      "text/plain": [
       "u'%.4f'"
      ]
     },
     "execution_count": 1,
     "metadata": {},
     "output_type": "execute_result"
    }
   ],
   "source": [
    "import numpy as np\n",
    "%precision 4"
   ]
  },
  {
   "cell_type": "markdown",
   "metadata": {},
   "source": [
    "Determine the shunt admittance matrix for the overhead line in Example 4.1.\n",
    "Assume that the neutral conductor is 25 ft. above ground."
   ]
  },
  {
   "cell_type": "markdown",
   "metadata": {},
   "source": [
    "Dados dos condutores:\n",
    "\n",
    "**336,400 26/7 ACSR:**\n",
    "\n",
    "**d_c = 0.721 inches, RD_c = 0.03004 ft.,**\n",
    "\n",
    "**4/0 6/1 ACSR:**\n",
    "\n",
    "**d_s = 0.563 inches, RD_s = 0.02346 ft.**"
   ]
  },
  {
   "cell_type": "markdown",
   "metadata": {},
   "source": [
    "<img src=\"Figuras/fig_021.png\"/>"
   ]
  },
  {
   "cell_type": "code",
   "execution_count": 2,
   "metadata": {
    "collapsed": true
   },
   "outputs": [],
   "source": [
    "rdc = 0.03004\n",
    "rds = 0.02346"
   ]
  },
  {
   "cell_type": "markdown",
   "metadata": {},
   "source": [
    "## Montagem da matriz de distâncias entre os condutores"
   ]
  },
  {
   "cell_type": "code",
   "execution_count": 4,
   "metadata": {
    "collapsed": true
   },
   "outputs": [],
   "source": [
    "dab = 2.5\n",
    "dbc = 4.5\n",
    "dca = 7.0\n",
    "dan = 5.6569\n",
    "dbn = 4.272\n",
    "dcn = 5.0"
   ]
  },
  {
   "cell_type": "code",
   "execution_count": 5,
   "metadata": {},
   "outputs": [
    {
     "name": "stdout",
     "output_type": "stream",
     "text": [
      "[[ 0.      2.5     7.      5.6569]\n",
      " [ 2.5     0.      4.5     4.272 ]\n",
      " [ 7.      4.5     0.      5.    ]\n",
      " [ 5.6569  4.272   5.      0.    ]]\n"
     ]
    }
   ],
   "source": [
    "D = np.array([[0.0, dab, dca, dan],\n",
    "              [dab, 0.0, dbc, dbn],\n",
    "              [dca, dbc, 0.0, dcn],\n",
    "              [dan, dbn, dcn, 0.0]])\n",
    "print D"
   ]
  },
  {
   "cell_type": "markdown",
   "metadata": {},
   "source": [
    "## Montagem da matriz de distâncias entre os condutores e suas imagens"
   ]
  },
  {
   "cell_type": "code",
   "execution_count": 6,
   "metadata": {},
   "outputs": [
    {
     "name": "stdout",
     "output_type": "stream",
     "text": [
      "[[ 58.      58.0539  58.4209  54.1479]\n",
      " [ 58.0539  58.      58.1743  54.0208]\n",
      " [ 58.4209  58.1743  58.      54.0833]\n",
      " [ 54.1479  54.0208  54.0833  50.    ]]\n"
     ]
    }
   ],
   "source": [
    "S = np.array([[58.0000, 58.0539, 58.4209, 54.1479],\n",
    "              [58.0539, 58.0000, 58.1743, 54.0208],\n",
    "              [58.4209, 58.1743, 58.0000, 54.0833],\n",
    "              [54.1479, 54.0208, 54.0833, 50.0000]])\n",
    "print S"
   ]
  },
  {
   "cell_type": "markdown",
   "metadata": {},
   "source": [
    "## Cálculo da matriz de diferença de potencial primitiva"
   ]
  },
  {
   "cell_type": "markdown",
   "metadata": {},
   "source": [
    "Considerando os coeficientes de diferença de potencial própria e múltua:\n",
    "\n",
    "\\begin{equation}\n",
    "    V_{ig} = \\hat P_{ii} \\cdot q_i + \\hat P_{ij} \\cdot q_j\n",
    "\\end{equation}\n",
    "\n",
    "Se considerarmos para as linhas aéreas:\n",
    "\n",
    "\\begin{eqnarray}\n",
    "        \\epsilon_{ar} & = & 1,0 \\times 8,85 \\times 10^{-12} ~~ [F/metro] \\\\\n",
    "        \\epsilon_{ar} & = & 1,424 \\times 10^{-2} \\mu ~~ [F/milha]\n",
    "\\end{eqnarray}\n",
    "\n",
    "Assim ficamos com:\n",
    "\n",
    "\\begin{eqnarray}\n",
    "        P_{ii} & = & 11,17689 \\cdot \\ln \\frac{S_{ii}}{RD_{i}} ~~ [milha/\\mu F] \\\\\n",
    "        P_{ij} & = & 11,17689 \\cdot \\ln \\frac{S_{ij}}{D_{ij}} ~~ [milha/\\mu F]\n",
    "\\end{eqnarray}"
   ]
  },
  {
   "cell_type": "code",
   "execution_count": 7,
   "metadata": {},
   "outputs": [
    {
     "name": "stdout",
     "output_type": "stream",
     "text": [
      "[[ 84.5606  35.1522  23.7147  25.2468]\n",
      " [ 35.1522  84.5606  28.6058  28.359 ]\n",
      " [ 23.7147  28.6058  84.5606  26.6132]\n",
      " [ 25.2468  28.359   26.6132  85.6651]]\n"
     ]
    }
   ],
   "source": [
    "pabc = list()\n",
    "for i in range(4):\n",
    "    pl = list()\n",
    "    for j in range(4):\n",
    "        if i == j:\n",
    "            if i == 3:\n",
    "                pf = 11.17689 * np.log(S[i,j]/rds)\n",
    "            else:\n",
    "                pf = 11.17689 * np.log(S[i,j]/rdc)\n",
    "        else:\n",
    "            pf = 11.17689 * np.log(S[i,j]/D[i,j])\n",
    "        pl.append(pf)\n",
    "    pabc.append(pl)\n",
    "P = np.array(pabc)\n",
    "\n",
    "print P"
   ]
  },
  {
   "cell_type": "markdown",
   "metadata": {},
   "source": [
    "## Particionamento da matriz de impedâncias primitiva para redução de Kron"
   ]
  },
  {
   "cell_type": "code",
   "execution_count": 8,
   "metadata": {},
   "outputs": [
    {
     "name": "stdout",
     "output_type": "stream",
     "text": [
      "[[ 84.5606  35.1522  23.7147]\n",
      " [ 35.1522  84.5606  28.6058]\n",
      " [ 23.7147  28.6058  84.5606]]\n"
     ]
    }
   ],
   "source": [
    "pij = P[0:3, 0:3]\n",
    "pij = np.reshape(pij, (3, 3))\n",
    "print pij"
   ]
  },
  {
   "cell_type": "code",
   "execution_count": 9,
   "metadata": {},
   "outputs": [
    {
     "name": "stdout",
     "output_type": "stream",
     "text": [
      "[[ 25.2468]\n",
      " [ 28.359 ]\n",
      " [ 26.6132]]\n"
     ]
    }
   ],
   "source": [
    "pin = P[0:3, 3]\n",
    "pin = np.reshape(pin, (3, 1))\n",
    "print pin"
   ]
  },
  {
   "cell_type": "code",
   "execution_count": 10,
   "metadata": {},
   "outputs": [
    {
     "name": "stdout",
     "output_type": "stream",
     "text": [
      "[[ 85.6651]]\n"
     ]
    }
   ],
   "source": [
    "pnn = P[3,3]\n",
    "pnn = np.reshape(pnn, (1, 1))\n",
    "print pnn"
   ]
  },
  {
   "cell_type": "code",
   "execution_count": 11,
   "metadata": {},
   "outputs": [
    {
     "name": "stdout",
     "output_type": "stream",
     "text": [
      "[[ 25.2468  28.359   26.6132]]\n"
     ]
    }
   ],
   "source": [
    "pnj = P[3, 0:3]\n",
    "pnj = np.reshape(pnj, (1, 3))\n",
    "print pnj"
   ]
  },
  {
   "cell_type": "markdown",
   "metadata": {},
   "source": [
    "## Aplicação da redução de Kron"
   ]
  },
  {
   "cell_type": "markdown",
   "metadata": {},
   "source": [
    "A equação que representa a redução de Kron é dada por:\n",
    "\n",
    "\\begin{equation}\n",
    "        \\mathbf{\\hat P_{abc}} = (\\mathbf{\\hat p_{ij}} - \\mathbf{\\hat p_{in}} \\cdot \\mathbf{\\hat p^{-1}_{nn}} \\cdot \\mathbf{\\hat p_{nj}} )\n",
    "\\end{equation}"
   ]
  },
  {
   "cell_type": "code",
   "execution_count": 12,
   "metadata": {},
   "outputs": [
    {
     "data": {
      "text/plain": [
       "array([[ 77.12  ,  26.7944,  15.8714],\n",
       "       [ 26.7944,  75.1726,  19.7956],\n",
       "       [ 15.8714,  19.7956,  76.2929]])"
      ]
     },
     "execution_count": 12,
     "metadata": {},
     "output_type": "execute_result"
    }
   ],
   "source": [
    "Pabc = pij - np.dot(np.dot(pin, np.linalg.inv(pnn)) ,pnj)\n",
    "Pabc"
   ]
  },
  {
   "cell_type": "markdown",
   "metadata": {},
   "source": [
    "## Cálculo da matriz de capacitância"
   ]
  },
  {
   "cell_type": "markdown",
   "metadata": {},
   "source": [
    "O inverso da matriz de potencial de fase, será a matriz de capacitância de fase:\n",
    "\n",
    "\\begin{equation}\n",
    "    \\mathbf{C_{abc}} = \\mathbf{P_{abc}}^{-1}\n",
    "\\end{equation}"
   ]
  },
  {
   "cell_type": "code",
   "execution_count": 13,
   "metadata": {},
   "outputs": [
    {
     "data": {
      "text/plain": [
       "array([[ 0.015 , -0.0049, -0.0019],\n",
       "       [-0.0049,  0.0159, -0.0031],\n",
       "       [-0.0019, -0.0031,  0.0143]])"
      ]
     },
     "execution_count": 13,
     "metadata": {},
     "output_type": "execute_result"
    }
   ],
   "source": [
    "Cabc = np.linalg.inv(Pabc)\n",
    "Cabc"
   ]
  },
  {
   "cell_type": "markdown",
   "metadata": {},
   "source": [
    "## Cálculo da matriz de admitância em derivação"
   ]
  },
  {
   "cell_type": "markdown",
   "metadata": {},
   "source": [
    "A matriz de admitância em derivação pode ser obtida:\n",
    "\n",
    "\\begin{equation}\n",
    "    \\mathbf{y_{abc}} = \\mathbf{0} + j \\cdot \\omega \\cdot \\mathbf{C_{abc}} ~~ [\\mu S/milha]\n",
    "\\end{equation}\n",
    "\n",
    "Em que:\n",
    "\n",
    "\\begin{equation}\n",
    "    \\omega = 2 \\cdot \\pi \\cdot f = 2 \\cdot \\pi \\cdot 60 = 376,9911\n",
    "\\end{equation}"
   ]
  },
  {
   "cell_type": "code",
   "execution_count": 14,
   "metadata": {},
   "outputs": [
    {
     "data": {
      "text/plain": [
       "array([[ 0.+5.6711j, -0.-1.8362j, -0.-0.7033j],\n",
       "       [-0.-1.8362j,  0.+5.9773j, -0.-1.1689j],\n",
       "       [-0.-0.7033j, -0.-1.1689j,  0.+5.391j ]])"
      ]
     },
     "execution_count": 14,
     "metadata": {},
     "output_type": "execute_result"
    }
   ],
   "source": [
    "yabc = 1.0j * (2*np.pi*60.0) * Cabc\n",
    "yabc"
   ]
  },
  {
   "cell_type": "code",
   "execution_count": null,
   "metadata": {
    "collapsed": true
   },
   "outputs": [],
   "source": [
    "     "
   ]
  }
 ],
 "metadata": {
  "kernelspec": {
   "display_name": "Python [Root]",
   "language": "python",
   "name": "Python [Root]"
  },
  "language_info": {
   "codemirror_mode": {
    "name": "ipython",
    "version": 2
   },
   "file_extension": ".py",
   "mimetype": "text/x-python",
   "name": "python",
   "nbconvert_exporter": "python",
   "pygments_lexer": "ipython2",
   "version": "2.7.12"
  }
 },
 "nbformat": 4,
 "nbformat_minor": 1
}
