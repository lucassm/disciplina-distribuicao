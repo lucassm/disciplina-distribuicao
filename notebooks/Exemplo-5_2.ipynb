{
 "cells": [
  {
   "cell_type": "markdown",
   "metadata": {},
   "source": [
    "# Cálculo da matriz de adimitância em derivação para linha subterrânea com cabo neutro concêntrico"
   ]
  },
  {
   "cell_type": "code",
   "execution_count": 6,
   "metadata": {},
   "outputs": [
    {
     "data": {
      "text/plain": [
       "u'%.4f'"
      ]
     },
     "execution_count": 6,
     "metadata": {},
     "output_type": "execute_result"
    }
   ],
   "source": [
    "import numpy as np\n",
    "%precision 4"
   ]
  },
  {
   "cell_type": "markdown",
   "metadata": {},
   "source": [
    "<img src=\"Figuras/fig_030.png\" width=\"400\"/>"
   ]
  },
  {
   "cell_type": "markdown",
   "metadata": {},
   "source": [
    "Considerando a isolação do condutor de polietileno, a matriz de adimitância é expressa por:\n",
    "\n",
    "\\begin{equation}\n",
    "        y_{ag} = 0 + j \\frac{77,3619}{\\ln \\frac{R_b}{RD_c} - \\frac{1}{k} \\ln \\frac{k \\cdot RD_s}{R_b}} ~~ \\mu S / milha\n",
    "\\end{equation}\n",
    "\n",
    "Em que o raio do condutor de neutro concêntrico:\n",
    "\n",
    "$$\n",
    "R_b = R\n",
    "$$\n",
    "\n",
    "Raio do condutor fase:\n",
    "\n",
    "$$\n",
    "RD_c = \\frac{d_c}{2}\n",
    "$$\n",
    "\n",
    "Raio do condutor neutro:\n",
    "\n",
    "$$\n",
    "RD_s = \\frac{d_s}{2}\n",
    "$$"
   ]
  },
  {
   "cell_type": "code",
   "execution_count": 1,
   "metadata": {},
   "outputs": [
    {
     "data": {
      "text/plain": [
       "0.6132"
      ]
     },
     "execution_count": 1,
     "metadata": {},
     "output_type": "execute_result"
    }
   ],
   "source": [
    "rb = 0.0511 * 12.0\n",
    "rb"
   ]
  },
  {
   "cell_type": "code",
   "execution_count": 2,
   "metadata": {},
   "outputs": [
    {
     "data": {
      "text/plain": [
       "0.2835"
      ]
     },
     "execution_count": 2,
     "metadata": {},
     "output_type": "execute_result"
    }
   ],
   "source": [
    "rdc = 0.567 / 2.0\n",
    "rdc"
   ]
  },
  {
   "cell_type": "code",
   "execution_count": 3,
   "metadata": {},
   "outputs": [
    {
     "data": {
      "text/plain": [
       "0.03205"
      ]
     },
     "execution_count": 3,
     "metadata": {},
     "output_type": "execute_result"
    }
   ],
   "source": [
    "rds = 0.0641 / 2.0\n",
    "rds"
   ]
  },
  {
   "cell_type": "code",
   "execution_count": 4,
   "metadata": {
    "collapsed": true
   },
   "outputs": [],
   "source": [
    "k = 13.0"
   ]
  },
  {
   "cell_type": "code",
   "execution_count": 7,
   "metadata": {},
   "outputs": [
    {
     "data": {
      "text/plain": [
       "96.55687200162204j"
      ]
     },
     "execution_count": 7,
     "metadata": {},
     "output_type": "execute_result"
    }
   ],
   "source": [
    "yag = 1j * 77.3619 / (np.log(rb/rdc) - 1/k * np.log(k * rds/rb))\n",
    "yag"
   ]
  },
  {
   "cell_type": "code",
   "execution_count": 8,
   "metadata": {},
   "outputs": [
    {
     "name": "stdout",
     "output_type": "stream",
     "text": [
      "[[ 0.+96.5569j  0. +0.j      0. +0.j    ]\n",
      " [ 0. +0.j      0.+96.5569j  0. +0.j    ]\n",
      " [ 0. +0.j      0. +0.j      0.+96.5569j]]\n"
     ]
    }
   ],
   "source": [
    "yabc = np.array([[yag, 0.0, 0.0], [0.0, yag, 0.0], [0.0, 0.0, yag]])\n",
    "print yabc"
   ]
  },
  {
   "cell_type": "code",
   "execution_count": null,
   "metadata": {
    "collapsed": true
   },
   "outputs": [],
   "source": []
  }
 ],
 "metadata": {
  "kernelspec": {
   "display_name": "Python [Root]",
   "language": "python",
   "name": "Python [Root]"
  },
  "language_info": {
   "codemirror_mode": {
    "name": "ipython",
    "version": 2
   },
   "file_extension": ".py",
   "mimetype": "text/x-python",
   "name": "python",
   "nbconvert_exporter": "python",
   "pygments_lexer": "ipython2",
   "version": "2.7.12"
  }
 },
 "nbformat": 4,
 "nbformat_minor": 1
}
