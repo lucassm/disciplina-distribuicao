{
 "cells": [
  {
   "cell_type": "markdown",
   "metadata": {},
   "source": [
    "# Modelo exato de linhas de distribuição"
   ]
  },
  {
   "cell_type": "code",
   "execution_count": 1,
   "metadata": {},
   "outputs": [
    {
     "data": {
      "text/plain": [
       "u'%.4f'"
      ]
     },
     "execution_count": 1,
     "metadata": {},
     "output_type": "execute_result"
    }
   ],
   "source": [
    "import numpy as np\n",
    "%precision 4"
   ]
  },
  {
   "cell_type": "code",
   "execution_count": 2,
   "metadata": {
    "collapsed": true
   },
   "outputs": [],
   "source": [
    "from numeric.util import P as p\n",
    "from numeric.util import R as r"
   ]
  },
  {
   "cell_type": "markdown",
   "metadata": {},
   "source": [
    "Uma carga equilibrada com potência de 6.000 kVA, tensão nominal de 12,47kV e fator de potência 0,9 indutivo está conectada no nó m de uma linha de distribuição trifásica de 10.000 pés (3,048 km) conforme mostrado na figura, abaixo:"
   ]
  },
  {
   "cell_type": "markdown",
   "metadata": {},
   "source": [
    "<img src=\"Figuras/fig_032.png\" width=\"600\"/>"
   ]
  },
  {
   "cell_type": "markdown",
   "metadata": {},
   "source": [
    "A configuração da linha está mostrada na figura abaixo:"
   ]
  },
  {
   "cell_type": "markdown",
   "metadata": {},
   "source": [
    "<img src=\"Figuras/fig_021.png\" width=\"400\"/>"
   ]
  },
  {
   "cell_type": "markdown",
   "metadata": {},
   "source": [
    "Os condutores utilizados são:\n",
    "\n",
    "336,400 26/7 ACSR (com ampacidade de 530A) nas fases e 4/0 6/1 ACSR no neutro (com ampacidade de 340A)."
   ]
  },
  {
   "cell_type": "markdown",
   "metadata": {},
   "source": [
    "Determine as matrizes **a**, **b**, **c**, **d**.\n",
    "\n",
    "Usando as matrizes determine as tesões no nó fonte *n* e as correntes que fluem na linha."
   ]
  },
  {
   "cell_type": "markdown",
   "metadata": {},
   "source": [
    "## Definição dos parâmetros de entrada"
   ]
  },
  {
   "cell_type": "markdown",
   "metadata": {},
   "source": [
    "Das questões anteriores, podemos obter a matriz de impedância de fase:"
   ]
  },
  {
   "cell_type": "code",
   "execution_count": 3,
   "metadata": {},
   "outputs": [
    {
     "name": "stdout",
     "output_type": "stream",
     "text": [
      "[[ 0.4576+1.078j   0.1559+0.5017j  0.1535+0.3849j]\n",
      " [ 0.1559+0.5017j  0.4666+1.0482j  0.1580+0.4236j]\n",
      " [ 0.1535+0.3849j  0.1580+0.4236j  0.4615+1.0651j]]\n"
     ]
    }
   ],
   "source": [
    "zabc = np.array([[ 0.4576+1.078j ,  0.1559+0.5017j,  0.1535+0.3849j],\n",
    "                 [ 0.1559+0.5017j,  0.4666+1.0482j,  0.1580+0.4236j],\n",
    "                 [ 0.1535+0.3849j,  0.1580+0.4236j,  0.4615+1.0651j]])\n",
    "print zabc"
   ]
  },
  {
   "cell_type": "markdown",
   "metadata": {},
   "source": [
    "E a matriz de admitância em derivação:"
   ]
  },
  {
   "cell_type": "code",
   "execution_count": 4,
   "metadata": {},
   "outputs": [
    {
     "name": "stdout",
     "output_type": "stream",
     "text": [
      "[[ 0.+5.6711j -0.-1.8362j -0.-0.7033j]\n",
      " [-0.-1.8362j  0.+5.9773j -0.-1.1689j]\n",
      " [-0.-0.7033j -0.-1.1689j  0.+5.391j ]]\n"
     ]
    }
   ],
   "source": [
    "yabc = np.array([[ 0.+5.6711j, -0.-1.8362j, -0.-0.7033j],\n",
    "              [-0.-1.8362j,  0.+5.9773j, -0.-1.1689j],\n",
    "              [-0.-0.7033j, -0.-1.1689j,  0.+5.391j ]])\n",
    "print yabc"
   ]
  },
  {
   "cell_type": "markdown",
   "metadata": {},
   "source": [
    "Multiplicando pelo comprimento da linha é possível obtermos a matriz de impedância e admitância total:"
   ]
  },
  {
   "cell_type": "code",
   "execution_count": 5,
   "metadata": {},
   "outputs": [
    {
     "data": {
      "text/plain": [
       "array([[ 0.8667+2.0417j,  0.2953+0.9502j,  0.2907+0.729j ],\n",
       "       [ 0.2953+0.9502j,  0.8837+1.9852j,  0.2992+0.8023j],\n",
       "       [ 0.2907+0.729j ,  0.2992+0.8023j,  0.8741+2.0172j]])"
      ]
     },
     "execution_count": 5,
     "metadata": {},
     "output_type": "execute_result"
    }
   ],
   "source": [
    "Zabc = 10e3 / 5280.0 * zabc\n",
    "Zabc"
   ]
  },
  {
   "cell_type": "code",
   "execution_count": 6,
   "metadata": {},
   "outputs": [
    {
     "data": {
      "text/plain": [
       "array([[ 0.+10.7407j,  0. -3.4777j,  0. -1.332j ],\n",
       "       [ 0. -3.4777j,  0.+11.3206j,  0. -2.2138j],\n",
       "       [ 0. -1.332j ,  0. -2.2138j,  0.+10.2102j]])"
      ]
     },
     "execution_count": 6,
     "metadata": {},
     "output_type": "execute_result"
    }
   ],
   "source": [
    "Yabc = 10e3 / 5280.0 * yabc\n",
    "Yabc"
   ]
  },
  {
   "cell_type": "markdown",
   "metadata": {},
   "source": [
    "É possível observar que os elementos da matriz Yabc são bem pequenos pois essa matriz é dada em $\\mu S$."
   ]
  },
  {
   "cell_type": "markdown",
   "metadata": {},
   "source": [
    "## Cálculo das matrizes generalizadas"
   ]
  },
  {
   "cell_type": "markdown",
   "metadata": {},
   "source": [
    "Calculando agora as matrizes generalizadas:\n",
    "\n",
    "\\begin{eqnarray}\n",
    "        \\mathbf{a} & = & \\mathbf{U} + \\frac{1}{2} \\cdot \\mathbf{Z_{abc}} \\cdot \\mathbf{Y_{abc}} \\\\\n",
    "        \\mathbf{b} & = & \\mathbf{Z_{abc}} \\\\\n",
    "        \\mathbf{c} & = & \\frac{1}{2} \\cdot \\mathbf{Y_{abc}} \\left[ \\mathbf{U} + \\mathbf{a} \\right] \\\\\n",
    "        \\mathbf{d} & = & \\mathbf{U} + \\frac{1}{2} \\cdot \\mathbf{Y_{abc}} \\cdot \\mathbf{b}\n",
    "\\end{eqnarray}"
   ]
  },
  {
   "cell_type": "code",
   "execution_count": 7,
   "metadata": {},
   "outputs": [
    {
     "data": {
      "text/plain": [
       "array([[ 1.,  0.,  0.],\n",
       "       [ 0.,  1.,  0.],\n",
       "       [ 0.,  0.,  1.]])"
      ]
     },
     "execution_count": 7,
     "metadata": {},
     "output_type": "execute_result"
    }
   ],
   "source": [
    "U = np.identity(3)\n",
    "U"
   ]
  },
  {
   "cell_type": "code",
   "execution_count": 8,
   "metadata": {},
   "outputs": [
    {
     "data": {
      "text/plain": [
       "array([[ 1.+0.j, -0.-0.j, -0.+0.j],\n",
       "       [-0.-0.j,  1.+0.j, -0.+0.j],\n",
       "       [-0.+0.j, -0.+0.j,  1.+0.j]])"
      ]
     },
     "execution_count": 8,
     "metadata": {},
     "output_type": "execute_result"
    }
   ],
   "source": [
    "a = U + 0.5 * np.dot(Zabc, Yabc*1e-6)\n",
    "a.round(2)"
   ]
  },
  {
   "cell_type": "code",
   "execution_count": 9,
   "metadata": {},
   "outputs": [
    {
     "data": {
      "text/plain": [
       "array([[ 0.8667+2.0417j,  0.2953+0.9502j,  0.2907+0.729j ],\n",
       "       [ 0.2953+0.9502j,  0.8837+1.9852j,  0.2992+0.8023j],\n",
       "       [ 0.2907+0.729j ,  0.2992+0.8023j,  0.8741+2.0172j]])"
      ]
     },
     "execution_count": 9,
     "metadata": {},
     "output_type": "execute_result"
    }
   ],
   "source": [
    "b = Zabc\n",
    "b"
   ]
  },
  {
   "cell_type": "code",
   "execution_count": 10,
   "metadata": {},
   "outputs": [
    {
     "data": {
      "text/plain": [
       "array([[-0.+0.j,  0.-0.j,  0.-0.j],\n",
       "       [ 0.-0.j, -0.+0.j,  0.-0.j],\n",
       "       [ 0.-0.j,  0.-0.j, -0.+0.j]])"
      ]
     },
     "execution_count": 10,
     "metadata": {},
     "output_type": "execute_result"
    }
   ],
   "source": [
    "c = 0.5 * np.dot(Yabc*1e-6, U+a)\n",
    "c.round(2)"
   ]
  },
  {
   "cell_type": "code",
   "execution_count": 11,
   "metadata": {},
   "outputs": [
    {
     "data": {
      "text/plain": [
       "array([[ 1.+0.j, -0.-0.j, -0.+0.j],\n",
       "       [-0.-0.j,  1.+0.j, -0.+0.j],\n",
       "       [-0.+0.j, -0.+0.j,  1.+0.j]])"
      ]
     },
     "execution_count": 11,
     "metadata": {},
     "output_type": "execute_result"
    }
   ],
   "source": [
    "d = U + 0.5 * np.dot(Yabc*1e-6, b)\n",
    "d.round(2)"
   ]
  },
  {
   "cell_type": "markdown",
   "metadata": {},
   "source": [
    "## Observações a respeito da matriz de admitâncias em derivação"
   ]
  },
  {
   "cell_type": "markdown",
   "metadata": {},
   "source": [
    "Como é possível observar, como a matriz de admitância tem valores muito baixos, a matriz **a** pode ser representada como a matriz identidade e a matriz **c** como uma matriz de zeros. Veja:"
   ]
  },
  {
   "cell_type": "code",
   "execution_count": 12,
   "metadata": {},
   "outputs": [
    {
     "data": {
      "text/plain": [
       "(0.99999117323072706+3.9472767985250234e-06j)"
      ]
     },
     "execution_count": 12,
     "metadata": {},
     "output_type": "execute_result"
    }
   ],
   "source": [
    "a[0,0]"
   ]
  },
  {
   "cell_type": "code",
   "execution_count": 13,
   "metadata": {},
   "outputs": [
    {
     "data": {
      "text/plain": [
       "(-1.0213609819788794e-06-1.574878759182738e-07j)"
      ]
     },
     "execution_count": 13,
     "metadata": {},
     "output_type": "execute_result"
    }
   ],
   "source": [
    "a[0,1]"
   ]
  },
  {
   "cell_type": "code",
   "execution_count": 14,
   "metadata": {},
   "outputs": [
    {
     "data": {
      "text/plain": [
       "(-2.1153960902270234e-11+1.0740675019044989e-05j)"
      ]
     },
     "execution_count": 14,
     "metadata": {},
     "output_type": "execute_result"
    }
   ],
   "source": [
    "c[0,0]"
   ]
  },
  {
   "cell_type": "markdown",
   "metadata": {},
   "source": [
    "O fato aqui é que nesses casos a matriz de admitâncias pode ser desprezada, pois seu efeito é muito pequeno no sistema."
   ]
  },
  {
   "cell_type": "markdown",
   "metadata": {},
   "source": [
    "## Cálculo das tensões no nó m"
   ]
  },
  {
   "cell_type": "markdown",
   "metadata": {},
   "source": [
    "Calculando a tensão fase-neutro do sistema:"
   ]
  },
  {
   "cell_type": "code",
   "execution_count": 15,
   "metadata": {},
   "outputs": [
    {
     "data": {
      "text/plain": [
       "7199.5579"
      ]
     },
     "execution_count": 15,
     "metadata": {},
     "output_type": "execute_result"
    }
   ],
   "source": [
    "van = 12470.0 / np.sqrt(3)\n",
    "van"
   ]
  },
  {
   "cell_type": "markdown",
   "metadata": {},
   "source": [
    "Como a carga foi dita equilibrada podemos montar a matriz de tensões em **m**:"
   ]
  },
  {
   "cell_type": "code",
   "execution_count": 16,
   "metadata": {},
   "outputs": [
    {
     "data": {
      "text/plain": [
       "array([[7199.56 ∠ 0.0º],\n",
       "       [7199.56 ∠ -120.0º],\n",
       "       [7199.56 ∠ 120.0º]], dtype=object)"
      ]
     },
     "execution_count": 16,
     "metadata": {},
     "output_type": "execute_result"
    }
   ],
   "source": [
    "Vabcm = np.array([p(van, 0.0), p(van, -120.0), p(van, 120.0)])\n",
    "Vabcm = np.reshape(Vabcm, (3, 1))\n",
    "Vabcm"
   ]
  },
  {
   "cell_type": "markdown",
   "metadata": {},
   "source": [
    "## Cálculo das correntes no nó m"
   ]
  },
  {
   "cell_type": "markdown",
   "metadata": {},
   "source": [
    "Agora a corrente será de:"
   ]
  },
  {
   "cell_type": "code",
   "execution_count": 17,
   "metadata": {},
   "outputs": [
    {
     "data": {
      "text/plain": [
       "277.7948"
      ]
     },
     "execution_count": 17,
     "metadata": {},
     "output_type": "execute_result"
    }
   ],
   "source": [
    "ia = 6e6 / (np.sqrt(3) * 12.47e3)\n",
    "ia"
   ]
  },
  {
   "cell_type": "markdown",
   "metadata": {},
   "source": [
    "Como o fator de potência é de 0,9 e indutivo:"
   ]
  },
  {
   "cell_type": "code",
   "execution_count": 18,
   "metadata": {},
   "outputs": [
    {
     "data": {
      "text/plain": [
       "-25.8419"
      ]
     },
     "execution_count": 18,
     "metadata": {},
     "output_type": "execute_result"
    }
   ],
   "source": [
    "angle = - np.arccos(0.9) * 180.0 / np.pi \n",
    "angle"
   ]
  },
  {
   "cell_type": "code",
   "execution_count": 19,
   "metadata": {},
   "outputs": [
    {
     "data": {
      "text/plain": [
       "array([[277.79 ∠ -25.84º],\n",
       "       [277.79 ∠ -145.84º],\n",
       "       [277.79 ∠ 94.16º]], dtype=object)"
      ]
     },
     "execution_count": 19,
     "metadata": {},
     "output_type": "execute_result"
    }
   ],
   "source": [
    "Iabcm = np.array([p(ia, angle), p(ia, -120.0+angle), p(ia, 120.0+angle)])\n",
    "Iabcm = np.reshape(Iabcm, (3, 1))\n",
    "Iabcm"
   ]
  },
  {
   "cell_type": "markdown",
   "metadata": {},
   "source": [
    "## Cálculo das tensões no nó n"
   ]
  },
  {
   "cell_type": "markdown",
   "metadata": {},
   "source": [
    "Aplicando a equação da tensão no nó **n**:\n",
    "\n",
    "\\begin{equation}\n",
    "        \\mathbf{V_{abc}}_n = \\mathbf{a} \\cdot \\mathbf{V_{abc}}_m + \\mathbf{b} \\cdot  \\mathbf{I_{abc}}_m \n",
    "\\end{equation}"
   ]
  },
  {
   "cell_type": "code",
   "execution_count": 20,
   "metadata": {},
   "outputs": [
    {
     "data": {
      "text/plain": [
       "array([[7538.74 ∠ 1.57º],\n",
       "       [7451.25 ∠ -118.3º],\n",
       "       [7485.11 ∠ 121.93º]], dtype=object)"
      ]
     },
     "execution_count": 20,
     "metadata": {},
     "output_type": "execute_result"
    }
   ],
   "source": [
    "Vabcn = np.dot(a, Vabcm)  + np.dot(b, Iabcm)\n",
    "Vabcn[0,0].polar = True\n",
    "Vabcn[1,0].polar = True\n",
    "Vabcn[2,0].polar = True\n",
    "\n",
    "Vabcn"
   ]
  },
  {
   "cell_type": "markdown",
   "metadata": {},
   "source": [
    "## Cálculo das tensões em pu"
   ]
  },
  {
   "cell_type": "code",
   "execution_count": 21,
   "metadata": {},
   "outputs": [
    {
     "data": {
      "text/plain": [
       "array([[1.05 ∠ 1.57º],\n",
       "       [1.03 ∠ -118.3º],\n",
       "       [1.04 ∠ 121.93º]], dtype=object)"
      ]
     },
     "execution_count": 21,
     "metadata": {},
     "output_type": "execute_result"
    }
   ],
   "source": [
    "Vabcn_pu = 1.0 / van * Vabcn\n",
    "Vabcn_pu[0,0].polar = True\n",
    "Vabcn_pu[1,0].polar = True\n",
    "Vabcn_pu[2,0].polar = True\n",
    "Vabcn_pu"
   ]
  },
  {
   "cell_type": "markdown",
   "metadata": {},
   "source": [
    "## Cálculo das correntes no nó n"
   ]
  },
  {
   "cell_type": "markdown",
   "metadata": {},
   "source": [
    "A corrente no nó *m* é facilmente encontrada, aplicando:\n",
    "\n",
    "\\begin{equation}\n",
    "        \\mathbf{I_{abc}}_n = \\mathbf{c} \\cdot \\mathbf{V_{abc}}_m +  \\mathbf{d} \\cdot \\mathbf{I_{abc}}_m\n",
    "\\end{equation}"
   ]
  },
  {
   "cell_type": "code",
   "execution_count": 22,
   "metadata": {},
   "outputs": [
    {
     "data": {
      "text/plain": [
       "array([[277.74 ∠ -25.83º],\n",
       "       [277.76 ∠ -145.82º],\n",
       "       [277.76 ∠ 94.17º]], dtype=object)"
      ]
     },
     "execution_count": 22,
     "metadata": {},
     "output_type": "execute_result"
    }
   ],
   "source": [
    "Iabcn = np.dot(c, Vabcm)  + np.dot(d, Iabcm)\n",
    "Iabcn[0,0].polar = True\n",
    "Iabcn[1,0].polar = True\n",
    "Iabcn[2,0].polar = True\n",
    "\n",
    "Iabcn"
   ]
  },
  {
   "cell_type": "code",
   "execution_count": null,
   "metadata": {
    "collapsed": true
   },
   "outputs": [],
   "source": []
  }
 ],
 "metadata": {
  "kernelspec": {
   "display_name": "Python [Root]",
   "language": "python",
   "name": "Python [Root]"
  },
  "language_info": {
   "codemirror_mode": {
    "name": "ipython",
    "version": 2
   },
   "file_extension": ".py",
   "mimetype": "text/x-python",
   "name": "python",
   "nbconvert_exporter": "python",
   "pygments_lexer": "ipython2",
   "version": "2.7.12"
  }
 },
 "nbformat": 4,
 "nbformat_minor": 1
}
