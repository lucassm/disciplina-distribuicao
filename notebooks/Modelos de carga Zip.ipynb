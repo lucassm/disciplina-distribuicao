{
 "cells": [
  {
   "cell_type": "code",
   "execution_count": 53,
   "metadata": {},
   "outputs": [
    {
     "data": {
      "text/plain": [
       "u'%.4f'"
      ]
     },
     "execution_count": 53,
     "metadata": {},
     "output_type": "execute_result"
    }
   ],
   "source": [
    "import numpy as np\n",
    "\n",
    "%precision 4"
   ]
  },
  {
   "cell_type": "code",
   "execution_count": 54,
   "metadata": {
    "collapsed": true
   },
   "outputs": [],
   "source": [
    "def p2r(m, a):\n",
    "    x = m * np.cos(a*np.pi/180.0)\n",
    "    y = m * np.sin(a*np.pi/180.0)\n",
    "    return x + 1j * y\n",
    "\n",
    "def r2p(z):\n",
    "    m = np.absolute(z)\n",
    "    a = np.angle(z) * 180.0 / np.pi\n",
    "    return (m, a)"
   ]
  },
  {
   "cell_type": "markdown",
   "metadata": {},
   "source": [
    "# Modelagem de carga ZIP"
   ]
  },
  {
   "cell_type": "markdown",
   "metadata": {},
   "source": [
    "As potencias complexas de uma carga conectada em Y são:"
   ]
  },
  {
   "cell_type": "code",
   "execution_count": 55,
   "metadata": {},
   "outputs": [
    {
     "data": {
      "text/plain": [
       "array([[ 1999418.2890+1001234.0963j],\n",
       "       [ 2200225.3364+1199601.796j ],\n",
       "       [ 1899839.0699 +898049.8141j]])"
      ]
     },
     "execution_count": 55,
     "metadata": {},
     "output_type": "execute_result"
    }
   ],
   "source": [
    "Sabc = np.array([p2r(2236.1e3, 26.6), p2r(2506.0e3, 28.6), p2r(2101.4e3, 25.3)])\n",
    "Sabc = np.reshape(Sabc, (3, 1))\n",
    "Sabc"
   ]
  },
  {
   "cell_type": "markdown",
   "metadata": {},
   "source": [
    "A carga é especificada como:\n",
    "\n",
    "- 50% potência constante;\n",
    "- 20% impedância constante;e\n",
    "- 30% corrente constante,\n",
    "\n",
    "A tensão nominal do sistema é de **12,47kV**."
   ]
  },
  {
   "cell_type": "markdown",
   "metadata": {},
   "source": [
    "Considerando as tensões iniciais do processo iterativo como: "
   ]
  },
  {
   "cell_type": "code",
   "execution_count": 56,
   "metadata": {},
   "outputs": [
    {
     "data": {
      "text/plain": [
       "array([[ 7200.   +0.j    ],\n",
       "       [-3600.-6235.3829j],\n",
       "       [-3600.+6235.3829j]])"
      ]
     },
     "execution_count": 56,
     "metadata": {},
     "output_type": "execute_result"
    }
   ],
   "source": [
    "Vabc = np.array([p2r(7200.0, 0.0), p2r(7200.0, -120.0), p2r(7200.0, 120.0)])\n",
    "Vabc = np.reshape(Vabc, (3, 1))\n",
    "Vabc"
   ]
  },
  {
   "cell_type": "markdown",
   "metadata": {},
   "source": [
    "## Parcela de potência constante"
   ]
  },
  {
   "cell_type": "markdown",
   "metadata": {},
   "source": [
    "Calculando as correntes solicitadas pela parcela da carga modelada como potência constante:\n",
    "\n",
    "\\begin{equation}\n",
    "    I_i = \\left(\\frac{S_i}{V_{in}}\\right)^{*} = \\frac{|S_i|}{|V_{in}|} \\angle{\\delta_i - \\theta_i} = |I_i| \\angle{\\alpha_i}\n",
    "\\end{equation}"
   ]
  },
  {
   "cell_type": "code",
   "execution_count": 57,
   "metadata": {
    "collapsed": true
   },
   "outputs": [],
   "source": [
    "Ipq = np.conj(Sabc / Vabc) * 0.5"
   ]
  },
  {
   "cell_type": "code",
   "execution_count": 58,
   "metadata": {},
   "outputs": [
    {
     "name": "stdout",
     "output_type": "stream",
     "text": [
      "[[ 155.2847]\n",
      " [ 174.0278]\n",
      " [ 145.9306]]\n",
      "[[ -26.6]\n",
      " [-148.6]\n",
      " [  94.7]]\n"
     ]
    }
   ],
   "source": [
    "m, a = r2p(Ipq)\n",
    "print m\n",
    "print a"
   ]
  },
  {
   "cell_type": "markdown",
   "metadata": {},
   "source": [
    "## Parcela de impedância constante"
   ]
  },
  {
   "cell_type": "markdown",
   "metadata": {},
   "source": [
    "A impedância constante da carga é calculada da seguinte forma:\n",
    "\n",
    "\\begin{equation}\n",
    "        Z_i = \\frac{|V_{in}|^{2}}{S_{i}^{*}} = \\frac{|V_{in}|^{2}}{|S_{i}|} \\angle{\\theta_i} = |Z_i| \\angle{\\theta_i}\n",
    "    \\end{equation}"
   ]
  },
  {
   "cell_type": "code",
   "execution_count": 59,
   "metadata": {},
   "outputs": [
    {
     "data": {
      "text/plain": [
       "array([[ 20.7294+10.3805j],\n",
       "       [ 18.1623 +9.9024j],\n",
       "       [ 22.3031+10.5426j]])"
      ]
     },
     "execution_count": 59,
     "metadata": {},
     "output_type": "execute_result"
    }
   ],
   "source": [
    "Zabc = np.abs(Vabc)**2 / np.conj(Sabc)\n",
    "Zabc"
   ]
  },
  {
   "cell_type": "markdown",
   "metadata": {},
   "source": [
    "Dessa forma, calcula-se a corrente solicitada pela parcela da carga modelada como impedância constante:\n",
    "\n",
    "\\begin{equation}\n",
    "I_i = \\frac{V_{in}}{Z_i} = \\frac{|V_{in}|}{|Z_i|} \\angle{\\delta_i - \\theta_i} = |I_i| \\angle{\\alpha_i}\n",
    "\\end{equation}"
   ]
  },
  {
   "cell_type": "code",
   "execution_count": 60,
   "metadata": {},
   "outputs": [
    {
     "data": {
      "text/plain": [
       "array([[ 55.5394-27.8121j],\n",
       "       [-59.4166-36.2681j],\n",
       "       [ -4.7829+58.1759j]])"
      ]
     },
     "execution_count": 60,
     "metadata": {},
     "output_type": "execute_result"
    }
   ],
   "source": [
    "Izi = Vabc / Zabc * 0.2\n",
    "Izi"
   ]
  },
  {
   "cell_type": "code",
   "execution_count": 61,
   "metadata": {},
   "outputs": [
    {
     "name": "stdout",
     "output_type": "stream",
     "text": [
      "[[ 62.1139]\n",
      " [ 69.6111]\n",
      " [ 58.3722]]\n",
      "[[ -26.6]\n",
      " [-148.6]\n",
      " [  94.7]]\n"
     ]
    }
   ],
   "source": [
    "m, a = r2p(Izi)\n",
    "print m\n",
    "print a"
   ]
  },
  {
   "cell_type": "markdown",
   "metadata": {},
   "source": [
    "## Parcela de corrente constante"
   ]
  },
  {
   "cell_type": "markdown",
   "metadata": {},
   "source": [
    "Por fim as correntes solicitadas pela parcela da carga modelada como corrente constante:\n",
    "\n",
    "\\begin{equation}\n",
    "    I_i = |I_i| \\angle{\\delta_i - \\theta_i}\n",
    "\\end{equation}"
   ]
  },
  {
   "cell_type": "code",
   "execution_count": 62,
   "metadata": {},
   "outputs": [
    {
     "data": {
      "text/plain": [
       "array([[ 83.3091-41.7181j],\n",
       "       [-89.1249-54.4021j],\n",
       "       [ -7.1744+87.2639j]])"
      ]
     },
     "execution_count": 62,
     "metadata": {},
     "output_type": "execute_result"
    }
   ],
   "source": [
    "Ii = np.conj(Sabc / Vabc) * 0.3\n",
    "Ii"
   ]
  },
  {
   "cell_type": "code",
   "execution_count": 63,
   "metadata": {},
   "outputs": [
    {
     "name": "stdout",
     "output_type": "stream",
     "text": [
      "[[  93.1708]\n",
      " [ 104.4167]\n",
      " [  87.5583]]\n",
      "[[ -26.6]\n",
      " [-148.6]\n",
      " [  94.7]]\n"
     ]
    }
   ],
   "source": [
    "m, a = r2p(Ii)\n",
    "\n",
    "print m\n",
    "print a"
   ]
  },
  {
   "cell_type": "markdown",
   "metadata": {},
   "source": [
    "Armazena-se o valor do módulo da corrente"
   ]
  },
  {
   "cell_type": "code",
   "execution_count": 64,
   "metadata": {},
   "outputs": [
    {
     "data": {
      "text/plain": [
       "array([[  93.1708],\n",
       "       [ 104.4167],\n",
       "       [  87.5583]])"
      ]
     },
     "execution_count": 64,
     "metadata": {},
     "output_type": "execute_result"
    }
   ],
   "source": [
    "Iim = m\n",
    "Iim"
   ]
  },
  {
   "cell_type": "markdown",
   "metadata": {},
   "source": [
    "## Corrente total solicitada pela carga"
   ]
  },
  {
   "cell_type": "markdown",
   "metadata": {},
   "source": [
    "A corrente total solicitada pela carga será a soma de cada uma das solictações:\n",
    "\n",
    "$$\n",
    "I_{abc} = I_{PQ} + I_{Z} + I_{I}\n",
    "$$"
   ]
  },
  {
   "cell_type": "code",
   "execution_count": 65,
   "metadata": {
    "collapsed": true
   },
   "outputs": [],
   "source": [
    "Iabc = Ipq + Izi + Ii"
   ]
  },
  {
   "cell_type": "code",
   "execution_count": 66,
   "metadata": {},
   "outputs": [
    {
     "name": "stdout",
     "output_type": "stream",
     "text": [
      "[[ 310.5694]\n",
      " [ 348.0556]\n",
      " [ 291.8611]]\n",
      "[[ -26.6]\n",
      " [-148.6]\n",
      " [  94.7]]\n"
     ]
    }
   ],
   "source": [
    "mi, ai = r2p(Iabc)\n",
    "print mi\n",
    "print ai"
   ]
  },
  {
   "cell_type": "markdown",
   "metadata": {},
   "source": [
    "## Determinação das correntes no início da segunda iteração"
   ]
  },
  {
   "cell_type": "markdown",
   "metadata": {},
   "source": [
    "Para o início da segunda iteração é necessário saber o novo valor das tensões do sistema, supondo então:"
   ]
  },
  {
   "cell_type": "code",
   "execution_count": 67,
   "metadata": {},
   "outputs": [
    {
     "data": {
      "text/plain": [
       "array([[ 6846.2340 -227.113j ],\n",
       "       [-3705.2829-5906.727j ],\n",
       "       [-3179.6471+6108.0453j]])"
      ]
     },
     "execution_count": 67,
     "metadata": {},
     "output_type": "execute_result"
    }
   ],
   "source": [
    "Vabc = np.array([p2r(6850.0, -1.9), p2r(6972.7, -122.1), p2r(6886.1, 117.5)])\n",
    "Vabc = np.reshape(Vabc, (3, 1))\n",
    "Vabc"
   ]
  },
  {
   "cell_type": "markdown",
   "metadata": {},
   "source": [
    "Os passos a serem adotados para os cálculos são os mesmos, considerando apenas que os **valores de impedância para a parcela do modelo de impedância constante e de corrente para a parcela do modelo de corrente constante não serão alteradas**. "
   ]
  },
  {
   "cell_type": "markdown",
   "metadata": {},
   "source": [
    "## Parcela de potência constante"
   ]
  },
  {
   "cell_type": "code",
   "execution_count": 68,
   "metadata": {
    "collapsed": true
   },
   "outputs": [],
   "source": [
    "Ipq = np.conj(Sabc / Vabc) * 0.5"
   ]
  },
  {
   "cell_type": "code",
   "execution_count": 69,
   "metadata": {},
   "outputs": [
    {
     "name": "stdout",
     "output_type": "stream",
     "text": [
      "[[ 163.219 ]\n",
      " [ 179.7008]\n",
      " [ 152.5827]]\n",
      "[[ -28.5]\n",
      " [-150.7]\n",
      " [  92.2]]\n"
     ]
    }
   ],
   "source": [
    "m, a = r2p(Ipq)\n",
    "print m\n",
    "print a"
   ]
  },
  {
   "cell_type": "markdown",
   "metadata": {},
   "source": [
    "## Parcela de Impedâcia constante"
   ]
  },
  {
   "cell_type": "code",
   "execution_count": 70,
   "metadata": {},
   "outputs": [
    {
     "data": {
      "text/plain": [
       "array([[ 51.9332-28.1974j],\n",
       "       [-58.7893-32.991j ],\n",
       "       [ -2.1431+55.7862j]])"
      ]
     },
     "execution_count": 70,
     "metadata": {},
     "output_type": "execute_result"
    }
   ],
   "source": [
    "Izi = Vabc / Zabc * 0.2\n",
    "Izi"
   ]
  },
  {
   "cell_type": "code",
   "execution_count": 71,
   "metadata": {},
   "outputs": [
    {
     "name": "stdout",
     "output_type": "stream",
     "text": [
      "[[ 59.0945]\n",
      " [ 67.4135]\n",
      " [ 55.8274]]\n",
      "[[ -28.5]\n",
      " [-150.7]\n",
      " [  92.2]]\n"
     ]
    }
   ],
   "source": [
    "m, a = r2p(Izi)\n",
    "print m\n",
    "print a"
   ]
  },
  {
   "cell_type": "markdown",
   "metadata": {},
   "source": [
    "## Parcela de corrente constante"
   ]
  },
  {
   "cell_type": "code",
   "execution_count": 72,
   "metadata": {},
   "outputs": [
    {
     "data": {
      "text/plain": [
       "array([[ -28.5],\n",
       "       [-150.7],\n",
       "       [  92.2]])"
      ]
     },
     "execution_count": 72,
     "metadata": {},
     "output_type": "execute_result"
    }
   ],
   "source": [
    "m1, a1 = r2p(Sabc)\n",
    "m2, a2 = r2p(Vabc)\n",
    "a = a2 - a1\n",
    "a"
   ]
  },
  {
   "cell_type": "code",
   "execution_count": 73,
   "metadata": {
    "collapsed": true
   },
   "outputs": [],
   "source": [
    "Ii = p2r(Iim, a)"
   ]
  },
  {
   "cell_type": "markdown",
   "metadata": {},
   "source": [
    "## Corrente total solicitada pela carga"
   ]
  },
  {
   "cell_type": "code",
   "execution_count": 74,
   "metadata": {},
   "outputs": [
    {
     "data": {
      "text/plain": [
       "array([[ 277.2530-150.5361j],\n",
       "       [-306.5594-172.0331j],\n",
       "       [ -11.3616+295.7503j]])"
      ]
     },
     "execution_count": 74,
     "metadata": {},
     "output_type": "execute_result"
    }
   ],
   "source": [
    "Iabc = Ipq + Izi + Ii\n",
    "Iabc"
   ]
  },
  {
   "cell_type": "code",
   "execution_count": 75,
   "metadata": {},
   "outputs": [
    {
     "name": "stdout",
     "output_type": "stream",
     "text": [
      "[[ 315.4843]\n",
      " [ 351.531 ]\n",
      " [ 295.9684]]\n",
      "[[ -28.5]\n",
      " [-150.7]\n",
      " [  92.2]]\n"
     ]
    }
   ],
   "source": [
    "m, a = r2p(Iabc)\n",
    "print m\n",
    "print a"
   ]
  }
 ],
 "metadata": {
  "kernelspec": {
   "display_name": "Python [Root]",
   "language": "python",
   "name": "Python [Root]"
  },
  "language_info": {
   "codemirror_mode": {
    "name": "ipython",
    "version": 2
   },
   "file_extension": ".py",
   "mimetype": "text/x-python",
   "name": "python",
   "nbconvert_exporter": "python",
   "pygments_lexer": "ipython2",
   "version": "2.7.12"
  }
 },
 "nbformat": 4,
 "nbformat_minor": 1
}
