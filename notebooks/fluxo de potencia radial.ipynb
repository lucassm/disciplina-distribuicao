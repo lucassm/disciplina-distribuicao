{
 "cells": [
  {
   "cell_type": "code",
   "execution_count": 1,
   "metadata": {},
   "outputs": [
    {
     "data": {
      "text/plain": [
       "u'%.4f'"
      ]
     },
     "execution_count": 1,
     "metadata": {},
     "output_type": "execute_result"
    }
   ],
   "source": [
    "import numpy as np\n",
    "\n",
    "%precision 4"
   ]
  },
  {
   "cell_type": "code",
   "execution_count": 2,
   "metadata": {
    "collapsed": true
   },
   "outputs": [],
   "source": [
    "def p2r(m, a):\n",
    "    x = m * np.cos(a*np.pi/180.0)\n",
    "    y = m * np.sin(a*np.pi/180.0)\n",
    "    return x + 1j * y\n",
    "\n",
    "def r2p(z):\n",
    "    m = np.absolute(z)\n",
    "    a = np.angle(z) * 180.0 / np.pi\n",
    "    return (m, a)"
   ]
  },
  {
   "cell_type": "markdown",
   "metadata": {
    "nbpresent": {
     "id": "5fbfdf2f-f9bb-4061-aee5-e5d58bb4720e"
    },
    "slideshow": {
     "slide_type": "slide"
    }
   },
   "source": [
    "# Fluxo de carga em sistemas radiais"
   ]
  },
  {
   "cell_type": "markdown",
   "metadata": {
    "nbpresent": {
     "id": "3d745979-1158-481d-ac7f-4467327be7f5"
    },
    "slideshow": {
     "slide_type": "subslide"
    }
   },
   "source": [
    "Para o sistema mostrado na Figura abaixo a impedância da linha é dada por:\n",
    "$$ z = 0.3 + j0.6~\\Omega/milha $$\n",
    "\n",
    "E as cargas são conectadas nas barras 2 e 3 são dadas por:\n",
    "\n",
    "$$ S_2 = 1.500 + j750 ~ kVA $$\n",
    "\n",
    "$$ S_3 = 900 + j500 kVA $$"
   ]
  },
  {
   "cell_type": "code",
   "execution_count": 3,
   "metadata": {
    "nbpresent": {
     "id": "70a142c4-aedd-4c9b-871f-adb988c3cdff"
    },
    "slideshow": {
     "slide_type": "subslide"
    }
   },
   "outputs": [
    {
     "data": {
      "text/plain": [
       "(0.3+0.6j)"
      ]
     },
     "execution_count": 3,
     "metadata": {},
     "output_type": "execute_result"
    }
   ],
   "source": [
    "z = 0.3 + 0.6j\n",
    "z"
   ]
  },
  {
   "cell_type": "code",
   "execution_count": 4,
   "metadata": {},
   "outputs": [
    {
     "data": {
      "text/plain": [
       "(1500000+750000j)"
      ]
     },
     "execution_count": 4,
     "metadata": {},
     "output_type": "execute_result"
    }
   ],
   "source": [
    "s2 = 1500e3 + 750e3j\n",
    "s2"
   ]
  },
  {
   "cell_type": "code",
   "execution_count": 5,
   "metadata": {},
   "outputs": [
    {
     "data": {
      "text/plain": [
       "(900000+500000j)"
      ]
     },
     "execution_count": 5,
     "metadata": {},
     "output_type": "execute_result"
    }
   ],
   "source": [
    "s3 = 900e3 + 500e3j\n",
    "s3"
   ]
  },
  {
   "cell_type": "markdown",
   "metadata": {},
   "source": [
    "A tensão nominal, de fase, na barra da subestação é dada por: "
   ]
  },
  {
   "cell_type": "code",
   "execution_count": 6,
   "metadata": {},
   "outputs": [
    {
     "data": {
      "text/plain": [
       "7200.0000"
      ]
     },
     "execution_count": 6,
     "metadata": {},
     "output_type": "execute_result"
    }
   ],
   "source": [
    "v1 = 7.2e3\n",
    "v1"
   ]
  },
  {
   "cell_type": "markdown",
   "metadata": {
    "nbpresent": {
     "id": "6f100aa0-d519-4735-8327-7d4b81a26280"
    },
    "slideshow": {
     "slide_type": "subslide"
    }
   },
   "source": [
    "<img src='Figuras/fig_066.png' width=400/>"
   ]
  },
  {
   "cell_type": "markdown",
   "metadata": {
    "nbpresent": {
     "id": "cead63b2-2464-4755-b7cb-87697dc1129f"
    },
    "slideshow": {
     "slide_type": "slide"
    }
   },
   "source": [
    "calculando as impedancias do sistema:"
   ]
  },
  {
   "cell_type": "code",
   "execution_count": 7,
   "metadata": {
    "collapsed": true,
    "nbpresent": {
     "id": "1115a6f2-704b-4140-affb-c30faa190499"
    },
    "slideshow": {
     "slide_type": "subslide"
    }
   },
   "outputs": [],
   "source": [
    "l12 = 3e3\n",
    "l23 = 4e3"
   ]
  },
  {
   "cell_type": "code",
   "execution_count": 8,
   "metadata": {
    "nbpresent": {
     "id": "e2417156-c008-4703-9758-7892f8433d1b"
    },
    "slideshow": {
     "slide_type": "subslide"
    }
   },
   "outputs": [
    {
     "data": {
      "text/plain": [
       "(0.17045454545454544+0.3409090909090909j)"
      ]
     },
     "execution_count": 8,
     "metadata": {},
     "output_type": "execute_result"
    }
   ],
   "source": [
    "z12 = z * l12 / 5280.0\n",
    "z12"
   ]
  },
  {
   "cell_type": "code",
   "execution_count": 9,
   "metadata": {
    "nbpresent": {
     "id": "63108dc3-f744-4c4c-83ae-3284f0a73a9d"
    },
    "slideshow": {
     "slide_type": "subslide"
    }
   },
   "outputs": [
    {
     "data": {
      "text/plain": [
       "(0.22727272727272727+0.45454545454545453j)"
      ]
     },
     "execution_count": 9,
     "metadata": {},
     "output_type": "execute_result"
    }
   ],
   "source": [
    "z23 = z * l23 / 5280.0\n",
    "z23"
   ]
  },
  {
   "cell_type": "markdown",
   "metadata": {},
   "source": [
    "## Varredura inversa para i=1:\n",
    "\n",
    "cálculo das correntes\n",
    "\n",
    "$$ I_i = \\left( \\frac{S_i}{V_i} \\right)^{*} $$"
   ]
  },
  {
   "cell_type": "markdown",
   "metadata": {},
   "source": [
    "Cálculo da corrente consumida na barra 3 "
   ]
  },
  {
   "cell_type": "code",
   "execution_count": 10,
   "metadata": {},
   "outputs": [
    {
     "data": {
      "text/plain": [
       "(142.9949, -29.0546)"
      ]
     },
     "execution_count": 10,
     "metadata": {},
     "output_type": "execute_result"
    }
   ],
   "source": [
    "i3 = np.conj(s3 / v1)\n",
    "r2p(i3)"
   ]
  },
  {
   "cell_type": "markdown",
   "metadata": {},
   "source": [
    "Cálculo da corrente no trecho 2-3"
   ]
  },
  {
   "cell_type": "code",
   "execution_count": 11,
   "metadata": {
    "collapsed": true
   },
   "outputs": [],
   "source": [
    "i23 = i3"
   ]
  },
  {
   "cell_type": "markdown",
   "metadata": {},
   "source": [
    "Cálculo da corrente consumida na barra 2"
   ]
  },
  {
   "cell_type": "code",
   "execution_count": 12,
   "metadata": {},
   "outputs": [
    {
     "data": {
      "text/plain": [
       "(232.9237, -26.5651)"
      ]
     },
     "execution_count": 12,
     "metadata": {},
     "output_type": "execute_result"
    }
   ],
   "source": [
    "i2 = np.conj(s2 / v1)\n",
    "r2p(i2)"
   ]
  },
  {
   "cell_type": "markdown",
   "metadata": {},
   "source": [
    "Cálculo da corrente no trecho 1-2"
   ]
  },
  {
   "cell_type": "code",
   "execution_count": 13,
   "metadata": {},
   "outputs": [
    {
     "data": {
      "text/plain": [
       "(375.8350, -27.5120)"
      ]
     },
     "execution_count": 13,
     "metadata": {},
     "output_type": "execute_result"
    }
   ],
   "source": [
    "i12 = i23 + i2\n",
    "r2p(i12)"
   ]
  },
  {
   "cell_type": "markdown",
   "metadata": {},
   "source": [
    "## Varredura direta para i=1:\n",
    "\n",
    "Cálculo das tensões:\n",
    "\n",
    "$$ V_{i+1} = V_{i} - Z_{i-(i+1)} \\cdot I_{i-(i+1)} $$"
   ]
  },
  {
   "cell_type": "markdown",
   "metadata": {},
   "source": [
    "Cálculo da tensão na barra 2: "
   ]
  },
  {
   "cell_type": "code",
   "execution_count": 14,
   "metadata": {},
   "outputs": [
    {
     "data": {
      "text/plain": [
       "(7084.4947, -0.6797)"
      ]
     },
     "execution_count": 14,
     "metadata": {},
     "output_type": "execute_result"
    }
   ],
   "source": [
    "v2 = v1 - z12 * i12\n",
    "r2p(v2)"
   ]
  },
  {
   "cell_type": "markdown",
   "metadata": {},
   "source": [
    "Cálculo da tensão na barra 3:"
   ]
  },
  {
   "cell_type": "code",
   "execution_count": 15,
   "metadata": {},
   "outputs": [
    {
     "data": {
      "text/plain": [
       "(7025.1350, -1.0202)"
      ]
     },
     "execution_count": 15,
     "metadata": {},
     "output_type": "execute_result"
    }
   ],
   "source": [
    "v3 = v2 - z23 * i23\n",
    "r2p(v3)"
   ]
  },
  {
   "cell_type": "markdown",
   "metadata": {},
   "source": [
    "Caculadas as tensões em todas as barras do alimentador, encerra-se a fase de varredura direta e inicia-se uma nova fase de varredura inversa, i=2, onde as correntes são calculadas com os novos valores de tensão encontrados na varredura direta anterior.\n",
    "\n",
    "O processo é repetido até que a precisão necessária seja alcançada."
   ]
  },
  {
   "cell_type": "markdown",
   "metadata": {},
   "source": [
    "## Exemplo completo de varredura direta inversa"
   ]
  },
  {
   "cell_type": "code",
   "execution_count": 16,
   "metadata": {},
   "outputs": [
    {
     "name": "stdout",
     "output_type": "stream",
     "text": [
      "+----------+---------------+-----------------+---------------+-----------------+\n",
      "| Iteracao | Mag. v2       | Ang. v2         | Mag. v3       | Ang. v3         |\n",
      "+----------+---------------+-----------------+---------------+-----------------+\n",
      "| 0        | 7200.0        | 0.0             | 7200.0        | 0.0             |\n",
      "| 1        | 7084.49473522 | -0.67971738989  | 7140.14317132 | -0.329288286677 |\n",
      "| 2        | 7082.14518614 | -0.679984848418 | 7024.39548663 | -1.02024851581  |\n",
      "| 3        | 7080.99624447 | -0.679803600318 | 7020.54622822 | -1.02026946216  |\n",
      "| 4        | 7080.95930738 | -0.68001514433  | 7019.36345308 | -1.02033038084  |\n",
      "| 5        | 7080.95089285 | -0.680057534643 | 7019.31626314 | -1.02060292009  |\n",
      "| 6        | 7080.95030667 | -0.68005754242  | 7019.30726611 | -1.02064601145  |\n",
      "| 7        | 7080.95021777 | -0.680057621265 | 7019.30656943 | -1.02064611045  |\n",
      "+----------+---------------+-----------------+---------------+-----------------+\n"
     ]
    }
   ],
   "source": [
    "from terminaltables import AsciiTable\n",
    "\n",
    "tl = [['Iteracao', 'Mag. v2', 'Ang. v2', 'Mag. v3', 'Ang. v3']]\n",
    "\n",
    "\n",
    "# valores iniciais das tensoes\n",
    "v2 = v3 = v1 = 7.2e3\n",
    "e = 1e3\n",
    "c = 0\n",
    "\n",
    "while e > 0.0001 and c < 50:\n",
    "    \n",
    "    # registro das tensoes e angulos em cada iteracao\n",
    "    tl.append([str(c), # iteracao\n",
    "               str(r2p(v2)[0]),  # modulo da tensao na barra 2\n",
    "               str(r2p(v2)[1]),  # angulo da tensao na barra 2\n",
    "               str(r2p(v3)[0]),  # modulo da tensao na barra 3\n",
    "               str(r2p(v3)[1])], # angulo da tensao na barra 3\n",
    "             )\n",
    "    \n",
    "    # VARREDURA INVERSA\n",
    "    \n",
    "    # calculo da carrente na carga 3\n",
    "    i3 = np.conj(s3 / v3)\n",
    "    # calculo da corrente na linha 2-3\n",
    "    i23 = i3\n",
    "    # calculo da corrente na carga 2\n",
    "    i2 = np.conj(s2 / v2)\n",
    "    # calculo da corrente na linha 1-2\n",
    "    i12 = i2 + i23\n",
    "    \n",
    "    # VARREDURA DIRETA\n",
    "    \n",
    "    # calculo da tensao na barra 2\n",
    "    v2_ = v1 - z12 * i12\n",
    "    \n",
    "    # calculo da tensao na barra 3\n",
    "    v3_ = v2 - z23 * i23\n",
    "    \n",
    "    # Calculo da precisao\n",
    "    e = max(np.abs(v2_ - v2), np.abs(v3_ - v3))\n",
    "    \n",
    "    # atualizacao dos valores das tensoes\n",
    "    v2 = v2_\n",
    "    v3 = v3_\n",
    "    \n",
    "    # incremento do contador\n",
    "    c += 1\n",
    "\n",
    "    \n",
    "# exibicao da evolucao da tensao nas barras 2 e 3\n",
    "t = AsciiTable(tl)\n",
    "print t.table"
   ]
  },
  {
   "cell_type": "code",
   "execution_count": null,
   "metadata": {
    "collapsed": true
   },
   "outputs": [],
   "source": []
  }
 ],
 "metadata": {
  "kernelspec": {
   "display_name": "Python [Root]",
   "language": "python",
   "name": "Python [Root]"
  },
  "language_info": {
   "codemirror_mode": {
    "name": "ipython",
    "version": 2
   },
   "file_extension": ".py",
   "mimetype": "text/x-python",
   "name": "python",
   "nbconvert_exporter": "python",
   "pygments_lexer": "ipython2",
   "version": "2.7.12"
  },
  "nbpresent": {
   "slides": {
    "437fac37-7660-4ac7-9ccc-642a1ddc566b": {
     "id": "437fac37-7660-4ac7-9ccc-642a1ddc566b",
     "prev": "61453ab6-6659-4396-99f7-48ba77f557b6",
     "regions": {
      "a36fa0d8-1817-4bfe-a827-00491cd743aa": {
       "attrs": {
        "height": 0.8,
        "width": 0.8,
        "x": 0.1,
        "y": 0.1
       },
       "content": {
        "cell": "cead63b2-2464-4755-b7cb-87697dc1129f",
        "part": "whole"
       },
       "id": "a36fa0d8-1817-4bfe-a827-00491cd743aa"
      }
     }
    },
    "5df67921-17ae-42f1-a09b-3870cb04f7d1": {
     "id": "5df67921-17ae-42f1-a09b-3870cb04f7d1",
     "prev": "d58c7722-b7c0-4b95-87ef-23cfe8228429",
     "regions": {
      "854cde51-7be7-4c79-a641-7a3ae56c9d22": {
       "attrs": {
        "height": 0.8,
        "width": 0.8,
        "x": 0.1,
        "y": 0.1
       },
       "content": {
        "cell": "63108dc3-f744-4c4c-83ae-3284f0a73a9d",
        "part": "whole"
       },
       "id": "854cde51-7be7-4c79-a641-7a3ae56c9d22"
      },
      "cb9d6841-10a7-4bb4-a5f4-9f6992fed082": {
       "attrs": {
        "height": 0.4,
        "width": 0.8,
        "x": 0.1,
        "y": 0.5
       },
       "content": {
        "cell": "68e4ec6c-a4e1-4c70-80a1-c7bce4cd470b",
        "part": "whole"
       },
       "id": "cb9d6841-10a7-4bb4-a5f4-9f6992fed082"
      }
     }
    },
    "61453ab6-6659-4396-99f7-48ba77f557b6": {
     "id": "61453ab6-6659-4396-99f7-48ba77f557b6",
     "prev": null,
     "regions": {
      "07b0a18a-dad5-4c40-86d9-adcc79aaf365": {
       "attrs": {
        "height": 0.4,
        "width": 0.8,
        "x": 0.1,
        "y": 0.5
       },
       "content": {
        "cell": "70a142c4-aedd-4c9b-871f-adb988c3cdff",
        "part": "whole"
       },
       "id": "07b0a18a-dad5-4c40-86d9-adcc79aaf365"
      },
      "1dcb8294-ae14-4606-b83b-f678454eaa8a": {
       "attrs": {
        "height": 0.4,
        "width": 0.8,
        "x": 0.1,
        "y": 0.5
       },
       "content": {
        "cell": "6f100aa0-d519-4735-8327-7d4b81a26280",
        "part": "whole"
       },
       "id": "1dcb8294-ae14-4606-b83b-f678454eaa8a"
      },
      "68cd818b-faef-4154-9c50-c84de6e75c99": {
       "attrs": {
        "height": 0.4,
        "width": 0.8,
        "x": 0.1,
        "y": 0.5
       },
       "content": {
        "cell": "3d745979-1158-481d-ac7f-4467327be7f5",
        "part": "whole"
       },
       "id": "68cd818b-faef-4154-9c50-c84de6e75c99"
      },
      "f0b56a74-d96e-45d2-bf89-756e4199fc57": {
       "attrs": {
        "height": 0.8,
        "width": 0.8,
        "x": 0.1,
        "y": 0.1
       },
       "content": {
        "cell": "5fbfdf2f-f9bb-4061-aee5-e5d58bb4720e",
        "part": "whole"
       },
       "id": "f0b56a74-d96e-45d2-bf89-756e4199fc57"
      }
     }
    },
    "ae87b257-a703-42a5-a197-fd0b063a0816": {
     "id": "ae87b257-a703-42a5-a197-fd0b063a0816",
     "prev": "437fac37-7660-4ac7-9ccc-642a1ddc566b",
     "regions": {
      "a4c8fe42-ee32-448b-a647-364f72f8fc69": {
       "attrs": {
        "height": 0.8,
        "width": 0.8,
        "x": 0.1,
        "y": 0.1
       },
       "content": {
        "cell": "1115a6f2-704b-4140-affb-c30faa190499",
        "part": "whole"
       },
       "id": "a4c8fe42-ee32-448b-a647-364f72f8fc69"
      }
     }
    },
    "d58c7722-b7c0-4b95-87ef-23cfe8228429": {
     "id": "d58c7722-b7c0-4b95-87ef-23cfe8228429",
     "prev": "ae87b257-a703-42a5-a197-fd0b063a0816",
     "regions": {
      "241725ef-fd9f-4d3a-b46f-3718ce0e5029": {
       "attrs": {
        "height": 0.8,
        "width": 0.8,
        "x": 0.1,
        "y": 0.1
       },
       "content": {
        "cell": "e2417156-c008-4703-9758-7892f8433d1b",
        "part": "whole"
       },
       "id": "241725ef-fd9f-4d3a-b46f-3718ce0e5029"
      }
     }
    }
   },
   "themes": {
    "default": "922ec70e-5446-4935-af5f-4649494552b7",
    "theme": {
     "922ec70e-5446-4935-af5f-4649494552b7": {
      "id": "922ec70e-5446-4935-af5f-4649494552b7",
      "palette": {
       "19cc588f-0593-49c9-9f4b-e4d7cc113b1c": {
        "id": "19cc588f-0593-49c9-9f4b-e4d7cc113b1c",
        "rgb": [
         252,
         252,
         252
        ]
       },
       "31af15d2-7e15-44c5-ab5e-e04b16a89eff": {
        "id": "31af15d2-7e15-44c5-ab5e-e04b16a89eff",
        "rgb": [
         68,
         68,
         68
        ]
       },
       "50f92c45-a630-455b-aec3-788680ec7410": {
        "id": "50f92c45-a630-455b-aec3-788680ec7410",
        "rgb": [
         155,
         177,
         192
        ]
       },
       "c5cc3653-2ee1-402a-aba2-7caae1da4f6c": {
        "id": "c5cc3653-2ee1-402a-aba2-7caae1da4f6c",
        "rgb": [
         43,
         126,
         184
        ]
       },
       "efa7f048-9acb-414c-8b04-a26811511a21": {
        "id": "efa7f048-9acb-414c-8b04-a26811511a21",
        "rgb": [
         25.118061674008803,
         73.60176211453744,
         107.4819383259912
        ]
       }
      },
      "rules": {
       "blockquote": {
        "color": "50f92c45-a630-455b-aec3-788680ec7410"
       },
       "code": {
        "font-family": "Anonymous Pro"
       },
       "h1": {
        "color": "c5cc3653-2ee1-402a-aba2-7caae1da4f6c",
        "font-family": "Lato",
        "font-size": 8
       },
       "h2": {
        "color": "c5cc3653-2ee1-402a-aba2-7caae1da4f6c",
        "font-family": "Lato",
        "font-size": 6
       },
       "h3": {
        "color": "50f92c45-a630-455b-aec3-788680ec7410",
        "font-family": "Lato",
        "font-size": 5.5
       },
       "h4": {
        "color": "c5cc3653-2ee1-402a-aba2-7caae1da4f6c",
        "font-family": "Lato",
        "font-size": 5
       },
       "h5": {
        "font-family": "Lato"
       },
       "h6": {
        "font-family": "Lato"
       },
       "h7": {
        "font-family": "Lato"
       },
       "pre": {
        "font-family": "Anonymous Pro",
        "font-size": 4
       }
      },
      "text-base": {
       "font-family": "Merriweather",
       "font-size": 4
      }
     }
    }
   }
  }
 },
 "nbformat": 4,
 "nbformat_minor": 1
}
